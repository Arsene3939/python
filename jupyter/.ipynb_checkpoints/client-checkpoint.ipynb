{
 "cells": [
  {
   "cell_type": "code",
   "execution_count": null,
   "metadata": {},
   "outputs": [],
   "source": [
    "from socket import *\n",
    "serverName = '192.168.1.108'\n",
    "serverPort = 12000\n",
    "clientSocket = socket(AF_INET,SOCK_DGRAM)\n",
    "from tkinter import filedialog\n",
    "name = filedialog.askopenfilename()\n",
    "file=open(name,'rb')\n",
    "clientSocket.sendto(\"start\".encode(),(serverName, serverPort))\n",
    "clientSocket.sendto(name.encode(),(serverName, serverPort))\n",
    "while(1):\n",
    "    byte=file.read()\n",
    "    clientSocket.sendto(byte,(serverName, serverPort))\n",
    "    if(byte==eof):\n",
    "        break\n",
    "clientSocket.close()"
   ]
  }
 ],
 "metadata": {
  "kernelspec": {
   "display_name": "Python 3",
   "language": "python",
   "name": "python3"
  },
  "language_info": {
   "codemirror_mode": {
    "name": "ipython",
    "version": 3
   },
   "file_extension": ".py",
   "mimetype": "text/x-python",
   "name": "python",
   "nbconvert_exporter": "python",
   "pygments_lexer": "ipython3",
   "version": "3.7.6"
  }
 },
 "nbformat": 4,
 "nbformat_minor": 4
}
