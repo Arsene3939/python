{
 "cells": [
  {
   "cell_type": "code",
   "execution_count": 3,
   "metadata": {},
   "outputs": [
    {
     "name": "stdout",
     "output_type": "stream",
     "text": [
      "9843461482149030707\n",
      "9843461482149030707\n"
     ]
    }
   ],
   "source": [
    "r=0b0000000000010001000000000000000000000000000100010000000000000000\n",
    "x=[\n",
    "    0b1000100010001000000000000000000010001000100010000000000000000000,\n",
    "    0b0000000000010000000000000001000000000000000100000000000000010000,\n",
    "    0b0000000000000000000000000000000000000011000000110000001100000011,\n",
    "    0b0000000000000000000000000000000010101010000000001010101000000000,\n",
    "    0b0000000000000011000000000000000000000000000000110000000000000000,\n",
    "    0b0000000000000000000000000000000000100010001000100010001000100010,\n",
    "    \n",
    "]\n",
    "a=0\n",
    "for i in x:\n",
    "    a |=i\n",
    "print(a)\n",
    "a|=r\n",
    "print(a)"
   ]
  }
 ],
 "metadata": {
  "kernelspec": {
   "display_name": "Python 3",
   "language": "python",
   "name": "python3"
  },
  "language_info": {
   "codemirror_mode": {
    "name": "ipython",
    "version": 3
   },
   "file_extension": ".py",
   "mimetype": "text/x-python",
   "name": "python",
   "nbconvert_exporter": "python",
   "pygments_lexer": "ipython3",
   "version": "3.7.6"
  }
 },
 "nbformat": 4,
 "nbformat_minor": 4
}
