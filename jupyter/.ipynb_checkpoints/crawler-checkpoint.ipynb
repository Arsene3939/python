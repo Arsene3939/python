{
 "cells": [
  {
   "cell_type": "code",
   "execution_count": null,
   "metadata": {},
   "outputs": [],
   "source": [
    "import requests,os,urllib\n",
    "from bs4 import BeautifulSoup\n",
    "url='https://www.edu.tw/'\n",
    "html=requests.get(url)\n",
    "html.encoding=\"utf-8\"\n",
    "bs=BeautifulSoup(html.text,'html.parser')\n",
    "pics_dir=\"pics\"\n",
    "if not os.path.exists(pics_dir):\n",
    "    os.mkdir(pics_dir) #在工作目錄下建立目錄pics來儲存圖片\n",
    "all_links=bs.find_all('img') #用串列取得所有<img>標籤的內容\n",
    "for link in all_links:\n",
    "    src=link.get('src') #讀取src屬性值的內容\n",
    "    attrs=[src] #將src字串轉成串列attrs\n",
    "    for attr in attrs:\n",
    "        if attr!=None and('.jpg'in attr or'.png'in attr):#讀取.jpg或.png檔\n",
    "            full_path = attr #設定圖檔完整路徑            \n",
    "            file_n=full_path.split('/')[-1] #從網址的最右側取得圖檔的名稱\n",
    "            print('================')\n",
    "            print('圖檔完整路徑：',full_path)            \n",
    "            try:  #儲存圖片程式區塊\n",
    "                image = urllib.request.urlopen(full_path)\n",
    "                f = open(os.path.join(pics_dir,file_n),'wb')\n",
    "                f.write(image.read())\n",
    "                print('下載成功：%s' %(file_n))\n",
    "                f.close()\n",
    "            except: #無法儲存圖片程式區塊\n",
    "                print(\"無法下載：%s\" %(file_n))\n"
   ]
  },
  {
   "cell_type": "code",
   "execution_count": 23,
   "metadata": {},
   "outputs": [
    {
     "name": "stdout",
     "output_type": "stream",
     "text": [
      "[<img alt=\"logo\" height=\"30\" src=\"https://static.nhentai.net/img/logo.090da3be7b51.svg\" width=\"46\"/>, <img height=\"897\" src=\"https://i.nhentai.net/galleries/1800952/1.jpg\" width=\"1280\"/>]\n",
      "https://static.nhentai.net/img/logo.090da3be7b51.svg\n",
      "['https://static.nhentai.net/img/logo.090da3be7b51.svg']\n",
      "================\n",
      "圖檔完整路徑： https://static.nhentai.net/img/logo.090da3be7b51.svg\n",
      "無法下載：logo.090da3be7b51.svg\n",
      "HTTP Error 403: Forbidden\n",
      "https://i.nhentai.net/galleries/1800952/1.jpg\n",
      "['https://i.nhentai.net/galleries/1800952/1.jpg']\n",
      "================\n",
      "圖檔完整路徑： https://i.nhentai.net/galleries/1800952/1.jpg\n",
      "下載成功：1.jpg\n"
     ]
    }
   ],
   "source": [
    "import requests,os,urllib\n",
    "from bs4 import BeautifulSoup\n",
    "url=\"https://sekai.best/music/1\"\n",
    "html = requests.get(url)\n",
    "html.encoding=\"utf-8\"\n",
    "document=BeautifulSoup(html.text,'html.parser')\n",
    "all_links=document.find_all('img') #用串列取得所有<img>標籤的內容\n",
    "pics_dir=\"pics\"\n",
    "if not os.path.exists(pics_dir):\n",
    "    os.mkdir(pics_dir) #在工作目錄下建立目錄pics來儲存圖片\n",
    "print(all_links)\n",
    "for link in all_links:\n",
    "    src=link.get('src') #讀取src屬性值的內容\n",
    "    print(src)\n",
    "    attrs=[src] #將src字串轉成串列attrs\n",
    "    print(attrs)\n",
    "    for attr in attrs:\n",
    "        \n",
    "        if attr!=None and('.jpg'in attr or'.png'in attr or'.svg'in attr):#讀取.jpg或.png檔\n",
    "            full_path = attr #設定圖檔完整路徑\n",
    "            file_n=full_path.split('/')[-1] #從網址的最右側取得圖檔的名稱\n",
    "            print('================')\n",
    "            print('圖檔完整路徑：',full_path)            \n",
    "            try:  #儲存圖片程式區塊\n",
    "                image = urllib.request.urlopen(full_path)\n",
    "                f = open(os.path.join(pics_dir,file_n),'wb')\n",
    "                f.write(image.read())\n",
    "                print('下載成功：%s' %(file_n))\n",
    "                f.close()\n",
    "            except Exception as e: #無法儲存圖片程式區塊\n",
    "                print(\"無法下載：%s\" %(file_n))\n",
    "                print(e)"
   ]
  },
  {
   "cell_type": "code",
   "execution_count": null,
   "metadata": {},
   "outputs": [],
   "source": [
    "import urllib.request\n",
    "url='http://www.ntu.edu.tw'\n",
    "uo=urllib.request.urlopen(url)\n",
    "print(uo.geturl())\n",
    "print(uo.status)\n",
    "print(uo.getheaders())\n",
    "content=uo.read()\n",
    "content.decode()"
   ]
  },
  {
   "cell_type": "code",
   "execution_count": 7,
   "metadata": {},
   "outputs": [
    {
     "name": "stderr",
     "output_type": "stream",
     "text": [
      "D:\\anaconda\\lib\\site-packages\\ipykernel_launcher.py:5: DeprecationWarning: executable_path has been deprecated, please pass in a Service object\n",
      "  \"\"\"\n"
     ]
    },
    {
     "ename": "WebDriverException",
     "evalue": "Message: 'jupyter' executable may have wrong permissions. Please see https://chromedriver.chromium.org/home\n",
     "output_type": "error",
     "traceback": [
      "\u001b[1;31m---------------------------------------------------------------------------\u001b[0m",
      "\u001b[1;31mPermissionError\u001b[0m                           Traceback (most recent call last)",
      "\u001b[1;32mD:\\anaconda\\lib\\site-packages\\selenium\\webdriver\\common\\service.py\u001b[0m in \u001b[0;36mstart\u001b[1;34m(self)\u001b[0m\n\u001b[0;32m     75\u001b[0m                                             \u001b[0mstdin\u001b[0m\u001b[1;33m=\u001b[0m\u001b[0mPIPE\u001b[0m\u001b[1;33m,\u001b[0m\u001b[1;33m\u001b[0m\u001b[1;33m\u001b[0m\u001b[0m\n\u001b[1;32m---> 76\u001b[1;33m                                             creationflags=self.creationflags)\n\u001b[0m\u001b[0;32m     77\u001b[0m         \u001b[1;32mexcept\u001b[0m \u001b[0mTypeError\u001b[0m\u001b[1;33m:\u001b[0m\u001b[1;33m\u001b[0m\u001b[1;33m\u001b[0m\u001b[0m\n",
      "\u001b[1;32mD:\\anaconda\\lib\\subprocess.py\u001b[0m in \u001b[0;36m__init__\u001b[1;34m(self, args, bufsize, executable, stdin, stdout, stderr, preexec_fn, close_fds, shell, cwd, env, universal_newlines, startupinfo, creationflags, restore_signals, start_new_session, pass_fds, encoding, errors, text)\u001b[0m\n\u001b[0;32m    799\u001b[0m                                 \u001b[0merrread\u001b[0m\u001b[1;33m,\u001b[0m \u001b[0merrwrite\u001b[0m\u001b[1;33m,\u001b[0m\u001b[1;33m\u001b[0m\u001b[1;33m\u001b[0m\u001b[0m\n\u001b[1;32m--> 800\u001b[1;33m                                 restore_signals, start_new_session)\n\u001b[0m\u001b[0;32m    801\u001b[0m         \u001b[1;32mexcept\u001b[0m\u001b[1;33m:\u001b[0m\u001b[1;33m\u001b[0m\u001b[1;33m\u001b[0m\u001b[0m\n",
      "\u001b[1;32mD:\\anaconda\\lib\\subprocess.py\u001b[0m in \u001b[0;36m_execute_child\u001b[1;34m(self, args, executable, preexec_fn, close_fds, pass_fds, cwd, env, startupinfo, creationflags, shell, p2cread, p2cwrite, c2pread, c2pwrite, errread, errwrite, unused_restore_signals, unused_start_new_session)\u001b[0m\n\u001b[0;32m   1206\u001b[0m                                          \u001b[0mos\u001b[0m\u001b[1;33m.\u001b[0m\u001b[0mfspath\u001b[0m\u001b[1;33m(\u001b[0m\u001b[0mcwd\u001b[0m\u001b[1;33m)\u001b[0m \u001b[1;32mif\u001b[0m \u001b[0mcwd\u001b[0m \u001b[1;32mis\u001b[0m \u001b[1;32mnot\u001b[0m \u001b[1;32mNone\u001b[0m \u001b[1;32melse\u001b[0m \u001b[1;32mNone\u001b[0m\u001b[1;33m,\u001b[0m\u001b[1;33m\u001b[0m\u001b[1;33m\u001b[0m\u001b[0m\n\u001b[1;32m-> 1207\u001b[1;33m                                          startupinfo)\n\u001b[0m\u001b[0;32m   1208\u001b[0m             \u001b[1;32mfinally\u001b[0m\u001b[1;33m:\u001b[0m\u001b[1;33m\u001b[0m\u001b[1;33m\u001b[0m\u001b[0m\n",
      "\u001b[1;31mPermissionError\u001b[0m: [WinError 5] 存取被拒。",
      "\nDuring handling of the above exception, another exception occurred:\n",
      "\u001b[1;31mWebDriverException\u001b[0m                        Traceback (most recent call last)",
      "\u001b[1;32m<ipython-input-7-4e3b5e82f418>\u001b[0m in \u001b[0;36m<module>\u001b[1;34m\u001b[0m\n\u001b[0;32m      3\u001b[0m \u001b[1;32mimport\u001b[0m \u001b[0mos\u001b[0m\u001b[1;33m\u001b[0m\u001b[1;33m\u001b[0m\u001b[0m\n\u001b[0;32m      4\u001b[0m \u001b[1;31m# 透過Browser Driver 開啟 Chrome\u001b[0m\u001b[1;33m\u001b[0m\u001b[1;33m\u001b[0m\u001b[1;33m\u001b[0m\u001b[0m\n\u001b[1;32m----> 5\u001b[1;33m \u001b[0mdriver\u001b[0m \u001b[1;33m=\u001b[0m \u001b[0mwebdriver\u001b[0m\u001b[1;33m.\u001b[0m\u001b[0mChrome\u001b[0m\u001b[1;33m(\u001b[0m\u001b[1;34mr\"D:\\_self_\\_path\\python\\jupyter\"\u001b[0m\u001b[1;33m)\u001b[0m\u001b[1;33m\u001b[0m\u001b[1;33m\u001b[0m\u001b[0m\n\u001b[0m\u001b[0;32m      6\u001b[0m \u001b[1;31m# 前往特定網址\u001b[0m\u001b[1;33m\u001b[0m\u001b[1;33m\u001b[0m\u001b[1;33m\u001b[0m\u001b[0m\n\u001b[0;32m      7\u001b[0m \u001b[0mdefault_url\u001b[0m \u001b[1;33m=\u001b[0m \u001b[1;34m\"https://www.google.com.tw\"\u001b[0m\u001b[1;33m\u001b[0m\u001b[1;33m\u001b[0m\u001b[0m\n",
      "\u001b[1;32mD:\\anaconda\\lib\\site-packages\\selenium\\webdriver\\chrome\\webdriver.py\u001b[0m in \u001b[0;36m__init__\u001b[1;34m(self, executable_path, port, options, service_args, desired_capabilities, service_log_path, chrome_options, service, keep_alive)\u001b[0m\n\u001b[0;32m     71\u001b[0m                                         \u001b[0mport\u001b[0m\u001b[1;33m,\u001b[0m \u001b[0moptions\u001b[0m\u001b[1;33m,\u001b[0m\u001b[1;33m\u001b[0m\u001b[1;33m\u001b[0m\u001b[0m\n\u001b[0;32m     72\u001b[0m                                         \u001b[0mservice_args\u001b[0m\u001b[1;33m,\u001b[0m \u001b[0mdesired_capabilities\u001b[0m\u001b[1;33m,\u001b[0m\u001b[1;33m\u001b[0m\u001b[1;33m\u001b[0m\u001b[0m\n\u001b[1;32m---> 73\u001b[1;33m                                         service_log_path, service, keep_alive)\n\u001b[0m",
      "\u001b[1;32mD:\\anaconda\\lib\\site-packages\\selenium\\webdriver\\chromium\\webdriver.py\u001b[0m in \u001b[0;36m__init__\u001b[1;34m(self, browser_name, vendor_prefix, port, options, service_args, desired_capabilities, service_log_path, service, keep_alive)\u001b[0m\n\u001b[0;32m     88\u001b[0m \u001b[1;33m\u001b[0m\u001b[0m\n\u001b[0;32m     89\u001b[0m         \u001b[0mself\u001b[0m\u001b[1;33m.\u001b[0m\u001b[0mservice\u001b[0m \u001b[1;33m=\u001b[0m \u001b[0mservice\u001b[0m\u001b[1;33m\u001b[0m\u001b[1;33m\u001b[0m\u001b[0m\n\u001b[1;32m---> 90\u001b[1;33m         \u001b[0mself\u001b[0m\u001b[1;33m.\u001b[0m\u001b[0mservice\u001b[0m\u001b[1;33m.\u001b[0m\u001b[0mstart\u001b[0m\u001b[1;33m(\u001b[0m\u001b[1;33m)\u001b[0m\u001b[1;33m\u001b[0m\u001b[1;33m\u001b[0m\u001b[0m\n\u001b[0m\u001b[0;32m     91\u001b[0m \u001b[1;33m\u001b[0m\u001b[0m\n\u001b[0;32m     92\u001b[0m         \u001b[1;32mtry\u001b[0m\u001b[1;33m:\u001b[0m\u001b[1;33m\u001b[0m\u001b[1;33m\u001b[0m\u001b[0m\n",
      "\u001b[1;32mD:\\anaconda\\lib\\site-packages\\selenium\\webdriver\\common\\service.py\u001b[0m in \u001b[0;36mstart\u001b[1;34m(self)\u001b[0m\n\u001b[0;32m     86\u001b[0m                 raise WebDriverException(\n\u001b[0;32m     87\u001b[0m                     \"'%s' executable may have wrong permissions. %s\" % (\n\u001b[1;32m---> 88\u001b[1;33m                         os.path.basename(self.path), self.start_error_message)\n\u001b[0m\u001b[0;32m     89\u001b[0m                 )\n\u001b[0;32m     90\u001b[0m             \u001b[1;32melse\u001b[0m\u001b[1;33m:\u001b[0m\u001b[1;33m\u001b[0m\u001b[1;33m\u001b[0m\u001b[0m\n",
      "\u001b[1;31mWebDriverException\u001b[0m: Message: 'jupyter' executable may have wrong permissions. Please see https://chromedriver.chromium.org/home\n"
     ]
    }
   ],
   "source": [
    "from selenium import webdriver\n",
    "from selenium.webdriver.common.by import By\n",
    "import os\n",
    "# 透過Browser Driver 開啟 Chrome\n",
    "driver = webdriver.Chrome(r\"D:\\_self_\\_path\\python\\jupyter\")\n",
    "# 前往特定網址\n",
    "default_url = \"https://www.google.com.tw\"\n",
    "driver.get(default_url)\n",
    "a=driver.find_elements(By.CLASS_NAME, \"kO6q6e\") # 抓取所有\n",
    "a"
   ]
  },
  {
   "cell_type": "code",
   "execution_count": null,
   "metadata": {},
   "outputs": [],
   "source": []
  }
 ],
 "metadata": {
  "kernelspec": {
   "display_name": "Python 3",
   "language": "python",
   "name": "python3"
  },
  "language_info": {
   "codemirror_mode": {
    "name": "ipython",
    "version": 3
   },
   "file_extension": ".py",
   "mimetype": "text/x-python",
   "name": "python",
   "nbconvert_exporter": "python",
   "pygments_lexer": "ipython3",
   "version": "3.7.6"
  }
 },
 "nbformat": 4,
 "nbformat_minor": 4
}
