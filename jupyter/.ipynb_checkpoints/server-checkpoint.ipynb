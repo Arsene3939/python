{
 "cells": [
  {
   "cell_type": "code",
   "execution_count": null,
   "metadata": {},
   "outputs": [],
   "source": [
    "from socket import *\n",
    "serverPort = 12000\n",
    "serverSocket = socket(AF_INET, SOCK_DGRAM)\n",
    "serverSocket.bind(('192.168.1.108', serverPort))\n",
    "print (\"The server is ready to receive\")\n",
    "while True:\n",
    "    message, clientAddress = serverSocket.recvfrom(2048)\n",
    "    if(message.decode()==\"start\"):\n",
    "        filename, clientAddress=serverSocket.recvfrom(2048)\n",
    "        file=open(\"new_\"+filename,'b')\n",
    "        while(1):\n",
    "            byte, clientAddress=serverSocket.recvfrom(2048)\n",
    "            print(byte.decode())\n",
    "            file.write(byte)\n",
    "            if(byte==eof):\n",
    "                break\n",
    "        print(\"finish\")"
   ]
  }
 ],
 "metadata": {
  "kernelspec": {
   "display_name": "Python 3",
   "language": "python",
   "name": "python3"
  },
  "language_info": {
   "codemirror_mode": {
    "name": "ipython",
    "version": 3
   },
   "file_extension": ".py",
   "mimetype": "text/x-python",
   "name": "python",
   "nbconvert_exporter": "python",
   "pygments_lexer": "ipython3",
   "version": "3.7.6"
  }
 },
 "nbformat": 4,
 "nbformat_minor": 4
}
