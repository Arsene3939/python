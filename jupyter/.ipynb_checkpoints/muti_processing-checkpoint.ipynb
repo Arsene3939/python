{
 "cells": [
  {
   "cell_type": "code",
   "execution_count": null,
   "metadata": {},
   "outputs": [
    {
     "name": "stdout",
     "output_type": "stream",
     "text": [
      "Main thread: 0\n",
      "Main thread: 1\n",
      "Main thread: 2\n",
      "Main thread: 3\n",
      "Main thread: 4\n",
      "Main thread: 5\n",
      "Main thread: 6\n",
      "Main thread: 7\n",
      "Main thread: 8\n",
      "Main thread: 9\n",
      "Main thread: 10\n",
      "Main thread: 11\n",
      "Main thread: 12\n",
      "Main thread: 13\n",
      "Main thread: 14\n",
      "Main thread: 15\n",
      "Main thread: 16\n",
      "Main thread: 17\n",
      "Main thread: 18\n",
      "Main thread: 19\n",
      "Main thread: 20\n",
      "Main thread: 21\n",
      "Main thread: 22\n",
      "Main thread: 23\n",
      "Main thread: 24\n",
      "Main thread: 25\n",
      "Main thread: 26\n",
      "Main thread: 27\n",
      "Main thread: 28\n",
      "Main thread: 29\n"
     ]
    }
   ],
   "source": [
    "import threading\n",
    "import time\n",
    "x=0\n",
    "# 子執行緒的工作函數\n",
    "def job():\n",
    "    global x\n",
    "    while(1):\n",
    "        sleep(1)\n",
    "        x+=1\n",
    "\n",
    "# 建立一個子執行緒\n",
    "t = threading.Thread(target = job)\n",
    "\n",
    "# 執行該子執行緒\n",
    "t.start()\n",
    "\n",
    "# 主執行緒繼續執行自己的工作\n",
    "for i in range(30):\n",
    "  print(\"Main thread:\", i)\n",
    "\n",
    "# 等待 t 這個子執行緒結束\n",
    "t.join()\n",
    "\n",
    "print(\"Done.\")"
   ]
  }
 ],
 "metadata": {
  "kernelspec": {
   "display_name": "Python 3",
   "language": "python",
   "name": "python3"
  },
  "language_info": {
   "codemirror_mode": {
    "name": "ipython",
    "version": 3
   },
   "file_extension": ".py",
   "mimetype": "text/x-python",
   "name": "python",
   "nbconvert_exporter": "python",
   "pygments_lexer": "ipython3",
   "version": "3.7.6"
  }
 },
 "nbformat": 4,
 "nbformat_minor": 4
}
