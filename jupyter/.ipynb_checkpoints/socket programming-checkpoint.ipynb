{
 "cells": [
  {
   "cell_type": "markdown",
   "metadata": {},
   "source": [
    "# server end"
   ]
  },
  {
   "cell_type": "code",
   "execution_count": null,
   "metadata": {},
   "outputs": [],
   "source": [
    "from socket import *\n",
    "serverPort = 12000\n",
    "serverSocket = socket(AF_INET, SOCK_DGRAM)\n",
    "serverSocket.bind(('192.168.1.108', serverPort))\n",
    "print (\"The server is ready to receive\")\n",
    "while True:\n",
    "     message, clientAddress = serverSocket.recvfrom(2048)\n",
    "     modifiedMessage = message.decode().upper()\n",
    "     serverSocket.sendto(modifiedMessage.encode(),clientAddress)"
   ]
  },
  {
   "cell_type": "markdown",
   "metadata": {},
   "source": [
    "# client end"
   ]
  },
  {
   "cell_type": "code",
   "execution_count": null,
   "metadata": {},
   "outputs": [],
   "source": [
    "from socket import *\n",
    "serverName = '192.168.1.108'\n",
    "serverPort = 12000\n",
    "clientSocket = socket(AF_INET,SOCK_DGRAM)\n",
    "message = raw_input('Input lowercase sentence:')\n",
    "clientSocket.sendto(message.encode(),(serverName, serverPort))\n",
    "modifiedMessage, serverAddress =clientSocket.recvfrom(2048)\n",
    "print(modifiedMessage.decode())\n",
    "clientSocket.close()"
   ]
  }
 ],
 "metadata": {
  "kernelspec": {
   "display_name": "Python 3",
   "language": "python",
   "name": "python3"
  },
  "language_info": {
   "codemirror_mode": {
    "name": "ipython",
    "version": 3
   },
   "file_extension": ".py",
   "mimetype": "text/x-python",
   "name": "python",
   "nbconvert_exporter": "python",
   "pygments_lexer": "ipython3",
   "version": "3.7.6"
  }
 },
 "nbformat": 4,
 "nbformat_minor": 4
}
