{
 "cells": [
  {
   "cell_type": "markdown",
   "metadata": {},
   "source": [
    "# Python MIDI Music with Pygame and Mido"
   ]
  },
  {
   "cell_type": "markdown",
   "metadata": {},
   "source": [
    "## 1. 安裝模組"
   ]
  },
  {
   "cell_type": "code",
   "execution_count": 24,
   "metadata": {},
   "outputs": [
    {
     "name": "stdout",
     "output_type": "stream",
     "text": [
      "Requirement already satisfied: pygame in c:\\users\\willy7086\\anaconda3\\lib\\site-packages (1.9.6)\n"
     ]
    }
   ],
   "source": [
    "!pip install pygame"
   ]
  },
  {
   "cell_type": "markdown",
   "metadata": {},
   "source": [
    "## 1.1 簡易播放程式"
   ]
  },
  {
   "cell_type": "code",
   "execution_count": 3,
   "metadata": {},
   "outputs": [
    {
     "name": "stdout",
     "output_type": "stream",
     "text": [
      "using output_id :0:\n"
     ]
    },
    {
     "ename": "Exception",
     "evalue": "b\"PortMidi: `Invalid device ID'\"",
     "output_type": "error",
     "traceback": [
      "\u001b[1;31m---------------------------------------------------------------------------\u001b[0m",
      "\u001b[1;31mException\u001b[0m                                 Traceback (most recent call last)",
      "\u001b[1;32m<ipython-input-3-1ab632007d69>\u001b[0m in \u001b[0;36m<module>\u001b[1;34m\u001b[0m\n\u001b[0;32m     16\u001b[0m \u001b[0mport\u001b[0m \u001b[1;33m=\u001b[0m \u001b[0mpygame\u001b[0m\u001b[1;33m.\u001b[0m\u001b[0mmidi\u001b[0m\u001b[1;33m.\u001b[0m\u001b[0mget_default_output_id\u001b[0m\u001b[1;33m(\u001b[0m\u001b[1;33m)\u001b[0m\u001b[1;33m\u001b[0m\u001b[1;33m\u001b[0m\u001b[0m\n\u001b[0;32m     17\u001b[0m \u001b[0mprint\u001b[0m \u001b[1;33m(\u001b[0m\u001b[1;34m\"using output_id :%s:\"\u001b[0m \u001b[1;33m%\u001b[0m \u001b[0mport\u001b[0m\u001b[1;33m)\u001b[0m\u001b[1;33m\u001b[0m\u001b[1;33m\u001b[0m\u001b[0m\n\u001b[1;32m---> 18\u001b[1;33m \u001b[0mplayer\u001b[0m \u001b[1;33m=\u001b[0m \u001b[0mpygame\u001b[0m\u001b[1;33m.\u001b[0m\u001b[0mmidi\u001b[0m\u001b[1;33m.\u001b[0m\u001b[0mOutput\u001b[0m\u001b[1;33m(\u001b[0m\u001b[0mport\u001b[0m\u001b[1;33m,\u001b[0m \u001b[1;36m0\u001b[0m\u001b[1;33m)\u001b[0m\u001b[1;33m\u001b[0m\u001b[1;33m\u001b[0m\u001b[0m\n\u001b[0m\u001b[0;32m     19\u001b[0m \u001b[1;31m# set the output device --------------------------------------------------------\u001b[0m\u001b[1;33m\u001b[0m\u001b[1;33m\u001b[0m\u001b[1;33m\u001b[0m\u001b[0m\n\u001b[0;32m     20\u001b[0m \u001b[1;31m#player = pygame.midi.Output(device)\u001b[0m\u001b[1;33m\u001b[0m\u001b[1;33m\u001b[0m\u001b[1;33m\u001b[0m\u001b[0m\n",
      "\u001b[1;32m~\\anaconda3\\lib\\site-packages\\pygame\\midi.py\u001b[0m in \u001b[0;36m__init__\u001b[1;34m(self, device_id, latency, buffer_size)\u001b[0m\n\u001b[0;32m    420\u001b[0m             \u001b[1;32mif\u001b[0m \u001b[0moutput\u001b[0m\u001b[1;33m:\u001b[0m\u001b[1;33m\u001b[0m\u001b[1;33m\u001b[0m\u001b[0m\n\u001b[0;32m    421\u001b[0m                 \u001b[1;32mtry\u001b[0m\u001b[1;33m:\u001b[0m\u001b[1;33m\u001b[0m\u001b[1;33m\u001b[0m\u001b[0m\n\u001b[1;32m--> 422\u001b[1;33m                     \u001b[0mself\u001b[0m\u001b[1;33m.\u001b[0m\u001b[0m_output\u001b[0m \u001b[1;33m=\u001b[0m \u001b[0m_pypm\u001b[0m\u001b[1;33m.\u001b[0m\u001b[0mOutput\u001b[0m\u001b[1;33m(\u001b[0m\u001b[0mdevice_id\u001b[0m\u001b[1;33m,\u001b[0m \u001b[0mlatency\u001b[0m\u001b[1;33m)\u001b[0m\u001b[1;33m\u001b[0m\u001b[1;33m\u001b[0m\u001b[0m\n\u001b[0m\u001b[0;32m    423\u001b[0m                 \u001b[1;32mexcept\u001b[0m \u001b[0mTypeError\u001b[0m\u001b[1;33m:\u001b[0m\u001b[1;33m\u001b[0m\u001b[1;33m\u001b[0m\u001b[0m\n\u001b[0;32m    424\u001b[0m                     \u001b[1;32mraise\u001b[0m \u001b[0mTypeError\u001b[0m\u001b[1;33m(\u001b[0m\u001b[1;34m\"an integer is required\"\u001b[0m\u001b[1;33m)\u001b[0m\u001b[1;33m\u001b[0m\u001b[1;33m\u001b[0m\u001b[0m\n",
      "\u001b[1;32mpypm.pyx\u001b[0m in \u001b[0;36mpypm.Output.__init__\u001b[1;34m()\u001b[0m\n",
      "\u001b[1;31mException\u001b[0m: b\"PortMidi: `Invalid device ID'\""
     ]
    }
   ],
   "source": [
    "# import library ---------------------------------------------------------------\n",
    "import pygame.midi\n",
    "import time\n",
    "\n",
    "# define all the constant values -----------------------------------------------\n",
    "device = 1     # device number in win10 laptop\n",
    "instrument = 15 # http://www.ccarh.org/courses/253/handout/gminstruments/\n",
    "note_Do = 48   # http://www.electronics.dit.ie/staff/tscarff/Music_technology/midi/midi_note_numbers_for_octaves.htm\n",
    "note_Re = 50\n",
    "note_Me = 52\n",
    "volume = 127\n",
    "wait_time = 0.5\n",
    "\n",
    "# initize Pygame MIDI ----------------------------------------------------------\n",
    "pygame.midi.init()\n",
    "port = pygame.midi.get_default_output_id()\n",
    "print (\"using output_id :%s:\" % port)\n",
    "player = pygame.midi.Output(port, 0)\n",
    "# set the output device --------------------------------------------------------\n",
    "#player = pygame.midi.Output(device)\n",
    "\n",
    "# set the instrument -----------------------------------------------------------\n",
    "player.set_instrument(instrument)\n",
    "\n",
    "# play the notes ---------------------------------------------------------------\n",
    "player.note_on(note_Do, volume)\n",
    "time.sleep(wait_time)\n",
    "player.note_off(note_Do, volume)\n",
    "\n",
    "player.note_on(note_Re, volume)\n",
    "time.sleep(wait_time)\n",
    "player.note_off(note_Re, volume)\n",
    "\n",
    "player.note_on(note_Me, volume)\n",
    "time.sleep(wait_time)\n",
    "player.note_off(note_Me, volume)\n",
    "\n",
    "# close the device -------------------------------------------------------------\n",
    "del player\n",
    "pygame.midi.quit()"
   ]
  },
  {
   "cell_type": "markdown",
   "metadata": {},
   "source": [
    "## 1.2 簡易播音程式2"
   ]
  },
  {
   "cell_type": "code",
   "execution_count": 4,
   "metadata": {},
   "outputs": [
    {
     "name": "stdout",
     "output_type": "stream",
     "text": [
      "using output_id :0:\n"
     ]
    },
    {
     "ename": "Exception",
     "evalue": "b\"PortMidi: `Invalid device ID'\"",
     "output_type": "error",
     "traceback": [
      "\u001b[1;31m---------------------------------------------------------------------------\u001b[0m",
      "\u001b[1;31mException\u001b[0m                                 Traceback (most recent call last)",
      "\u001b[1;32m<ipython-input-4-e63b2ca010f2>\u001b[0m in \u001b[0;36m<module>\u001b[1;34m\u001b[0m\n\u001b[0;32m     13\u001b[0m \u001b[0mport\u001b[0m \u001b[1;33m=\u001b[0m \u001b[0mpygame\u001b[0m\u001b[1;33m.\u001b[0m\u001b[0mmidi\u001b[0m\u001b[1;33m.\u001b[0m\u001b[0mget_default_output_id\u001b[0m\u001b[1;33m(\u001b[0m\u001b[1;33m)\u001b[0m\u001b[1;33m\u001b[0m\u001b[1;33m\u001b[0m\u001b[0m\n\u001b[0;32m     14\u001b[0m \u001b[0mprint\u001b[0m \u001b[1;33m(\u001b[0m\u001b[1;34m\"using output_id :%s:\"\u001b[0m \u001b[1;33m%\u001b[0m \u001b[0mport\u001b[0m\u001b[1;33m)\u001b[0m\u001b[1;33m\u001b[0m\u001b[1;33m\u001b[0m\u001b[0m\n\u001b[1;32m---> 15\u001b[1;33m \u001b[0mmidi_out\u001b[0m \u001b[1;33m=\u001b[0m \u001b[0mpygame\u001b[0m\u001b[1;33m.\u001b[0m\u001b[0mmidi\u001b[0m\u001b[1;33m.\u001b[0m\u001b[0mOutput\u001b[0m\u001b[1;33m(\u001b[0m\u001b[0mint\u001b[0m\u001b[1;33m(\u001b[0m\u001b[0mport\u001b[0m\u001b[1;33m)\u001b[0m\u001b[1;33m,\u001b[0m \u001b[1;36m0\u001b[0m\u001b[1;33m)\u001b[0m\u001b[1;33m\u001b[0m\u001b[1;33m\u001b[0m\u001b[0m\n\u001b[0m\u001b[0;32m     16\u001b[0m \u001b[1;33m\u001b[0m\u001b[0m\n\u001b[0;32m     17\u001b[0m \u001b[0mmidi_out\u001b[0m\u001b[1;33m.\u001b[0m\u001b[0mset_instrument\u001b[0m\u001b[1;33m(\u001b[0m\u001b[0minstrument\u001b[0m\u001b[1;33m)\u001b[0m\u001b[1;33m\u001b[0m\u001b[1;33m\u001b[0m\u001b[0m\n",
      "\u001b[1;32m~\\anaconda3\\lib\\site-packages\\pygame\\midi.py\u001b[0m in \u001b[0;36m__init__\u001b[1;34m(self, device_id, latency, buffer_size)\u001b[0m\n\u001b[0;32m    420\u001b[0m             \u001b[1;32mif\u001b[0m \u001b[0moutput\u001b[0m\u001b[1;33m:\u001b[0m\u001b[1;33m\u001b[0m\u001b[1;33m\u001b[0m\u001b[0m\n\u001b[0;32m    421\u001b[0m                 \u001b[1;32mtry\u001b[0m\u001b[1;33m:\u001b[0m\u001b[1;33m\u001b[0m\u001b[1;33m\u001b[0m\u001b[0m\n\u001b[1;32m--> 422\u001b[1;33m                     \u001b[0mself\u001b[0m\u001b[1;33m.\u001b[0m\u001b[0m_output\u001b[0m \u001b[1;33m=\u001b[0m \u001b[0m_pypm\u001b[0m\u001b[1;33m.\u001b[0m\u001b[0mOutput\u001b[0m\u001b[1;33m(\u001b[0m\u001b[0mdevice_id\u001b[0m\u001b[1;33m,\u001b[0m \u001b[0mlatency\u001b[0m\u001b[1;33m)\u001b[0m\u001b[1;33m\u001b[0m\u001b[1;33m\u001b[0m\u001b[0m\n\u001b[0m\u001b[0;32m    423\u001b[0m                 \u001b[1;32mexcept\u001b[0m \u001b[0mTypeError\u001b[0m\u001b[1;33m:\u001b[0m\u001b[1;33m\u001b[0m\u001b[1;33m\u001b[0m\u001b[0m\n\u001b[0;32m    424\u001b[0m                     \u001b[1;32mraise\u001b[0m \u001b[0mTypeError\u001b[0m\u001b[1;33m(\u001b[0m\u001b[1;34m\"an integer is required\"\u001b[0m\u001b[1;33m)\u001b[0m\u001b[1;33m\u001b[0m\u001b[1;33m\u001b[0m\u001b[0m\n",
      "\u001b[1;32mpypm.pyx\u001b[0m in \u001b[0;36mpypm.Output.__init__\u001b[1;34m()\u001b[0m\n",
      "\u001b[1;31mException\u001b[0m: b\"PortMidi: `Invalid device ID'\""
     ]
    }
   ],
   "source": [
    "import pygame\n",
    "import pygame.midi\n",
    "from time import sleep\n",
    "\n",
    "GRAND_PIANO = 0\n",
    "CHURCH_ORGAN = 50\n",
    "#instrument = CHURCH_ORGAN\n",
    "instrument = GRAND_PIANO\n",
    "\n",
    "pygame.init()\n",
    "pygame.midi.init()\n",
    "\n",
    "port = pygame.midi.get_default_output_id()\n",
    "print (\"using output_id :%s:\" % port)\n",
    "midi_out = pygame.midi.Output(int(port), 0)\n",
    "\n",
    "midi_out.set_instrument(instrument)\n",
    "sound=127\n",
    "\n",
    "\n",
    "\n",
    "\n",
    "\n",
    "\n",
    "\n",
    "\n",
    "\n",
    "\n",
    "\n",
    "\n",
    "\n",
    "\n",
    "\n",
    "\n",
    "\n",
    "\n",
    "\n",
    "\n",
    "\n",
    "ext=0\n",
    "tone=\"* b 10 13 16 e\"\n",
    "tone=tone.split()\n",
    "integer=type(0)\n",
    "print(tone)\n",
    "def play(ton,time):\n",
    "    if ton!='*' and ton==integer:\n",
    "        midi_out.note_on(ton,sound) \n",
    "    if ton!='b' or ton!='e':\n",
    "        sleep(time/1000)\n",
    "    elif ton=='b' or ton=='e':\n",
    "        ext=not ext\n",
    "    if ext==0:\n",
    "        midi_out.note_off(ton,sound)\n",
    "for i in tone:\n",
    "    play(i,1000)\n",
    "del midi_out\n",
    "pygame.midi.quit()\n"
   ]
  },
  {
   "cell_type": "markdown",
   "metadata": {},
   "source": [
    "## 2. 定義MIDI檔播放函數"
   ]
  },
  {
   "cell_type": "code",
   "execution_count": 5,
   "metadata": {},
   "outputs": [],
   "source": [
    "def play_midi(file):\n",
    "   freq = 44100\n",
    "   bitsize = -16\n",
    "   channels = 2\n",
    "   buffer = 1024\n",
    "   pygame.mixer.init(freq, bitsize, channels, buffer)\n",
    "   pygame.mixer.music.set_volume(1)\n",
    "   clock = pygame.time.Clock()\n",
    "   try:\n",
    "       pygame.mixer.music.load(file)\n",
    "   except:\n",
    "       import traceback\n",
    "       print(traceback.format_exc())\n",
    "   pygame.mixer.music.play()\n",
    "   while pygame.mixer.music.get_busy():\n",
    "       clock.tick(30)\n"
   ]
  },
  {
   "cell_type": "code",
   "execution_count": null,
   "metadata": {},
   "outputs": [],
   "source": [
    "鋼琴Piano\n",
    "001 Acoustic Grand Piano三角 鋼琴、平臺鋼琴、聲學鋼琴\n",
    "002 Bright Acoustic Piano嘹亮鋼琴、亮音鋼琴\n",
    "003 Electric Grand Piano電子琴、平臺電鋼琴\n",
    "004 Honky-tonk Piano酒吧鋼琴、叮噹琴\n",
    "005 Rhodes Piano電鋼琴一、柔和的電鋼琴\n",
    "006 Chorused Piano電鋼琴二、加合唱效果的電鋼琴\n",
    "007 Harpsichord大鍵琴、撥弦古鋼琴、羽管鍵琴\n",
    "008 Clavinet古鋼琴、擊弦古鋼琴、科拉維科特琴\n",
    "半音階打擊樂器(色彩打擊樂器)Chromatic Percussion\n",
    "009 Celesta鋼片琴\n",
    "010 Glockenspiel鐵琴\n",
    "011 Music box音樂盒\n",
    "012 Vibraphone顫音琴、抖音琴\n",
    "013 Marimba馬林巴、立奏木琴\n",
    "014 Xylophone木琴\n",
    "015 Tubular Bells管鐘\n",
    "016 Dulcimer大揚琴\n",
    "風琴Organ\n",
    "017 Hammond Organ爵士風琴、\n",
    "018 Percussive Organ敲擊風琴\n",
    "019 Rock Organ搖滾風琴\n",
    "020 Church Organ教堂風琴\n",
    "021 Reed Organ簧管風琴\n",
    "022 Accordion手風琴\n",
    "023 Harmonica口琴\n",
    "024 Tango Accordion探戈手風琴\n",
    "吉他Guitar\n",
    "025 Acoustic Guitar(nylon)古典吉他\n",
    "026 Acoustic Guitar(steel)民謠吉他\n",
    "027 Electric Guitar(jazz)爵士吉他\n",
    "028 Electric Guitar(clean) 清音電吉他\n",
    "029 Electric Guitar(muted)悶音電吉他\n",
    "030 Overdriven Guitar濁音電吉他(驅動效果)\n",
    "031 Distortion Guitar變音電吉他(失真效果)\n",
    "032 Guitar Harmonics合音吉他\n",
    "低音樂器Bass\n",
    "033 Acoustic Bass原音貝司、聲學貝司\n",
    "034 Electric Bass(finger)指彈貝司\n",
    "035 Electric Bass(pick)匹克貝司\n",
    "036 Fretless Bass無格貝司\n",
    "037 Slap Bass1掌擊貝司一\n",
    "038 Slap Bass2掌擊貝司二\n",
    "039 Synth Bass1電子合成貝司一\n",
    "040 Synth Bass2電子合成貝司二\n",
    "弦樂器Strings\n",
    "041 Violin小提琴\n",
    "042 Viola中提琴\n",
    "043 Cello大提琴\n",
    "044 Contrabass低音提琴\n",
    "045 Tremelo Strings顫弓\n",
    "046 Pizzicato Strings彈撥\n",
    "047 Orchestral Harp豎琴\n",
    "048 Timpani定音鼓\n",
    "背景Ensemble\n",
    "049 String Ensemble 1合奏弦樂一\n",
    "050 String Ensemble 2合奏弦樂二\n",
    "051 Synth Strings 1合成弦樂一\n",
    "052 Synth Strings 2合成弦樂二\n",
    "053 Choir Aahs 人聲啊\n",
    "054 Voice Oohs 人聲嘟\n",
    "055 Synth Voice 合成人聲\n",
    "056 Orchestra Hit 管弦樂團極重音\n",
    "銅管樂器Brass\n",
    "057 Trumpet小號\n",
    "058 Trombone長號\n",
    "059 Tuba大號、低音號\n",
    "060 Muted Trumpet悶音小號\n",
    "061 French Horn法國號\n",
    "062 Brass Section銅管合奏\n",
    "063 Synth Brass1合成銅管一\n",
    "064 Synth Brass2合成銅管二\n",
    "簧管樂器Reed\n",
    "065 Soprano Sax高音薩克管\n",
    "066 Alto Sax中音薩克管\n",
    "067 Tenor Sax次中音薩克管\n",
    "068 Baritone Sax上低音薩克管\n",
    "069 Oboe雙簧管\n",
    "070 English Horn英國管\n",
    "071 Bassoon低音管、巴松管、大管\n",
    "072 Clarinet單簧管、黑管\n",
    "木管樂器Pipe\n",
    "073 Piccolo短笛\n",
    "074 Flute長笛\n",
    "075 Recorder直笛\n",
    "076 Pan Flute排笛、排簫、牧笛\n",
    "077 Bottle Blow吹瓶聲\n",
    "078 Shakuhachi日本尺八簫\n",
    "079 Whistle口哨\n",
    "080 Ocarina陶笛\n",
    "合成主音 Synth Lead\n",
    "081 Lead 1(square) 方波\n",
    "082 Lead 2(sawtooth) 鋸齒波\n",
    "083 Lead 3(calliope lead) 蒸氣風琴\n",
    "084 Lead 4(chiff lead) 合成吹管\n",
    "085 Lead 5(charang) 合成電吉他\n",
    "086 Lead 6(voice) 人聲鍵盤\n",
    "087 Lead 7(fifths) 平行五度\n",
    "088 Lead 8(bass+lead)合成低音\n",
    "合成音色 Synth Pad\n",
    "089 Pad 1(new age) 新世紀\n",
    "090 Pad 2(warm) 溫暖\n",
    "091 Pad 3(polysynth)多重合音\n",
    "092 Pad 4(choir)合唱\n",
    "093 Pad 5(bowed)玻璃\n",
    "094 Pad 6(metallic)金屬\n",
    "095 Pad 7(halo)光環\n",
    "096 Pad 8(sweep)掃拂\n",
    "合成效果 Synth Effects\n",
    "097 FX 1(rain)雨聲\n",
    "098 FX 2(soundtrack)電影音效、音軌、五度音\n",
    "099 FX 3(crystal)水晶\n",
    "100 FX 4(atmosphere)大氣\n",
    "101 FX 5(brightness)明亮\n",
    "102 FX 6(goblins)魅影\n",
    "103 FX 7(echoes)迴音\n",
    "104 FX 8(sci-fi)科幻\n",
    "民族樂器Ethnic\n",
    "105 Sitar印度西塔琴\n",
    "106 Banjo斑鳩、五絃琴\n",
    "107 Shamisen日本三味線\n",
    "108 Koto日本十三絃琴\n",
    "109 Kalimba卡林巴鐘琴\n",
    "110 Bagpipe蘇格蘭風笛\n",
    "111 Fiddle古提琴\n",
    "112 Shanai鎖吶\n",
    "打擊樂器 Percussive\n",
    "113 Tinkle Bell叮噹鈴\n",
    "114 Agogo阿哥哥鼓\n",
    "115 Stell Drums鋼鼓\n",
    "116 Woodblock木魚\n",
    "117 Taiko Drums日本太鼓、旋律中音鼓\n",
    "118 Melodic Tom古式高音鼓\n",
    "119 Synth Drum合成鼓\n",
    "120 Reverse Cymbal鈸\n",
    "特效Sound effects\n",
    "121 Guitar Fret Noise磨弦聲、吉他換把雜音\n",
    "122 Breath Noise呼吸聲\n",
    "123 Seashore海浪聲\n",
    "124 Bird Tweet鳥叫聲\n",
    "125 Telephone Ring電話鈴聲\n",
    "126 Helicopter直昇機\n",
    "127 Applause拍手聲\n",
    "128 Gunshot槍聲\n",
    "\n",
    "鼓組Percussion notes\n",
    "35 Acoustic Bass Drum 低音大鼓\n",
    "36 Bass Drum 1 低音鼓\n",
    "37 Side Stick 小鼓鼓邊\n",
    "38 Acoustic Snare 小鼓\n",
    "39 Hand Clap 拍掌\n",
    "40 Electric Snare 電子小鼓\n",
    "41 Low Floor Tom 低音鼓\n",
    "42 Closed Hi-Hat 閉合雙面鈸\n",
    "43 High Floor Tom 高落地鼓\n",
    "44 Pedal Hi-Hat 踩著踏板的雙面鈸音色\n",
    "45 Low Tom 低中音鼓\n",
    "46 Open Hi-Hat 開放雙面鈸\n",
    "47 Low-Mid Tom 低中音鼓\n",
    "48 Hi-Mid Tom 高中音鼓\n",
    "49 Crash Cymbal 1 高架鈸、強音鈸\n",
    "50 High Tom 高音鼓\n",
    "51 Ride Cymbal 1 側面鈸\n",
    "52 Chinese Cymbal 中國鈸\n",
    "53 Ride Bell 懸掛鐘\n",
    "54 Tambourine 鈴鼓\n",
    "55 Splash Cymbal 濺開鈸聲\n",
    "56 Cowbell 牛鈴\n",
    "57 Crash Cymbal 2 強音鈸\n",
    "58 Vibra Slap 噪音器\n",
    "59 Ride Cymbal 2 打點鈸\n",
    "60 Hi Bongo 高音邦加鼓\n",
    "61 Low Bongo 低音邦加鼓\n",
    "62 Mute Hi Conga 悶音高康加鼓\n",
    "63 Open Hi Conga 開放高康加鼓\n",
    "64 Low Conga 低音康加鼓\n",
    "65 High Timbale 高音天巴鼓\n",
    "66 Low Timbale 低定天巴鼓\n",
    "67 High Agogo 高音阿哥哥\n",
    "68 Low Agogo 低音阿哥哥\n",
    "69 Cabasa 串珠\n",
    "70 Maracas 沙鈴\n",
    "71 Short Whistle 短口哨\n",
    "72 Long Whistle 長口哨\n",
    "73 Short Guiro 短刮壺\n",
    "74 Long Guiro 長刮壺\n",
    "75 Claves 梆子\n",
    "76 Hi Wood Block 高音木魚\n",
    "77 Low Wood Block 低音木魚\n",
    "78 Mute Cuica 悶音魁卡鼓\n",
    "79 Open Cuica 開放魁卡鼓\n",
    "80 Mute Triangle 悶音三角 鐵\n",
    "81 Open Triangle 開放三角 鐵"
   ]
  },
  {
   "cell_type": "markdown",
   "metadata": {},
   "source": [
    "## 3.0 安裝 MIDO"
   ]
  },
  {
   "cell_type": "code",
   "execution_count": 5,
   "metadata": {},
   "outputs": [
    {
     "name": "stdout",
     "output_type": "stream",
     "text": [
      "Collecting mido\n",
      "  Downloading mido-1.2.9-py2.py3-none-any.whl (52 kB)\n",
      "Installing collected packages: mido\n",
      "Successfully installed mido-1.2.9\n"
     ]
    }
   ],
   "source": [
    "!pip install mido"
   ]
  },
  {
   "cell_type": "markdown",
   "metadata": {},
   "source": [
    "## 3.1 產生簡易 MIDI 檔"
   ]
  },
  {
   "cell_type": "code",
   "execution_count": 6,
   "metadata": {},
   "outputs": [],
   "source": [
    "from mido import Message, MidiFile, MidiTrack\n",
    "import pygame\n",
    "\n",
    "mid = MidiFile()           #建立 MidiFile\n",
    "track = MidiTrack()        #建立 音軌\n",
    "mid.tracks.append(track)   #將音軌加入 MidiFile\n",
    "\n",
    "#設定樂器\n",
    "track.append(Message('program_change', program=57, time=0))\n",
    "\n",
    "#設定音符\n",
    "track.append(Message('note_on', note=60, velocity=127, time=0))\n",
    "track.append(Message('note_off', note=60, velocity=127, time=300))\n",
    "track.append(Message('note_on', note=62, velocity=127, time=0))\n",
    "track.append(Message('note_off', note=62, velocity=127, time=300))\n",
    "track.append(Message('note_on', note=64, velocity=127, time=0))\n",
    "track.append(Message('note_off', note=64, velocity=127, time=300))\n",
    "\n",
    "#儲存檔案\n",
    "mid.save('song1.mid')\n"
   ]
  },
  {
   "cell_type": "markdown",
   "metadata": {},
   "source": [
    "## 3.2 播放"
   ]
  },
  {
   "cell_type": "code",
   "execution_count": 7,
   "metadata": {},
   "outputs": [],
   "source": [
    "play_midi('song1.mid')"
   ]
  },
  {
   "cell_type": "markdown",
   "metadata": {},
   "source": [
    "## 4.1 定義每秒拍數"
   ]
  },
  {
   "cell_type": "code",
   "execution_count": 11,
   "metadata": {},
   "outputs": [],
   "source": [
    "bpm  = 132"
   ]
  },
  {
   "cell_type": "markdown",
   "metadata": {},
   "source": [
    "## 4.2 定義播放音符函數"
   ]
  },
  {
   "cell_type": "code",
   "execution_count": 6,
   "metadata": {},
   "outputs": [],
   "source": [
    "def play_note(note, length, track, base_num=0, delay=0, velocity=1.0, channel=0):\n",
    "   global bpm\n",
    "   meta_time = 60 * 1000 / bpm  # 每拍的長度，單位:ms\n",
    "   major_notes = [0, 2, 2, 1, 2, 2, 2, 1] #大調的音符間距\n",
    "   base_note = 60 #中央 DO 的號碼\n",
    "   track.append(Message('note_on', note=base_note + base_num*12 + sum(major_notes[0:note]), velocity=round(64*velocity), time=round(delay*meta_time), channel=channel))\n",
    "   track.append(Message('note_off', note=base_note + base_num*12 + sum(major_notes[0:note]), velocity=round(64*velocity), time=round(meta_time*length), channel=channel))\n"
   ]
  },
  {
   "cell_type": "markdown",
   "metadata": {},
   "source": [
    "## 4.3 定義歌曲主弦律"
   ]
  },
  {
   "cell_type": "code",
   "execution_count": 12,
   "metadata": {},
   "outputs": [],
   "source": [
    "#第一段樂曲\n",
    "def verse(track,velocity=1.0):\n",
    "   play_note(5, 1, track,velocity=velocity)#533- \n",
    "   play_note(3, 1, track,velocity=velocity)       \n",
    "   play_note(3, 2, track,velocity=velocity)       \n",
    "   play_note(4, 1, track,velocity=velocity)#422-  \n",
    "   play_note(2, 1, track,velocity=velocity)       \n",
    "   play_note(2, 2, track,velocity=velocity)     \n",
    "    \n",
    "   play_note(1, 1, track,velocity=velocity)#1234555-   \n",
    "   play_note(2, 1, track,velocity=velocity)       \n",
    "   play_note(3, 1, track,velocity=velocity)       \n",
    "   play_note(4, 1, track,velocity=velocity)       \n",
    "   play_note(5, 1, track,velocity=velocity)  \n",
    "   play_note(5, 1, track,velocity=velocity)\n",
    "   play_note(5, 2, track,velocity=velocity)  \n",
    "    \n",
    "   play_note(5, 1, track,velocity=velocity)#533-\n",
    "   play_note(3, 1, track,velocity=velocity)       \n",
    "   play_note(3, 2, track,velocity=velocity)       \n",
    "   play_note(4, 1, track,velocity=velocity)#422-  \n",
    "   play_note(2, 1, track,velocity=velocity)       \n",
    "   play_note(2, 2, track,velocity=velocity)     \n",
    "    \n",
    "   play_note(1, 1, track,velocity=velocity)#13553---- \n",
    "   play_note(3, 1, track,velocity=velocity)       \n",
    "   play_note(5, 1, track,velocity=velocity)       \n",
    "   play_note(5, 1, track,velocity=velocity)       \n",
    "   play_note(3, 4, track,velocity=velocity)    \n",
    "\n",
    "   play_note(2, 1, track,velocity=velocity)#2222234-  \n",
    "   play_note(2, 1, track,velocity=velocity)       \n",
    "   play_note(2, 1, track,velocity=velocity)       \n",
    "   play_note(2, 1, track,velocity=velocity)       \n",
    "   play_note(2, 1, track,velocity=velocity)  \n",
    "   play_note(3, 1, track,velocity=velocity)\n",
    "   play_note(4, 2, track,velocity=velocity) \n",
    "\n",
    "   play_note(3, 1, track,velocity=velocity)#3333345-  \n",
    "   play_note(3, 1, track,velocity=velocity)       \n",
    "   play_note(3, 1, track,velocity=velocity)       \n",
    "   play_note(3, 1, track,velocity=velocity)       \n",
    "   play_note(3, 1, track,velocity=velocity)  \n",
    "   play_note(4, 1, track,velocity=velocity)\n",
    "   play_note(5, 2, track,velocity=velocity) \n",
    "\n",
    "   play_note(5, 1, track,velocity=velocity)#533- \n",
    "   play_note(3, 1, track,velocity=velocity)       \n",
    "   play_note(3, 2, track,velocity=velocity)       \n",
    "   play_note(4, 1, track,velocity=velocity)#422-  \n",
    "   play_note(2, 1, track,velocity=velocity)       \n",
    "   play_note(2, 2, track,velocity=velocity)     \n",
    "    \n",
    "   play_note(1, 1, track,velocity=velocity)#13551----   \n",
    "   play_note(3, 1, track,velocity=velocity)       \n",
    "   play_note(5, 1, track,velocity=velocity)       \n",
    "   play_note(5, 1, track,velocity=velocity)       \n",
    "   play_note(1, 4, track,velocity=velocity)  \n",
    "\n"
   ]
  },
  {
   "cell_type": "markdown",
   "metadata": {},
   "source": [
    "## 4.4 產生主弦律 MIDI 檔"
   ]
  },
  {
   "cell_type": "code",
   "execution_count": 13,
   "metadata": {},
   "outputs": [],
   "source": [
    "from mido import Message, MidiFile, MidiTrack\n",
    "import pygame\n",
    "\n",
    "mid = MidiFile()\n",
    "track = MidiTrack()\n",
    "mid.tracks.append(track)\n",
    "\n",
    "verse(track)       #第一段\n",
    "\n",
    "\n",
    "mid.save('song2.mid')\n"
   ]
  },
  {
   "cell_type": "markdown",
   "metadata": {},
   "source": [
    "## 4.5 播放"
   ]
  },
  {
   "cell_type": "code",
   "execution_count": 26,
   "metadata": {},
   "outputs": [],
   "source": [
    "play_midi('song2.mid')"
   ]
  },
  {
   "cell_type": "markdown",
   "metadata": {},
   "source": [
    "## 5.1 定義各類和弦"
   ]
  },
  {
   "cell_type": "code",
   "execution_count": 14,
   "metadata": {},
   "outputs": [],
   "source": [
    "def get_chord_arrangement(name):\n",
    "    chord_dict = {\n",
    "        'maj3': [0, 4, 7, 0],  # 大三和弦 根音-大三度-纯五度\n",
    "        'min3': [0, 3, 7, 0],  # 小三和弦 根音-小三度-纯五度\n",
    "        'aug3': [0, 4, 8, 0],  # 增三和弦 根音-大三度-增五度\n",
    "        'dim3': [0, 3, 6, 0],  # 减三和弦 根音-小三度-减五度\n",
    "\n",
    "        'M7': [0, 4, 7, 11],  # 大七和弦 根音-大三度-纯五度-大七度\n",
    "        'Mm7': [0, 4, 7, 10],  # 属七和弦 根音-大三度-纯五度-小七度\n",
    "        'm7': [0, 3, 7, 10],  # 小七和弦 根音-小三度-纯五度-小七度\n",
    "        'mM7': [0, 3, 7, 11],  # 小大七和弦 根音-小三度-纯五度-大七度\n",
    "        'aug7': [0, 4, 8, 10],  # 增七和弦 根音-大三度-增五度-小七度\n",
    "        'augM7': [0, 4, 8, 11],  # 增大七和弦 根音-大三度-增五度-小七度\n",
    "        'm7b5': [0, 3, 6, 10],  # 半减七和弦 根音-小三度-减五度-减七度\n",
    "        'dim7': [0, 3, 6, 9]  # 减减七和弦 根音-小三度-减五度-减七度\n",
    "    }\n",
    "\n",
    "    chord = [0, 0, 0, 0]\n",
    "    try:\n",
    "        chord = chord_dict[name]\n",
    "    except:\n",
    "        print(traceback.format_exc())\n",
    "    return chord\n"
   ]
  },
  {
   "cell_type": "markdown",
   "metadata": {},
   "source": [
    "## 5.2 定義增加和弦函數"
   ]
  },
  {
   "cell_type": "code",
   "execution_count": 15,
   "metadata": {},
   "outputs": [],
   "source": [
    "def add_chord(root, name, format, length, track, root_base=0, channel=3):\n",
    "    global bpm ##get_bpm(track)\n",
    "    major_notes = [0, 2, 2, 1, 2, 2, 2, 1]\n",
    "    notes = ['C', 'D', 'E', 'F', 'G', 'A', 'B']\n",
    "    notes_dict = {}\n",
    "    for i, note in enumerate(notes):\n",
    "        notes_dict[note] = 60 + sum(major_notes[0:i+1])\n",
    "    root_note = notes_dict[root] + root_base*12\n",
    "    chord = get_chord_arrangement(name)\n",
    "    meta_time = 60 * 1000 / bpm\n",
    "    time = round(length / len(format) * meta_time)\n",
    "\n",
    "    for dis in format:\n",
    "        note = root_note + chord[dis]\n",
    "        track.append(Message('note_on', note=note, velocity=56, time=0, channel=channel))\n",
    "        track.append(Message('note_off', note=note, velocity=56, time=time, channel=channel))\n"
   ]
  },
  {
   "cell_type": "code",
   "execution_count": 57,
   "metadata": {},
   "outputs": [],
   "source": [
    "def add_whole_chord(root, name, format, length, track, root_base=0, channel=3):\n",
    "    global bpm ##get_bpm(track)\n",
    "    major_notes = [0, 2, 2, 1, 2, 2, 2, 1]\n",
    "    notes = ['C', 'D', 'E', 'F', 'G', 'A', 'B']\n",
    "    notes_dict = {}\n",
    "    for i, note in enumerate(notes):\n",
    "        notes_dict[note] = 60 + sum(major_notes[0:i+1])\n",
    "    root_note = notes_dict[root] + root_base*12\n",
    "    chord = get_chord_arrangement(name)\n",
    "    meta_time = 60 * 1000 / bpm\n",
    "    time = round(length / len(format) * meta_time)\n",
    "\n",
    "    for dis in format:\n",
    "        note = root_note + chord[dis]\n",
    "        track.append(Message('note_on', note=note, velocity=56, time=0, channel=channel))\n",
    "        #track.append(Message('note_off', note=note, velocity=56, time=time, channel=channel))\n",
    "    for dis in format:\n",
    "        note = root_note + chord[dis]\n",
    "        #track.append(Message('note_on', note=note, velocity=56, time=0, channel=channel))\n",
    "        if dis == 0:\n",
    "            track.append(Message('note_off', note=note, velocity=56, time=length, channel=channel))\n",
    "        else:\n",
    "            track.append(Message('note_off', note=note, velocity=56, time=0, channel=channel))\n"
   ]
  },
  {
   "cell_type": "markdown",
   "metadata": {},
   "source": [
    "## 5.3 定義歌曲的和弦"
   ]
  },
  {
   "cell_type": "code",
   "execution_count": 16,
   "metadata": {},
   "outputs": [],
   "source": [
    "def chord(track):\n",
    "    format = [0,1,2,3] #[0, 1, 2, 3,2,1]\n",
    "    add_chord('C', 'maj3', format, 4, track) #53 3-\n",
    "    add_chord('G', 'M7', format, 4, track) #42 2-\n",
    "    add_chord('C', 'maj3', format, 4, track) #1234\n",
    "    add_chord('G', 'M7', format, 4, track) #55 5-\n",
    "    \n",
    "    add_chord('C', 'maj3', format, 4, track) #53 3-\n",
    "    add_chord('G', 'M7', format, 4, track) #42 2-\n",
    "    add_chord('C', 'maj3', format, 2, track) #13\n",
    "    add_chord('G', 'M7', format, 2, track) #55\n",
    "    add_chord('C', 'maj3', format, 4, track) #3----\n",
    "    \n",
    "    add_chord('G', 'M7', format, 4, track) #2222\n",
    "    add_chord('G', 'M7', format, 4, track) #234-\n",
    "    add_chord('C', 'maj3', format, 4, track) #3333\n",
    "    add_chord('C', 'maj3', format, 4, track) #345-\n",
    "    \n",
    "    add_chord('C', 'maj3', format, 4, track) #53 3-\n",
    "    add_chord('G', 'M7', format, 4, track) #42 2-\n",
    "    add_chord('C', 'maj3', format, 2, track) #13\n",
    "    add_chord('G', 'M7', format, 2, track) #55\n",
    "    add_chord('C', 'maj3', format, 4, track) #1----\n",
    "    "
   ]
  },
  {
   "cell_type": "code",
   "execution_count": 51,
   "metadata": {},
   "outputs": [],
   "source": [
    "def whole_chord(track):\n",
    "    format = [0,1,2,3] #[0, 1, 2, 3,2,1]\n",
    "    add_whole_chord('C', 'maj3', format, 4, track) #53 3-\n",
    "    add_whole_chord('G', 'M7', format, 4, track) #42 2-\n",
    "    add_whole_chord('C', 'maj3', format, 4, track) #1234\n",
    "    add_whole_chord('G', 'M7', format, 4, track) #55 5-\n",
    "    \n",
    "    add_whole_chord('C', 'maj3', format, 4, track) #53 3-\n",
    "    add_whole_chord('G', 'M7', format, 4, track) #42 2-\n",
    "    add_whole_chord('C', 'maj3', format, 2, track) #13\n",
    "    add_whole_chord('G', 'M7', format, 2, track) #55\n",
    "    add_whole_chord('C', 'maj3', format, 4, track) #3----\n",
    "    \n",
    "    add_whole_chord('G', 'M7', format, 4, track) #2222\n",
    "    add_whole_chord('G', 'M7', format, 4, track) #234-\n",
    "    add_whole_chord('C', 'maj3', format, 4, track) #3333\n",
    "    add_whole_chord('C', 'maj3', format, 4, track) #345-\n",
    "    \n",
    "    add_whole_chord('C', 'maj3', format, 4, track) #53 3-\n",
    "    add_whole_chord('G', 'M7', format, 4, track) #42 2-\n",
    "    add_whole_chord('C', 'maj3', format, 2, track) #13\n",
    "    add_whole_chord('G', 'M7', format, 2, track) #55\n",
    "    add_whole_chord('C', 'maj3', format, 4, track) #1----\n",
    "    "
   ]
  },
  {
   "cell_type": "markdown",
   "metadata": {},
   "source": [
    "## 5.4 產生主弦律 + 和弦 的MIDI 檔"
   ]
  },
  {
   "cell_type": "code",
   "execution_count": 17,
   "metadata": {},
   "outputs": [],
   "source": [
    "from mido import Message, MidiFile, MidiTrack\n",
    "import pygame\n",
    "\n",
    "mid = MidiFile()\n",
    "track = MidiTrack()\n",
    "chordTrack = MidiTrack()\n",
    "\n",
    "#mid.tracks.append(track)\n",
    "mid.tracks.append(chordTrack)\n",
    "\n",
    "\n",
    "#verse(track)\n",
    "chord(chordTrack)\n",
    "\n",
    "mid.save('song3.mid')\n"
   ]
  },
  {
   "cell_type": "markdown",
   "metadata": {},
   "source": [
    "## 5.5 播放"
   ]
  },
  {
   "cell_type": "code",
   "execution_count": 18,
   "metadata": {},
   "outputs": [],
   "source": [
    "play_midi('song3.mid')"
   ]
  },
  {
   "cell_type": "markdown",
   "metadata": {},
   "source": [
    "## 7.1 定義 鼓 的資料"
   ]
  },
  {
   "cell_type": "code",
   "execution_count": 20,
   "metadata": {},
   "outputs": [],
   "source": [
    "def get_drum_dict():\n",
    "    drum_dict = {\n",
    "        'acoustic_bass': 35,\n",
    "        'bass1': 36,\n",
    "        'side_stick': 37,\n",
    "        'acoustic_snare': 38,\n",
    "        'hand_clap': 39,\n",
    "        'electric_snare': 40,\n",
    "        'low_floor_tom': 41,\n",
    "        'closed_hi-hat': 42,\n",
    "        'high_floor_tom': 43,\n",
    "        'pedal_hi-hat': 44,\n",
    "        'low_tom': 45,\n",
    "        'open_hi-hat': 46,\n",
    "        'low-mid_tom': 47,\n",
    "        'hi-mid_tom': 48,\n",
    "        'crash_cymbal1': 49,\n",
    "        'high_tom': 50,\n",
    "        'ride_cymbal1': 51,\n",
    "        'chinese_cymbal': 52,\n",
    "        'ride_bell': 53,\n",
    "        'tambourine': 54,\n",
    "        'splash_cymbal': 55,\n",
    "        'cowbell': 56,\n",
    "        'crash_cymbal2': 57,\n",
    "        'vibraslap': 58,\n",
    "        'ride_cymbal2': 59,\n",
    "        'hi_bongo': 60,\n",
    "        'low_bongo': 61,\n",
    "        'mute_hi_bongo': 62,\n",
    "        'open_hi_bongo': 63,\n",
    "        'low_conga': 64,\n",
    "        'high_timbale': 65,\n",
    "        'low_timbale': 66,\n",
    "        'high_agogo': 67,\n",
    "        'low_agogo': 68,\n",
    "        'cabasa': 69,\n",
    "        'maracas': 70,\n",
    "        'short_whistle': 71,\n",
    "        'long_whistle': 72,\n",
    "        'short_guiro': 73,\n",
    "        'long_guiro': 74,\n",
    "        'claves': 75,\n",
    "        'hi_wood_block': 76,\n",
    "        'low_wood_block': 77,\n",
    "        'mute_cuica': 78,\n",
    "        'open_cuica': 79,\n",
    "        'mute_triangle': 80,\n",
    "        'open_triangle': 81\n",
    "    }\n",
    "    return drum_dict\n"
   ]
  },
  {
   "cell_type": "markdown",
   "metadata": {},
   "source": [
    "## 7.2 定義 鼓 的使用函數"
   ]
  },
  {
   "cell_type": "code",
   "execution_count": 21,
   "metadata": {},
   "outputs": [],
   "source": [
    "def add_drum(name, time, track, delay=0, velocity=1):\n",
    "    global bpm\n",
    "    #bpm = 80#get_bpm(track)\n",
    "    meta_time = 60 * 1000 / bpm\n",
    "    drum_dict = get_drum_dict()\n",
    "    try:\n",
    "        note = drum_dict[name]\n",
    "    except:\n",
    "        print(traceback.format_exc())\n",
    "        return\n",
    "    track.append(Message('note_on', note=note, velocity=round(64 * velocity), time=delay, channel=9))\n",
    "    track.append(\n",
    "        Message('note_off', note=note, velocity=round(64 * velocity), time=round(meta_time * time), channel=9))\n"
   ]
  },
  {
   "cell_type": "markdown",
   "metadata": {},
   "source": [
    "## 7.3 定義 hi_hat 的弦律"
   ]
  },
  {
   "cell_type": "code",
   "execution_count": 82,
   "metadata": {},
   "outputs": [],
   "source": [
    "def hi_hat(track):\n",
    "    for i in range(16):\n",
    "        add_drum('open_hi-hat', 1, track, velocity=0.6)\n",
    "        add_drum('closed_hi-hat', 1, track, velocity=0.6)\n",
    "        \n",
    "        add_drum('closed_hi-hat', 1, track, velocity=0.6)\n",
    "        add_drum('closed_hi-hat', 1, track, velocity=0.6)\n",
    "      \n",
    "    \n"
   ]
  },
  {
   "cell_type": "code",
   "execution_count": 22,
   "metadata": {},
   "outputs": [],
   "source": [
    "def hi_hat(track):\n",
    "    for i in range(16):\n",
    "        add_drum('open_hi-hat', 0.5, track, velocity=0.6)\n",
    "        add_drum('closed_hi-hat', 0.5, track, velocity=0.6)\n",
    "        add_drum('closed_hi-hat', 0.5, track, velocity=0.6)\n",
    "        add_drum('closed_hi-hat', 0.5, track, velocity=0.6)\n",
    "        add_drum('open_hi-hat', 0.5, track, velocity=0.6)\n",
    "        add_drum('closed_hi-hat', 0.5, track, velocity=0.6)\n",
    "        add_drum('closed_hi-hat', 0.5, track, velocity=0.6)\n",
    "        add_drum('closed_hi-hat', 0.5, track, velocity=0.6)"
   ]
  },
  {
   "cell_type": "code",
   "execution_count": null,
   "metadata": {},
   "outputs": [],
   "source": []
  },
  {
   "cell_type": "markdown",
   "metadata": {},
   "source": [
    "## 7.4 產生加入 hi hat 的 MIDI 檔"
   ]
  },
  {
   "cell_type": "code",
   "execution_count": 23,
   "metadata": {},
   "outputs": [],
   "source": [
    "from mido import Message, MidiFile, MidiTrack\n",
    "import pygame\n",
    "\n",
    "mid = MidiFile()\n",
    "track = MidiTrack()\n",
    "chordTrack = MidiTrack()\n",
    "hihat_track = MidiTrack()\n",
    "\n",
    "\n",
    "mid.tracks.append(track)\n",
    "mid.tracks.append(chordTrack)\n",
    "mid.tracks.append(hihat_track)\n",
    "\n",
    "\n",
    "verse(track)\n",
    "\n",
    "chord(chordTrack)\n",
    "hi_hat(hihat_track)\n",
    "\n",
    "mid.save('song5.mid')\n"
   ]
  },
  {
   "cell_type": "markdown",
   "metadata": {},
   "source": [
    "## 7.5 播放"
   ]
  },
  {
   "cell_type": "code",
   "execution_count": 95,
   "metadata": {},
   "outputs": [],
   "source": [
    "play_midi('song5.mid')"
   ]
  },
  {
   "cell_type": "markdown",
   "metadata": {},
   "source": [
    "## 7.6 定義 tom_and_snare 的弦律"
   ]
  },
  {
   "cell_type": "code",
   "execution_count": 128,
   "metadata": {},
   "outputs": [],
   "source": [
    "def tom_and_snare(track):\n",
    "    for i in range(16):\n",
    "        add_drum('low_tom', 1, track, velocity=1.0)\n",
    "        add_drum('acoustic_snare', 1, track, velocity=0.8)\n",
    "        add_drum('low_tom', 1, track, velocity=0.6)\n",
    "        add_drum('acoustic_snare', 1, track, velocity=0.8)        \n",
    "       "
   ]
  },
  {
   "cell_type": "code",
   "execution_count": 24,
   "metadata": {},
   "outputs": [],
   "source": [
    "def tom_and_snare(track):\n",
    "    for i in range(16):\n",
    "        add_drum('low_tom', 1, track, velocity=1.0)\n",
    "        add_drum('acoustic_snare', 1, track, velocity=0.8)\n",
    "        add_drum('low_tom', 0.5, track, velocity=0.6)\n",
    "        add_drum('low_tom', 0.5, track, velocity=0.6)\n",
    "        add_drum('acoustic_snare', 1, track, velocity=0.8)"
   ]
  },
  {
   "cell_type": "code",
   "execution_count": 123,
   "metadata": {},
   "outputs": [],
   "source": [
    "def tom_and_snare(track):\n",
    "    for i in range(16):\n",
    "        add_drum('acoustic_bass', 1, track, velocity=1.0)\n",
    "        add_drum('acoustic_snare', 1, track, velocity=0.8)\n",
    "        add_drum('acoustic_bass', 0.5, track, velocity=0.7)\n",
    "        add_drum('acoustic_bass', 0.5, track, velocity=0.7)\n",
    "        add_drum('acoustic_snare', 1, track, velocity=0.8)"
   ]
  },
  {
   "cell_type": "markdown",
   "metadata": {},
   "source": [
    "## 7.7 產生完整組合的MIDI檔"
   ]
  },
  {
   "cell_type": "code",
   "execution_count": 7,
   "metadata": {},
   "outputs": [
    {
     "ename": "ModuleNotFoundError",
     "evalue": "No module named 'mido'",
     "output_type": "error",
     "traceback": [
      "\u001b[1;31m---------------------------------------------------------------------------\u001b[0m",
      "\u001b[1;31mModuleNotFoundError\u001b[0m                       Traceback (most recent call last)",
      "\u001b[1;32m<ipython-input-7-64ea3401a2bf>\u001b[0m in \u001b[0;36m<module>\u001b[1;34m\u001b[0m\n\u001b[1;32m----> 1\u001b[1;33m \u001b[1;32mfrom\u001b[0m \u001b[0mmido\u001b[0m \u001b[1;32mimport\u001b[0m \u001b[0mMessage\u001b[0m\u001b[1;33m,\u001b[0m \u001b[0mMidiFile\u001b[0m\u001b[1;33m,\u001b[0m \u001b[0mMidiTrack\u001b[0m\u001b[1;33m\u001b[0m\u001b[1;33m\u001b[0m\u001b[0m\n\u001b[0m\u001b[0;32m      2\u001b[0m \u001b[1;32mimport\u001b[0m \u001b[0mpygame\u001b[0m\u001b[1;33m\u001b[0m\u001b[1;33m\u001b[0m\u001b[0m\n\u001b[0;32m      3\u001b[0m \u001b[1;33m\u001b[0m\u001b[0m\n\u001b[0;32m      4\u001b[0m \u001b[0mmid\u001b[0m \u001b[1;33m=\u001b[0m \u001b[0mMidiFile\u001b[0m\u001b[1;33m(\u001b[0m\u001b[1;33m)\u001b[0m\u001b[1;33m\u001b[0m\u001b[1;33m\u001b[0m\u001b[0m\n\u001b[0;32m      5\u001b[0m \u001b[0mtrack\u001b[0m \u001b[1;33m=\u001b[0m \u001b[0mMidiTrack\u001b[0m\u001b[1;33m(\u001b[0m\u001b[1;33m)\u001b[0m\u001b[1;33m\u001b[0m\u001b[1;33m\u001b[0m\u001b[0m\n",
      "\u001b[1;31mModuleNotFoundError\u001b[0m: No module named 'mido'"
     ]
    }
   ],
   "source": [
    "from mido import Message, MidiFile, MidiTrack\n",
    "import pygame\n",
    "\n",
    "mid = MidiFile()\n",
    "track = MidiTrack()\n",
    "track2 = MidiTrack()\n",
    "chordTrack = MidiTrack()\n",
    "hihat_track = MidiTrack()\n",
    "tomTrack = MidiTrack()\n",
    "track.append(Message('program_change', program=14, time=0))\n",
    "track2.append(Message('program_change', program=5, time=0))\n",
    "chordTrack.append(Message('program_change', program=2, time=0))\n",
    "mid.tracks.append(track)\n",
    "mid.tracks.append(track2)\n",
    "mid.tracks.append(chordTrack)\n",
    "mid.tracks.append(hihat_track)\n",
    "mid.tracks.append(tomTrack)\n",
    "\n",
    "\n",
    "verse(track,1.2)\n",
    "verse(track2,1.2)\n",
    "chord(chordTrack)\n",
    "hi_hat(hihat_track)\n",
    "tom_and_snare(tomTrack)\n",
    "\n",
    "mid.save('song6.mid')\n"
   ]
  },
  {
   "cell_type": "markdown",
   "metadata": {},
   "source": [
    "## 7.8 播放"
   ]
  },
  {
   "cell_type": "code",
   "execution_count": 27,
   "metadata": {},
   "outputs": [],
   "source": [
    "play_midi('song6.mid')"
   ]
  },
  {
   "cell_type": "code",
   "execution_count": null,
   "metadata": {},
   "outputs": [],
   "source": []
  }
 ],
 "metadata": {
  "kernelspec": {
   "display_name": "Python 3",
   "language": "python",
   "name": "python3"
  },
  "language_info": {
   "codemirror_mode": {
    "name": "ipython",
    "version": 3
   },
   "file_extension": ".py",
   "mimetype": "text/x-python",
   "name": "python",
   "nbconvert_exporter": "python",
   "pygments_lexer": "ipython3",
   "version": "3.7.6"
  }
 },
 "nbformat": 4,
 "nbformat_minor": 2
}
