{
 "cells": [
  {
   "cell_type": "code",
   "execution_count": 12,
   "metadata": {},
   "outputs": [
    {
     "ename": "SyntaxError",
     "evalue": "invalid syntax (<ipython-input-12-356c85b14b6b>, line 8)",
     "output_type": "error",
     "traceback": [
      "\u001b[1;36m  File \u001b[1;32m\"<ipython-input-12-356c85b14b6b>\"\u001b[1;36m, line \u001b[1;32m8\u001b[0m\n\u001b[1;33m    if(d>=3 and d<=5)):\u001b[0m\n\u001b[1;37m                     ^\u001b[0m\n\u001b[1;31mSyntaxError\u001b[0m\u001b[1;31m:\u001b[0m invalid syntax\n"
     ]
    }
   ],
   "source": [
    "from math import *\n",
    "for i in range(1,100):\n",
    "    print(i,end=\":\")\n",
    "    flag=0\n",
    "    for j in [0.25,0.5,1,2]:\n",
    "        d=i/(10**(log10(i)//1)*j)\n",
    "        print(j,d)\n",
    "        if(d>=3 and d<=5)\n",
    "            print(j)\n",
    "            flag=1\n",
    "            break\n",
    "    if(flag==0):\n",
    "        print(\"can't find\")\n"
   ]
  }
 ],
 "metadata": {
  "kernelspec": {
   "display_name": "Python 3",
   "language": "python",
   "name": "python3"
  },
  "language_info": {
   "codemirror_mode": {
    "name": "ipython",
    "version": 3
   },
   "file_extension": ".py",
   "mimetype": "text/x-python",
   "name": "python",
   "nbconvert_exporter": "python",
   "pygments_lexer": "ipython3",
   "version": "3.7.6"
  }
 },
 "nbformat": 4,
 "nbformat_minor": 4
}
