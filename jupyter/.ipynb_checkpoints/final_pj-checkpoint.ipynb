{
 "cells": [
  {
   "cell_type": "code",
   "execution_count": null,
   "metadata": {},
   "outputs": [],
   "source": [
    "x='123-45'\n",
    "code=[0x10]"
   ]
  },
  {
   "cell_type": "markdown",
   "metadata": {},
   "source": [
    "# C&K chek character"
   ]
  },
  {
   "cell_type": "code",
   "execution_count": 17,
   "metadata": {},
   "outputs": [
    {
     "name": "stdout",
     "output_type": "stream",
     "text": [
      "123-455\n"
     ]
    },
    {
     "data": {
      "text/plain": [
       "(5, 2)"
      ]
     },
     "execution_count": 17,
     "metadata": {},
     "output_type": "execute_result"
    }
   ],
   "source": [
    "code=\"123-45\"\n",
    "transfer={'0':0,'1':1,'2':2,'3':3,'4':4,'5':5,'6':6,'7':7,'8':8,'9':9,'-':10}\n",
    "n=len(code)\n",
    "c=0\n",
    "k=0\n",
    "for i in range(1,n+1):\n",
    "    c+=((n-i)%10+1)*transfer[code[i-1]]\n",
    "c%=11\n",
    "code+=str(c)\n",
    "print(code)\n",
    "\n",
    "for i in range(1,n+2):\n",
    "    k+=((n-i+1)%9+1)*transfer[code[i-1]]\n",
    "k%=11\n",
    "c,k"
   ]
  },
  {
   "cell_type": "code",
   "execution_count": 57,
   "metadata": {},
   "outputs": [
    {
     "data": {
      "text/plain": [
       "<matplotlib.image.AxesImage at 0x17aa9701e08>"
      ]
     },
     "execution_count": 57,
     "metadata": {},
     "output_type": "execute_result"
    },
    {
     "data": {
      "image/png": "[encoded data removed]",
      "text/plain": [
       "<Figure size 360x720 with 2 Axes>"
      ]
     },
     "metadata": {
      "needs_background": "light"
     },
     "output_type": "display_data"
    }
   ],
   "source": [
    "import matplotlib.pyplot as plt\n",
    "import numpy as np\n",
    "def to_barcode(st):\n",
    "    arr=np.array([])\n",
    "    for i in st.split('\\n'):\n",
    "        arr=np.concatenate((arr,i.split()),axis=0)\n",
    "    arr=[int(i) for i in arr]\n",
    "    arr=[i>(max(arr)+min(arr))/2 for i in arr]\n",
    "    con=[arr for i in range(len(st)//5)]\n",
    "    return con\n",
    "x=\"\"\"40 82 80 40 40 40 80 80 40 40\n",
    "40 40 40 40 40 80 80 40 40 40\n",
    "41 80 80 40 40 39 80 80 42 40\n",
    "40 40 79 40 40 40 40 40 80 40\n",
    "80 40 80 80 40 40 40 40 40 80\n",
    "40 40 80 40 40 80 78 40 40\"\"\"\n",
    "b=\"\"\"10 10 20 20 10 10 19 10 10 20\n",
    "10 10 10 10 10 20 20 10 10 20\n",
    "20 10 10 10 10 10 10 10 21 10\n",
    "10 10 20 19 10\"\"\"\n",
    "fig,ax=plt.subplots(nrows=2,figsize=(5,10))\n",
    "ax[0].imshow(to_barcode(x))\n",
    "ax[1].imshow(to_barcode(b))"
   ]
  },
  {
   "cell_type": "code",
   "execution_count": null,
   "metadata": {},
   "outputs": [],
   "source": []
  }
 ],
 "metadata": {
  "kernelspec": {
   "display_name": "Python 3",
   "language": "python",
   "name": "python3"
  },
  "language_info": {
   "codemirror_mode": {
    "name": "ipython",
    "version": 3
   },
   "file_extension": ".py",
   "mimetype": "text/x-python",
   "name": "python",
   "nbconvert_exporter": "python",
   "pygments_lexer": "ipython3",
   "version": "3.7.6"
  }
 },
 "nbformat": 4,
 "nbformat_minor": 4
}
