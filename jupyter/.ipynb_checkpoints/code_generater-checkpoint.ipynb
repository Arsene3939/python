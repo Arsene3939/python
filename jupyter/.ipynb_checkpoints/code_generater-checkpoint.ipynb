{
 "cells": [
  {
   "cell_type": "code",
   "execution_count": 16,
   "metadata": {},
   "outputs": [
    {
     "name": "stdout",
     "output_type": "stream",
     "text": [
      "0X0000,0X0000,0X0FF0,0X1FFC,0X100C,0X000C,0X07FC,0X0FF8,0X1800,0X1800,0X1800,0X180C,0X0FF8,0X07F0,0X0000,0X0000,\n",
      "0X0000,0X0000,0X0FF0,0X3FF8,0X3008,0X3000,0X3FE0,0X1FF0,0X0018,0X0018,0X0018,0X3018,0X1FF0,0X0FE0,0X0000,0X0000,\n"
     ]
    }
   ],
   "source": [
    "import turtle\n",
    "turtle.tracer(0)\n",
    "Width=16\n",
    "code=0\n",
    "LED_ARRAY=[]\n",
    "binary_data1=[]\n",
    "binary_data2=[]\n",
    "for i in range(Width):\n",
    "    LED_ARRAY.append([])\n",
    "for i in range(Width):\n",
    "    for j in range(Width):\n",
    "        LED_ARRAY[i].append(0)\n",
    "def setcuror(x,y):\n",
    "    turtle.penup()\n",
    "    turtle.goto(x,y)\n",
    "    turtle.pendown()\n",
    "def draw(x,y):\n",
    "    setcuror(-150,0)\n",
    "    turtle.circle(50)\n",
    "    global LEDA\n",
    "    global LED_ARRAY\n",
    "    global code\n",
    "    global arrcode\n",
    "    if x>0 and y>0 and x<Width*20 and y<Width*20:\n",
    "        setcuror((x//20)*20+10,(y//20)*20)\n",
    "        if  LED_ARRAY[int(x//20)][int(y//20)]:\n",
    "            turtle.color('white')\n",
    "            LED_ARRAY[int(x//20)][int(y//20)]=0\n",
    "        else:\n",
    "            turtle.color('black')\n",
    "            LED_ARRAY[int(x//20)][int(y//20)]=1\n",
    "        turtle.begin_fill()\n",
    "        turtle.circle(10)\n",
    "        turtle.end_fill()\n",
    "    elif x<-100 and x>-200 and y>0 and y<100:\n",
    "        setcuror(-500,-100)\n",
    "        turtle.clear()\n",
    "        for j in range(Width//4):\n",
    "            for b in range(4):\n",
    "                arrcode=0\n",
    "                arrcode1=0\n",
    "                for i in range(Width):\n",
    "                    if LED_ARRAY[i][b+4*j]:\n",
    "                        arrcode+=1<<(Width-i-1)\n",
    "                        arrcode1+=1<<(i)\n",
    "                binary_data1.append(arrcode)\n",
    "                binary_data2.append(arrcode1)\n",
    "        setcuror(-500,-150)\n",
    "        \n",
    "        for i in range(Width):\n",
    "            if Width==16:\n",
    "                print(\"%#06X\"%binary_data1[i],end=',')\n",
    "            elif Width==8:\n",
    "                print(\"%#04X\"%binary_data1[i],end=',')\n",
    "            elif Width==4:\n",
    "                print(\"%#03X\"%binary_data1[i],end=',')\n",
    "        print()\n",
    "        for i in range(Width):\n",
    "            if Width==16:\n",
    "                print(\"%#06X\"%binary_data2[i],end=',')\n",
    "            elif Width==8:\n",
    "                print(\"%#04X\"%binary_data2[i],end=',')\n",
    "            elif Width==4:\n",
    "                print(\"%#03X\"%binary_data2[i],end=',')\n",
    "        print()\n",
    "        for i in range(Width):\n",
    "            for j in range(Width):\n",
    "                LED_ARRAY[i][j]=0\n",
    "        code=0\n",
    "        drawArray(Width)\n",
    "def drawArray(width):\n",
    "    for i in range(width+1):\n",
    "        setcuror(0,i*20)\n",
    "        turtle.goto(width*20,i*20)\n",
    "        for i in range(width+1):\n",
    "            setcuror(i*20,0)\n",
    "            turtle.goto(i*20,width*20)\n",
    "    for i in range(width):\n",
    "        for j in range(width):\n",
    "            setcuror(i*20+10,j*20)\n",
    "            turtle.circle(10)\n",
    "drawArray(Width)\n",
    "wn=turtle.Screen()\n",
    "wn.onclick(draw)\n",
    "turtle.listen()\n",
    "turtle.mainloop()\n",
    "#VHDL第一排"
   ]
  },
  {
   "cell_type": "code",
   "execution_count": 14,
   "metadata": {},
   "outputs": [
    {
     "name": "stdout",
     "output_type": "stream",
     "text": [
      "X\"0000\", X\"0000\", X\"1FF0\", X\"1FF8\", X\"180C\", X\"180C\", X\"180C\", X\"1FF8\", X\"1FF0\", X\"1B80\", X\"19C0\", X\"18E0\", X\"1878\", X\"183C\", X\"0000\", X\"0000\", "
     ]
    }
   ],
   "source": [
    "########################### to VHDL ################################################\n",
    "a=\"0X0000,0X0000,0X0FF0,0X1FFC,0X100C,0X000C,0X07FC,0X0FF8,0X1800,0X1800,0X1800,0X180C,0X0FF8,0X07F0,0X0000,0X0000\"\n",
    "a=a.split(',')\n",
    "for i in range(len(a)-1,-1,-1):\n",
    "    a[i]=list(a[i])\n",
    "    a[i][0:2]=['X','\"']\n",
    "    a[i].append('\",')\n",
    "    for j in range(len(a[i])):\n",
    "        print(a[i][j],end='')\n",
    "    print(' ',end='')"
   ]
  },
  {
   "cell_type": "code",
   "execution_count": 11,
   "metadata": {},
   "outputs": [
    {
     "name": "stdout",
     "output_type": "stream",
     "text": [
      "0X38,0X28,0X38,0X00,0X00,0X00,0X00,0X00,"
     ]
    }
   ],
   "source": [
    "a=\"0X00,0X00,0X00,0X00,0X00,0X38,0X28,0X38\"\n",
    "for i in range(len(a.split(','))):\n",
    "    print(a.split(',')[len(a.split(','))-i-1],end=',')"
   ]
  }
 ],
 "metadata": {
  "kernelspec": {
   "display_name": "Python 3",
   "language": "python",
   "name": "python3"
  },
  "language_info": {
   "codemirror_mode": {
    "name": "ipython",
    "version": 3
   },
   "file_extension": ".py",
   "mimetype": "text/x-python",
   "name": "python",
   "nbconvert_exporter": "python",
   "pygments_lexer": "ipython3",
   "version": "3.7.6"
  }
 },
 "nbformat": 4,
 "nbformat_minor": 4
}
