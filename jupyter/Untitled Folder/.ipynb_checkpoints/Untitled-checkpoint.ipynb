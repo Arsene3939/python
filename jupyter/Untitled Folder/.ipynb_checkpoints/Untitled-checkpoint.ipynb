{
 "cells": [
  {
   "cell_type": "code",
   "execution_count": 20,
   "metadata": {},
   "outputs": [
    {
     "name": "stdout",
     "output_type": "stream",
     "text": [
      "10000\n",
      "100\n",
      "lomuto: 3.1754708000000846\n",
      "hoare: 12.556407699999909\n"
     ]
    }
   ],
   "source": [
    "import random as r\n",
    "import numpy as np\n",
    "import time\n",
    "def quick_sort(partition,arr,low,high):\n",
    "    if(low<high):\n",
    "        pivot_ind=partition(arr,low,high)\n",
    "        quick_sort(partition,arr,low,pivot_ind)\n",
    "        quick_sort(partition,arr,pivot_ind+1,high)\n",
    "def hoare(arr,low,high):\n",
    "    pivot=arr[low]\n",
    "    left=low-1\n",
    "    right=high+1\n",
    "    while(1):\n",
    "        \n",
    "        while(1):\n",
    "            left+=1\n",
    "            if arr[left]>=pivot:\n",
    "                break\n",
    "        while(1):\n",
    "            right-=1\n",
    "            if arr[right]<=pivot:\n",
    "                break\n",
    "        if(left>=right):\n",
    "            return right\n",
    "        arr[left],arr[right]=arr[right],arr[left]\n",
    "def lomuto(arr,low,high):\n",
    "    pivot=arr[high]\n",
    "    left =low-1\n",
    "    for i in range(low,high):\n",
    "        if arr[i]<=pivot:\n",
    "            left+=1\n",
    "            arr[i],arr[left]=arr[left],arr[i]\n",
    "    \n",
    "    arr[high],arr[left+1]=arr[left+1],arr[high]\n",
    "    return left\n",
    "arr=[41, 73, 73, 60, 58, 52, 46, 74, 99, 75]\n",
    "quick_sort(lomuto,arr,0,len(arr)-1)\n",
    "run_n=int(input())\n",
    "length=int(input())\n",
    "time1=time.perf_counter()\n",
    "\n",
    "\n",
    "\n",
    "for i in range(run_n):\n",
    "    arr=[r.randint(0,100)for x in range(length)]\n",
    "    quick_sort(hoare,arr,0,len(arr)-1)\n",
    "    for j in range(len(arr)-1):\n",
    "        if(arr[j]>arr[j+1]):\n",
    "            print(\"error:\",arr)\n",
    "            \n",
    "time2=time.perf_counter()\n",
    "for i in range(run_n):\n",
    "    arr=[r.randint(0,100)for x in range(length)]\n",
    "    quick_sort(lomuto,arr,0,len(arr)-1)\n",
    "    for j in range(len(arr)-1):\n",
    "        if(arr[j]>arr[j+1]):\n",
    "            print(\"error:\",arr)\n",
    "time3=time.perf_counter()\n",
    "\n",
    "print(\"lomuto:\",time3-time2)\n",
    "print(\"hoare:\",time2-time1)\n",
    "#print(arr)"
   ]
  },
  {
   "cell_type": "code",
   "execution_count": null,
   "metadata": {},
   "outputs": [],
   "source": []
  }
 ],
 "metadata": {
  "kernelspec": {
   "display_name": "Python 3",
   "language": "python",
   "name": "python3"
  },
  "language_info": {
   "codemirror_mode": {
    "name": "ipython",
    "version": 3
   },
   "file_extension": ".py",
   "mimetype": "text/x-python",
   "name": "python",
   "nbconvert_exporter": "python",
   "pygments_lexer": "ipython3",
   "version": "3.7.6"
  }
 },
 "nbformat": 4,
 "nbformat_minor": 4
}
