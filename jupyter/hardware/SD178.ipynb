{
 "cells": [
  {
   "cell_type": "code",
   "execution_count": 3,
   "metadata": {},
   "outputs": [
    {
     "name": "stdout",
     "output_type": "stream",
     "text": [
      "[[2, 20], [0, 25], [0, 40], [2, 44], [0, 51], [3, 60], ['0', 3]]\n",
      "61\n",
      "X\"B4\",X\"BC\",X\"BC\",X\"7A\",X\"A9\",X\"7E\",X\"AE\",X\"61\",X\"B1\",X\"B1\",X\"B7\",X\"C5\",X\"A8\",X\"74\",X\"B2\",X\"CE\",X\"B1\",X\"D2\",X\"B0\",X\"CA\",X\"F2\",\n",
      "X\"AB\",X\"47\",X\"AB\",X\"D7\",X\"F0\",\n",
      "X\"B0\",X\"C7\",X\"A7\",X\"4A\",X\"B4\",X\"B5\",X\"A5\",X\"42\",X\"B7\",X\"C5\",X\"AB\",X\"D7\",X\"AC\",X\"B0\",X\"F0\",\n",
      "X\"AB\",X\"D7\",X\"43\",X\"F2\",\n",
      "X\"C2\",X\"E0\",X\"B3\",X\"74\",X\"AC\",X\"B0\",X\"F0\",\n",
      "X\"AE\",X\"C9\",X\"C4\",X\"C1\",X\"B1\",X\"DB\",X\"C2\",X\"E0\",X\"F3\",\n",
      "\n",
      "61\n"
     ]
    }
   ],
   "source": [
    "x=\"智慧居家控溫系統啟動2亮度0勒克斯且溫度為0度C2轉速為0時鐘旋轉3\"\n",
    "delay=[]\n",
    "\n",
    "\n",
    "x=x.encode(\"big5\")\n",
    "long=len(x)\n",
    "gg=0\n",
    "for i in range(len(x)):\n",
    "    if x[i]>=0x30 and x[i]<=0x39 :\n",
    "        delay.append([x[i]-0x30,i])\n",
    "delay.append(['0',3])\n",
    "print(delay)\n",
    "print(len(x))\n",
    "g=0\n",
    "for i in range(len(x)):\n",
    "    if i==delay[g][1]:\n",
    "        print('X\"F',end='')\n",
    "        print(delay[g][0],end='\",\\n')\n",
    "        g+=1\n",
    "    else:\n",
    "        i=\"%X\"%(x[i])\n",
    "        i=list(i)\n",
    "        print('X\"',end='')\n",
    "        for j in i:\n",
    "            print(j,end='')\n",
    "        print('\"',end=',')\n",
    "    \n",
    "print()\n",
    "print(long)"
   ]
  },
  {
   "cell_type": "code",
   "execution_count": 123,
   "metadata": {},
   "outputs": [
    {
     "name": "stdout",
     "output_type": "stream",
     "text": [
      "b'f'\n"
     ]
    }
   ],
   "source": [
    "print(b\"%c\"%0x66)"
   ]
  }
 ],
 "metadata": {
  "kernelspec": {
   "display_name": "Python 3",
   "language": "python",
   "name": "python3"
  },
  "language_info": {
   "codemirror_mode": {
    "name": "ipython",
    "version": 3
   },
   "file_extension": ".py",
   "mimetype": "text/x-python",
   "name": "python",
   "nbconvert_exporter": "python",
   "pygments_lexer": "ipython3",
   "version": "3.7.6"
  }
 },
 "nbformat": 4,
 "nbformat_minor": 4
}
