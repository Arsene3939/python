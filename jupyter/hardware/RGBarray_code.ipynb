{
 "cells": [
  {
   "cell_type": "code",
   "execution_count": 1,
   "metadata": {},
   "outputs": [
    {
     "name": "stdout",
     "output_type": "stream",
     "text": [
      "0X49,0X49,0X49,0X4B,0X05,0X41,0X01,0X00,\n",
      "0X100410005004B004900490049\n"
     ]
    }
   ],
   "source": [
    "import turtle\n",
    "turtle.tracer(0)\n",
    "Width=8\n",
    "code=0\n",
    "LED_ARRAY=[]\n",
    "for i in range(Width):\n",
    "    LED_ARRAY.append([])\n",
    "for i in range(Width):\n",
    "    for j in range(Width):\n",
    "        LED_ARRAY[i].append(0)\n",
    "def setcuror(x,y):\n",
    "    turtle.penup()\n",
    "    turtle.goto(x,y)\n",
    "    turtle.pendown()\n",
    "def draw(x,y):\n",
    "    setcuror(-150,0)\n",
    "    turtle.circle(50)\n",
    "    global LEDA\n",
    "    global LED_ARRAY\n",
    "    global code\n",
    "    global arrcode\n",
    "    if x>0 and y>0 and x<Width*20 and y<Width*20:\n",
    "        setcuror((x//20)*20+10,(y//20)*20)\n",
    "        if  LED_ARRAY[int(x//20)][int(y//20)]:\n",
    "            turtle.color('white')\n",
    "            LED_ARRAY[int(x//20)][int(y//20)]=0\n",
    "        else:\n",
    "            turtle.color('black')\n",
    "            LED_ARRAY[int(x//20)][int(y//20)]=1\n",
    "        turtle.begin_fill()\n",
    "        turtle.circle(10)\n",
    "        turtle.end_fill()\n",
    "    elif x<-100 and x>-200 and y>0 and y<100:\n",
    "        setcuror(-500,-100)\n",
    "        turtle.clear()\n",
    "        for j in range(Width//4):\n",
    "            for b in range(4):\n",
    "                arrcode=0\n",
    "                for i in range(Width):\n",
    "                    if LED_ARRAY[i][b+4*j]:\n",
    "                        code+=1<<((b+j*4)*16+i)\n",
    "                        arrcode+=1<<(i)\n",
    "                if Width==16:\n",
    "                    print(\"%#06X\"%arrcode,end=',')\n",
    "                elif Width==8:\n",
    "                    print(\"%#04X\"%arrcode,end=',')\n",
    "        setcuror(-500,-150)\n",
    "        print()\n",
    "        print(\"%#018X\"%code)\n",
    "        for i in range(Width):\n",
    "            for j in range(Width):\n",
    "                LED_ARRAY[i][j]=0\n",
    "        code=0\n",
    "        drawArray(Width)\n",
    "def drawArray(width):\n",
    "    for i in range(width+1):\n",
    "        setcuror(0,i*20)\n",
    "        turtle.goto(width*20,i*20)\n",
    "        for i in range(width+1):\n",
    "            setcuror(i*20,0)\n",
    "            turtle.goto(i*20,width*20)\n",
    "    for i in range(width):\n",
    "        for j in range(width):\n",
    "            setcuror(i*20+10,j*20)\n",
    "            turtle.circle(10)\n",
    "drawArray(Width)\n",
    "wn=turtle.Screen()\n",
    "wn.onclick(draw)\n",
    "turtle.listen()\n",
    "turtle.mainloop()"
   ]
  },
  {
   "cell_type": "code",
   "execution_count": 25,
   "metadata": {},
   "outputs": [
    {
     "name": "stdout",
     "output_type": "stream",
     "text": [
      "0XFFFF,0X599C,0X156B,0X596D,0X556E,0XB9F9,0XFFFF,0XFFFF,0XFFFF,0XFFFF,0XB6D6,0X56AA,0X56AC,0XB4DA,0XFAF6,0XFFFE,"
     ]
    }
   ],
   "source": [
    "#--------------------------------RGB_LEDARRAY--------------------------------------------------------#\n",
    "R=[0X0000,0XA663,0XEA94,0XA692,0XAA91,0X4606,0X0000,0X0000,0X0000,0X0000,0X4929,0XA955,0XA953,0X4B25,0X0509,0X0001]\n",
    "for i in R:\n",
    "    print(\"%#06X\"%(0xFFFF-i),end=',')"
   ]
  },
  {
   "cell_type": "code",
   "execution_count": 46,
   "metadata": {},
   "outputs": [
    {
     "name": "stdout",
     "output_type": "stream",
     "text": [
      "['0X0000', '0XA663', '0XEA94', '0XA692', '0XAA91', '0X4606', '0X0000', '0X0000', '0X0000', '0X0000', '0X4929', '0XA955', '0XA953', '0X4B25', '0X0509', '0X0001']\n",
      "['0X0000', '0XA060', '0XE090', '0XA090', '0XA090', '0X4000', '0X0000', '0X0000', '0X0000', '0X0000', '0X4020', '0XA050', '0XA050', '0X4020', '0X0000', '0X0000']\n",
      "X\"000000000000\",X\"A663A0600000\",X\"EA94E0900000\",X\"A692A0900000\",X\"AA91A0900000\",X\"460640000000\",X\"000000000000\",X\"000000000000\",X\"000000000000\",X\"000000000000\",X\"492940200000\",X\"A955A0500000\",X\"A953A0500000\",X\"4B2540200000\",X\"050900000000\",X\"000100000000\","
     ]
    }
   ],
   "source": [
    "#--------------------------------RGB_LEDARRAY--------------------------------------------------------#\n",
    "R=\"0X0000,0XA663,0XEA94,0XA692,0XAA91,0X4606,0X0000,0X0000,0X0000,0X0000,0X4929,0XA955,0XA953,0X4B25,0X0509,0X0001\".split(',')\n",
    "G=\"0X0000,0X0000,0X0000,0X0000,0X0000,0X0000,0X0000,0X0000,0X0000,0X0000,0X0000,0X0000,0X0000,0X0000,0X0000,0X0000\".split(',')\n",
    "C=\"0X0000,0X0000,0X0000,0X0000,0X0000,0X0000,0X0000,0X0000,0X0000,0X0000,0X0000,0X0000,0X0000,0X0000,0X0000,0X0000\".split(',')\n",
    "\n",
    "for i in range(len(R)):\n",
    "    R[i]=list(R[i])\n",
    "    G[i]=list(G[i])\n",
    "    G[i][2]=R[i][2]\n",
    "    G[i][4]=R[i][4]\n",
    "R1=R\n",
    "G1=G\n",
    "R=[]\n",
    "G=[]\n",
    "for i in range(16):\n",
    "    C=''\n",
    "    C1=''\n",
    "    for j in range(6):\n",
    "        C+=R1[i][j]\n",
    "        C1+=G1[i][j]\n",
    "    R.append(C)\n",
    "    G.append(C1)\n",
    "print(R)\n",
    "print(G)\n",
    "B=\"0X0000,0X0000,0X0000,0X0000,0X0000,0X0000,0X0000,0X0000,0X0000,0X0000,0X0000,0X0000,0X0000,0X0000,0X0000,0X0000\".split(',')\n",
    "for i in range(len(R)):\n",
    "    print(\"X\\\"\"+R[i][2:]+G[i][2:]+B[i][2:],end='\\\",')"
   ]
  },
  {
   "cell_type": "code",
   "execution_count": 20,
   "metadata": {},
   "outputs": [
    {
     "name": "stdout",
     "output_type": "stream",
     "text": [
      "0X7C,0X20,0X10,0X08,0X04,0X44,0X44,0X38,\n",
      "0X83,0XDF,0XEF,0XF7,0XFB,0XBB,0XBB,0XC7,"
     ]
    }
   ],
   "source": [
    "#--------------------------------DUAL_LEDARRAY--------------------------------------------------------#\n",
    "0X7C,0X20,0X10,0X08,0X04,0X44,0X44,0X38\n",
    "R=[0X3E,0X04,0X08,0X10,0X20,0X22,0X22,0X1C]\n",
    "RR=[]\n",
    "for i in range(8):\n",
    "    RR.append([])\n",
    "    for j in range(8):\n",
    "        if R[i]&1<<j:\n",
    "            RR[i].append(1)\n",
    "        else:\n",
    "            RR[i].append(0)\n",
    "for i in range(8):\n",
    "    R[i]=0\n",
    "    for j in range(8):\n",
    "        R[i]+=(RR[i][7-j]<<j)\n",
    "for i in R:\n",
    "    print(\"%#04X\"%(i),end=',')\n",
    "print()\n",
    "for i in R:\n",
    "    print(\"%#04X\"%(0xFF-i),end=',')"
   ]
  },
  {
   "cell_type": "code",
   "execution_count": 21,
   "metadata": {},
   "outputs": [
    {
     "name": "stdout",
     "output_type": "stream",
     "text": [
      "X\"7C83\",X\"20DF\",X\"10EF\",X\"08F7\",X\"04FB\",X\"44BB\",X\"44BB\",X\"38C7\","
     ]
    }
   ],
   "source": [
    "#--------------------------------RGB_LEDARRAY--------------------------------------------------------#\n",
    "R=\"0X7C,0X20,0X10,0X08,0X04,0X44,0X44,0X38\".split(',')\n",
    "G=\"0X83,0XDF,0XEF,0XF7,0XFB,0XBB,0XBB,0XC7\".split(',')\n",
    "for i in range(len(R)):\n",
    "    print(\"X\\\"\"+R[i][2:]+G[i][2:],end='\\\",')"
   ]
  },
  {
   "cell_type": "code",
   "execution_count": 2,
   "metadata": {},
   "outputs": [
    {
     "name": "stdout",
     "output_type": "stream",
     "text": [
      "0X00,0X00,0X8244,0X4422,0X4812,0X00,0XFC3E,0X8422,0XFC22,0X22,0X983E,0X4422,0X2422,0X2422,0XFC3E,0X00,"
     ]
    }
   ],
   "source": []
  }
 ],
 "metadata": {
  "kernelspec": {
   "display_name": "Python 3",
   "language": "python",
   "name": "python3"
  },
  "language_info": {
   "codemirror_mode": {
    "name": "ipython",
    "version": 3
   },
   "file_extension": ".py",
   "mimetype": "text/x-python",
   "name": "python",
   "nbconvert_exporter": "python",
   "pygments_lexer": "ipython3",
   "version": "3.7.6"
  }
 },
 "nbformat": 4,
 "nbformat_minor": 4
}
