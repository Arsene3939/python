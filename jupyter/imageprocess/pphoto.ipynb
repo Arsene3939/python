{
 "cells": [
  {
   "cell_type": "code",
   "execution_count": null,
   "metadata": {
    "scrolled": false
   },
   "outputs": [],
   "source": [
    "import matplotlib.pyplot as plt #0 to 2,1 to 1\n",
    "import numpy as np\n",
    "%matplotlib nbagg\n",
    "img=plt.imread('0.png')\n",
    "fig,ax=plt.subplots(nrows=1,ncols=1,figsize=(160,90))\n",
    "img=np.array(img)\n",
    "select=[[0.3,0.48],[0.20,0.4],[0.22,0.38],[0,0]]\n",
    "select=np.array(select)\n",
    "def c(per,axi):\n",
    "    if axi=='y' or axi=='Y':\n",
    "        return int(len(img)*per/100)\n",
    "    if axi=='x' or axi=='X':\n",
    "        return int(len(img[0])*per/100)\n",
    "convertimg=img#[c(93,'y'):c(100,'y'),c(0,'x'):c(30,'x'),:]\n",
    "# ax.imshow(convertimg)\n",
    "result=0\n",
    "\"\"\"for i in range(len(convertimg[0][0])):\n",
    "    for x in range(len(convertimg)):\n",
    "        for y in range(len(convertimg[0])):\n",
    "            if convertimg[x][y][i]>select[i][0] and convertimg[x][y][i]<select[i][1]:\n",
    "                convertimg[x][y][i]=result\n",
    "            else :\n",
    "                result=convertimg[x][y][i]\"\"\""
   ]
  },
  {
   "cell_type": "code",
   "execution_count": null,
   "metadata": {},
   "outputs": [],
   "source": [
    "import matplotlib.pyplot as plt #0 to 2,1 to 1\n",
    "import numpy as np\n",
    "import matplotlib.animation as animation\n",
    "%matplotlib nbagg\n",
    "img=plt.imread('0_0.jpg')\n",
    "print(np.shape(img))\n",
    "a=np.full([2,2,3],0)\n",
    "fig,ax=plt.subplots(figsize=(5,5))\n",
    "dat=ax.imshow(a)\n",
    "def anim(i):\n",
    "    a[(i>>7)&1][(i>>6)&1][i>>8]=(i&63)*4\n",
    "    dat.set_data(a)\n",
    "    return dat\n",
    "anime=animation.FuncAnimation(fig,anim,frames=0x2FF,interval=1)\n",
    "##############################################10 11 111111"
   ]
  },
  {
   "cell_type": "code",
   "execution_count": null,
   "metadata": {},
   "outputs": [],
   "source": []
  }
 ],
 "metadata": {
  "kernelspec": {
   "display_name": "Python 3",
   "language": "python",
   "name": "python3"
  },
  "language_info": {
   "codemirror_mode": {
    "name": "ipython",
    "version": 3
   },
   "file_extension": ".py",
   "mimetype": "text/x-python",
   "name": "python",
   "nbconvert_exporter": "python",
   "pygments_lexer": "ipython3",
   "version": "3.11.5"
  }
 },
 "nbformat": 4,
 "nbformat_minor": 4
}
