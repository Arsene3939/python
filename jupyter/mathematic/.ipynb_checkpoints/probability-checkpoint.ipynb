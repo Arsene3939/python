{
 "cells": [
  {
   "cell_type": "code",
   "execution_count": 8,
   "metadata": {},
   "outputs": [
    {
     "name": "stdout",
     "output_type": "stream",
     "text": [
      "0.125 -0.5\n",
      "1.6875\n",
      "1.6875\n"
     ]
    }
   ],
   "source": [
    "def e(v,f):\n",
    "    res=0\n",
    "    for i in range(len(v)):\n",
    "        res+=v[i]*f[i]\n",
    "    return res\n",
    "def variance(v,f):\n",
    "    uv=e(v,f)\n",
    "    res=0\n",
    "    for i in range(len(v)):\n",
    "        res+=f[i]*(v[i]-ux)**2\n",
    "    return res\n",
    "x=[-1,-0.5,0.5,1]\n",
    "y=[-8,-1,1,2]\n",
    "fxy=[1/8,1/4,1/2,1/8]\n",
    "ux=e(x,fxy)\n",
    "uy=e(y,fxy)\n",
    "print(ux,uy)\n",
    "\n",
    "cov=0\n",
    "for i in range(len(x)):\n",
    "    for j in range(len(y)):\n",
    "        if(i==j):\n",
    "            cov+=(x[i]-ux)*(y[j]-uy)*fxy[i]\n",
    "\n",
    "print(cov)\n",
    "E=0\n",
    "for i in range(len(x)):\n",
    "    for j in range(len(y)):\n",
    "        if(i==j):\n",
    "            E+=x[i]*y[j]*fxy[i]\n",
    "print(E-ux*uy)"
   ]
  }
 ],
 "metadata": {
  "kernelspec": {
   "display_name": "Python 3",
   "language": "python",
   "name": "python3"
  },
  "language_info": {
   "codemirror_mode": {
    "name": "ipython",
    "version": 3
   },
   "file_extension": ".py",
   "mimetype": "text/x-python",
   "name": "python",
   "nbconvert_exporter": "python",
   "pygments_lexer": "ipython3",
   "version": "3.7.6"
  }
 },
 "nbformat": 4,
 "nbformat_minor": 4
}
