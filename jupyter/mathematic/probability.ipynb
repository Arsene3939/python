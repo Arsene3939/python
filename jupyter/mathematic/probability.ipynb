{
 "cells": [
  {
   "cell_type": "code",
   "execution_count": 7,
   "metadata": {},
   "outputs": [
    {
     "name": "stdout",
     "output_type": "stream",
     "text": [
      "0.125 -0.5\n",
      "1.6875\n",
      "1.6875\n",
      "vx,vy= 0.421875 9.0\n",
      "0.421875,9.0\n",
      "correlation= 0.8660254037844386\n"
     ]
    }
   ],
   "source": [
    "def e(v,f):\n",
    "    res=0\n",
    "    for i in range(len(v)):\n",
    "        res+=v[i]*f[i]\n",
    "    return res\n",
    "def variance(v,f):\n",
    "    uv=e(v,f)\n",
    "    res=0\n",
    "    for i in range(len(v)):\n",
    "        res+=f[i]*(v[i]-uv)**2\n",
    "    return res\n",
    "x=[-1,-0.5,0.5,1]\n",
    "y=[-8,-1,1,2]\n",
    "fxy=[1/8,1/4,1/2,1/8]\n",
    "ux=e(x,fxy)\n",
    "uy=e(y,fxy)\n",
    "print(ux,uy)\n",
    "vx=variance(x,fxy)\n",
    "vy=variance(y,fxy)\n",
    "cov=0\n",
    "for i in range(len(x)):\n",
    "    for j in range(len(y)):\n",
    "        if(i==j):\n",
    "            cov+=(x[i]-ux)*(y[j]-uy)*fxy[i]\n",
    "\n",
    "print(cov)\n",
    "E=0\n",
    "for i in range(len(x)):\n",
    "    for j in range(len(y)):\n",
    "        if(i==j):\n",
    "            E+=x[i]*y[j]*fxy[i]\n",
    "print(E-ux*uy)\n",
    "sigx=vx**0.5\n",
    "sigy=vy**0.5\n",
    "\n",
    "print(\"vx,vy=\",vx,vy)\n",
    "print(e([i**2 for i in x],fxy)-e(x,fxy)**2,end=',')\n",
    "print(e([i**2 for i in y],fxy)-e(y,fxy)**2)\n",
    "print(\"correlation=\",cov/(sigx*sigy))"
   ]
  },
  {
   "cell_type": "code",
   "execution_count": 8,
   "metadata": {},
   "outputs": [
    {
     "data": {
      "text/plain": [
       "0.609375"
      ]
     },
     "execution_count": 8,
     "metadata": {},
     "output_type": "execute_result"
    }
   ],
   "source": [
    "def e(v,f):\n",
    "    res=0\n",
    "    for i in range(len(v)):\n",
    "        res+=v[i]*f[i]\n",
    "    return res\n",
    "def variance(v,f):\n",
    "    uv=e(v,f)\n",
    "    res=0\n",
    "    for i in range(len(v)):\n",
    "        res+=f[i]*(v[i]-uv)**2\n",
    "    return res\n",
    "x=[0,0,1,1,2]\n",
    "y=[0,1,0,1,2]\n",
    "fxy=[1/4,1/8,1/8,1/4,1/4]\n",
    "variance(y,fxy)"
   ]
  },
  {
   "cell_type": "code",
   "execution_count": 17,
   "metadata": {},
   "outputs": [
    {
     "name": "stdout",
     "output_type": "stream",
     "text": [
      "0.36787944117144233\n",
      "0.1353352832366127\n",
      "0.950212931632136\n",
      "23.025850929940454\n"
     ]
    }
   ],
   "source": [
    "import math\n",
    "print(math.exp(-1))\n",
    "print(math.exp(-2))\n",
    "print(1-math.exp(-3))\n",
    "print(-10*math.log(0.1))"
   ]
  }
 ],
 "metadata": {
  "kernelspec": {
   "display_name": "Python 3",
   "language": "python",
   "name": "python3"
  },
  "language_info": {
   "codemirror_mode": {
    "name": "ipython",
    "version": 3
   },
   "file_extension": ".py",
   "mimetype": "text/x-python",
   "name": "python",
   "nbconvert_exporter": "python",
   "pygments_lexer": "ipython3",
   "version": "3.7.6"
  }
 },
 "nbformat": 4,
 "nbformat_minor": 4
}
