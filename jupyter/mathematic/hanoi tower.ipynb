{
 "cells": [
  {
   "cell_type": "code",
   "execution_count": 23,
   "metadata": {},
   "outputs": [
    {
     "name": "stdout",
     "output_type": "stream",
     "text": [
      "move plate1 from pole A to pole C\n",
      "move plate2 from pole A to pole B\n",
      "move plate1 from pole C to pole B\n",
      "move plate3 from pole A to pole C\n",
      "move plate1 from pole B to pole A\n",
      "move plate2 from pole B to pole C\n",
      "move plate1 from pole A to pole C\n",
      "move plate4 from pole A to pole B\n",
      "move plate1 from pole C to pole B\n",
      "move plate2 from pole C to pole A\n",
      "move plate1 from pole B to pole A\n",
      "move plate3 from pole C to pole B\n",
      "move plate1 from pole A to pole C\n",
      "move plate2 from pole A to pole B\n",
      "move plate1 from pole C to pole B\n",
      "move plate5 from pole A to pole C\n",
      "move plate1 from pole B to pole A\n",
      "move plate2 from pole B to pole C\n",
      "move plate1 from pole A to pole C\n",
      "move plate3 from pole B to pole A\n",
      "move plate1 from pole C to pole B\n",
      "move plate2 from pole C to pole A\n",
      "move plate1 from pole B to pole A\n",
      "move plate4 from pole B to pole C\n",
      "move plate1 from pole A to pole C\n",
      "move plate2 from pole A to pole B\n",
      "move plate1 from pole C to pole B\n",
      "move plate3 from pole A to pole C\n",
      "move plate1 from pole B to pole A\n",
      "move plate2 from pole B to pole C\n",
      "move plate1 from pole A to pole C\n"
     ]
    }
   ],
   "source": [
    "def ht(n,a='A',b='B',c='C'):\n",
    "    if n==1:\n",
    "        print(\"move plate%d from pole %s to pole %s\"%(n,a,c))\n",
    "        return\n",
    "    ht(n-1,a,c,b)\n",
    "    print(\"move plate%d from pole %s to pole %s\"%(n,a,c))\n",
    "    ht(n-1,b,a,c)\n",
    "ht(5)"
   ]
  },
  {
   "cell_type": "code",
   "execution_count": 4,
   "metadata": {},
   "outputs": [
    {
     "data": {
      "text/plain": [
       "1"
      ]
     },
     "execution_count": 4,
     "metadata": {},
     "output_type": "execute_result"
    }
   ],
   "source": []
  }
 ],
 "metadata": {
  "kernelspec": {
   "display_name": "Python 3",
   "language": "python",
   "name": "python3"
  },
  "language_info": {
   "codemirror_mode": {
    "name": "ipython",
    "version": 3
   },
   "file_extension": ".py",
   "mimetype": "text/x-python",
   "name": "python",
   "nbconvert_exporter": "python",
   "pygments_lexer": "ipython3",
   "version": "3.7.6"
  }
 },
 "nbformat": 4,
 "nbformat_minor": 4
}
