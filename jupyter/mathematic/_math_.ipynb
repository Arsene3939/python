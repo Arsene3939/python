{
 "cells": [
  {
   "cell_type": "code",
   "execution_count": 5,
   "metadata": {},
   "outputs": [
    {
     "data": {
      "text/plain": [
       "[<matplotlib.lines.Line2D at 0x2a9bd2761c8>]"
      ]
     },
     "execution_count": 5,
     "metadata": {},
     "output_type": "execute_result"
    },
    {
     "data": {
      "image/png": "[encoded data removed]",
      "text/plain": [
       "<Figure size 360x360 with 1 Axes>"
      ]
     },
     "metadata": {
      "needs_background": "light"
     },
     "output_type": "display_data"
    }
   ],
   "source": [
    "import matplotlib.pyplot as plt\n",
    "import numpy as np\n",
    "fig,ax=plt.subplots(figsize=(5,5))\n",
    "r=1\n",
    "def f(x):\n",
    "    return (1-x)**0.5\n",
    "n=6\n",
    "x=np.linspace(-r,r,1000)\n",
    "\n",
    "y=[f(i) for i in x]\n",
    "plt.plot(x,y,color='blue')\n",
    "# for i in linex:\n",
    "#     plt.annotate(\"(%.2f,%.2f)\"%(i,f(i)),xy=(i,f(i)),ha='center')\n",
    "#     plt.plot([i,i],[0,f(i)],color='blue')\n",
    "# print(2*np.pi*sum([f(linex[i])*((linex[i]-linex[i+1])**2+(f(linex[i])-f(linex[i+1]))**2)**0.5 for i in range(len(linex[0:-1]))]))\n",
    "\n",
    "# 4*np.pi*r**2"
   ]
  },
  {
   "cell_type": "code",
   "execution_count": 15,
   "metadata": {},
   "outputs": [
    {
     "data": {
      "text/plain": [
       "[<matplotlib.lines.Line2D at 0x18cd8364e88>]"
      ]
     },
     "execution_count": 15,
     "metadata": {},
     "output_type": "execute_result"
    },
    {
     "data": {
      "image/png": "[encoded data removed]",
      "text/plain": [
       "<Figure size 360x360 with 1 Axes>"
      ]
     },
     "metadata": {
      "needs_background": "light"
     },
     "output_type": "display_data"
    }
   ],
   "source": [
    "y=[\n",
    "-13,\n",
    "-12.9998,\n",
    "-12.9995,\n",
    "-12.999,\n",
    "-12.9983,\n",
    "-12.9975,\n",
    "-12.9964,\n",
    "-12.9951,\n",
    "-12.9936,\n",
    "-12.9919,\n",
    "-12.99,\n",
    "-12.9879,\n",
    "-12.9856,\n",
    "-12.9831,\n",
    "-12.9803,\n",
    "-12.9774,\n",
    "-12.9743,\n",
    "-12.971,\n",
    "-12.9674,\n",
    "-12.9636,\n",
    "-12.9596,\n",
    "-12.9552,\n",
    "-12.9506,\n",
    "-12.9454,\n",
    "-12.9396,\n",
    "-12.9326,\n",
    "-12.9238,\n",
    "-12.9117,\n",
    "-12.8935,\n",
    "-12.8632,\n",
    "-12.8094,\n",
    "-12.708,\n",
    "-12.5085,\n",
    "-12.1037,\n",
    "-11.2619,\n",
    "-9.47458,\n",
    "-5.60941,\n",
    "2.89243,\n",
    "21.8967,\n",
    "65.041,\n",
    "164.476,\n",
    "397.035,\n",
    "948.817,\n",
    "2276.55,\n",
    "5515.79,\n",
    "13526,\n",
    "33598.7,\n",
    "84557,\n",
    "215587,\n",
    "556759,\n",
    "1.4561e+06,\n",
    "3.85563e+06,\n",
    "1.03344e+07,\n",
    "2.80327e+07,\n",
    "7.69387e+07,\n",
    "2.13617e+08,\n",
    "5.9986e+08,\n",
    "1.70336e+09,\n",
    "4.89017e+09,\n",
    "1.41914e+10,\n",
    "4.16233e+10,\n",
    "1.23362e+11,\n",
    "3.69399e+11,\n",
    "1.11739e+12,\n",
    "3.41387e+12,\n",
    "1.0533e+13,\n",
    "3.28145e+13,\n",
    "1.0321e+14,\n",
    "3.27689e+14,\n",
    "1.0501e+15,\n",
    "3.39602e+15,\n",
    "1.10822e+16,\n",
    "3.6488e+16,\n",
    "1.21195e+17,\n",
    "4.06055e+17,\n",
    "1.37214e+18,\n",
    "4.67608e+18,\n",
    "1.60688e+19,\n",
    "5.56755e+19,\n",
    "1.9448e+20,\n",
    "6.84819e+20,\n",
    "2.43066e+21,\n",
    "8.69517e+21,\n",
    "3.13472e+22,\n",
    "1.1388e+23,\n",
    "4.16854e+23,\n",
    "1.53735e+24,\n",
    "5.71188e+24,\n",
    "2.13778e+25,\n",
    "8.05924e+25,\n",
    "3.0601e+26,\n",
    "1.17018e+27,\n",
    "4.50627e+27,\n",
    "1.74741e+28,\n",
    "6.82265e+28,\n",
    "2.68202e+29,\n",
    "1.06143e+30,\n",
    "4.22878e+30,\n",
    "1.6959e+31,\n",
    "6.84572e+31,\n",
    "2.78128e+32,\n",
    "]\n",
    "import matplotlib.pyplot as plt\n",
    "import numpy as np\n",
    "fig,ax=plt.subplots(figsize=(5,5))\n",
    "x=np.linspace(0,3,101)\n",
    "plt.plot(x,y,color='blue')"
   ]
  },
  {
   "cell_type": "code",
   "execution_count": null,
   "metadata": {},
   "outputs": [],
   "source": []
  }
 ],
 "metadata": {
  "kernelspec": {
   "display_name": "Python 3",
   "language": "python",
   "name": "python3"
  },
  "language_info": {
   "codemirror_mode": {
    "name": "ipython",
    "version": 3
   },
   "file_extension": ".py",
   "mimetype": "text/x-python",
   "name": "python",
   "nbconvert_exporter": "python",
   "pygments_lexer": "ipython3",
   "version": "3.7.6"
  }
 },
 "nbformat": 4,
 "nbformat_minor": 4
}
