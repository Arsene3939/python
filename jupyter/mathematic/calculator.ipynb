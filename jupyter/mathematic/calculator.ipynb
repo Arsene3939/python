{
 "cells": [
  {
   "cell_type": "code",
   "execution_count": null,
   "metadata": {},
   "outputs": [
    {
     "name": "stdout",
     "output_type": "stream",
     "text": [
      "1\n",
      "=>1\n",
      "1+1\n",
      "=>2\n",
      "log(2,8)\n",
      "=>0.33333333333333337\n",
      "log(8,2)\n",
      "=>3.0\n",
      "log(2.718281828459045)\n",
      "=>1.0\n"
     ]
    }
   ],
   "source": [
    "from math import *\n",
    "while(1):\n",
    "    try:\n",
    "        x=input()+' '\n",
    "        eval(x)\n",
    "    except Exception as e:\n",
    "        if x in [\"leave\",\"break\",\"shutdown\",\"close\",\"out\",\"over\",\"end\"]:\n",
    "            break\n",
    "        print()\n",
    "        print(\"wrong input\")\n",
    "        print(\"Error: \",end='')\n",
    "        print(e)\n",
    "        input()\n",
    "    print(\"=>  \",end='')\n",
    "    print(eval(x))"
   ]
  },
  {
   "cell_type": "code",
   "execution_count": null,
   "metadata": {},
   "outputs": [],
   "source": []
  }
 ],
 "metadata": {
  "kernelspec": {
   "display_name": "Python 3",
   "language": "python",
   "name": "python3"
  },
  "language_info": {
   "codemirror_mode": {
    "name": "ipython",
    "version": 3
   },
   "file_extension": ".py",
   "mimetype": "text/x-python",
   "name": "python",
   "nbconvert_exporter": "python",
   "pygments_lexer": "ipython3",
   "version": "3.7.6"
  }
 },
 "nbformat": 4,
 "nbformat_minor": 4
}
