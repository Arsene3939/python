{
 "cells": [
  {
   "cell_type": "code",
   "execution_count": 4,
   "metadata": {},
   "outputs": [
    {
     "ename": "SystemExit",
     "evalue": "",
     "output_type": "error",
     "traceback": [
      "An exception has occurred, use %tb to see the full traceback.\n",
      "\u001b[1;31mSystemExit\u001b[0m\n"
     ]
    },
    {
     "name": "stderr",
     "output_type": "stream",
     "text": [
      "D:\\anaconda\\lib\\site-packages\\IPython\\core\\interactiveshell.py:3339: UserWarning: To exit: use 'exit', 'quit', or Ctrl-D.\n",
      "  warn(\"To exit: use 'exit', 'quit', or Ctrl-D.\", stacklevel=1)\n"
     ]
    }
   ],
   "source": [
    "import sys\n",
    "\n",
    "import pygame\n",
    "from pygame.locals import QUIT\n",
    "\n",
    "# 初始化\n",
    "pygame.init()\n",
    "# 建立 window 視窗畫布，大小為 800x600\n",
    "pt = pygame.display.set_mode((1366,768),pygame.RESIZABLE)\n",
    "# 設置視窗標題為 Hello World:)\n",
    "pygame.display.set_caption('Hello World:)')\n",
    "# 清除畫面並填滿背景色\n",
    "pt.fill((255, 255, 255))\n",
    "\n",
    "pygame.mixer.music.load(\"D://_self_/Music//アンドロイドガール/02 アンドロイドガール.flac\")\n",
    "pygame.mixer.music.play(0,180)\n",
    "\n",
    "# 宣告 font 文字物件\n",
    "head_font = pygame.font.SysFont(None, 60)\n",
    "# 渲染方法會回傳 surface 物件\n",
    "text_surface = head_font.render('Hello World!', True, (0, 0, 0))\n",
    "# blit 用來把其他元素渲染到另外一個 surface 上，這邊是 window 視窗\n",
    "pt.blit(text_surface, (10, 10))\n",
    "\n",
    "# 更新畫面，等所有操作完成後一次更新（若沒更新，則元素不會出現）\n",
    "pygame.display.update()\n",
    "\n",
    "# 事件迴圈監聽事件，進行事件處理\n",
    "while True:\n",
    "    # 迭代整個事件迴圈，若有符合事件則對應處理\n",
    "    for event in pygame.event.get():\n",
    "        # 當使用者結束視窗，程式也結束\n",
    "        if event.type == QUIT:\n",
    "            pygame.quit()\n",
    "            sys.exit()\n",
    "        if event.type==pygame.MOUSEBUTTONDOWN:\n",
    "            pygame.mixer.music.play(0,180)"
   ]
  },
  {
   "cell_type": "code",
   "execution_count": 2,
   "metadata": {},
   "outputs": [
    {
     "ename": "TypeError",
     "evalue": "a() missing 1 required positional argument: 's'",
     "output_type": "error",
     "traceback": [
      "\u001b[1;31m---------------------------------------------------------------------------\u001b[0m",
      "\u001b[1;31mTypeError\u001b[0m                                 Traceback (most recent call last)",
      "\u001b[1;32m<ipython-input-2-4607c867533a>\u001b[0m in \u001b[0;36m<module>\u001b[1;34m\u001b[0m\n\u001b[0;32m      3\u001b[0m \u001b[1;32mdef\u001b[0m \u001b[0ma\u001b[0m\u001b[1;33m(\u001b[0m\u001b[0ms\u001b[0m\u001b[1;33m)\u001b[0m\u001b[1;33m:\u001b[0m\u001b[1;33m\u001b[0m\u001b[1;33m\u001b[0m\u001b[0m\n\u001b[0;32m      4\u001b[0m     \u001b[0mprint\u001b[0m\u001b[1;33m(\u001b[0m\u001b[1;34m\"ss\"\u001b[0m\u001b[1;33m)\u001b[0m\u001b[1;33m\u001b[0m\u001b[1;33m\u001b[0m\u001b[0m\n\u001b[1;32m----> 5\u001b[1;33m \u001b[0ma\u001b[0m\u001b[1;33m(\u001b[0m\u001b[1;33m)\u001b[0m\u001b[1;33m\u001b[0m\u001b[1;33m\u001b[0m\u001b[0m\n\u001b[0m",
      "\u001b[1;31mTypeError\u001b[0m: a() missing 1 required positional argument: 's'"
     ]
    }
   ],
   "source": [
    "def a():\n",
    "    print(\"s\")\n",
    "def a(s):\n",
    "    print(\"ss\")\n",
    "a()"
   ]
  }
 ],
 "metadata": {
  "kernelspec": {
   "display_name": "Python 3",
   "language": "python",
   "name": "python3"
  },
  "language_info": {
   "codemirror_mode": {
    "name": "ipython",
    "version": 3
   },
   "file_extension": ".py",
   "mimetype": "text/x-python",
   "name": "python",
   "nbconvert_exporter": "python",
   "pygments_lexer": "ipython3",
   "version": "3.7.6"
  }
 },
 "nbformat": 4,
 "nbformat_minor": 4
}
