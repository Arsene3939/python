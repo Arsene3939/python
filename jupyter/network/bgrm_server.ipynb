{
 "cells": [
  {
   "cell_type": "code",
   "execution_count": null,
   "metadata": {},
   "outputs": [
    {
     "name": "stdout",
     "output_type": "stream",
     "text": [
      "The server is ready to receive\n",
      "['128', '160', '2', '2', '2', '2', '2', '2', '2', '2', '2']\n",
      "low=2 up=2 inout=out\n",
      "low=2 up=2 inout=out\n",
      "low=2 up=2 inout=out\n"
     ]
    }
   ],
   "source": [
    "from socket import *\n",
    "import numpy as np\n",
    "import matplotlib.pyplot as plt\n",
    "fig,ax=plt.subplots(figsize=(8,8))\n",
    "serverPort = 12000\n",
    "serverSocket = socket(AF_INET, SOCK_DGRAM)\n",
    "serverSocket.bind(('192.168.1.108', serverPort))\n",
    "print (\"The server is ready to receive\")\n",
    "class colorrange:\n",
    "    def __init__(self,low,up,inout):\n",
    "        self.up=up\n",
    "        self.low=low\n",
    "        self.inout=inout\n",
    "def bgrm(img,cvar):\n",
    "    progress=0\n",
    "    cont=np.array(img)\n",
    "    if len(img[0][0])!=4:\n",
    "        cont=cont/255\n",
    "        conta=np.ones((len(img),len(img[0]),1))\n",
    "        cont=np.concatenate((cont,conta),axis=2)\n",
    "    for x in range(len(cont)):\n",
    "        for y in range(len(cont[0])):\n",
    "            flag=1\n",
    "            for i in range(3):\n",
    "                if(cvar[i].inout==0):\n",
    "                    if not((cvar[i].low/255<=cont[x][y][i] and cont[x][y][i]<=cvar[i].up/255)):\n",
    "                        flag=0\n",
    "                else:\n",
    "                    if not((cont[x][y][i]<=cvar[i].low/255 or cvar[i].up/255<=cont[x][y][i])):\n",
    "                        flag=0\n",
    "            if flag:\n",
    "                cont[x][y][3]=0\n",
    "                cont[x][y][0:3]=[0,0,1]\n",
    "        if (x*100//len(cont)!=(progress//len(cont))):\n",
    "            pass\n",
    "            #print(x*100//len(cont)+1,\"/100\")\n",
    "        progress+=1\n",
    "    return cont\n",
    "def receiveimg(serverSocket):\n",
    "    header, clientAddress=serverSocket.recvfrom(2048)\n",
    "    header=header.decode().split()\n",
    "    print(header)\n",
    "    height=int(header[0])\n",
    "    width=int(header[1])\n",
    "    cvar=[]\n",
    "    for i in range(3):\n",
    "        cvar.append(colorrange(int(header[i*3+2]),int(header[i*3+3]),bool(int(header[i*3+4]))))\n",
    "    for i in range(3):\n",
    "        print(\"low=%d\"%cvar[i].low,\"up=%d\"%cvar[i].up,\"inout=\"+(\"out\" if cvar[i].inout else \"in\"))\n",
    "    img=np.zeros((height, width,3),dtype=np.uint8)\n",
    "    for y in range(height):\n",
    "        for x in range(width):\n",
    "            pix,clientAddress=serverSocket.recvfrom(2048)\n",
    "            pix=pix.decode()\n",
    "            img[y][x][:]=[ord(pix[0]),ord(pix[1]),ord(pix[2])]\n",
    "    return img,cvar\n",
    "def sendimg(serverSocket,clientAddress,img):\n",
    "    height=len(img)\n",
    "    width=len(img[0])\n",
    "    header=str(height)+\" \"+str(width)\n",
    "    serverSocket.sendto(header.encode(),clientAddress)\n",
    "    for y in range(height):\n",
    "        for x in range(width):\n",
    "            serverSocket.sendto((chr(int(img[y][x][0]*255))+chr(int(img[y][x][1]*255))+chr(int(img[y][x][2]*255))+chr(int(img[y][x][3]*255))).encode(),clientAddress)\n",
    "while True:\n",
    "    message, clientAddress = serverSocket.recvfrom(2048)\n",
    "    if(message.decode()==\"start\"):\n",
    "        img,cvar=receiveimg(serverSocket)\n",
    "        img=bgrm(img,cvar)\n",
    "        sendimg(serverSocket,clientAddress,img)\n",
    "        #plt.imsave(\"receive.jpg\",img)\n",
    "        \n",
    "        print(\"finish\")\n"
   ]
  },
  {
   "cell_type": "code",
   "execution_count": 1,
   "metadata": {},
   "outputs": [
    {
     "name": "stdout",
     "output_type": "stream",
     "text": [
      "The server is ready to receive\n"
     ]
    },
    {
     "ename": "TypeError",
     "evalue": "ord() expected a character, but string of length 3 found",
     "output_type": "error",
     "traceback": [
      "\u001b[1;31m---------------------------------------------------------------------------\u001b[0m",
      "\u001b[1;31mTypeError\u001b[0m                                 Traceback (most recent call last)",
      "\u001b[1;32m<ipython-input-1-7bbb74e8e263>\u001b[0m in \u001b[0;36m<module>\u001b[1;34m\u001b[0m\n\u001b[0;32m      6\u001b[0m \u001b[1;32mwhile\u001b[0m \u001b[1;32mTrue\u001b[0m\u001b[1;33m:\u001b[0m\u001b[1;33m\u001b[0m\u001b[1;33m\u001b[0m\u001b[0m\n\u001b[0;32m      7\u001b[0m     \u001b[0mmessage\u001b[0m\u001b[1;33m,\u001b[0m \u001b[0mclientAddress\u001b[0m \u001b[1;33m=\u001b[0m \u001b[0mserverSocket\u001b[0m\u001b[1;33m.\u001b[0m\u001b[0mrecvfrom\u001b[0m\u001b[1;33m(\u001b[0m\u001b[1;36m2048\u001b[0m\u001b[1;33m)\u001b[0m\u001b[1;33m\u001b[0m\u001b[1;33m\u001b[0m\u001b[0m\n\u001b[1;32m----> 8\u001b[1;33m     \u001b[0mprint\u001b[0m\u001b[1;33m(\u001b[0m\u001b[0mord\u001b[0m\u001b[1;33m(\u001b[0m\u001b[0mmessage\u001b[0m\u001b[1;33m.\u001b[0m\u001b[0mdecode\u001b[0m\u001b[1;33m(\u001b[0m\u001b[1;33m)\u001b[0m\u001b[1;33m)\u001b[0m\u001b[1;33m)\u001b[0m\u001b[1;33m\u001b[0m\u001b[1;33m\u001b[0m\u001b[0m\n\u001b[0m",
      "\u001b[1;31mTypeError\u001b[0m: ord() expected a character, but string of length 3 found"
     ]
    }
   ],
   "source": [
    "from socket import *\n",
    "serverPort = 12000\n",
    "serverSocket = socket(AF_INET, SOCK_DGRAM)\n",
    "serverSocket.bind(('192.168.1.108', serverPort))\n",
    "print (\"The server is ready to receive\")\n",
    "while True:\n",
    "    message, clientAddress = serverSocket.recvfrom(2048)\n",
    "    print(message.decode())"
   ]
  }
 ],
 "metadata": {
  "kernelspec": {
   "display_name": "Python 3",
   "language": "python",
   "name": "python3"
  },
  "language_info": {
   "codemirror_mode": {
    "name": "ipython",
    "version": 3
   },
   "file_extension": ".py",
   "mimetype": "text/x-python",
   "name": "python",
   "nbconvert_exporter": "python",
   "pygments_lexer": "ipython3",
   "version": "3.7.6"
  }
 },
 "nbformat": 4,
 "nbformat_minor": 4
}
