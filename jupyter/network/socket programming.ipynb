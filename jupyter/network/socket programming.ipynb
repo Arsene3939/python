{
 "cells": [
  {
   "cell_type": "markdown",
   "metadata": {},
   "source": [
    "# server end"
   ]
  },
  {
   "cell_type": "code",
   "execution_count": null,
   "metadata": {},
   "outputs": [
    {
     "name": "stdout",
     "output_type": "stream",
     "text": [
      "The server is ready to receive\n",
      "AA\n"
     ]
    }
   ],
   "source": [
    "from socket import *\n",
    "serverPort = 12000\n",
    "serverSocket = socket(AF_INET, SOCK_DGRAM)\n",
    "serverSocket.bind(('192.168.1.108', serverPort))\n",
    "print (\"The server is ready to receive\")\n",
    "while True:\n",
    "    message, clientAddress = serverSocket.recvfrom(2048)\n",
    "    modifiedMessage = message.decode().upper()\n",
    "    print(modifiedMessage)\n",
    "    serverSocket.sendto(modifiedMessage.encode(),clientAddress)"
   ]
  },
  {
   "cell_type": "markdown",
   "metadata": {},
   "source": [
    "# client end"
   ]
  },
  {
   "cell_type": "code",
   "execution_count": null,
   "metadata": {},
   "outputs": [],
   "source": [
    "from socket import *\n",
    "serverName = '192.168.1.108'\n",
    "serverPort = 12000\n",
    "clientSocket = socket(AF_INET,SOCK_DGRAM)\n",
    "message = raw_input('Input lowercase sentence:')\n",
    "clientSocket.sendto(message.encode(),(serverName, serverPort))\n",
    "modifiedMessage, serverAddress =clientSocket.recvfrom(2048)\n",
    "print(modifiedMessage.decode())\n",
    "clientSocket.close()"
   ]
  },
  {
   "cell_type": "markdown",
   "metadata": {},
   "source": [
    "#  server"
   ]
  },
  {
   "cell_type": "code",
   "execution_count": 2,
   "metadata": {},
   "outputs": [
    {
     "name": "stdout",
     "output_type": "stream",
     "text": [
      "D:/_self_/_path/lesson/111_1/Discrete mathematic/03-Counting-4p.pdf\n"
     ]
    }
   ],
   "source": [
    "from socket import *\n",
    "serverPort = 12000\n",
    "serverSocket = socket(AF_INET, SOCK_DGRAM)\n",
    "serverSocket.bind(('192.168.1.108', serverPort))\n",
    "print (\"The server is ready to receive\")\n",
    "while True:\n",
    "    message, clientAddress = serverSocket.recvfrom(2048)\n",
    "    if(message.decode()==\"start\"):\n",
    "        filename, clientAddress=serverSocket.recvfrom(2048)\n",
    "        file=open(\"new_\"+filename,'b')\n",
    "        while(1):\n",
    "            byte, clientAddress=serverSocket.recvfrom(2048)\n",
    "            print(byte.decode())\n",
    "            file.write(byte)\n",
    "            if(byte==eof):\n",
    "                break\n",
    "        print(\"finish\")"
   ]
  },
  {
   "cell_type": "markdown",
   "metadata": {},
   "source": [
    "# client"
   ]
  },
  {
   "cell_type": "code",
   "execution_count": null,
   "metadata": {},
   "outputs": [],
   "source": [
    "from socket import *\n",
    "serverName = '192.168.1.108'\n",
    "serverPort = 12000\n",
    "clientSocket = socket(AF_INET,SOCK_DGRAM)\n",
    "from tkinter import filedialog\n",
    "name = filedialog.askopenfilename()\n",
    "file=open(name,'rb')\n",
    "clientSocket.sendto(\"start\".encode(),(serverName, serverPort))\n",
    "clientSocket.sendto(name.encode(),(serverName, serverPort))\n",
    "while(1):\n",
    "    byte=file.read()\n",
    "    clientSocket.sendto(byte,(serverName, serverPort))\n",
    "    if(byte==eof):\n",
    "        break\n",
    "clientSocket.close()"
   ]
  }
 ],
 "metadata": {
  "kernelspec": {
   "display_name": "Python 3",
   "language": "python",
   "name": "python3"
  },
  "language_info": {
   "codemirror_mode": {
    "name": "ipython",
    "version": 3
   },
   "file_extension": ".py",
   "mimetype": "text/x-python",
   "name": "python",
   "nbconvert_exporter": "python",
   "pygments_lexer": "ipython3",
   "version": "3.7.6"
  }
 },
 "nbformat": 4,
 "nbformat_minor": 4
}
