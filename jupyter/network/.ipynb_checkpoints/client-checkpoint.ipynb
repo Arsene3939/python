{
 "cells": [
  {
   "cell_type": "code",
   "execution_count": 2,
   "metadata": {},
   "outputs": [],
   "source": [
    "from socket import *\n",
    "serverName = '192.168.1.108'\n",
    "serverPort = 12000\n",
    "clientSocket = socket(AF_INET,SOCK_DGRAM)\n",
    "from tkinter import filedialog\n",
    "clientSocket.sendto(b'99',(serverName, serverPort))\n",
    "clientSocket.close()"
   ]
  }
 ],
 "metadata": {
  "kernelspec": {
   "display_name": "Python 3",
   "language": "python",
   "name": "python3"
  },
  "language_info": {
   "codemirror_mode": {
    "name": "ipython",
    "version": 3
   },
   "file_extension": ".py",
   "mimetype": "text/x-python",
   "name": "python",
   "nbconvert_exporter": "python",
   "pygments_lexer": "ipython3",
   "version": "3.7.6"
  }
 },
 "nbformat": 4,
 "nbformat_minor": 4
}
