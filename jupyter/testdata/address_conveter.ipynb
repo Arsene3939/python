{
 "cells": [
  {
   "cell_type": "code",
   "execution_count": 3,
   "metadata": {},
   "outputs": [
    {
     "name": "stdout",
     "output_type": "stream",
     "text": [
      "101000000000000\n"
     ]
    }
   ],
   "source": [
    "def binary(lens,num):\n",
    "    x=bin(num)\n",
    "    x=list(x)\n",
    "    for i in range(lens):\n",
    "        if i<lens-len(x)+2:\n",
    "            print('0',end='')\n",
    "        else:\n",
    "            print(x[i-lens+len(x)],end='')\n",
    "    print()\n",
    "binary(15,160*128)\n"
   ]
  }
 ],
 "metadata": {
  "kernelspec": {
   "display_name": "Python 3",
   "language": "python",
   "name": "python3"
  },
  "language_info": {
   "codemirror_mode": {
    "name": "ipython",
    "version": 3
   },
   "file_extension": ".py",
   "mimetype": "text/x-python",
   "name": "python",
   "nbconvert_exporter": "python",
   "pygments_lexer": "ipython3",
   "version": "3.7.6"
  }
 },
 "nbformat": 4,
 "nbformat_minor": 4
}
