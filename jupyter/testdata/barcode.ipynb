{
 "cells": [
  {
   "cell_type": "code",
   "execution_count": null,
   "metadata": {},
   "outputs": [],
   "source": [
    "x='123-45'\n",
    "code=[0x10]"
   ]
  },
  {
   "cell_type": "markdown",
   "metadata": {},
   "source": [
    "# C&K chek character"
   ]
  },
  {
   "cell_type": "code",
   "execution_count": 17,
   "metadata": {},
   "outputs": [
    {
     "name": "stdout",
     "output_type": "stream",
     "text": [
      "123-455\n"
     ]
    },
    {
     "data": {
      "text/plain": [
       "(5, 2)"
      ]
     },
     "execution_count": 17,
     "metadata": {},
     "output_type": "execute_result"
    }
   ],
   "source": [
    "code=\"123-45\"\n",
    "transfer={'0':0,'1':1,'2':2,'3':3,'4':4,'5':5,'6':6,'7':7,'8':8,'9':9,'-':10}\n",
    "n=len(code)\n",
    "c=0\n",
    "k=0\n",
    "for i in range(1,n+1):\n",
    "    c+=((n-i)%10+1)*transfer[code[i-1]]\n",
    "c%=11\n",
    "code+=str(c)\n",
    "print(code)\n",
    "for i in range(1,n+2):\n",
    "    k+=((n-i+1)%9+1)*transfer[code[i-1]]\n",
    "k%=11\n",
    "c,k"
   ]
  },
  {
   "cell_type": "markdown",
   "metadata": {},
   "source": [
    "# Cases Generator\n",
    "####  1.+-5%\n",
    "#### 2.right code\n",
    "#### 3.c k check code\n",
    "#### 4.short white separater\n",
    "#### 5.nums\n",
    "#### 6.reverse\n",
    "#### 7.zero-length message\n",
    "#### 8.1~200"
   ]
  },
  {
   "cell_type": "code",
   "execution_count": 22,
   "metadata": {},
   "outputs": [
    {
     "data": {
      "text/plain": [
       "3"
      ]
     },
     "execution_count": 22,
     "metadata": {},
     "output_type": "execute_result"
    }
   ],
   "source": [
    "code=\"123-45\"\n",
    "transfer={'0':0,'1':1,'2':2,'3':3,'4':4,'5':5,'6':6,'7':7,'8':8,'9':9,'-':10}\n",
    "n=len(code)\n",
    "c=0\n",
    "k=0\n",
    "for i in range(1,n+1):\n",
    "    c+=((n-i)%10+1)*transfer[code[i-1]]\n",
    "c%=11\n",
    "code+=str(c)\n",
    "print(code)\n",
    "for i in range(1,n+2):\n",
    "    k+=((n-i+1)%9+1)*transfer[code[i-1]]\n",
    "k%=11"
   ]
  },
  {
   "cell_type": "code",
   "execution_count": 2,
   "metadata": {},
   "outputs": [
    {
     "name": "stdout",
     "output_type": "stream",
     "text": [
      "40.05 79.94736842105263\n",
      "\n",
      "10.0 19.90909090909091\n",
      "\n"
     ]
    },
    {
     "data": {
      "text/plain": [
       "<matplotlib.image.AxesImage at 0x1ec6f16ca08>"
      ]
     },
     "execution_count": 2,
     "metadata": {},
     "output_type": "execute_result"
    },
    {
     "data": {
      "image/png": "[encoded data removed]",
      "text/plain": [
       "<Figure size 720x360 with 2 Axes>"
      ]
     },
     "metadata": {
      "needs_background": "light"
     },
     "output_type": "display_data"
    }
   ],
   "source": [
    "import matplotlib.pyplot as plt\n",
    "import numpy as np\n",
    "def to_barcode(st):\n",
    "    arr=np.array([])\n",
    "    arr1=[]\n",
    "    color=0\n",
    "    for i in st.split('\\n'):\n",
    "        arr=np.concatenate((arr,i.split()),axis=0)\n",
    "    arr=[int(i) for i in arr]\n",
    "    lower=[]\n",
    "    upper=[]\n",
    "    for i in arr:\n",
    "        if i<(max(arr)+min(arr))/2:\n",
    "            lower.append(i)\n",
    "        else:\n",
    "            upper.append(i)\n",
    "    print(sum(lower)/len(lower),sum(upper)/len(upper))\n",
    "    arr=[i>(max(arr)+min(arr))/2 for i in arr]\n",
    "    \n",
    "    print()\n",
    "    for i in arr:\n",
    "        if i:\n",
    "            arr1.append(color)\n",
    "            arr1.append(color)\n",
    "        else:\n",
    "            arr1.append(color)\n",
    "        color^=1\n",
    "    con=[arr1 for i in range(len(st)//5)]\n",
    "    return con\n",
    "x=\"\"\"40 82 80 40 40 40 80 80 40 40\n",
    "40 40 40 40 40 80 80 40 40 40\n",
    "41 80 80 40 40 39 80 80 42 40\n",
    "40 40 79 40 40 40 40 40 80 40\n",
    "80 40 80 80 40 40 40 40 40 80\n",
    "40 40 80 40 40 80 78 40 40\"\"\"\n",
    "b=\"\"\"10 10 20 20 10 10 19 10 10 20\n",
    "10 10 10 10 10 20 20 10 10 20\n",
    "20 10 10 10 10 10 10 10 21 10\n",
    "10 10 20 19 10\"\"\"\n",
    "fig,ax=plt.subplots(ncols=2,figsize=(10,5))\n",
    "ax[0].imshow(to_barcode(x))\n",
    "ax[1].imshow(to_barcode(b))"
   ]
  },
  {
   "cell_type": "code",
   "execution_count": 6,
   "metadata": {},
   "outputs": [],
   "source": [
    "import turtle as t\n",
    "def go(x,y):\n",
    "    t.penup()\n",
    "    t.goto(x,y)\n",
    "    t.pendown()\n",
    "t.tracer(0)\n",
    "t.right(0)\n",
    "for i in range(8):\n",
    "    go(i*100-400,-400)\n",
    "    t.forward(800)\n",
    "    go(-400,i*100-400)\n",
    "    t.right(270)\n",
    "    t.forward(800)\n",
    "    t.right(90)\n",
    "t.mainloop()"
   ]
  },
  {
   "cell_type": "code",
   "execution_count": 12,
   "metadata": {},
   "outputs": [
    {
     "data": {
      "text/plain": [
       "[<matplotlib.lines.Line2D at 0x1cfc11c0488>,\n",
       " <matplotlib.lines.Line2D at 0x1cfc1221f88>,\n",
       " <matplotlib.lines.Line2D at 0x1cfc122c188>,\n",
       " <matplotlib.lines.Line2D at 0x1cfc122c348>,\n",
       " <matplotlib.lines.Line2D at 0x1cfc122c548>,\n",
       " <matplotlib.lines.Line2D at 0x1cfc122c788>,\n",
       " <matplotlib.lines.Line2D at 0x1cfc122c9c8>,\n",
       " <matplotlib.lines.Line2D at 0x1cfc122cc08>,\n",
       " <matplotlib.lines.Line2D at 0x1cfc122ce48>,\n",
       " <matplotlib.lines.Line2D at 0x1cfc122cfc8>,\n",
       " <matplotlib.lines.Line2D at 0x1cfc1230308>,\n",
       " <matplotlib.lines.Line2D at 0x1cfc1230548>,\n",
       " <matplotlib.lines.Line2D at 0x1cfc1230788>,\n",
       " <matplotlib.lines.Line2D at 0x1cfc12309c8>,\n",
       " <matplotlib.lines.Line2D at 0x1cfc1230c08>,\n",
       " <matplotlib.lines.Line2D at 0x1cfc1230e48>]"
      ]
     },
     "execution_count": 12,
     "metadata": {},
     "output_type": "execute_result"
    },
    {
     "data": {
      "image/png": "[encoded data removed]",
      "text/plain": [
       "<Figure size 360x360 with 1 Axes>"
      ]
     },
     "metadata": {
      "needs_background": "light"
     },
     "output_type": "display_data"
    }
   ],
   "source": [
    "import matplotlib.pyplot as plt\n",
    "x=[[i,i] for i in range(8)]\n",
    "y=[0,7]\n",
    "fig,ax=plt.subplots(figsize=(5,5))\n",
    "plt.plot(x[0],y,x[1],y,x[2],y,x[3],y,x[4],y,x[5],y,x[6],y,x[7],y,y,x[0],y,x[1],y,x[2],y,x[3],y,x[4],y,x[5],y,x[6],y,x[7],color='black')"
   ]
  },
  {
   "cell_type": "code",
   "execution_count": null,
   "metadata": {},
   "outputs": [],
   "source": []
  }
 ],
 "metadata": {
  "kernelspec": {
   "display_name": "Python 3",
   "language": "python",
   "name": "python3"
  },
  "language_info": {
   "codemirror_mode": {
    "name": "ipython",
    "version": 3
   },
   "file_extension": ".py",
   "mimetype": "text/x-python",
   "name": "python",
   "nbconvert_exporter": "python",
   "pygments_lexer": "ipython3",
   "version": "3.7.6"
  }
 },
 "nbformat": 4,
 "nbformat_minor": 4
}
