{
 "cells": [
  {
   "cell_type": "markdown",
   "metadata": {},
   "source": [
    "# 0.3 矩陣與行/列向量"
   ]
  },
  {
   "cell_type": "markdown",
   "metadata": {},
   "source": [
    "## LateX pmatrix, bmatrix, vmatrix, Vmatrix\n",
    "\n",
    "pmatrix, bmatrix, vmatrix, Vmatrix are Latex environments:\n",
    "\n",
    "1. p for parens\n",
    "2. b for brackets\n",
    "3. v for verts\n",
    "4. B for braces\n",
    "5. V for double verts."
   ]
  },
  {
   "cell_type": "markdown",
   "metadata": {},
   "source": [
    "### How to write an m x n matrix in LaTeX"
   ]
  },
  {
   "cell_type": "code",
   "execution_count": null,
   "metadata": {},
   "outputs": [],
   "source": [
    "\\begin{equation*}\n",
    "A_{m,n} = \n",
    "\\begin{pmatrix}\n",
    "a_{1,1} & a_{1,2} & \\cdots & a_{1,n} \\\\\n",
    "a_{2,1} & a_{2,2} & \\cdots & a_{2,n} \\\\\n",
    "\\vdots  & \\vdots  & \\ddots & \\vdots  \\\\\n",
    "a_{m,1} & a_{m,2} & \\cdots & a_{m,n} \n",
    "\\end{pmatrix}\n",
    "\\end{equation*}"
   ]
  },
  {
   "cell_type": "markdown",
   "metadata": {},
   "source": [
    "$\\begin{equation*}\n",
    "A_{m,n} = \n",
    "\\begin{pmatrix}\n",
    "a_{1,1} & a_{1,2} & \\cdots & a_{1,n} \\\\\n",
    "a_{2,1} & a_{2,2} & \\cdots & a_{2,n} \\\\\n",
    "\\vdots  & \\vdots  & \\ddots & \\vdots  \\\\\n",
    "a_{m,1} & a_{m,2} & \\cdots & a_{m,n} \n",
    "\\end{pmatrix}\n",
    "= \n",
    "\\begin{pmatrix}\n",
    "a_{1,1} & a_{1,2} & \\cdots & a_{1,n} \\\\\n",
    "a_{2,1} & a_{2,2} & \\cdots & a_{2,n} \\\\\n",
    "\\vdots  & \\vdots  & \\ddots & \\vdots  \\\\\n",
    "a_{m,1} & a_{m,2} & \\cdots & a_{m,n} \n",
    "\\end{pmatrix}\n",
    "\\end{equation*}$"
   ]
  },
  {
   "cell_type": "markdown",
   "metadata": {},
   "source": [
    "## Examples matrix 3 x 3 in LaTeX"
   ]
  },
  {
   "cell_type": "code",
   "execution_count": null,
   "metadata": {},
   "outputs": [],
   "source": [
    "\\begin{equation*}\n",
    "A = \n",
    "\\begin{pmatrix}\n",
    "1 & 2 & 3 \\\\\n",
    "4 & 5 & 6 \\\\\n",
    "7 & 8 & 9\n",
    "\\end{pmatrix}\n",
    "\\end{equation*}"
   ]
  },
  {
   "cell_type": "markdown",
   "metadata": {},
   "source": [
    "\\begin{equation*}\n",
    "A = \\begin{pmatrix}\n",
    "1 & 2 & 3 \\\\\n",
    "4 & 5 & 6 \\\\\n",
    "7 & 8 & 9\n",
    "\\end{pmatrix}\n",
    "\\end{equation*}\n",
    "\n"
   ]
  },
  {
   "cell_type": "code",
   "execution_count": null,
   "metadata": {},
   "outputs": [],
   "source": [
    "\\begin{equation*}\n",
    "B = \n",
    "\\begin{bmatrix}\n",
    "a & b & c \\\\\n",
    "d & e & f \\\\\n",
    "g & h & i\n",
    "\\end{bmatrix}\n",
    "\\end{equation*}"
   ]
  },
  {
   "cell_type": "markdown",
   "metadata": {},
   "source": [
    "\\begin{equation*}\n",
    "B = \n",
    "\\begin{bmatrix}\n",
    "a & b & c \\\\\n",
    "d & e & f \\\\\n",
    "g & h & i\n",
    "\\end{bmatrix}\n",
    "\\end{equation*}"
   ]
  },
  {
   "cell_type": "markdown",
   "metadata": {},
   "source": [
    "### LateX matrix with no bracket"
   ]
  },
  {
   "cell_type": "code",
   "execution_count": null,
   "metadata": {},
   "outputs": [],
   "source": [
    "\\begin{equation}\n",
    "   \\begin{matrix} \n",
    "   a_{11} & a_{12} & a_{13}  \\\\\n",
    "   a_{21} & a_{22} & a_{23}  \\\\\n",
    "   a_{31} & a_{32} & a_{33}  \\\\\n",
    "   \\end{matrix} \n",
    "\\end{equation}"
   ]
  },
  {
   "cell_type": "markdown",
   "metadata": {},
   "source": [
    "\\begin{equation}\n",
    "   \\begin{matrix} \n",
    "   a_{11} & a_{12} & a_{13}  \\\\\n",
    "   a_{21} & a_{22} & a_{23}  \\\\\n",
    "   a_{31} & a_{32} & a_{33}  \\\\\n",
    "   \\end{matrix} \n",
    "\\end{equation}"
   ]
  },
  {
   "cell_type": "markdown",
   "metadata": {},
   "source": [
    "## LateX matrix determinant / vertical bar bracket"
   ]
  },
  {
   "cell_type": "code",
   "execution_count": null,
   "metadata": {},
   "outputs": [],
   "source": [
    "\\begin{equation}\n",
    "   \\begin{vmatrix} \n",
    "   a_{11} & a_{12} & a_{13}  \\\\\n",
    "   a_{21} & a_{22} & a_{23}  \\\\\n",
    "   a_{31} & a_{32} & a_{33}  \\\\\n",
    "   \\end{vmatrix} \n",
    "\\end{equation}"
   ]
  },
  {
   "cell_type": "markdown",
   "metadata": {},
   "source": [
    "\\begin{equation}\n",
    "   \\begin{vmatrix} \n",
    "   a_{11} & a_{12} & a_{13}  \\\\\n",
    "   a_{21} & a_{22} & a_{23}  \\\\\n",
    "   a_{31} & a_{32} & a_{33}  \\\\\n",
    "   \\end{vmatrix} \n",
    "\\end{equation}"
   ]
  },
  {
   "cell_type": "markdown",
   "metadata": {},
   "source": [
    "### Latex matrix with curly brackets"
   ]
  },
  {
   "cell_type": "code",
   "execution_count": null,
   "metadata": {},
   "outputs": [],
   "source": [
    "\\begin{equation}\n",
    "   \\begin{Bmatrix} \n",
    "   a_{11} & a_{12} & a_{13}  \\\\\n",
    "   a_{21} & a_{22} & a_{23}  \\\\\n",
    "   a_{31} & a_{32} & a_{33}  \\\\\n",
    "   \\end{Bmatrix} \n",
    "\\end{equation}"
   ]
  },
  {
   "cell_type": "markdown",
   "metadata": {},
   "source": [
    "\\begin{equation}\n",
    "   \\begin{Bmatrix} \n",
    "   a_{11} & a_{12} & a_{13}  \\\\\n",
    "   a_{21} & a_{22} & a_{23}  \\\\\n",
    "   a_{31} & a_{32} & a_{33}  \\\\\n",
    "   \\end{Bmatrix} \n",
    "\\end{equation}"
   ]
  },
  {
   "cell_type": "markdown",
   "metadata": {},
   "source": [
    "### Latex matrix with double vertical bar brackets"
   ]
  },
  {
   "cell_type": "code",
   "execution_count": null,
   "metadata": {},
   "outputs": [],
   "source": [
    "\\begin{equation}\n",
    "   \\begin{Vmatrix} \n",
    "   a_{11} & a_{12} & a_{13}  \\\\\n",
    "   a_{21} & a_{22} & a_{23}  \\\\\n",
    "   a_{31} & a_{32} & a_{33}  \\\\\n",
    "   \\end{Vmatrix} \n",
    "\\end{equation}"
   ]
  },
  {
   "cell_type": "markdown",
   "metadata": {},
   "source": [
    "\\begin{equation}\n",
    "   \\begin{Vmatrix} \n",
    "   a_{11} & a_{12} & a_{13}  \\\\\n",
    "   a_{21} & a_{22} & a_{23}  \\\\\n",
    "   a_{31} & a_{32} & a_{33}  \\\\\n",
    "   \\end{Vmatrix} \n",
    "\\end{equation}"
   ]
  },
  {
   "cell_type": "markdown",
   "metadata": {},
   "source": [
    "### Examples matrix 2 x 2 in LaTeX\n",
    "\n",
    "Here are examples with matrix 2x2 with pmatrix, bmatrix, vmatrix, Vmatrix environments:"
   ]
  },
  {
   "cell_type": "code",
   "execution_count": null,
   "metadata": {},
   "outputs": [],
   "source": [
    "\n",
    "\\begin{matrix} \n",
    "a & b \\\\\n",
    "c & d \n",
    "\\end{matrix}\n",
    "\\quad\n",
    "\\begin{pmatrix} \n",
    "a & b \\\\\n",
    "c & d \n",
    "\\end{pmatrix}\n",
    "\\quad\n",
    "\\begin{bmatrix} \n",
    "a & b \\\\\n",
    "c & d \n",
    "\\end{bmatrix}\n",
    "\\quad\n",
    "\\begin{vmatrix} \n",
    "a & b \\\\\n",
    "c & d \n",
    "\\end{vmatrix}\n",
    "\\quad\n",
    "\\begin{Vmatrix} \n",
    "a & b \\\\\n",
    "c & d \n",
    "\\end{Vmatrix}"
   ]
  },
  {
   "cell_type": "markdown",
   "metadata": {},
   "source": [
    "\\begin{equation}\n",
    "\\begin{matrix} \n",
    "a & b \\\\\n",
    "c & d \n",
    "\\end{matrix}\n",
    "\\quad\n",
    "\\begin{pmatrix} \n",
    "a & b \\\\\n",
    "c & d \n",
    "\\end{pmatrix}\n",
    "\\quad\n",
    "\\begin{bmatrix} \n",
    "a & b \\\\\n",
    "c & d \n",
    "\\end{bmatrix}\n",
    "\\quad\n",
    "\\begin{vmatrix} \n",
    "a & b \\\\\n",
    "c & d \n",
    "\\end{vmatrix}\n",
    "\\quad\n",
    "\\begin{Vmatrix} \n",
    "a & b \\\\\n",
    "c & d \n",
    "\\end{Vmatrix}\n",
    "\\end{equation}"
   ]
  }
 ],
 "metadata": {
  "kernelspec": {
   "display_name": "Python 3",
   "language": "python",
   "name": "python3"
  },
  "language_info": {
   "codemirror_mode": {
    "name": "ipython",
    "version": 3
   },
   "file_extension": ".py",
   "mimetype": "text/x-python",
   "name": "python",
   "nbconvert_exporter": "python",
   "pygments_lexer": "ipython3",
   "version": "3.7.4"
  }
 },
 "nbformat": 4,
 "nbformat_minor": 2
}
