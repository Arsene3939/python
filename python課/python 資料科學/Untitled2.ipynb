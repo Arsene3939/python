{
 "cells": [
  {
   "cell_type": "code",
   "execution_count": 5,
   "metadata": {},
   "outputs": [
    {
     "name": "stderr",
     "output_type": "stream",
     "text": [
      "UsageError: Line magic function `%turtle` not found.\n"
     ]
    }
   ],
   "source": [
    "import turtle\n",
    "import numpy as np\n",
    "import matplotlib.pyplot as plt\n",
    "\n",
    "turtle.tracer(0)\n",
    "Width=8\n",
    "code=0\n",
    "LED_ARRAY=[]\n",
    "for i in range(Width):\n",
    "    LED_ARRAY.append([])\n",
    "for i in range(Width):\n",
    "    for j in range(Width):\n",
    "        LED_ARRAY[i].append(0)\n",
    "def setcuror(x,y):\n",
    "    turtle.penup()\n",
    "    turtle.goto(x,y)\n",
    "    turtle.pendown()\n",
    "def draw(x,y):\n",
    "    setcuror(-150,0)\n",
    "    turtle.circle(50)\n",
    "    global LEDA\n",
    "    global LED_ARRAY\n",
    "    global code\n",
    "    global arrcode\n",
    "    if x>0 and y>0 and x<Width*20 and y<Width*20:\n",
    "        setcuror((x//20)*20+10,(y//20)*20)\n",
    "        if  LED_ARRAY[int(x//20)][int(y//20)]:\n",
    "            turtle.color('white')\n",
    "            LED_ARRAY[int(x//20)][int(y//20)]=0\n",
    "        else:\n",
    "            turtle.color('black')\n",
    "            LED_ARRAY[int(x//20)][int(y//20)]=1\n",
    "        turtle.begin_fill()\n",
    "        turtle.circle(10)\n",
    "        turtle.end_fill()\n",
    "    elif x<-100 and x>-200 and y>0 and y<100:\n",
    "        setcuror(-500,-100)\n",
    "        turtle.clear()\n",
    "        for j in range(2):\n",
    "            for b in range(4):\n",
    "                arrcode=0;\n",
    "                for i in range(8):\n",
    "                    if LED_ARRAY[i][b+4*j]:\n",
    "                        code+=1<<((b+j*4)*8+i)\n",
    "                        arrcode+=1<<(i)\n",
    "                print(\"%#04X\"%arrcode,end=',')\n",
    "        setcuror(-500,-150)\n",
    "        print()\n",
    "        print(\"%#018X\"%code)\n",
    "        for i in range(Width):\n",
    "            for j in range(Width):\n",
    "                LED_ARRAY[i][j]=0\n",
    "        code=0\n",
    "        drawArray(Width)\n",
    "def drawArray(width):\n",
    "    for i in range(width+1):\n",
    "        setcuror(0,i*20)\n",
    "        turtle.goto(width*20,i*20)\n",
    "        for i in range(width+1):\n",
    "            setcuror(i*20,0)\n",
    "            turtle.goto(i*20,width*20)\n",
    "    for i in range(width):\n",
    "        for j in range(width):\n",
    "            setcuror(i*20+10,j*20)\n",
    "            turtle.circle(10)\n",
    "plt.plot(np.arange(100),np.arange(100))\n",
    "drawArray(Width)\n",
    "wn=turtle.Screen()\n",
    "wn.onclick(draw)\n",
    "turtle.listen()\n",
    "turtle.mainloop()"
   ]
  },
  {
   "cell_type": "code",
   "execution_count": null,
   "metadata": {},
   "outputs": [],
   "source": []
  }
 ],
 "metadata": {
  "kernelspec": {
   "display_name": "Python 3",
   "language": "python",
   "name": "python3"
  },
  "language_info": {
   "codemirror_mode": {
    "name": "ipython",
    "version": 3
   },
   "file_extension": ".py",
   "mimetype": "text/x-python",
   "name": "python",
   "nbconvert_exporter": "python",
   "pygments_lexer": "ipython3",
   "version": "3.7.6"
  }
 },
 "nbformat": 4,
 "nbformat_minor": 4
}
