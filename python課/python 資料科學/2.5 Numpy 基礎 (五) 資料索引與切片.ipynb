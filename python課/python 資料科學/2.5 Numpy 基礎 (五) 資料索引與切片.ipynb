{
 "cells": [
  {
   "cell_type": "markdown",
   "metadata": {},
   "source": [
    "# 2.5 Numpy 基礎 (五) 資料索引與切片"
   ]
  },
  {
   "cell_type": "markdown",
   "metadata": {},
   "source": [
    "### Numpy data array 的結構\n",
    "\n",
    "<img align=\"center\" style=\"padding-right:10px;\" src=\"figures\\numpy_array_structure2.jpg\">"
   ]
  },
  {
   "cell_type": "code",
   "execution_count": 1,
   "metadata": {},
   "outputs": [],
   "source": [
    "import numpy as np"
   ]
  },
  {
   "cell_type": "markdown",
   "metadata": {},
   "source": [
    "## 一維陣列"
   ]
  },
  {
   "cell_type": "code",
   "execution_count": 44,
   "metadata": {},
   "outputs": [
    {
     "name": "stdout",
     "output_type": "stream",
     "text": [
      "a: [0 1 2 3 4 5 6 7 8 9]\n",
      "取第1個元素 a[1]: 1\n",
      "取倒數第2個元素 a[-2]: 8\n",
      "取1~3個元素 a[1:4]: [1 2 3]\n",
      "從頭取到第3個元素a[:4]: [0 1 2 3]\n",
      "從第3個元素到最後的元素 a[3:]: [3 4 5 6 7 8 9]\n",
      "間隔一個取一個 a[0::2]: [0 2 4 6 8]\n",
      "倒轉 a[::-1]: [9 8 7 6 5 4 3 2 1 0]\n"
     ]
    }
   ],
   "source": [
    "a = np.arange(0,10)\n",
    "print('a:',a)\n",
    "print('取第1個元素 a[1]:',a[1]) #取第1個元素\n",
    "print('取倒數第2個元素 a[-2]:',a[-2]) #取倒數第2個元素\n",
    "print('取1~3個元素 a[1:4]:',a[1:4]) #取1~3個元素\n",
    "print('從頭取到第3個元素a[:4]:',a[:4]) #從頭取到第3個元素\n",
    "print('從第3個元素到最後的元素 a[3:]:',a[3:]) #從第3個元素到最後的元素\n",
    "print('間隔一個取一個 a[0::2]:',a[0::2])#間隔一個取一個\n",
    "print('倒轉 a[::-1]:',a[::-1])#倒轉"
   ]
  },
  {
   "cell_type": "markdown",
   "metadata": {},
   "source": [
    "## 二維陣列"
   ]
  },
  {
   "cell_type": "code",
   "execution_count": 51,
   "metadata": {},
   "outputs": [
    {
     "name": "stdout",
     "output_type": "stream",
     "text": [
      "a:\n",
      " [[ 0  1  2  3]\n",
      " [ 4  5  6  7]\n",
      " [ 8  9 10 11]\n",
      " [12 13 14 15]]\n",
      "取(1,2)的元素 a[1,2]: 6\n",
      "取 (1~2，2~3) 的元素 a[1:3,2:4]:\n",
      " [[ 6  7]\n",
      " [10 11]]\n",
      "取第1列元素 a[1]: [4 5 6 7]\n",
      "取第1行元素 a[:,1]: [ 1  5  9 13]\n"
     ]
    }
   ],
   "source": [
    "a = np.arange(0,16)\n",
    "a.resize(4,4)\n",
    "print('a:\\n',a)\n",
    "print('取(1,2)的元素 a[1,2]:',a[1,2])\n",
    "print('取 (1~2，2~3) 的元素 a[1:3,2:4]:\\n',a[1:3,2:])\n",
    "print('取第1列元素 a[1]:',a[1]) # a[1,:]\n",
    "print('取第1行元素 a[:,1]:',a[:,1])\n"
   ]
  },
  {
   "cell_type": "markdown",
   "metadata": {},
   "source": [
    "### Numpy 3D array 結構示意圖\n",
    "\n",
    "<img align=\"center\" style=\"padding-right:10px;\" src=\"figures\\numpy_3d_array.jpg\">"
   ]
  },
  {
   "cell_type": "code",
   "execution_count": 50,
   "metadata": {},
   "outputs": [
    {
     "name": "stdout",
     "output_type": "stream",
     "text": [
      "a:\n",
      " [[[ 0  1  2]\n",
      "  [ 3  4  5]\n",
      "  [ 6  7  8]\n",
      "  [ 9 10 11]]\n",
      "\n",
      " [[12 13 14]\n",
      "  [15 16 17]\n",
      "  [18 19 20]\n",
      "  [21 22 23]]\n",
      "\n",
      " [[24 25 26]\n",
      "  [27 28 29]\n",
      "  [30 31 32]\n",
      "  [33 34 35]]]\n",
      "a[0,1,2]: 5\n",
      "第0頁 a[0]:\n",
      " [[ 0  1  2]\n",
      " [ 3  4  5]\n",
      " [ 6  7  8]\n",
      " [ 9 10 11]]\n",
      "第0列 a[:,0]:\n",
      " [[ 0  1  2]\n",
      " [12 13 14]\n",
      " [24 25 26]]\n",
      "第0行 a[:,:,0]:\n",
      " [[ 0  3  6  9]\n",
      " [12 15 18 21]\n",
      " [24 27 30 33]]\n"
     ]
    }
   ],
   "source": [
    "a = np.arange(0,36)\n",
    "a.resize(3,4,3)\n",
    "print('a:\\n',a)\n",
    "print('a[0,1,2]:',a[0,1,2])\n",
    "\n",
    "print('第0頁 a[0]:\\n',a[0]) # a[0,:,:]\n",
    "print('第0列 a[:,0]:\\n',a[:,0,:]) # a[:,0,:]\n",
    "print('第0行 a[:,:,0]:\\n',a[:,:,0])"
   ]
  },
  {
   "cell_type": "markdown",
   "metadata": {},
   "source": [
    "## 花式索引"
   ]
  },
  {
   "cell_type": "code",
   "execution_count": 57,
   "metadata": {},
   "outputs": [
    {
     "name": "stdout",
     "output_type": "stream",
     "text": [
      "b:\n",
      " [[0 1 2]\n",
      " [3 4 5]]\n"
     ]
    },
    {
     "data": {
      "text/plain": [
       "array([3, 1, 5, 0])"
      ]
     },
     "execution_count": 57,
     "metadata": {},
     "output_type": "execute_result"
    }
   ],
   "source": [
    "b = np.array([(0,1,2), (3,4,5)])\n",
    "print('b:\\n',b)\n",
    "b[[1, 0, 1, 0],[0, 1, 2, 0]]"
   ]
  },
  {
   "cell_type": "markdown",
   "metadata": {},
   "source": [
    "## 條件判斷"
   ]
  },
  {
   "cell_type": "code",
   "execution_count": 117,
   "metadata": {},
   "outputs": [
    {
     "name": "stdout",
     "output_type": "stream",
     "text": [
      "a:\n",
      " [[0 1 2]\n",
      " [3 4 5]]\n",
      "a>2:\n",
      " [[False False False]\n",
      " [ True  True  True]]\n"
     ]
    }
   ],
   "source": [
    "a = np.array([(0,1,2), (3,4,5)])\n",
    "print('a:\\n',a)\n",
    "print('a>2:\\n',a>2)"
   ]
  },
  {
   "cell_type": "markdown",
   "metadata": {},
   "source": [
    "## 條件索引"
   ]
  },
  {
   "cell_type": "code",
   "execution_count": 119,
   "metadata": {},
   "outputs": [
    {
     "name": "stdout",
     "output_type": "stream",
     "text": [
      "a: [[0 1 2]\n",
      " [3 4 5]]\n",
      "a<5: [0 1 2]\n"
     ]
    }
   ],
   "source": [
    "#a = np.arange(0,10)\n",
    "print('a:',a)\n",
    "print('a<3:',a[a<3])"
   ]
  },
  {
   "cell_type": "markdown",
   "metadata": {},
   "source": [
    "## 條件設定"
   ]
  },
  {
   "cell_type": "code",
   "execution_count": 69,
   "metadata": {},
   "outputs": [
    {
     "name": "stdout",
     "output_type": "stream",
     "text": [
      "設定前 b:\n",
      " [[0 1 2]\n",
      " [3 4 5]]\n",
      "條件 b>2:\n",
      " [[False False False]\n",
      " [False  True  True]]\n",
      "設定後 b:\n",
      " [[0 1 2]\n",
      " [3 3 3]]\n"
     ]
    }
   ],
   "source": [
    "b = np.array([(0,1,2), (3,4,5)])\n",
    "print('設定前 b:\\n',b)\n",
    "k = b>3\n",
    "print('條件 b>2:\\n',k)\n",
    "b[k] = 3\n",
    "print('設定後 b:\\n',b)"
   ]
  },
  {
   "cell_type": "markdown",
   "metadata": {},
   "source": [
    "## 示範: 弦波資料運算與顯示"
   ]
  },
  {
   "cell_type": "code",
   "execution_count": 10,
   "metadata": {},
   "outputs": [
    {
     "data": {
      "text/plain": [
       "[<matplotlib.lines.Line2D at 0x1df7c34f780>]"
      ]
     },
     "execution_count": 10,
     "metadata": {},
     "output_type": "execute_result"
    },
    {
     "data": {
      "image/png": "[encoded data removed]",
      "text/plain": [
       "<Figure size 432x288 with 1 Axes>"
      ]
     },
     "metadata": {
      "needs_background": "light"
     },
     "output_type": "display_data"
    }
   ],
   "source": [
    "import numpy as np\n",
    "import matplotlib.pyplot as plt\n",
    "#import Audio.Audio\n",
    "samplingRate = 22050  #取樣頻率 8000,11025,22050,44100(CD品質)\n",
    "M = 5  #聲音秒數\n",
    "totalPoints = samplingRate * M #總資料點數\n",
    "t = np.linspace(0,5,totalPoints)\n",
    "f= np.linspace(100,2500,totalPoints)  #聲音頻率\n",
    "data = np.sin(2*np.pi*f*t)\n",
    "plt.plot(t[:2000],data[:2000]) #取前2000筆資料\n",
    "#plt.plot(t[-200:],data[-200:]) #取後200筆資料"
   ]
  },
  {
   "cell_type": "markdown",
   "metadata": {},
   "source": [
    "## 練習: 取出前、中、後段各1000點的聲音資料，分圖顯示。"
   ]
  },
  {
   "cell_type": "code",
   "execution_count": null,
   "metadata": {},
   "outputs": [],
   "source": []
  },
  {
   "cell_type": "markdown",
   "metadata": {},
   "source": [
    "### 練習: 將聲音資料等分成三段，將前段資料值減半，中段不變，後段資料值加倍。接著再將前、中、後段各1000點的聲音資料，分圖顯示"
   ]
  },
  {
   "cell_type": "code",
   "execution_count": null,
   "metadata": {},
   "outputs": [],
   "source": []
  }
 ],
 "metadata": {
  "kernelspec": {
   "display_name": "Python 3",
   "language": "python",
   "name": "python3"
  },
  "language_info": {
   "codemirror_mode": {
    "name": "ipython",
    "version": 3
   },
   "file_extension": ".py",
   "mimetype": "text/x-python",
   "name": "python",
   "nbconvert_exporter": "python",
   "pygments_lexer": "ipython3",
   "version": "3.7.1"
  }
 },
 "nbformat": 4,
 "nbformat_minor": 2
}
