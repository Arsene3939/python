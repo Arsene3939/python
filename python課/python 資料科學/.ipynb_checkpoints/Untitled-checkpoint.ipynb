{
 "cells": [
  {
   "cell_type": "markdown",
   "metadata": {},
   "source": [
    "# GCD & finding inverse"
   ]
  },
  {
   "cell_type": "code",
   "execution_count": 17,
   "metadata": {},
   "outputs": [
    {
     "name": "stdout",
     "output_type": "stream",
     "text": [
      "7 6( 6,1 )\n",
      "20 7( 7,6 )\n",
      "27 20( 20,7 )\n",
      "74 27( 27,20 )\n",
      "101 74( 74,27 )\n",
      "4720 101( 101,74 )\n"
     ]
    },
    {
     "data": {
      "text/plain": [
       "(1, 4720, 101)"
      ]
     },
     "execution_count": 17,
     "metadata": {},
     "output_type": "execute_result"
    }
   ],
   "source": [
    "s=\"\"\n",
    "def gcd(a,b,s):\n",
    "    if a<b:\n",
    "        return gcd(b,a,s)\n",
    "    if a%b==0:\n",
    "        return (b,s)\n",
    "    gcd(b,a%b)\n",
    "    return gcd(b,a%b,a//b)\n",
    "gcd(4720,101)"
   ]
  }
 ],
 "metadata": {
  "kernelspec": {
   "display_name": "Python 3",
   "language": "python",
   "name": "python3"
  },
  "language_info": {
   "codemirror_mode": {
    "name": "ipython",
    "version": 3
   },
   "file_extension": ".py",
   "mimetype": "text/x-python",
   "name": "python",
   "nbconvert_exporter": "python",
   "pygments_lexer": "ipython3",
   "version": "3.7.6"
  }
 },
 "nbformat": 4,
 "nbformat_minor": 4
}
