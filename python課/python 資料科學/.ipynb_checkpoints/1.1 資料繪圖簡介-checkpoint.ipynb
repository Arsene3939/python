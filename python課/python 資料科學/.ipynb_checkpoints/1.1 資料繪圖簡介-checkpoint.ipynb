{
 "cells": [
  {
   "cell_type": "markdown",
   "metadata": {},
   "source": [
    "# 一、資料表示法比較\n",
    "\n",
    "### 1. 原始數據"
   ]
  },
  {
   "cell_type": "code",
   "execution_count": 56,
   "metadata": {},
   "outputs": [],
   "source": [
    "z=[   5, 165,   1,  74,  30, 220, -29, -43, -50, 108,  -7,  38,  67,  52, -68, -42, -13, 197,  95,  24, -74, 219,\n",
    "       -194, 180,-137, -62, -15, -14, -23, -63,  17, 304, 139,  37,-128, 134, -29, 114,-111,  14,   4,  12,  73,  18,\n",
    "         17, -93, 176,   5,  34,  97, -31,  58, 198,-114,  83, -68,-130,  67,  85, 124, -78, -47,  -7,  -8, -61,  97,\n",
    "       -151, 117, 110,  91, 258, -81,-169,  23,-125,  49,  23, -90,-280,  28, 205,  66, -56, 246,  94, -23, 120,  -8,\n",
    "       -111, -22,  38,  65, -31,-103, -91,  46, 194, -18,  91, -17,-113,  53,  -1, 123,  -7,  23, -45, -15,-153,  83,\n",
    "        -91, -93,-151, -50,   0,   2, -93,  39,  76, -81,  -7,  27,  58, -80,  21,   4,   0, -35,  22, -91, -13, 199,\n",
    "         24,-165,  34,-127, 226,  29,  92,  38, 114, -44,-169,-137, -79, 224,   4,-143, 140, -36, 163, 168,-163,  68,\n",
    "        -78,  82,-118, -12,  -5,-269,  28, -63,-118,-112, -66,  37,  60,  19, -25,  48, 104, -10, 110, -51,  24, -13,\n",
    "         32,  82,   1, -82, -64, -36,  90, 160, 202, -36, -59,  70, -35,  64, 124, -37,  28,  26,  22,   6,-119,  57,\n",
    "        192,  19, -80, -70, 319, 166, 223, 108,-151, -68,-101,  12,  22,  89,  12,-128, -42, -70, -21, 127, -97,-114,\n",
    "         53, -69,-176, 141,  62,  40, -21,  64,  29, -73,-203, -73, 102,  31, 299, -92,  77, -38,  71,-197,  43, -79,\n",
    "        -97, 193,  94,  77, -68, -53,  -2,  64,  32, -48,-125,-130,  70,  14,  72,  14, 117, -71, -77,-141, -25, 101,\n",
    "        -11,  10, -10,-143, -27,-129, -55,-158,  41,  23, -10,  55, 111,  62,  -6,  -1, -36,-174,  25,-110,  29,-105,\n",
    "         30,  63, -49,  29, -62, -59, -21,  53,  68, -95,   3, -47,-189, -82, -86,-114,  77, 100, -21, 122,   4,  36,\n",
    "          4,  79,   3,-160, -52,  32,-119,  77,  12, -53, 141, 172, -45,  19,   3, -48, 118, -70,-163,-125, -99, -73,\n",
    "         48, 166,   0,  18,   3,-104, 122, -76, -68,  88, 156,  71,-222,  60,-214,   7,-133, -68,-104,-180, 102, -68,\n",
    "        -58,  80, -32,-149,  50,  20, -55, 305, 151, -92, 106, -45,  81, -29, 110, 202,-104,  57, -23,  -4, -16,  16,\n",
    "        -58, 140, -69, -91, -33,  29,  28, 309,-168, -96, -51, 149,   4,  85, -19,  74,-194,  63, -43,  23, 112,-115,\n",
    "       -114, 123,  85,  97,-122,  -9, -48,  63,  30,  17, -44,  10, -90,  46, -16, -58,  23, 129, -20, 110, -48, -26,\n",
    "       -113,  42, -77, -43, -28,  32, -38, 116,  12,  11,  65,  48, 158, -29,   9,-166,  71, 151,-134,-130, -31,  81,\n",
    "         -3,-103, -74,  93,  65, 140, -22,-112,  75,  57, 101, -60, 160, -46, -71,-217, -66,  -1, -21, -18, -55,  28,\n",
    "        -48,  38,-188,  57,  32,  92,  57, 133,  99,  52, 214,  34,-163,-262,  27,  81,  65,-128,  14,   7, -20,  29,\n",
    "       -138,  26,  51,-100,  26,  11,  90, -32,  99, 161,-103,  117, -62, -32, -94,-128]"
   ]
  },
  {
   "cell_type": "markdown",
   "metadata": {},
   "source": [
    "## 上面的數據讓你了解什麼?\n",
    "#  \n",
    "#   "
   ]
  },
  {
   "cell_type": "markdown",
   "metadata": {},
   "source": [
    "### 2. 圖示法\n",
    "<img align=\"center\" style=\"padding-right:10px;\" src=\"figures\\Figure_hist.png\">"
   ]
  },
  {
   "cell_type": "markdown",
   "metadata": {},
   "source": [
    "## 圖示資料是否比較容易了解?\n",
    "#  \n",
    "#   "
   ]
  },
  {
   "cell_type": "markdown",
   "metadata": {},
   "source": [
    "- - -\n",
    "\n",
    "# 二、Matplotlib 常用圖形\n",
    "<img align=\"center\" style=\"padding-right:10px;\" src=\"figures\\matplotFigures.png\">"
   ]
  },
  {
   "cell_type": "markdown",
   "metadata": {},
   "source": [
    "#  \n",
    "#  \n",
    "# 三、Python繪圖方法簡介"
   ]
  },
  {
   "cell_type": "markdown",
   "metadata": {},
   "source": [
    "## 1.狀態型 (類 matlab )  -- 簡單易用，不適合進階應用"
   ]
  },
  {
   "cell_type": "code",
   "execution_count": 7,
   "metadata": {},
   "outputs": [
    {
     "data": {
      "text/plain": [
       "[<matplotlib.lines.Line2D at 0x162f659def0>]"
      ]
     },
     "execution_count": 7,
     "metadata": {},
     "output_type": "execute_result"
    },
    {
     "data": {
      "image/png": "[encoded data removed]",
      "text/plain": [
       "<Figure size 432x288 with 1 Axes>"
      ]
     },
     "metadata": {
      "needs_background": "light"
     },
     "output_type": "display_data"
    }
   ],
   "source": [
    "# 1. 載入 matplotlib 的 pyplot(繪圖模組) 並 命名為 plt\n",
    "import matplotlib.pyplot as plt \n",
    "\n",
    "# 2. 準備資料\n",
    "x = [.1,.2,.3,.4,.5,.6,.7,.8,.9,1]\n",
    "#x = [0.1*i for i in range(10)]\n",
    "y = [i**0.5 for i in x]\n",
    "\n",
    "# 3. 繪圖\n",
    "plt.plot(x,y)"
   ]
  },
  {
   "cell_type": "markdown",
   "metadata": {},
   "source": [
    "## 2.物件導向型 -- 較複雜，但支援進階控制"
   ]
  },
  {
   "cell_type": "code",
   "execution_count": 5,
   "metadata": {},
   "outputs": [
    {
     "data": {
      "text/plain": [
       "[<matplotlib.lines.Line2D at 0x162f64b9c18>]"
      ]
     },
     "execution_count": 5,
     "metadata": {},
     "output_type": "execute_result"
    },
    {
     "data": {
      "image/png": "[encoded data removed]",
      "text/plain": [
       "<Figure size 432x288 with 1 Axes>"
      ]
     },
     "metadata": {
      "needs_background": "light"
     },
     "output_type": "display_data"
    }
   ],
   "source": [
    "# 1. 載入 matplotlib 的 pyplot(繪圖模組) 並 命名為 plt\n",
    "import matplotlib.pyplot as plt \n",
    "\n",
    "# 2. 準備資料\n",
    "x = [.1,.2,.3,.4,.5,.6,.7,.8,.9,1]\n",
    "y = [i**2 for i in range(10)]\n",
    "\n",
    "# 3. 建立圖形物件(figure) 與 子圖形物件(axes)\n",
    "fig, ax = plt.subplots()\n",
    "\n",
    "# 4. 繪圖\n",
    "ax.plot(x,y)"
   ]
  },
  {
   "cell_type": "markdown",
   "metadata": {},
   "source": [
    "# 四、圖形物件\n",
    "# \n",
    "### 1. 圖形物件(1) -- 單圖形物件(figure) 與 單子圖形物件(axes)\n",
    "<img align=\"center\" style=\"padding-right:10px;\" src=\"figures\\figure_base1.png\">"
   ]
  },
  {
   "cell_type": "markdown",
   "metadata": {},
   "source": [
    "### 2. 圖形物件(2) -- 單圖形物件(figure) 與 多子圖形物件(axes)\n",
    "<img align=\"center\" style=\"padding-right:10px;\" src=\"figures\\figure_base2.png\">"
   ]
  }
 ],
 "metadata": {
  "kernelspec": {
   "display_name": "Python 3",
   "language": "python",
   "name": "python3"
  },
  "language_info": {
   "codemirror_mode": {
    "name": "ipython",
    "version": 3
   },
   "file_extension": ".py",
   "mimetype": "text/x-python",
   "name": "python",
   "nbconvert_exporter": "python",
   "pygments_lexer": "ipython3",
   "version": "3.7.1"
  }
 },
 "nbformat": 4,
 "nbformat_minor": 2
}
