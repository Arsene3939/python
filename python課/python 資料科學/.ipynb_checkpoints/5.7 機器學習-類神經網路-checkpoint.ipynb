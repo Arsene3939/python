{
 "cells": [
  {
   "cell_type": "markdown",
   "metadata": {},
   "source": [
    "# 5.7 機器學習-類神經網路"
   ]
  },
  {
   "cell_type": "code",
   "execution_count": 3,
   "metadata": {},
   "outputs": [
    {
     "name": "stdout",
     "output_type": "stream",
     "text": [
      "[ 2  4 11] 1 [ 2  4 11]\n"
     ]
    }
   ],
   "source": [
    "import numpy as np\n",
    "\n",
    "input_vector = np.array([2, 4, 11])\n",
    "print(input_vector, input_vector.ndim,input_vector.T)"
   ]
  },
  {
   "cell_type": "code",
   "execution_count": 5,
   "metadata": {},
   "outputs": [
    {
     "name": "stdout",
     "output_type": "stream",
     "text": [
      "[[ 2  4 11]]\n",
      "(1, 3)\n",
      "[[ 2]\n",
      " [ 4]\n",
      " [11]]\n"
     ]
    }
   ],
   "source": [
    "import numpy as np\n",
    "\n",
    "#input_vector = np.array([2, 4, 11])\n",
    "input_vector = np.array([2, 4, 11], ndmin=2)\n",
    "print(input_vector)\n",
    "print(input_vector.shape)\n",
    "print(input_vector.T)"
   ]
  },
  {
   "cell_type": "markdown",
   "metadata": {},
   "source": [
    "## Initializing the weight matrices"
   ]
  },
  {
   "cell_type": "code",
   "execution_count": 8,
   "metadata": {},
   "outputs": [
    {
     "name": "stdout",
     "output_type": "stream",
     "text": [
      "True\n"
     ]
    },
    {
     "data": {
      "image/png": "[encoded data removed]",
      "text/plain": [
       "<Figure size 432x288 with 1 Axes>"
      ]
     },
     "metadata": {
      "needs_background": "light"
     },
     "output_type": "display_data"
    }
   ],
   "source": [
    "import numpy as np\n",
    "import matplotlib.pyplot as plt\n",
    "number_of_samples = 1200\n",
    "low = -1\n",
    "high = 0\n",
    "s = np.random.uniform(low, high, number_of_samples)\n",
    "\n",
    "# all values of s are within the half open interval [-1, 0) :\n",
    "\n",
    "print(np.all(s >= -1) and np.all(s < 0))\n",
    "\n",
    "plt.hist(s)\n",
    "plt.show()"
   ]
  },
  {
   "cell_type": "code",
   "execution_count": 21,
   "metadata": {},
   "outputs": [
    {
     "data": {
      "image/png": "[encoded data removed]",
      "text/plain": [
       "<Figure size 432x288 with 1 Axes>"
      ]
     },
     "metadata": {
      "needs_background": "light"
     },
     "output_type": "display_data"
    }
   ],
   "source": [
    "s = np.random.binomial(100, 0.1, 1000)\n",
    "plt.hist(s)\n",
    "plt.show()"
   ]
  },
  {
   "cell_type": "code",
   "execution_count": 22,
   "metadata": {},
   "outputs": [
    {
     "data": {
      "image/png": "[encoded data removed]",
      "text/plain": [
       "<Figure size 432x288 with 1 Axes>"
      ]
     },
     "metadata": {
      "needs_background": "light"
     },
     "output_type": "display_data"
    }
   ],
   "source": [
    "s = np.random.normal(10, 0.1, 1000)\n",
    "plt.hist(s)\n",
    "plt.show()"
   ]
  },
  {
   "cell_type": "code",
   "execution_count": 24,
   "metadata": {},
   "outputs": [
    {
     "data": {
      "image/png": "[encoded data removed]",
      "text/plain": [
       "<Figure size 432x288 with 1 Axes>"
      ]
     },
     "metadata": {
      "needs_background": "light"
     },
     "output_type": "display_data"
    }
   ],
   "source": [
    "from scipy.stats import truncnorm\n",
    "def truncated_normal(mean=0, sd=1, low=0, upp=10):\n",
    "    return truncnorm(\n",
    "        (low - mean) / sd, (upp - mean) / sd, loc=mean, scale=sd)\n",
    "\n",
    "X = truncated_normal(mean=0, sd=0.4, low=-0.5, upp=0.5)\n",
    "s = X.rvs(10000)\n",
    "\n",
    "plt.hist(s)\n",
    "plt.show()"
   ]
  },
  {
   "cell_type": "code",
   "execution_count": 27,
   "metadata": {},
   "outputs": [
    {
     "data": {
      "image/png": "[encoded data removed]",
      "text/plain": [
       "<Figure size 432x288 with 3 Axes>"
      ]
     },
     "metadata": {
      "needs_background": "light"
     },
     "output_type": "display_data"
    }
   ],
   "source": [
    "X1 = truncated_normal(mean=2, sd=1, low=1, upp=10)\n",
    "X2 = truncated_normal(mean=5.5, sd=1, low=1, upp=10)\n",
    "X3 = truncated_normal(mean=8, sd=1, low=1, upp=10)\n",
    "\n",
    "import matplotlib.pyplot as plt\n",
    "fig, ax = plt.subplots(3, sharex=True)\n",
    "ax[0].hist(X1.rvs(10000), density=True)\n",
    "ax[1].hist(X2.rvs(10000), density=True)\n",
    "ax[2].hist(X3.rvs(10000), density=True)\n",
    "plt.show()"
   ]
  },
  {
   "cell_type": "code",
   "execution_count": 28,
   "metadata": {},
   "outputs": [
    {
     "data": {
      "text/plain": [
       "array([[-0.13510597,  0.29700004,  0.49224538],\n",
       "       [ 0.51114962, -0.20422947,  0.57621723],\n",
       "       [ 0.20444528, -0.38538177,  0.53396892],\n",
       "       [ 0.55806814, -0.12442976,  0.21064913]])"
      ]
     },
     "execution_count": 28,
     "metadata": {},
     "output_type": "execute_result"
    }
   ],
   "source": [
    "no_of_input_nodes = 3\n",
    "no_of_hidden_nodes = 4\n",
    "rad = 1 / np.sqrt(no_of_input_nodes)\n",
    "\n",
    "X = truncated_normal(mean=2, sd=1, low=-rad, upp=rad)\n",
    "wih = X.rvs((no_of_hidden_nodes, no_of_input_nodes))\n",
    "wih"
   ]
  },
  {
   "cell_type": "code",
   "execution_count": 29,
   "metadata": {},
   "outputs": [
    {
     "data": {
      "text/plain": [
       "array([[-0.29834289,  0.41486932,  0.38892975,  0.43538268],\n",
       "       [-0.41602134,  0.11431552,  0.46697699,  0.32421648]])"
      ]
     },
     "execution_count": 29,
     "metadata": {},
     "output_type": "execute_result"
    }
   ],
   "source": [
    "no_of_output_nodes = 2\n",
    "rad = 1 / np.sqrt(no_of_hidden_nodes)  # this is the input in this layer!\n",
    "\n",
    "X = truncated_normal(mean=2, sd=1, low=-rad, upp=rad)\n",
    "who = X.rvs((no_of_output_nodes, no_of_hidden_nodes))\n",
    "who"
   ]
  },
  {
   "cell_type": "markdown",
   "metadata": {},
   "source": [
    "## A Neural Network Class\n"
   ]
  },
  {
   "cell_type": "code",
   "execution_count": 30,
   "metadata": {},
   "outputs": [
    {
     "name": "stdout",
     "output_type": "stream",
     "text": [
      "[[ 0.20893596  0.1643949  -0.14601219]\n",
      " [ 0.54862144 -0.49605138 -0.40624314]\n",
      " [-0.41218904  0.38017846  0.07646336]\n",
      " [ 0.40183289  0.30049875  0.48368839]]\n",
      "[[ 0.36311192  0.02547155  0.15618775 -0.08111601]\n",
      " [ 0.32261276 -0.0866499  -0.44097909 -0.31657407]]\n"
     ]
    }
   ],
   "source": [
    "import numpy as np\n",
    "\n",
    "class NeuralNetwork:\n",
    "    \n",
    "    def __init__(self, \n",
    "                 no_of_in_nodes, \n",
    "                 no_of_out_nodes, \n",
    "                 no_of_hidden_nodes,\n",
    "                 learning_rate):\n",
    "        self.no_of_in_nodes = no_of_in_nodes\n",
    "        self.no_of_out_nodes = no_of_out_nodes \n",
    "        self.no_of_hidden_nodes = no_of_hidden_nodes\n",
    "        self.learning_rate = learning_rate  \n",
    "        self.create_weight_matrices()\n",
    "\n",
    "\n",
    "        \n",
    "    def create_weight_matrices(self):\n",
    "\n",
    "        rad = 1 / np.sqrt(self.no_of_in_nodes)\n",
    "        X = truncated_normal(mean=0, sd=1, low=-rad, upp=rad)\n",
    "        self.weights_in_hidden = X.rvs((self.no_of_hidden_nodes, \n",
    "                                       self.no_of_in_nodes))\n",
    "\n",
    "        rad = 1 / np.sqrt(self.no_of_hidden_nodes)\n",
    "        X = truncated_normal(mean=0, sd=1, low=-rad, upp=rad)\n",
    "        self.weights_hidden_out = X.rvs((self.no_of_out_nodes, \n",
    "                                        self.no_of_hidden_nodes))\n",
    "             \n",
    "    \n",
    "    def train(self):\n",
    "        pass\n",
    "    \n",
    "    def run(self):\n",
    "        pass\n",
    "    \n",
    "\n",
    "    \n",
    "if __name__ == \"__main__\":\n",
    "    simple_network = NeuralNetwork(no_of_in_nodes = 3, \n",
    "                                   no_of_out_nodes = 2, \n",
    "                                   no_of_hidden_nodes = 4,\n",
    "                                   learning_rate = 0.1)\n",
    "    print(simple_network.weights_in_hidden)\n",
    "    print(simple_network.weights_hidden_out)"
   ]
  },
  {
   "cell_type": "markdown",
   "metadata": {},
   "source": [
    "## Activation Functions, Sigmoid and ReLU\n"
   ]
  },
  {
   "cell_type": "code",
   "execution_count": 31,
   "metadata": {},
   "outputs": [
    {
     "data": {
      "image/png": "[encoded data removed]",
      "text/plain": [
       "<Figure size 432x288 with 1 Axes>"
      ]
     },
     "metadata": {
      "needs_background": "light"
     },
     "output_type": "display_data"
    }
   ],
   "source": [
    "import numpy as np\n",
    "import matplotlib.pyplot as plt\n",
    "def sigma(x):\n",
    "    return 1 / (1 + np.exp(-x))\n",
    "\n",
    "X = np.linspace(-5, 5, 100)\n",
    "\n",
    "\n",
    "plt.plot(X, sigma(X),'b')\n",
    "plt.xlabel('X Axis')\n",
    "plt.ylabel('Y Axis')\n",
    "plt.title('Sigmoid Function')\n",
    "\n",
    "plt.grid()\n",
    "\n",
    "plt.text(4, 0.8, r'$\\sigma(x)=\\frac{1}{1+e^{-x}}$', fontsize=16)\n",
    "\n",
    "\n",
    "plt.show()"
   ]
  },
  {
   "cell_type": "code",
   "execution_count": 34,
   "metadata": {},
   "outputs": [
    {
     "name": "stdout",
     "output_type": "stream",
     "text": [
      "0.9677045353015494\n",
      "[0.95257413 0.98201379 0.73105858]\n",
      "[0.68997448 0.90887704 0.99966465]\n"
     ]
    },
    {
     "data": {
      "text/plain": [
       "[<matplotlib.lines.Line2D at 0x1b5faafeb38>]"
      ]
     },
     "execution_count": 34,
     "metadata": {},
     "output_type": "execute_result"
    },
    {
     "data": {
      "image/png": "[encoded data removed]",
      "text/plain": [
       "<Figure size 432x288 with 1 Axes>"
      ]
     },
     "metadata": {
      "needs_background": "light"
     },
     "output_type": "display_data"
    }
   ],
   "source": [
    "from scipy.special import expit\n",
    "print(expit(3.4))\n",
    "print(expit([3, 4, 1]))\n",
    "print(expit(np.array([0.8, 2.3, 8])))\n",
    "\n",
    "x = np.arange(-10,10,0.1)\n",
    "y = expit(x)\n",
    "plt.plot(x,y)"
   ]
  },
  {
   "cell_type": "markdown",
   "metadata": {},
   "source": [
    "## Adding a run Method\n"
   ]
  },
  {
   "cell_type": "code",
   "execution_count": 35,
   "metadata": {},
   "outputs": [
    {
     "data": {
      "text/plain": [
       "array([[0.36746126],\n",
       "       [0.45180818]])"
      ]
     },
     "execution_count": 35,
     "metadata": {},
     "output_type": "execute_result"
    }
   ],
   "source": [
    "from scipy.special import expit as activation_function\n",
    "import numpy as np\n",
    "from scipy.special import expit as activation_function\n",
    "from scipy.stats import truncnorm\n",
    "\n",
    "def truncated_normal(mean=0, sd=1, low=0, upp=10):\n",
    "    return truncnorm(\n",
    "        (low - mean) / sd, (upp - mean) / sd, loc=mean, scale=sd)\n",
    "\n",
    "\n",
    "class NeuralNetwork:\n",
    "           \n",
    "    def __init__(self, \n",
    "                 no_of_in_nodes, \n",
    "                 no_of_out_nodes, \n",
    "                 no_of_hidden_nodes,\n",
    "                 learning_rate):\n",
    "        self.no_of_in_nodes = no_of_in_nodes\n",
    "        self.no_of_out_nodes = no_of_out_nodes\n",
    "        self.no_of_hidden_nodes = no_of_hidden_nodes\n",
    "        self.learning_rate = learning_rate \n",
    "        self.create_weight_matrices()\n",
    "        \n",
    "    def create_weight_matrices(self):\n",
    "        \"\"\" A method to initialize the weight matrices of the neural network\"\"\"\n",
    "        rad = 1 / np.sqrt(self.no_of_in_nodes)\n",
    "        X = truncated_normal(mean=0, sd=1, low=-rad, upp=rad)\n",
    "        self.weights_in_hidden = X.rvs((self.no_of_hidden_nodes, \n",
    "                                       self.no_of_in_nodes))\n",
    "        rad = 1 / np.sqrt(self.no_of_hidden_nodes)\n",
    "        X = truncated_normal(mean=0, sd=1, low=-rad, upp=rad)\n",
    "        self.weights_hidden_out = X.rvs((self.no_of_out_nodes, \n",
    "                                        self.no_of_hidden_nodes))\n",
    "    \n",
    "    \n",
    "    def train(self, input_vector, target_vector):\n",
    "        pass\n",
    "            \n",
    "    \n",
    "    def run(self, input_vector):\n",
    "        \"\"\"\n",
    "        running the network with an input vector input_vector. \n",
    "        input_vector can be tuple, list or ndarray\n",
    "        \"\"\"\n",
    "        \n",
    "        # turning the input vector into a column vector\n",
    "        input_vector = np.array(input_vector, ndmin=2).T\n",
    "\n",
    "        output_vector = np.dot(self.weights_in_hidden, input_vector)\n",
    "        output_vector = activation_function(output_vector)\n",
    "        \n",
    "        output_vector = np.dot(self.weights_hidden_out, output_vector)\n",
    "        output_vector = activation_function(output_vector)\n",
    "    \n",
    "        return output_vector\n",
    "    \n",
    "simple_network = NeuralNetwork(no_of_in_nodes=2, \n",
    "                               no_of_out_nodes=2, \n",
    "                               no_of_hidden_nodes=10,\n",
    "                               learning_rate=0.6)\n",
    "\n",
    "simple_network.run([(3, 4)])"
   ]
  },
  {
   "cell_type": "markdown",
   "metadata": {},
   "source": [
    "## Add training support"
   ]
  },
  {
   "cell_type": "code",
   "execution_count": 44,
   "metadata": {},
   "outputs": [],
   "source": [
    "import numpy as np\n",
    "\n",
    "@np.vectorize\n",
    "def sigmoid(x):\n",
    "    return 1 / (1 + np.e ** -x)\n",
    "activation_function = sigmoid\n",
    "\n",
    "from scipy.stats import truncnorm\n",
    "\n",
    "def truncated_normal(mean=0, sd=1, low=0, upp=10):\n",
    "    return truncnorm(\n",
    "        (low - mean) / sd, (upp - mean) / sd, loc=mean, scale=sd)\n",
    "\n",
    "\n",
    "class NeuralNetwork:\n",
    "    \n",
    "    def __init__(self, \n",
    "                 no_of_in_nodes, \n",
    "                 no_of_out_nodes, \n",
    "                 no_of_hidden_nodes,\n",
    "                 learning_rate):\n",
    "        self.no_of_in_nodes = no_of_in_nodes\n",
    "        self.no_of_out_nodes = no_of_out_nodes\n",
    "        self.no_of_hidden_nodes = no_of_hidden_nodes\n",
    "        self.learning_rate = learning_rate \n",
    "        self.create_weight_matrices()\n",
    "        \n",
    "    def create_weight_matrices(self):\n",
    "        \"\"\" A method to initialize the weight matrices of the neural network\"\"\"\n",
    "        rad = 1 / np.sqrt(self.no_of_in_nodes)\n",
    "        X = truncated_normal(mean=0, sd=1, low=-rad, upp=rad)\n",
    "        self.weights_in_hidden = X.rvs((self.no_of_hidden_nodes, \n",
    "                                       self.no_of_in_nodes))\n",
    "        rad = 1 / np.sqrt(self.no_of_hidden_nodes)\n",
    "        X = truncated_normal(mean=0, sd=1, low=-rad, upp=rad)\n",
    "        self.weights_hidden_out = X.rvs((self.no_of_out_nodes, \n",
    "                                        self.no_of_hidden_nodes))\n",
    "        \n",
    "    \n",
    "    def train(self, input_vector, target_vector):\n",
    "        # input_vector and target_vector can be tuple, list or ndarray\n",
    "        \n",
    "        input_vector = np.array(input_vector, ndmin=2).T\n",
    "        target_vector = np.array(target_vector, ndmin=2).T\n",
    "\n",
    "        \n",
    "        output_vector1 = np.dot(self.weights_in_hidden, input_vector)\n",
    "        output_vector_hidden = activation_function(output_vector1)\n",
    "        \n",
    "        output_vector2 = np.dot(self.weights_hidden_out, output_vector_hidden)\n",
    "        output_vector_network = activation_function(output_vector2)\n",
    "        \n",
    "        output_errors = target_vector - output_vector_network\n",
    "        # update the weights:\n",
    "        tmp = output_errors * output_vector_network * (1.0 - output_vector_network)     \n",
    "        tmp = self.learning_rate  * np.dot(tmp, output_vector_hidden.T)\n",
    "        self.weights_hidden_out += tmp\n",
    "\n",
    "\n",
    "        # calculate hidden errors:\n",
    "        hidden_errors = np.dot(self.weights_hidden_out.T, output_errors)\n",
    "        # update the weights:\n",
    "        tmp = hidden_errors * output_vector_hidden * (1.0 - output_vector_hidden)\n",
    "        self.weights_in_hidden += self.learning_rate * np.dot(tmp, input_vector.T)\n",
    "           \n",
    "    \n",
    "    def run(self, input_vector):\n",
    "        # input_vector can be tuple, list or ndarray\n",
    "        input_vector = np.array(input_vector, ndmin=2).T\n",
    "\n",
    "        output_vector = np.dot(self.weights_in_hidden, input_vector)\n",
    "        output_vector = activation_function(output_vector)\n",
    "        \n",
    "        output_vector = np.dot(self.weights_hidden_out, output_vector)\n",
    "        output_vector = activation_function(output_vector)\n",
    "    \n",
    "        return output_vector\n",
    "    "
   ]
  },
  {
   "cell_type": "markdown",
   "metadata": {},
   "source": [
    "### prepare data for test"
   ]
  },
  {
   "cell_type": "code",
   "execution_count": 38,
   "metadata": {},
   "outputs": [
    {
     "data": {
      "image/png": "[encoded data removed]",
      "text/plain": [
       "<Figure size 432x288 with 1 Axes>"
      ]
     },
     "metadata": {
      "needs_background": "light"
     },
     "output_type": "display_data"
    }
   ],
   "source": [
    "from matplotlib import pyplot as plt\n",
    "\n",
    "data1 = [((3, 4), (0.99, 0.01)), ((4.2, 5.3), (0.99, 0.01)), \n",
    "         ((4, 3), (0.99, 0.01)), ((6, 5), (0.99, 0.01)), \n",
    "         ((4, 6), (0.99, 0.01)), ((3.7, 5.8), (0.99, 0.01)), \n",
    "         ((3.2, 4.6), (0.99, 0.01)), ((5.2, 5.9), (0.99, 0.01)), \n",
    "         ((5, 4), (0.99, 0.01)), ((7, 4), (0.99, 0.01)), \n",
    "         ((3, 7), (0.99, 0.01)), ((4.3, 4.3), (0.99, 0.01))]\n",
    "\n",
    "data2 = [((-3, -4), (0.01, 0.99)), ((-2, -3.5), (0.01, 0.99)), \n",
    "         ((-1, -6), (0.01, 0.99)), ((-3, -4.3), (0.01, 0.99)), \n",
    "         ((-4, -5.6), (0.01, 0.99)), ((-3.2, -4.8), (0.01, 0.99)), \n",
    "         ((-2.3, -4.3), (0.01, 0.99)), ((-2.7, -2.6), (0.01, 0.99)), \n",
    "         ((-1.5, -3.6), (0.01, 0.99)), ((-3.6, -5.6), (0.01, 0.99)), \n",
    "         ((-4.5, -4.6), (0.01, 0.99)), ((-3.7, -5.8), (0.01, 0.99))]\n",
    "\n",
    "\n",
    "\n",
    "data = data1 + data2\n",
    "np.random.shuffle(data)\n",
    "\n",
    "points1, labels1 = zip(*data1)\n",
    "X, Y = zip(*points1)\n",
    "plt.scatter(X, Y, c=\"r\")\n",
    "\n",
    "points2, labels2 = zip(*data2)\n",
    "X, Y = zip(*points2)\n",
    "plt.scatter(X, Y, c=\"b\")\n",
    "plt.show()    "
   ]
  },
  {
   "cell_type": "markdown",
   "metadata": {},
   "source": [
    "## Test our network"
   ]
  },
  {
   "cell_type": "code",
   "execution_count": 39,
   "metadata": {},
   "outputs": [
    {
     "name": "stdout",
     "output_type": "stream",
     "text": [
      "\n",
      "(4, 3) [0.73595758] [0.3076826]: class1 correct (0.99, 0.01)\n",
      "(-1.5, -3.6) [0.35929606] [0.67743152]: class1 correct (0.01, 0.99)\n",
      "(3, 7) [0.7382915] [0.30485612]: class1 correct (0.99, 0.01)\n",
      "(-2.7, -2.6) [0.35662696] [0.67952668]: class1 correct (0.01, 0.99)\n",
      "(-3.6, -5.6) [0.34732936] [0.68876721]: class1 correct (0.01, 0.99)\n",
      "(4.2, 5.3) [0.73817055] [0.30502523]: class1 correct (0.99, 0.01)\n",
      "(4.3, 4.3) [0.7377377] [0.30555167]: class1 correct (0.99, 0.01)\n",
      "(5.2, 5.9) [0.73854166] [0.30458728]: class1 correct (0.99, 0.01)\n",
      "(-1, -6) [0.35073433] [0.68569438]: class1 correct (0.01, 0.99)\n",
      "(3.7, 5.8) [0.73815521] [0.30503131]: class1 correct (0.99, 0.01)\n",
      "(7, 4) [0.73852957] [0.30461445]: class1 correct (0.99, 0.01)\n",
      "(-2.3, -4.3) [0.35119014] [0.6850363]: class1 correct (0.01, 0.99)\n",
      "(-3.7, -5.8) [0.34718124] [0.68891542]: class1 correct (0.01, 0.99)\n",
      "(3.2, 4.6) [0.73697824] [0.30639237]: class1 correct (0.99, 0.01)\n",
      "(3, 4) [0.73579092] [0.30775822]: class1 correct (0.99, 0.01)\n",
      "(5, 4) [0.73797912] [0.3052799]: class1 correct (0.99, 0.01)\n",
      "(-2, -3.5) [0.35601769] [0.68039153]: class1 correct (0.01, 0.99)\n",
      "(-3, -4.3) [0.34936033] [0.68675254]: class1 correct (0.01, 0.99)\n",
      "(6, 5) [0.73853087] [0.30460653]: class1 correct (0.99, 0.01)\n",
      "(-3.2, -4.8) [0.34831721] [0.6877853]: class1 correct (0.01, 0.99)\n",
      "(-3, -4) [0.34995077] [0.68615883]: class1 correct (0.01, 0.99)\n"
     ]
    }
   ],
   "source": [
    "simple_network = NeuralNetwork(no_of_in_nodes=2, \n",
    "                               no_of_out_nodes=2, \n",
    "                               no_of_hidden_nodes=2,\n",
    "                               learning_rate=0.6)\n",
    "    \n",
    "size_of_learn_sample = int(len(data)*0.9)\n",
    "learn_data = data[:size_of_learn_sample]\n",
    "test_data = data[-size_of_learn_sample:]\n",
    "print()\n",
    "\n",
    "\n",
    "for i in range(size_of_learn_sample):\n",
    "    point, label = learn_data[i][0], learn_data[i][1]\n",
    "    simple_network.train(point, label)\n",
    "    \n",
    "for i in range(size_of_learn_sample):\n",
    "    point, label = learn_data[i][0], learn_data[i][1]\n",
    "    cls1, cls2 =simple_network.run(point)\n",
    "    print(point, cls1, cls2, end=\": \")\n",
    "    if cls1 > cls2:\n",
    "        if label == (0.99, 0.01):\n",
    "            print(\"class1 correct\", label)\n",
    "        else:\n",
    "            print(\"class2 incorrect\", label)\n",
    "    else:\n",
    "        if label == (0.01, 0.99):\n",
    "            print(\"class1 correct\", label)\n",
    "        else:\n",
    "            print(\"class2 incorrect\", label)"
   ]
  },
  {
   "cell_type": "markdown",
   "metadata": {},
   "source": [
    "### alternative activation function"
   ]
  },
  {
   "cell_type": "code",
   "execution_count": 40,
   "metadata": {},
   "outputs": [
    {
     "data": {
      "image/png": "[encoded data removed]",
      "text/plain": [
       "<Figure size 432x288 with 1 Axes>"
      ]
     },
     "metadata": {
      "needs_background": "light"
     },
     "output_type": "display_data"
    }
   ],
   "source": [
    "# alternative activation function\n",
    "def ReLU(x):\n",
    "    return np.maximum(0.0, x)\n",
    "\n",
    "# derivation of relu\n",
    "def ReLU_derivation(x):\n",
    "    if x <= 0:\n",
    "        return 0\n",
    "    else:\n",
    "        return 1\n",
    "import numpy as np\n",
    "import matplotlib.pyplot as plt\n",
    "\n",
    "X = np.linspace(-5, 5, 100)\n",
    "plt.plot(X, ReLU(X),'b')\n",
    "plt.xlabel('X Axis')\n",
    "plt.ylabel('Y Axis')\n",
    "plt.title('ReLU Function')\n",
    "plt.grid()\n",
    "plt.text(3, 0.8, r'$ReLU(x)=max(0.0, x)$', fontsize=16)\n",
    "plt.show()"
   ]
  },
  {
   "cell_type": "markdown",
   "metadata": {},
   "source": [
    "## Neural Network with Bias Nodes\n"
   ]
  },
  {
   "cell_type": "code",
   "execution_count": 57,
   "metadata": {},
   "outputs": [],
   "source": [
    "import numpy as np\n",
    "\n",
    "@np.vectorize\n",
    "def sigmoid(x):\n",
    "    return 1 / (1 + np.e ** -x)\n",
    "activation_function = sigmoid\n",
    "\n",
    "from scipy.stats import truncnorm\n",
    "\n",
    "def truncated_normal(mean=0, sd=1, low=0, upp=10):\n",
    "    return truncnorm(\n",
    "        (low - mean) / sd, (upp - mean) / sd, loc=mean, scale=sd)\n",
    "\n",
    "\n",
    "class NeuralNetwork:\n",
    "        \n",
    "    \n",
    "    def __init__(self, \n",
    "                 no_of_in_nodes, \n",
    "                 no_of_out_nodes, \n",
    "                 no_of_hidden_nodes,\n",
    "                 learning_rate,\n",
    "                 bias=None\n",
    "                ):  \n",
    "\n",
    "        self.no_of_in_nodes = no_of_in_nodes\n",
    "        self.no_of_out_nodes = no_of_out_nodes\n",
    "        \n",
    "        self.no_of_hidden_nodes = no_of_hidden_nodes\n",
    "            \n",
    "        self.learning_rate = learning_rate \n",
    "        self.bias = bias\n",
    "        self.create_weight_matrices()\n",
    "    \n",
    "        \n",
    "    \n",
    "    def create_weight_matrices(self):\n",
    "        \"\"\" A method to initialize the weight matrices of the neural \n",
    "        network with optional bias nodes\"\"\"\n",
    "        \n",
    "        bias_node = 1 if self.bias else 0\n",
    "        \n",
    "        rad = 1 / np.sqrt(self.no_of_in_nodes + bias_node)\n",
    "        X = truncated_normal(mean=0, sd=1, low=-rad, upp=rad)\n",
    "        self.weights_in_hidden = X.rvs((self.no_of_hidden_nodes, \n",
    "                                       self.no_of_in_nodes + bias_node))\n",
    "\n",
    "        rad = 1 / np.sqrt(self.no_of_hidden_nodes + bias_node)\n",
    "        X = truncated_normal(mean=0, sd=1, low=-rad, upp=rad)\n",
    "        self.weights_hidden_out = X.rvs((self.no_of_out_nodes, \n",
    "                                        self.no_of_hidden_nodes + bias_node))\n",
    "        \n",
    "        \n",
    "        \n",
    "    def train(self, input_vector, target_vector):\n",
    "        # input_vector and target_vector can be tuple, list or ndarray\n",
    "        \n",
    "        bias_node = 1 if self.bias else 0\n",
    "        if self.bias:\n",
    "            # adding bias node to the end of the inpuy_vector\n",
    "            input_vector = np.concatenate( (input_vector, [self.bias]) )\n",
    "                                    \n",
    "            \n",
    "        input_vector = np.array(input_vector, ndmin=2).T\n",
    "        target_vector = np.array(target_vector, ndmin=2).T\n",
    "\n",
    "        \n",
    "        output_vector1 = np.dot(self.weights_in_hidden, input_vector)\n",
    "        output_vector_hidden = activation_function(output_vector1)\n",
    "        \n",
    "        if self.bias:\n",
    "            output_vector_hidden = np.concatenate( (output_vector_hidden, [[self.bias]]) )\n",
    "        \n",
    "        \n",
    "        output_vector2 = np.dot(self.weights_hidden_out, output_vector_hidden)\n",
    "        output_vector_network = activation_function(output_vector2)\n",
    "        \n",
    "        output_errors = target_vector - output_vector_network\n",
    "        # update the weights:\n",
    "        tmp = output_errors * output_vector_network * (1.0 - output_vector_network)     \n",
    "        tmp = self.learning_rate  * np.dot(tmp, output_vector_hidden.T)\n",
    "        self.weights_hidden_out += tmp\n",
    "\n",
    "\n",
    "        # calculate hidden errors:\n",
    "        hidden_errors = np.dot(self.weights_hidden_out.T, output_errors)\n",
    "        # update the weights:\n",
    "        tmp = hidden_errors * output_vector_hidden * (1.0 - output_vector_hidden)\n",
    "        if self.bias:\n",
    "            x = np.dot(tmp, input_vector.T)[:-1,:]     # ???? last element cut off, ???\n",
    "        else:\n",
    "            x = np.dot(tmp, input_vector.T)\n",
    "        self.weights_in_hidden += self.learning_rate * x\n",
    "        \n",
    "       \n",
    "    \n",
    "    def run(self, input_vector):\n",
    "        # input_vector can be tuple, list or ndarray\n",
    "        \n",
    "        if self.bias:\n",
    "            # adding bias node to the end of the inpuy_vector\n",
    "            input_vector = np.concatenate( (input_vector, [1]) )\n",
    "        input_vector = np.array(input_vector, ndmin=2).T\n",
    "\n",
    "        output_vector = np.dot(self.weights_in_hidden, input_vector)\n",
    "        output_vector = activation_function(output_vector)\n",
    "        \n",
    "        if self.bias:\n",
    "            output_vector = np.concatenate( (output_vector, [[1]]) )\n",
    "            \n",
    "\n",
    "        output_vector = np.dot(self.weights_hidden_out, output_vector)\n",
    "        output_vector = activation_function(output_vector)\n",
    "    \n",
    "        return output_vector\n",
    "            \n",
    "    \n"
   ]
  },
  {
   "cell_type": "markdown",
   "metadata": {},
   "source": [
    "## labeling data"
   ]
  },
  {
   "cell_type": "code",
   "execution_count": 58,
   "metadata": {},
   "outputs": [
    {
     "name": "stdout",
     "output_type": "stream",
     "text": [
      "[[(-2, -3.5), [0, 1]], [(-1.5, -3.6), [0, 1]], [(5.2, 5.9), [1, 0]], [(3, 7), [1, 0]], [(-1, -6), [0, 1]], [(-2.3, -4.3), [0, 1]], [(5, 4), [1, 0]], [(4, 6), [1, 0]], [(3.2, 4.6), [1, 0]], [(4, 3), [1, 0]]]\n"
     ]
    }
   ],
   "source": [
    "class1 = [(3, 4), (4.2, 5.3), (4, 3), (6, 5), (4, 6), (3.7, 5.8),\n",
    "          (3.2, 4.6), (5.2, 5.9), (5, 4), (7, 4), (3, 7), (4.3, 4.3) ] \n",
    "class2 = [(-3, -4), (-2, -3.5), (-1, -6), (-3, -4.3), (-4, -5.6), \n",
    "          (-3.2, -4.8), (-2.3, -4.3), (-2.7, -2.6), (-1.5, -3.6), \n",
    "          (-3.6, -5.6), (-4.5, -4.6), (-3.7, -5.8) ]\n",
    "\n",
    "labeled_data = []\n",
    "for el in class1:\n",
    "    labeled_data.append( [el, [1, 0]])\n",
    "for el in class2:\n",
    "    labeled_data.append([el, [0, 1]])\n",
    "  \n",
    "\n",
    "np.random.shuffle(labeled_data)\n",
    "print(labeled_data[:10])\n",
    "\n",
    "data, labels = zip(*labeled_data)\n",
    "labels = np.array(labels)\n",
    "data = np.array(data)"
   ]
  },
  {
   "cell_type": "markdown",
   "metadata": {},
   "source": [
    "## Testing"
   ]
  },
  {
   "cell_type": "code",
   "execution_count": 59,
   "metadata": {},
   "outputs": [
    {
     "name": "stdout",
     "output_type": "stream",
     "text": [
      "[0 1]\n",
      "[[0.09178397]\n",
      " [0.90988315]]\n",
      "[0 1]\n",
      "[[0.09432929]\n",
      " [0.90761867]]\n",
      "[1 0]\n",
      "[[0.93234623]\n",
      " [0.0654507 ]]\n",
      "[1 0]\n",
      "[[0.9321864 ]\n",
      " [0.06555764]]\n",
      "[0 1]\n",
      "[[0.08500155]\n",
      " [0.91732182]]\n",
      "[0 1]\n",
      "[[0.0863763 ]\n",
      " [0.91549427]]\n",
      "[1 0]\n",
      "[[0.931329  ]\n",
      " [0.06669803]]\n",
      "[1 0]\n",
      "[[0.93214255]\n",
      " [0.06564567]]\n",
      "[1 0]\n",
      "[[0.93061345]\n",
      " [0.06727407]]\n",
      "[1 0]\n",
      "[[0.92815353]\n",
      " [0.07032432]]\n",
      "[0 1]\n",
      "[[0.08558809]\n",
      " [0.91610775]]\n",
      "[0 1]\n",
      "[[0.08478356]\n",
      " [0.91700255]]\n",
      "[0 1]\n",
      "[[0.08223305]\n",
      " [0.91971809]]\n",
      "[0 1]\n",
      "[[0.0835472 ]\n",
      " [0.91833112]]\n",
      "[1 0]\n",
      "[[0.92916549]\n",
      " [0.06883213]]\n",
      "[1 0]\n",
      "[[0.93204019]\n",
      " [0.06594383]]\n",
      "[0 1]\n",
      "[[0.09526096]\n",
      " [0.9054501 ]]\n",
      "[1 0]\n",
      "[[0.93224122]\n",
      " [0.06561159]]\n",
      "[1 0]\n",
      "[[0.93197062]\n",
      " [0.0658225 ]]\n",
      "[1 0]\n",
      "[[0.93120134]\n",
      " [0.06676318]]\n",
      "[0 1]\n",
      "[[0.0824183 ]\n",
      " [0.91953902]]\n",
      "[0 1]\n",
      "[[0.0826983 ]\n",
      " [0.91912511]]\n",
      "[0 1]\n",
      "[[0.08225042]\n",
      " [0.91971909]]\n",
      "[1 0]\n",
      "[[0.9319108 ]\n",
      " [0.06592078]]\n"
     ]
    }
   ],
   "source": [
    "simple_network = NeuralNetwork(no_of_in_nodes=2, \n",
    "                               no_of_out_nodes=2, \n",
    "                               no_of_hidden_nodes=10,\n",
    "                               learning_rate=0.1,\n",
    "                               bias=None)\n",
    "\n",
    "\n",
    "for _ in range(20):\n",
    "    for i in range(len(data)):\n",
    "        simple_network.train(data[i], labels[i])\n",
    "for i in range(len(data)):\n",
    "    print(labels[i])\n",
    "    print(simple_network.run(data[i]))"
   ]
  },
  {
   "cell_type": "code",
   "execution_count": 76,
   "metadata": {},
   "outputs": [
    {
     "name": "stdout",
     "output_type": "stream",
     "text": [
      "[[-0.38403303  0.19534396 -0.4473791 ]\n",
      " [-0.10370697 -0.45691485 -0.54590038]\n",
      " [ 0.4996629   0.05886338 -0.25002058]\n",
      " [-0.24727834  0.1701959   0.28919637]\n",
      " [-0.23910174 -0.21190417  0.23702229]\n",
      " [ 0.44736638  0.41308319  0.23938906]\n",
      " [-0.55983184  0.04148495 -0.47223988]\n",
      " [-0.21543645  0.57495235 -0.18719052]\n",
      " [-0.36304285  0.39468768 -0.38109611]\n",
      " [-0.11864761 -0.13141775 -0.44644304]]\n",
      "[[ 0.15853553  0.05751049 -0.23152594  0.09663134 -0.06896159 -0.08310336\n",
      "   0.26859057 -0.02712447 -0.20658781  0.19252424  0.09752955]\n",
      " [ 0.2256526   0.14483042  0.28400938  0.03361617  0.11413434  0.13185013\n",
      "   0.12692875 -0.25351741 -0.21134333  0.2087866  -0.06608506]]\n",
      "[-2.  -3.5] [0.07932533] [0.9276988]: class1 correct [0 1]\n",
      "[-1.5 -3.6] [0.08134071] [0.92504287]: class1 correct [0 1]\n",
      "[5.2 5.9] [0.91504519] [0.078211]: class1 correct [1 0]\n",
      "[3. 7.] [0.91494564] [0.07839129]: class1 correct [1 0]\n",
      "[-1. -6.] [0.07272438] [0.93369872]: class1 correct [0 1]\n",
      "[-2.3 -4.3] [0.07408562] [0.93318084]: class1 correct [0 1]\n",
      "[5. 4.] [0.91368199] [0.07976188]: class1 correct [1 0]\n",
      "[4. 6.] [0.91486303] [0.07843531]: class1 correct [1 0]\n",
      "[3.2 4.6] [0.91324354] [0.08023762]: class1 correct [1 0]\n",
      "[4. 3.] [0.90960956] [0.08419608]: class1 correct [1 0]\n",
      "[-3. -4.] [0.07349717] [0.93414827]: class1 correct [0 1]\n",
      "[-3.  -4.3] [0.07265697] [0.9349768]: class1 correct [0 1]\n",
      "[-4.  -5.6] [0.07011094] [0.93777061]: class1 correct [0 1]\n",
      "[-3.2 -4.8] [0.07141632] [0.93628669]: class1 correct [0 1]\n",
      "[3. 4.] [0.9116315] [0.0819712]: class1 correct [1 0]\n",
      "[7. 4.] [0.91448165] [0.07891754]: class1 correct [1 0]\n",
      "[-2.7 -2.6] [0.08391825] [0.92397634]: class1 correct [0 1]\n",
      "[6. 5.] [0.91486426] [0.07842605]: class1 correct [1 0]\n",
      "[3.7 5.8] [0.91469299] [0.07863554]: class1 correct [1 0]\n",
      "[4.3 4.3] [0.9136684] [0.07975368]: class1 correct [1 0]\n",
      "[-3.6 -5.6] [0.07029188] [0.93752776]: class1 correct [0 1]\n",
      "[-4.5 -4.6] [0.07063103] [0.93730696]: class1 correct [0 1]\n",
      "[-3.7 -5.8] [0.07012422] [0.93771894]: class1 correct [0 1]\n",
      "[4.2 5.3] [0.91457973] [0.07874526]: class1 correct [1 0]\n",
      "[[-0.78950416 -0.44604035 -0.37846662]\n",
      " [-0.41916193 -0.89472754 -0.47644764]\n",
      " [-0.29865594 -0.97190995 -0.20049976]\n",
      " [ 0.30123983  0.8690449   0.24484102]\n",
      " [-0.61350378 -0.72149927  0.25434035]\n",
      " [ 0.63292398  0.68585099  0.200822  ]\n",
      " [-0.76976087 -0.29701273 -0.43422547]\n",
      " [ 0.23572549  1.06971594 -0.17596231]\n",
      " [ 0.13580298  0.92675484 -0.33043264]\n",
      " [-0.50568388 -0.6797314  -0.38768327]]\n",
      "[[-0.2784195  -0.59138523 -0.70029951  0.62461372 -0.72065275  0.64192465\n",
      "  -0.13501822  0.68580851  0.27329157 -0.32666852  0.15532433]\n",
      " [ 0.48122853  0.54234567  0.53936219 -0.39516492  0.50948535 -0.44084158\n",
      "   0.36706361 -0.81247201 -0.59462531  0.51855262 -0.2291342 ]]\n",
      "24 0\n"
     ]
    }
   ],
   "source": [
    "simple_network = NeuralNetwork(no_of_in_nodes=2, \n",
    "                               no_of_out_nodes=2, \n",
    "                               no_of_hidden_nodes=10,\n",
    "                               learning_rate=0.1,\n",
    "                               bias=True)\n",
    "print(simple_network.weights_in_hidden)\n",
    "print(simple_network.weights_hidden_out)    \n",
    "for x in range(20):\n",
    "    for i in range(len(data)):\n",
    "        #print(i)\n",
    "        simple_network.train(data[i], labels[i])\n",
    "        \n",
    "correct=0\n",
    "wrong=0\n",
    "for i in range(len(data)):\n",
    "    #print(labels[i])\n",
    "    cls1, cls2 =simple_network.run(data[i])\n",
    "    print(data[i],cls1,cls2,end=\": \")\n",
    "    if cls1 > cls2:\n",
    "        if labels[i][0] == 1:\n",
    "            print(\"class1 correct\", labels[i])\n",
    "            correct +=1\n",
    "        else:\n",
    "            print(\"class2 incorrect\", labels[i])\n",
    "            wrong +=1\n",
    "    else:\n",
    "        if labels[i][0] == 0:\n",
    "            print(\"class1 correct\", labels[i])\n",
    "            correct +=1\n",
    "        else:\n",
    "            print(\"class2 incorrect\", labels[i])\n",
    "            wrong +=1\n",
    "print(simple_network.weights_in_hidden)\n",
    "print(simple_network.weights_hidden_out)   \n",
    "print(correct, wrong)"
   ]
  },
  {
   "cell_type": "code",
   "execution_count": 73,
   "metadata": {},
   "outputs": [
    {
     "data": {
      "text/plain": [
       "<matplotlib.collections.PathCollection at 0x1b5f89b0fd0>"
      ]
     },
     "execution_count": 73,
     "metadata": {},
     "output_type": "execute_result"
    },
    {
     "data": {
      "image/png": "[encoded data removed]",
      "text/plain": [
       "<Figure size 432x288 with 1 Axes>"
      ]
     },
     "metadata": {
      "needs_background": "light"
     },
     "output_type": "display_data"
    }
   ],
   "source": [
    "X, Y = zip(*data)\n",
    "plt.scatter(X, Y, c=\"r\")"
   ]
  }
 ],
 "metadata": {
  "kernelspec": {
   "display_name": "Python 3",
   "language": "python",
   "name": "python3"
  },
  "language_info": {
   "codemirror_mode": {
    "name": "ipython",
    "version": 3
   },
   "file_extension": ".py",
   "mimetype": "text/x-python",
   "name": "python",
   "nbconvert_exporter": "python",
   "pygments_lexer": "ipython3",
   "version": "3.7.1"
  }
 },
 "nbformat": 4,
 "nbformat_minor": 2
}
