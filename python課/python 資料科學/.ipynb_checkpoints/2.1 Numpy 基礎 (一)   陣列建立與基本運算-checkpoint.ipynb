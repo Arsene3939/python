{
 "cells": [
  {
   "cell_type": "markdown",
   "metadata": {},
   "source": [
    "# Numpy 基礎 (一)  陣列建立與基本運算"
   ]
  },
  {
   "cell_type": "markdown",
   "metadata": {},
   "source": [
    "## Numpy 與 Python 運算效率比較"
   ]
  },
  {
   "cell_type": "code",
   "execution_count": 34,
   "metadata": {},
   "outputs": [
    {
     "name": "stdout",
     "output_type": "stream",
     "text": [
      "595 µs ± 32.1 µs per loop (mean ± std. dev. of 7 runs, 1000 loops each)\n"
     ]
    }
   ],
   "source": [
    "%%timeit\n",
    "import math\n",
    "T=[]\n",
    "sin=[]\n",
    "i=0\n",
    "while i<1000:\n",
    "    t = 0.1*i\n",
    "    T.append(t)\n",
    "    sin.append(math.sin(t))\n",
    "    i+=1"
   ]
  },
  {
   "cell_type": "code",
   "execution_count": 33,
   "metadata": {},
   "outputs": [
    {
     "name": "stdout",
     "output_type": "stream",
     "text": [
      "495 µs ± 13.6 µs per loop (mean ± std. dev. of 7 runs, 1000 loops each)\n"
     ]
    }
   ],
   "source": [
    "%%timeit\n",
    "import math\n",
    "T=[]\n",
    "sin=[]\n",
    "for i in range(1000):\n",
    "    t = 0.1*i\n",
    "    T.append(t)\n",
    "    sin.append(math.sin(t))"
   ]
  },
  {
   "cell_type": "code",
   "execution_count": 32,
   "metadata": {},
   "outputs": [
    {
     "name": "stdout",
     "output_type": "stream",
     "text": [
      "408 µs ± 28.7 µs per loop (mean ± std. dev. of 7 runs, 1000 loops each)\n"
     ]
    }
   ],
   "source": [
    "%%timeit\n",
    "import math\n",
    "T=[0.1*i for i in range(1000)]    \n",
    "sin=[math.sin(t) for t in T]"
   ]
  },
  {
   "cell_type": "code",
   "execution_count": 31,
   "metadata": {},
   "outputs": [
    {
     "name": "stdout",
     "output_type": "stream",
     "text": [
      "24.6 µs ± 984 ns per loop (mean ± std. dev. of 7 runs, 10000 loops each)\n"
     ]
    }
   ],
   "source": [
    "%%timeit\n",
    "import numpy as np\n",
    "T = np.arange(0,100,0.1)    \n",
    "sin = np.sin(T)"
   ]
  },
  {
   "cell_type": "markdown",
   "metadata": {},
   "source": [
    "# Numpy 基礎 (一) "
   ]
  },
  {
   "cell_type": "markdown",
   "metadata": {},
   "source": [
    "### 匯入(import) NumPy"
   ]
  },
  {
   "cell_type": "code",
   "execution_count": 4,
   "metadata": {},
   "outputs": [],
   "source": [
    "import numpy as np"
   ]
  },
  {
   "cell_type": "markdown",
   "metadata": {},
   "source": [
    "### 建立一維陣列\n",
    "\n",
    "np.array( [陣列元素用逗號隔開>] )：簡易一維陣列\n"
   ]
  },
  {
   "cell_type": "code",
   "execution_count": 3,
   "metadata": {},
   "outputs": [
    {
     "name": "stdout",
     "output_type": "stream",
     "text": [
      "[1 2 3 4 5]\n",
      "[1. 2. 3. 4. 5.]\n",
      "[1.25 2.25 3.25 4.25 5.25]\n",
      "[1 2 3 4 5]\n"
     ]
    }
   ],
   "source": [
    "a = np.array([1, 2, 3, 4, 5])\n",
    "b = np.array([1, 2, 3, 4, 5],dtype=float)  #設定資料為浮點數\n",
    "c = np.array([1.25, 2.25, 3.25, 4.25, 5.25])\n",
    "d = np.array([1.25, 2.25, 3.25, 4.25, 5.25],dtype=int) #設定資料為整數\n",
    "\n",
    "print(a,b,c,d,sep='\\n')"
   ]
  },
  {
   "cell_type": "markdown",
   "metadata": {},
   "source": [
    "### 建立二維陣列\n",
    "np.array( [[<Row1陣列元素>], [<Row2陣列元素>]], dtype=np.int16 )：產生型別為int的陣列\n",
    "\n"
   ]
  },
  {
   "cell_type": "code",
   "execution_count": 4,
   "metadata": {},
   "outputs": [
    {
     "name": "stdout",
     "output_type": "stream",
     "text": [
      "[[1.5 2.  3. ]\n",
      " [4.  5.  6. ]]\n"
     ]
    }
   ],
   "source": [
    "b = np.array([(1.5,2,3), (4,5,6)])\n",
    "print(b)"
   ]
  },
  {
   "cell_type": "markdown",
   "metadata": {},
   "source": [
    "### 建立三維陣列"
   ]
  },
  {
   "cell_type": "code",
   "execution_count": 5,
   "metadata": {},
   "outputs": [
    {
     "data": {
      "text/plain": [
       "array([[[1, 2, 3, 4],\n",
       "        [4, 5, 6, 2],\n",
       "        [1, 2, 3, 5]],\n",
       "\n",
       "       [[3, 2, 1, 4],\n",
       "        [4, 5, 6, 7],\n",
       "        [7, 8, 9, 0]]])"
      ]
     },
     "execution_count": 5,
     "metadata": {},
     "output_type": "execute_result"
    }
   ],
   "source": [
    "c = np.array([[(1.5,2,3,4), (4,5,6,2), (1,2,3,5)], [(3,2,1,4), (4,5,6,7),(7,8,9,0)]],dtype = int)\n",
    "c"
   ]
  },
  {
   "cell_type": "markdown",
   "metadata": {},
   "source": [
    "### Numpy data array 的結構\n",
    "\n",
    "<img align=\"center\" style=\"padding-right:10px;\" src=\"figures\\numpy_array_structure.png\">"
   ]
  },
  {
   "cell_type": "markdown",
   "metadata": {},
   "source": [
    "## 重要屬性\n",
    "\n",
    "ndarray.ndim：NumPy ndarray物件的維度  \n",
    "\n",
    "ndarry.shape：ndarry物件的每一個維度的大小(size)，回傳資料類別為Tuple\n",
    "\n",
    "ndarry.size：ndarry物件所組成之array的總元素數量，回應之數值會等於ndarray.shape的每個元素相乘\n",
    "\n",
    "ndarry.dtype：ndarray物件內組成元素的型態\n",
    "\n",
    "ndarray.itemsize：陣列中每一個元素的大小(Bytes) (ex: int16=>16/8=2 Bytes)\n",
    "\n",
    "ndarry.data：這是一個存有實際陣列元素的緩衝，通常我們不需要使用這個屬性，因為我們可以使用index存取這些元素。"
   ]
  },
  {
   "cell_type": "code",
   "execution_count": 6,
   "metadata": {},
   "outputs": [
    {
     "name": "stdout",
     "output_type": "stream",
     "text": [
      "Ndarray:[[[1 2 3 4]\n",
      "  [4 5 6 2]\n",
      "  [1 2 3 5]]\n",
      "\n",
      " [[3 2 1 4]\n",
      "  [4 5 6 7]\n",
      "  [7 8 9 0]]]\n",
      "ndim:3\n",
      "shape:(2, 3, 4)\n",
      "size:24\n",
      "dtype:int32\n",
      "itemsize:4\n",
      "data:<memory at 0x000001614AF33318>\n"
     ]
    }
   ],
   "source": [
    "z=c\n",
    "print(\"Ndarray:{0}\".format(z))\n",
    "# ndarray.ndim\n",
    "print(\"ndim:{0}\".format(z.ndim))\n",
    "# ndarry.shape\n",
    "print(\"shape:{0}\".format(z.shape))\n",
    "# ndarry.size\n",
    "print(\"size:{0}\".format(z.size))\n",
    "# ndarry.dtype\n",
    "print(\"dtype:{0}\".format(z.dtype))\n",
    "# ndarray.itemsize\n",
    "print(\"itemsize:{0}\".format(z.itemsize))\n",
    "# ndarry.data\n",
    "print(\"data:{0}\".format(z.data))"
   ]
  },
  {
   "cell_type": "markdown",
   "metadata": {},
   "source": [
    "## 基本算術運算\n",
    "\n",
    "\n",
    "### 1、純量與陣列運算\n",
    "    \n",
    "    純量作用於陣列的每一元素"
   ]
  },
  {
   "cell_type": "code",
   "execution_count": 5,
   "metadata": {},
   "outputs": [
    {
     "name": "stdout",
     "output_type": "stream",
     "text": [
      "[4 5 6 7 8]\n",
      "[ 2  1  0 -1 -2]\n",
      "[ 3  6  9 12 15]\n",
      "[0.33333333 0.66666667 1.         1.33333333 1.66666667]\n",
      "[3.   1.5  1.   0.75 0.6 ]\n",
      "[ 1  4  9 16 25]\n",
      "[1 2 0 1 2]\n",
      "[  9  25  49  81 121]\n",
      "[[2 4]\n",
      " [6 8]]\n"
     ]
    }
   ],
   "source": [
    "a = np.array([1, 2, 3, 4, 5])\n",
    "b = np.array([2, 3, 4, 5, 6]) \n",
    "c = np.array([[1,2],[3,4]])\n",
    "\n",
    "print(3 + a)\n",
    "print(3 - a)\n",
    "print(3 * a)\n",
    "print(a / 3)\n",
    "print(3 / a)\n",
    "print(a ** 2)\n",
    "print(a % 3)\n",
    "print(a**2 + 2*a*b + b**2)\n",
    "\n",
    "print(2*c)"
   ]
  },
  {
   "cell_type": "markdown",
   "metadata": {},
   "source": [
    "### 2、陣列與陣列運算\n",
    "    \n",
    "    兩陣列對應元素直接做指定運算"
   ]
  },
  {
   "cell_type": "code",
   "execution_count": 7,
   "metadata": {},
   "outputs": [
    {
     "name": "stdout",
     "output_type": "stream",
     "text": [
      "[ 3  5  7  9 11]\n",
      "[-1 -1 -1 -1 -1]\n",
      "[ 3  6  9 12 15]\n",
      "[0.5        0.66666667 0.75       0.8        0.83333333]\n",
      "[ 1  4  9 16 25]\n",
      "[    1     8    81  1024 15625]\n",
      "[0 1 1 1 1]\n",
      "[[2 3]\n",
      " [5 6]]\n",
      "[[1 2]\n",
      " [6 8]]\n"
     ]
    }
   ],
   "source": [
    "a = np.array([1, 2, 3, 4, 5])\n",
    "b = np.array([2, 3, 4, 5, 6]) \n",
    "c = np.array([[1,2],[3,4]])\n",
    "d = np.array([[1,1],[2,2]])\n",
    "#\n",
    "print(a + b)\n",
    "print(a - b)\n",
    "print(a * 3)\n",
    "print(a / b)\n",
    "print(a * a)\n",
    "print(a ** b)\n",
    "print(b % a)\n",
    "\n",
    "print(c+d)\n",
    "print(c*d)"
   ]
  },
  {
   "cell_type": "markdown",
   "metadata": {},
   "source": [
    "## 建立陣列常用函數\n"
   ]
  },
  {
   "cell_type": "markdown",
   "metadata": {},
   "source": [
    "## arange\n",
    "\n",
    "###      語法  np.arange( 起始值, 結束值, 步幅, 資料型別 )：\n",
    "\n",
    "    產生一維陣列，和Python range()的差別在於arange擁有較大的彈性，例如步幅可為小數。"
   ]
  },
  {
   "cell_type": "code",
   "execution_count": 7,
   "metadata": {},
   "outputs": [
    {
     "data": {
      "text/plain": [
       "array([0. , 0.5, 1. , 1.5, 2. , 2.5, 3. , 3.5, 4. , 4.5, 5. , 5.5, 6. ,\n",
       "       6.5, 7. , 7.5, 8. , 8.5, 9. , 9.5])"
      ]
     },
     "execution_count": 7,
     "metadata": {},
     "output_type": "execute_result"
    }
   ],
   "source": [
    "np.arange(0,10,0.5)"
   ]
  },
  {
   "cell_type": "markdown",
   "metadata": {},
   "source": [
    "## linspace\n",
    "\n",
    "### 語法  np.linspace( 起始值, 結束值, 起始與結束的區間內要產生幾個元素 )：\n",
    "\n",
    "    只要給定陣列的區間(起始值、結束值)，就可以要求在這個區間內產生幾個元素！"
   ]
  },
  {
   "cell_type": "code",
   "execution_count": 12,
   "metadata": {},
   "outputs": [
    {
     "data": {
      "text/plain": [
       "array([0. , 0.5, 1. , 1.5, 2. , 2.5, 3. , 3.5, 4. , 4.5, 5. ])"
      ]
     },
     "execution_count": 12,
     "metadata": {},
     "output_type": "execute_result"
    }
   ],
   "source": [
    "np.linspace(0,5,11,endpoint=True)"
   ]
  },
  {
   "cell_type": "markdown",
   "metadata": {},
   "source": [
    "### logspace\n",
    "\n",
    "### 語法  np.logspace( 起始值, 結束值, 起始與結束的區間內要產生幾個元素 )\n",
    "\n",
    "產生指數刻度的資料"
   ]
  },
  {
   "cell_type": "code",
   "execution_count": 11,
   "metadata": {},
   "outputs": [
    {
     "data": {
      "text/plain": [
       "array([1.00000000e+00, 3.16227766e+00, 1.00000000e+01, 3.16227766e+01,\n",
       "       1.00000000e+02, 3.16227766e+02, 1.00000000e+03, 3.16227766e+03,\n",
       "       1.00000000e+04, 3.16227766e+04, 1.00000000e+05])"
      ]
     },
     "execution_count": 11,
     "metadata": {},
     "output_type": "execute_result"
    }
   ],
   "source": [
    "np.logspace(0,5,11)"
   ]
  },
  {
   "cell_type": "markdown",
   "metadata": {},
   "source": [
    "## 以Numpy 改寫平面加速運動範例"
   ]
  },
  {
   "cell_type": "code",
   "execution_count": 2,
   "metadata": {},
   "outputs": [
    {
     "data": {
      "text/plain": [
       "[<matplotlib.lines.Line2D at 0x1c623074a20>]"
      ]
     },
     "execution_count": 2,
     "metadata": {},
     "output_type": "execute_result"
    },
    {
     "data": {
      "image/png": "[encoded data removed]",
      "text/plain": [
       "<Figure size 864x432 with 2 Axes>"
      ]
     },
     "metadata": {
      "needs_background": "light"
     },
     "output_type": "display_data"
    }
   ],
   "source": [
    "import matplotlib.pyplot as plt\n",
    "a = 1\n",
    "N = 50 #畫圖點數\n",
    "Te = 5 #總運動時間\n",
    "'''\n",
    "T=[]\n",
    "v=[]\n",
    "s=[]\n",
    "for i in range(N+1):\n",
    "    t = i * Te/N #第 i 個點的時間\n",
    "    T.append(t) \n",
    "    v.append(a*t)\n",
    "    s.append(0.5*a*t*t)\n",
    "'''\n",
    "\n",
    "#T = np.arange(0,Te,Te/N)\n",
    "T = np.linspace(0,Te,N)\n",
    "v = a*t\n",
    "s = 0.5*a*t**2\n",
    " \n",
    "fig, ax = plt.subplots(ncols=2,figsize=(12,6))\n",
    "ax[0].set(xlabel='t (sec)',\n",
    "       ylabel='speed',\n",
    "       title='Motion speed')\n",
    "ax[0].plot(T, v,marker='*',label='Speed')\n",
    "\n",
    "\n",
    "ax[1].set(xlabel='t (sec)',\n",
    "       ylabel='distance',\n",
    "       title='Displacement')\n",
    "ax[1].plot(T, s,marker='o',label='Distance')\n",
    "\n"
   ]
  },
  {
   "cell_type": "markdown",
   "metadata": {},
   "source": [
    "## 以Numpy 改寫斜上拋射運動範例\n",
    "\n",
    "<img align=\"center\" style=\"padding-right:10px;\" src=\"figures\\projection.jpg\">\n",
    "\n",
    "v: 拋射初速\n",
    "\n",
    "$\\theta: 拋射角度(與地面夾角)$\n",
    "\n",
    "$v_x (0) = v \\cos(\\theta)$\n",
    "\n",
    "$v_y (0) = v \\sin(\\theta)$\n",
    "\n",
    "$v_x (t) = v_x (0) $\n",
    "\n",
    "$v_y (t) = v_y (0) - gt$\n",
    "\n",
    "$x (t) = v_x (0) t$\n",
    "\n",
    "$y (t) = v_y (0) t - 0.5gt^2$\n",
    "\n",
    "$飛行時間 T_e = \\frac{2 v_y (0)}{g} $\n",
    "\n",
    "$角度 與  弳度 轉換$\n",
    "\n",
    "$ 180^o =  \\pi $\n",
    "\n",
    "$弳度 = \\frac{\\pi}{180} 角度 $"
   ]
  },
  {
   "cell_type": "code",
   "execution_count": 8,
   "metadata": {},
   "outputs": [
    {
     "name": "stdout",
     "output_type": "stream",
     "text": [
      "10.20408163265306\n"
     ]
    },
    {
     "data": {
      "image/png": "[encoded data removed]",
      "text/plain": [
       "<Figure size 432x288 with 1 Axes>"
      ]
     },
     "metadata": {
      "needs_background": "light"
     },
     "output_type": "display_data"
    },
    {
     "data": {
      "image/png": "[encoded data removed]",
      "text/plain": [
       "<Figure size 720x720 with 3 Axes>"
      ]
     },
     "metadata": {
      "needs_background": "light"
     },
     "output_type": "display_data"
    }
   ],
   "source": [
    "import matplotlib.pyplot as plt\n",
    "import numpy as np\n",
    "g = 9.8\n",
    "V0 = 100\n",
    "angle = 30\n",
    "Vx0 = V0*np.cos(math.pi/180*angle)\n",
    "Vy0 = V0*np.sin(math.pi/180*angle)\n",
    "Te = 2*Vy0 / g #總飛行時間\n",
    "N = 50 #畫圖點數\n",
    "'''\n",
    "T=[]\n",
    "Vx = []\n",
    "Vy = []\n",
    "x = []\n",
    "y = []\n",
    "for i in range(N+1): \n",
    "    t = i * Te/N  #第 i 個點的時間\n",
    "    T.append(t)\n",
    "    Vx.append(Vx0)\n",
    "    Vy.append(Vy0-g*t)\n",
    "    x.append(Vx[i]*t)\n",
    "    y.append(Vy0*t - 0.5*g*t*t)\n",
    "'''    \n",
    "T = np.arange(0, Te,Te / 100)\n",
    "Vx = T.copy(); Vx[:]=Vx0\n",
    "Vy = Vy0 - g*T\n",
    "x = Vx * T\n",
    "y = Vy0*T - 0.5*g*T**2\n",
    "plt.plot(T)\n",
    "fig = plt.figure(figsize=(10,10))\n",
    "\n",
    "ax1 = fig.add_axes([.05, 0.55, 0.25, 0.45], frameon=True)\n",
    "ax2 = fig.add_axes([0.4, 0.55, 0.55, 0.45], frameon=True)\n",
    "ax3 = fig.add_axes([0.05, 0.05, 0.9, 0.45], frameon=True)\n",
    "\n",
    "ax1.set(xlabel='t (sec)',\n",
    "       ylabel='speed (m)',\n",
    "       title='Motion speed')\n",
    "ax1.plot(T, Vx,marker='*',label='Speed x')\n",
    "ax1.plot(T, Vy,marker='*',label='Speed y')\n",
    "\n",
    "ax1.legend()\n",
    "\n",
    "\n",
    "ax2.set(xlabel='t (sec)',\n",
    "       ylabel='Displacement (m)',\n",
    "       title='X - Displacement')\n",
    "ax2.plot(T, x,marker='*',label='Displacement x')\n",
    "\n",
    "ax2.plot(T, y,marker='*',label='Displacement y')\n",
    "ax2.legend()\n",
    "\n",
    "ax3.set(xlabel='Displacement (m)',\n",
    "       ylabel='height (m)',\n",
    "       title='Motion trajectory')\n",
    "ax3.plot(x, y,marker='*',label='Speed')\n"
   ]
  },
  {
   "cell_type": "markdown",
   "metadata": {},
   "source": [
    "## 9. 練習 -- 以Numpy 改寫從高台斜上拋射物體的速度與位置\n",
    "\n",
    "<img align=\"center\" style=\"padding-right:10px;\" src=\"figures\\projection2.png\">"
   ]
  },
  {
   "cell_type": "code",
   "execution_count": null,
   "metadata": {},
   "outputs": [],
   "source": []
  }
 ],
 "metadata": {
  "kernelspec": {
   "display_name": "Python 3",
   "language": "python",
   "name": "python3"
  },
  "language_info": {
   "codemirror_mode": {
    "name": "ipython",
    "version": 3
   },
   "file_extension": ".py",
   "mimetype": "text/x-python",
   "name": "python",
   "nbconvert_exporter": "python",
   "pygments_lexer": "ipython3",
   "version": "3.7.1"
  }
 },
 "nbformat": 4,
 "nbformat_minor": 2
}
