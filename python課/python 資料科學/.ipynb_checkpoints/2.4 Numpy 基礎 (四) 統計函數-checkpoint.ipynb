{
 "cells": [
  {
   "cell_type": "markdown",
   "metadata": {},
   "source": [
    "# 2.4 Numpy 基礎 (四) 統計函數\n"
   ]
  },
  {
   "cell_type": "code",
   "execution_count": 1,
   "metadata": {},
   "outputs": [],
   "source": [
    "import numpy as np"
   ]
  },
  {
   "cell_type": "markdown",
   "metadata": {},
   "source": [
    "### Numpy data array 的結構\n",
    "\n",
    "<img align=\"center\" style=\"padding-right:10px;\" src=\"figures\\numpy_array_structure2.jpg\">"
   ]
  },
  {
   "cell_type": "markdown",
   "metadata": {},
   "source": [
    "## sum 求和函數\n",
    "\n",
    "### np.sum(axis=None)\n"
   ]
  },
  {
   "cell_type": "markdown",
   "metadata": {},
   "source": [
    "### 一維陣列"
   ]
  },
  {
   "cell_type": "code",
   "execution_count": 38,
   "metadata": {},
   "outputs": [
    {
     "name": "stdout",
     "output_type": "stream",
     "text": [
      "s:\n",
      " [1 2 3 4 5]\n",
      "總和: 15\n"
     ]
    }
   ],
   "source": [
    "s=np.array([1,2,3,4,5])\n",
    "print('s:\\n',s)\n",
    "print('總和:',s.sum())"
   ]
  },
  {
   "cell_type": "markdown",
   "metadata": {},
   "source": [
    "## 二維陣列"
   ]
  },
  {
   "cell_type": "code",
   "execution_count": 34,
   "metadata": {},
   "outputs": [
    {
     "name": "stdout",
     "output_type": "stream",
     "text": [
      "s:\n",
      " [[1 2 3]\n",
      " [4 5 6]]\n",
      "總和: 21\n",
      "行總和: [5 7 9]\n",
      "列總和: [ 6 15]\n"
     ]
    }
   ],
   "source": [
    "s=np.array([[1,2,3],[4,5,6]])\n",
    "print('s:\\n',s)\n",
    "print('全體總和:',s.sum())\n",
    "print('行總和:',s.sum(axis=0))\n",
    "print('列總和:',s.sum(axis=1))"
   ]
  },
  {
   "cell_type": "markdown",
   "metadata": {},
   "source": [
    "### 三維陣列"
   ]
  },
  {
   "cell_type": "code",
   "execution_count": 40,
   "metadata": {},
   "outputs": [
    {
     "name": "stdout",
     "output_type": "stream",
     "text": [
      "c:\n",
      " [[[1 2 3 4]\n",
      "  [4 5 6 2]\n",
      "  [1 2 3 5]]\n",
      "\n",
      " [[3 2 1 4]\n",
      "  [4 5 6 7]\n",
      "  [7 8 9 0]]]\n",
      "全體和: 94\n",
      "頁之和:\n",
      " [[ 4  4  4  8]\n",
      " [ 8 10 12  9]\n",
      " [ 8 10 12  5]]\n",
      "行之和:\n",
      " [[ 6  9 12 11]\n",
      " [14 15 16 11]]\n",
      "列之和:\n",
      " [[10 17 11]\n",
      " [10 22 24]]\n"
     ]
    }
   ],
   "source": [
    "c = np.array([[(1,2,3,4), (4,5,6,2), (1,2,3,5)], [(3,2,1,4), (4,5,6,7),(7,8,9,0)]])\n",
    "print('c:\\n',c)\n",
    "print('全體和:',c.sum())\n",
    "print('頁之和:\\n',c.sum(axis=0))\n",
    "print('行之和:\\n',c.sum(axis=1))\n",
    "print('列之和:\\n',c.sum(axis=2))"
   ]
  },
  {
   "cell_type": "markdown",
   "metadata": {},
   "source": [
    "## min/max\n",
    "\n",
    "### 語法 ndarray.min(axis=None), ndarray.max(axis=Nome)\n",
    "\n",
    "### 產生陣列的最小值或最大值資料"
   ]
  },
  {
   "cell_type": "code",
   "execution_count": null,
   "metadata": {},
   "outputs": [],
   "source": [
    "一維陣列"
   ]
  },
  {
   "cell_type": "code",
   "execution_count": 41,
   "metadata": {},
   "outputs": [
    {
     "name": "stdout",
     "output_type": "stream",
     "text": [
      "s:\n",
      " [1 2 3 4 5]\n",
      "最小值: 1\n"
     ]
    }
   ],
   "source": [
    "s=np.array([1,2,3,4,5])\n",
    "print('s:\\n',s)\n",
    "print('最小值:',s.min())"
   ]
  },
  {
   "cell_type": "code",
   "execution_count": null,
   "metadata": {},
   "outputs": [],
   "source": [
    "二維陣列"
   ]
  },
  {
   "cell_type": "code",
   "execution_count": 43,
   "metadata": {},
   "outputs": [
    {
     "name": "stdout",
     "output_type": "stream",
     "text": [
      "s:\n",
      " [[1 2 3]\n",
      " [4 5 6]]\n",
      "全體最小值: 1\n",
      "行最小值: [1 2 3]\n",
      "列最小值: [1 4]\n"
     ]
    }
   ],
   "source": [
    "s=np.array([[1,2,3],[4,5,6]])\n",
    "print('s:\\n',s)\n",
    "print('全體最小值:',s.min())\n",
    "print('行最小值:',s.min(axis=0))\n",
    "print('列最小值:',s.min(axis=1))"
   ]
  },
  {
   "cell_type": "code",
   "execution_count": null,
   "metadata": {},
   "outputs": [],
   "source": [
    "三維陣列"
   ]
  },
  {
   "cell_type": "code",
   "execution_count": 45,
   "metadata": {},
   "outputs": [
    {
     "name": "stdout",
     "output_type": "stream",
     "text": [
      "s:\n",
      " [[[1 2 3 4]\n",
      "  [4 5 6 2]\n",
      "  [1 2 3 5]]\n",
      "\n",
      " [[3 2 1 4]\n",
      "  [4 5 6 7]\n",
      "  [7 8 9 0]]]\n",
      "全體最小值: 0\n",
      "頁最小值:\n",
      " [[1 2 1 4]\n",
      " [4 5 6 2]\n",
      " [1 2 3 0]]\n",
      "行最小值:\n",
      " [[1 2 3 2]\n",
      " [3 2 1 0]]\n",
      "列最小值:\n",
      " [[1 2 1]\n",
      " [1 4 0]]\n"
     ]
    }
   ],
   "source": [
    "s = np.array([[(1,2,3,4), (4,5,6,2), (1,2,3,5)], [(3,2,1,4), (4,5,6,7),(7,8,9,0)]])\n",
    "print('s:\\n',s)\n",
    "print('全體最小值:',s.min())\n",
    "print('頁最小值:\\n',s.min(axis=0))\n",
    "print('行最小值:\\n',s.min(axis=1))\n",
    "print('列最小值:\\n',s.min(axis=2))"
   ]
  },
  {
   "cell_type": "markdown",
   "metadata": {},
   "source": []
  },
  {
   "cell_type": "markdown",
   "metadata": {},
   "source": [
    "## cumsum\n",
    "\n",
    "### 語法 ndarray.cumsum(axis=None)\n",
    "\n",
    "### 產生陣列資料的累加值"
   ]
  },
  {
   "cell_type": "code",
   "execution_count": 48,
   "metadata": {},
   "outputs": [
    {
     "name": "stdout",
     "output_type": "stream",
     "text": [
      "[ 1  3  6 10 15 21]\n"
     ]
    }
   ],
   "source": [
    "s=np.array([1,2,3,4,5,6])\n",
    "print(s.cumsum())"
   ]
  },
  {
   "cell_type": "markdown",
   "metadata": {},
   "source": [
    "## mean/std 平均值/標準差\n",
    "\n",
    "### 語法 ndarray.mean(axis=None) , ndarray.std(axis=None)"
   ]
  },
  {
   "cell_type": "code",
   "execution_count": 46,
   "metadata": {},
   "outputs": [
    {
     "name": "stdout",
     "output_type": "stream",
     "text": [
      "47.5\n"
     ]
    }
   ],
   "source": [
    "x = np.arange(0,96)\n",
    "print(x.mean())\n"
   ]
  },
  {
   "cell_type": "code",
   "execution_count": 47,
   "metadata": {},
   "outputs": [
    {
     "name": "stdout",
     "output_type": "stream",
     "text": [
      "27.711309363988317\n"
     ]
    }
   ],
   "source": [
    "x = np.arange(0,96)\n",
    "print(x.std())\n"
   ]
  },
  {
   "cell_type": "markdown",
   "metadata": {},
   "source": [
    "## 驗證統計功能"
   ]
  },
  {
   "cell_type": "code",
   "execution_count": 28,
   "metadata": {},
   "outputs": [
    {
     "name": "stdout",
     "output_type": "stream",
     "text": [
      "mean: 69.94679020067804\n",
      "std 5.027304982830604\n"
     ]
    },
    {
     "data": {
      "text/plain": [
       "(array([ 1.,  1.,  0.,  3.,  1.,  4., 13., 11.,  9., 19., 31., 21., 32.,\n",
       "        47., 47., 53., 64., 52., 70., 66., 62., 54., 60., 64., 57., 41.,\n",
       "        27., 25., 20., 14.,  9.,  6.,  5.,  3.,  3.,  1.,  1.,  0.,  2.,\n",
       "         1.]),\n",
       " array([53.70100383, 54.54476058, 55.38851734, 56.2322741 , 57.07603085,\n",
       "        57.91978761, 58.76354437, 59.60730112, 60.45105788, 61.29481464,\n",
       "        62.1385714 , 62.98232815, 63.82608491, 64.66984167, 65.51359842,\n",
       "        66.35735518, 67.20111194, 68.0448687 , 68.88862545, 69.73238221,\n",
       "        70.57613897, 71.41989572, 72.26365248, 73.10740924, 73.951166  ,\n",
       "        74.79492275, 75.63867951, 76.48243627, 77.32619302, 78.16994978,\n",
       "        79.01370654, 79.8574633 , 80.70122005, 81.54497681, 82.38873357,\n",
       "        83.23249032, 84.07624708, 84.92000384, 85.7637606 , 86.60751735,\n",
       "        87.45127411]),\n",
       " <a list of 40 Patch objects>)"
      ]
     },
     "execution_count": 28,
     "metadata": {},
     "output_type": "execute_result"
    },
    {
     "data": {
      "image/png": "[encoded data removed]",
      "text/plain": [
       "<Figure size 432x288 with 1 Axes>"
      ]
     },
     "metadata": {
      "needs_background": "light"
     },
     "output_type": "display_data"
    }
   ],
   "source": [
    "#產生平均值70，標準差為5的資料\n",
    "z=np.random.normal(70,5,1000)\n",
    "\n",
    "#印出統計的平均值與標準差\n",
    "print('mean:',z.mean())\n",
    "print('std',z.std())\n",
    "\n",
    "import matplotlib.pyplot as plt\n",
    "plt.hist(z,bins=40)"
   ]
  }
 ],
 "metadata": {
  "kernelspec": {
   "display_name": "Python 3",
   "language": "python",
   "name": "python3"
  },
  "language_info": {
   "codemirror_mode": {
    "name": "ipython",
    "version": 3
   },
   "file_extension": ".py",
   "mimetype": "text/x-python",
   "name": "python",
   "nbconvert_exporter": "python",
   "pygments_lexer": "ipython3",
   "version": "3.7.1"
  }
 },
 "nbformat": 4,
 "nbformat_minor": 2
}
