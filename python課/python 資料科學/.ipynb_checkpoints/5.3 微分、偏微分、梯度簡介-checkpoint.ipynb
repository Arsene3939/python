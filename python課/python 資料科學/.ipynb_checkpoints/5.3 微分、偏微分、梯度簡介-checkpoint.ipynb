{
 "cells": [
  {
   "cell_type": "markdown",
   "metadata": {},
   "source": [
    "# 5.3 微分、偏微分、梯度簡介"
   ]
  },
  {
   "cell_type": "markdown",
   "metadata": {},
   "source": [
    "https://hackmd.io/@allen108108/ryQypiDK4?type=view\n",
    "\n",
    "機器學習(Machine Learning)與深度學習Deep Learning最主要的基礎原理是梯度下降法(Gradient Decent)，\n",
    "要了解梯度下降法必須先了解斜率、微分與偏微分的觀念，此處由簡至難介紹這些觀念。 \n"
   ]
  },
  {
   "cell_type": "markdown",
   "metadata": {},
   "source": [
    "## 斜率\n",
    "\n",
    "斜率用來量度斜坡的斜度。數學上,直線的斜率在任一處皆相等，是直線傾斜程度的量度。曲線上某點的切線斜率反映此曲線的變數在此點的變化快慢程度，用微積分可計算出曲線中任一點的切線斜率。"
   ]
  },
  {
   "cell_type": "markdown",
   "metadata": {},
   "source": [
    "### 直線斜率\n",
    "對於直角坐標系，若橫軸為x軸，縱軸是y軸，斜率m通常寫成\n",
    "<img align=\"center\" style=\"padding-right:10px;\" src=\"figures\\line_slope.png\">\n",
    "$$m=\\cfrac{Δy}{Δx}$$\n",
    "若已知直角坐標系內兩點(x1,y1)與(x2,y2)\n",
    "，斜率的表達為\n",
    "$$m=\\cfrac{y2−y1}{x2−x1}$$\n"
   ]
  },
  {
   "cell_type": "markdown",
   "metadata": {},
   "source": [
    "如果我們站在這條直線上想要往上爬，應該要往哪個方向 ? \n",
    "從定義上來看，斜率的正負號，決定了這條直線該往哪裡傾斜。但其實也間接地告訴我們，想要往上爬應該往哪個方向走。\n",
    "簡單來說，若斜率為正，表示只要你在這條直線上，往x 軸的正向走，便會越走越高，\n",
    "反之，若斜率為負，那麼在直線上往x軸的負向走，便會越走越高。\n",
    "<img align=\"center\" style=\"padding-right:10px;\" src=\"figures\\line_slope2.jpg\">\n"
   ]
  },
  {
   "cell_type": "code",
   "execution_count": null,
   "metadata": {},
   "outputs": [],
   "source": []
  },
  {
   "cell_type": "markdown",
   "metadata": {},
   "source": [
    "## 切線斜率\n",
    "\n",
    "清楚了直線斜率的定義後，對於任一個曲線 (曲面)上任一點，\n",
    "我們如果能夠找到這一點的切線斜率，\n",
    "我們就可以知道在這一點上的傾斜程度及方向，\n",
    "也就可以知道如果我們要往上爬，在這一個方向上，我們該往哪裡走。\n",
    "<img align=\"center\" style=\"padding-right:10px;\" src=\"figures\\curve_slope.jpg\">\n"
   ]
  },
  {
   "cell_type": "code",
   "execution_count": null,
   "metadata": {},
   "outputs": [],
   "source": []
  },
  {
   "cell_type": "markdown",
   "metadata": {},
   "source": [
    "導數\n",
    "現在的問題是，如果我們知道了一條曲線方程式，我們該怎麼找到某一點的切線斜率 ?\n",
    "這時候微積分中導數的概念便可輕鬆解決這樣的問題\n",
    "<img align=\"center\" style=\"padding-right:10px;\" src=\"figures\\curve_slope2.jpg\">\n"
   ]
  },
  {
   "cell_type": "code",
   "execution_count": null,
   "metadata": {},
   "outputs": [],
   "source": [
    "(紫色線為通過該點的割線，求切線斜率的概念便是將割線斜率中的 Δx 逼近於 0)\n",
    "假設 f(x) 為平面上一曲線方程式，f′(a)=limx→ af(x)−f(a)x−a=f(x) 在 a點的切線斜率 =f(x)在a點的陡峭程度\n",
    "(我們可以將導數泛化出一個導函數 f′(x)=limh→0f(x+h)−f(x)h ，只要帶入我們想要的點，就可以求出該點的切線斜率)\n",
    "承上所述，導數的正負號也表現出整個圖形上升的方向。\n"
   ]
  },
  {
   "cell_type": "code",
   "execution_count": null,
   "metadata": {},
   "outputs": [],
   "source": [
    "偏導數\n",
    "\n",
    "如果我們遇到的是「高維度」的「曲面」，我們又該怎麼描述在這個曲面上某一點的陡峭程度 ? ( 想像一下，在一個高高低低的山丘上，你可能站在不同的點，都能感受到不同的傾斜程度 )\n",
    "把上述導函數的概念稍微推廣至高維度，則偏導函數便是可求出各點在各方向上的切線斜率 (偏導數) 的工具 :\n",
    "假設 f(x1,x2,..,xn)為 Rn 空間中一曲面方程式，\n",
    "我們便可以求出 在xi 方向上的偏導函數 ∂f∂xi=f(x1,x2,..,xn) 中某一點 x 在 xi 方向的切線斜率 =f(x1,x2,..,xn)=中某一點 x 在 xi 方向的傾斜程度\n",
    "而偏微分的正負號當然也可以表現出 f(x1,x2,..,xn) 中某一點 xx 在各軸上面往上升的方向。\n"
   ]
  }
 ],
 "metadata": {
  "kernelspec": {
   "display_name": "Python 3",
   "language": "python",
   "name": "python3"
  },
  "language_info": {
   "codemirror_mode": {
    "name": "ipython",
    "version": 3
   },
   "file_extension": ".py",
   "mimetype": "text/x-python",
   "name": "python",
   "nbconvert_exporter": "python",
   "pygments_lexer": "ipython3",
   "version": "3.7.1"
  }
 },
 "nbformat": 4,
 "nbformat_minor": 2
}
