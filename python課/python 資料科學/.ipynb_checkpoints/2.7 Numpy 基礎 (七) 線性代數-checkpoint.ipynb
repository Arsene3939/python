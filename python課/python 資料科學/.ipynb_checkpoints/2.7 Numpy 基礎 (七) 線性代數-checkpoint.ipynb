{
 "cells": [
  {
   "cell_type": "markdown",
   "metadata": {},
   "source": [
    "# 2.7 Numpy 基礎 (七) 線性代數"
   ]
  },
  {
   "cell_type": "markdown",
   "metadata": {},
   "source": [
    "函數\t        描述\n",
    "dot\t          兩個陣列的點積\n",
    "inner\t      兩個陣列的內積\n",
    "cross         兩個陣列的叉積\n",
    "outer         兩個陣列的外積\n",
    "matmul\t      兩個陣列的矩陣積\n",
    "determinant\t  陣列的行列式\n",
    "inv\t          計算矩陣的乘法逆矩陣\n",
    "solve\t      求解線性矩陣方程"
   ]
  },
  {
   "cell_type": "markdown",
   "metadata": {},
   "source": [
    "<img align=\"center\" style=\"padding-right:10px;\" src=\"figures\\numpy_linear_algebra.png\">"
   ]
  },
  {
   "cell_type": "markdown",
   "metadata": {},
   "source": [
    "## 一維向量的各種運算"
   ]
  },
  {
   "cell_type": "code",
   "execution_count": 56,
   "metadata": {},
   "outputs": [
    {
     "name": "stdout",
     "output_type": "stream",
     "text": [
      "dot:\n",
      " 2\n",
      "inner:\n",
      " 2\n",
      "outer:\n",
      " [[0 1 0]\n",
      " [0 2 0]\n",
      " [0 0 0]]\n",
      "cross:\n",
      " [0 0 1]\n"
     ]
    }
   ],
   "source": [
    "import numpy as np\n",
    "a=np.array([1,2,0])\n",
    "b=np.array([0,1,0])\n",
    "print('dot:\\n',np.dot(a,b))\n",
    "print('inner:\\n',np.inner(a,b))\n",
    "print('outer:\\n',np.outer(a,b))\n",
    "print('cross:\\n',np.cross(a,b))\n"
   ]
  },
  {
   "cell_type": "markdown",
   "metadata": {},
   "source": [
    "## 二維陣列的各種運算"
   ]
  },
  {
   "cell_type": "code",
   "execution_count": 59,
   "metadata": {},
   "outputs": [
    {
     "name": "stdout",
     "output_type": "stream",
     "text": [
      "[[1 2]\n",
      " [2 1]]\n",
      "[[1 3]\n",
      " [1 1]]\n",
      "dot:\n",
      " [[3 5]\n",
      " [3 7]]\n",
      "inner:\n",
      " [[7 3]\n",
      " [5 3]]\n",
      "outer:\n",
      " [[1 3 1 1]\n",
      " [2 6 2 2]\n",
      " [2 6 2 2]\n",
      " [1 3 1 1]]\n",
      "matmul:\n",
      " [[3 5]\n",
      " [3 7]]\n"
     ]
    }
   ],
   "source": [
    "import numpy as np\n",
    "a=np.array([[1,2],[2,1]])\n",
    "b=np.array([[1,3],[1,1]])\n",
    "print(a)\n",
    "print(b)\n",
    "print('dot:\\n',np.dot(a,b))\n",
    "print('inner:\\n',np.inner(a,b))\n",
    "print('outer:\\n',np.outer(a,b))\n",
    "print('matmul:\\n',np.matmul(a,b))"
   ]
  },
  {
   "cell_type": "markdown",
   "metadata": {},
   "source": [
    "## 行列式值"
   ]
  },
  {
   "cell_type": "code",
   "execution_count": 61,
   "metadata": {},
   "outputs": [
    {
     "data": {
      "text/plain": [
       "-2.0000000000000004"
      ]
     },
     "execution_count": 61,
     "metadata": {},
     "output_type": "execute_result"
    }
   ],
   "source": [
    "a = np.array([[1,2], [3,4]]) \n",
    "np.linalg.det(a)"
   ]
  },
  {
   "cell_type": "markdown",
   "metadata": {},
   "source": [
    "## 反矩陣"
   ]
  },
  {
   "cell_type": "code",
   "execution_count": 63,
   "metadata": {},
   "outputs": [
    {
     "name": "stdout",
     "output_type": "stream",
     "text": [
      "a inv:\n",
      " [[-2.   1. ]\n",
      " [ 1.5 -0.5]]\n"
     ]
    },
    {
     "data": {
      "text/plain": [
       "array([[1.0000000e+00, 4.4408921e-16],\n",
       "       [0.0000000e+00, 1.0000000e+00]])"
      ]
     },
     "execution_count": 63,
     "metadata": {},
     "output_type": "execute_result"
    }
   ],
   "source": [
    "a = np.array([[1,2], [3,4]])\n",
    "ainv = np.linalg.inv(a) \n",
    "print('a inv:\\n',ainv)\n",
    "np.matmul(ainv,a) "
   ]
  },
  {
   "cell_type": "markdown",
   "metadata": {},
   "source": [
    "## 矩陣運算的應用\n",
    "\n",
    "### 解多元一次方程組"
   ]
  },
  {
   "cell_type": "markdown",
   "metadata": {},
   "source": [
    "<img align=\"center\" style=\"padding-right:10px;\" src=\"figures\\numpy_linear_equation.png\">\n",
    "\n",
    "$AX=B$\n",
    "\n",
    "$X=A^{-1}B$"
   ]
  },
  {
   "cell_type": "code",
   "execution_count": 3,
   "metadata": {},
   "outputs": [
    {
     "data": {
      "text/plain": [
       "(array([ 5.,  3., -2.]), array([ 6., -4., 27.]))"
      ]
     },
     "execution_count": 3,
     "metadata": {},
     "output_type": "execute_result"
    }
   ],
   "source": [
    "import numpy as np\n",
    "A = np.array([[1,1,1], [0,2,5],[2,5,-1]])\n",
    "B = np.array([6,-4,27])\n",
    "Ainv = np.linalg.inv(A) \n",
    "X = np.matmul(Ainv,B)\n",
    "B1 = np.matmul(A,X)\n",
    "X,B1"
   ]
  },
  {
   "cell_type": "markdown",
   "metadata": {},
   "source": [
    "## 練習: 解下方四元一次方程組\n",
    "\n",
    "2W + 3X + 4Y - 5Z = - 6  \n",
    "6W + 7X - 8Y + 9Z = 96  \n",
    "10W + 11X + 12Y + 13Z = 312  \n",
    "14W + 15X + 16Y + 17Z = 416"
   ]
  },
  {
   "cell_type": "markdown",
   "metadata": {},
   "source": []
  },
  {
   "cell_type": "markdown",
   "metadata": {},
   "source": [
    "## 練習: 解下方五元一次方程組\n",
    "\n",
    "a + b + c + d + e = 15  \n",
    "a +2c +3d + 5e = 44  \n",
    "a - b + 2c + 5d -e = 20  \n",
    "a -b +c -d = -2  \n",
    "2a + 3b + 4c + 5d + 6e = 70  "
   ]
  },
  {
   "cell_type": "code",
   "execution_count": null,
   "metadata": {},
   "outputs": [],
   "source": []
  },
  {
   "cell_type": "markdown",
   "metadata": {},
   "source": [
    "## 矩陣應用\n",
    "\n",
    "<img align=\"center\" style=\"padding-right:10px;\" src=\"figures\\axis_rotation.png\">"
   ]
  },
  {
   "cell_type": "code",
   "execution_count": 1,
   "metadata": {},
   "outputs": [
    {
     "data": {
      "text/plain": [
       "[<matplotlib.lines.Line2D at 0x29f9e636908>]"
      ]
     },
     "execution_count": 1,
     "metadata": {},
     "output_type": "execute_result"
    },
    {
     "data": {
      "image/png": "[encoded data removed]",
      "text/plain": [
       "<Figure size 432x288 with 1 Axes>"
      ]
     },
     "metadata": {
      "needs_background": "light"
     },
     "output_type": "display_data"
    }
   ],
   "source": [
    "import numpy as np\n",
    "import matplotlib.pyplot as plt\n",
    "x = [5,6,6,5,7  ,8  ]\n",
    "y = [0,0,1,1,0.5,0.5]\n",
    "A = np.array([x,y])\n",
    "plt.plot(A[0],A[1],'*')    \n",
    "plt.axis([-10,10,-10,10])\n",
    "\n",
    "rotationDegree = -90\n",
    "theta = rotationDegree/180*np.pi\n",
    "M = np.array([[np.cos(theta),-np.sin(theta)],\n",
    "              [np.sin(theta),np.cos(theta)]])\n",
    "Am = np.dot(M,A)\n",
    "plt.plot(Am[0],Am[1],'*')    \n"
   ]
  },
  {
   "cell_type": "code",
   "execution_count": null,
   "metadata": {},
   "outputs": [],
   "source": []
  }
 ],
 "metadata": {
  "kernelspec": {
   "display_name": "Python 3",
   "language": "python",
   "name": "python3"
  },
  "language_info": {
   "codemirror_mode": {
    "name": "ipython",
    "version": 3
   },
   "file_extension": ".py",
   "mimetype": "text/x-python",
   "name": "python",
   "nbconvert_exporter": "python",
   "pygments_lexer": "ipython3",
   "version": "3.7.6"
  }
 },
 "nbformat": 4,
 "nbformat_minor": 2
}
