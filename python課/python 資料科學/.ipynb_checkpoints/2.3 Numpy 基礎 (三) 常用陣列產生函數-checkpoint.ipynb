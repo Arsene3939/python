{
 "cells": [
  {
   "cell_type": "markdown",
   "metadata": {},
   "source": [
    "# 2.3 Numpy 基礎(三) 常用陣列產生函數\n"
   ]
  },
  {
   "cell_type": "markdown",
   "metadata": {},
   "source": [
    "## arange\n",
    "\n",
    "###      語法  np.arange( 起始值, 結束值, 步幅, 資料型別 )：\n",
    "\n",
    "    產生一維陣列，和np.array()的差別在於arange擁有較大的彈性，而且元素數值是自動化產生！\n",
    "\n",
    "    步幅可為小數，決定每隔多少數值產生一個元素。"
   ]
  },
  {
   "cell_type": "code",
   "execution_count": 1,
   "metadata": {},
   "outputs": [
    {
     "data": {
      "text/plain": [
       "array([0. , 0.5, 1. , 1.5, 2. , 2.5, 3. , 3.5, 4. , 4.5, 5. , 5.5, 6. ,\n",
       "       6.5, 7. , 7.5, 8. , 8.5, 9. , 9.5])"
      ]
     },
     "execution_count": 1,
     "metadata": {},
     "output_type": "execute_result"
    }
   ],
   "source": [
    "import numpy as np\n",
    "np.arange(0,10,0.5)"
   ]
  },
  {
   "cell_type": "markdown",
   "metadata": {},
   "source": [
    "## linspace\n",
    "\n",
    "### 語法  np.linspace( 起始值, 結束值, 起始與結束的區間內要產生幾個元素 )：\n",
    "\n",
    "    只要給定陣列的區間(起始值、結束值)，就可以要求在這個區間內產生幾個元素！"
   ]
  },
  {
   "cell_type": "code",
   "execution_count": null,
   "metadata": {},
   "outputs": [],
   "source": [
    "np.linspace(0,5,10,endpoint=True)"
   ]
  },
  {
   "cell_type": "markdown",
   "metadata": {},
   "source": [
    "## Zeros\n",
    "\n",
    "### 語法 np.zeros( (陣列各維度大小用逗號區分) )：\n",
    "\n",
    "    建立全為0的陣列，可以小括號定義陣列的各個維度的大小！"
   ]
  },
  {
   "cell_type": "code",
   "execution_count": null,
   "metadata": {},
   "outputs": [],
   "source": [
    "a = np.zeros(10)\n",
    "b = np.zeros([4,6])\n",
    "print(a,\"\\n\",b)"
   ]
  },
  {
   "cell_type": "markdown",
   "metadata": {},
   "source": [
    "## Ones\n",
    "\n",
    "### 語法: np.ones( (陣列各維度大小用逗號區分) )：\n",
    "\n",
    "    建立全為1的陣列，可以小括號定義陣列的各個維度的大小！用法與np.zeros一樣！\n",
    "\n"
   ]
  },
  {
   "cell_type": "code",
   "execution_count": null,
   "metadata": {},
   "outputs": [],
   "source": [
    "np.ones([3,5])"
   ]
  },
  {
   "cell_type": "markdown",
   "metadata": {},
   "source": [
    "## Empty\n",
    "\n",
    "### 語法: np.empty( (陣列各維度大小用逗號區分) )：\n",
    "\n",
    "    用法與np.zeros一樣，但唯一的差別是NumPy不會初始化陣列內元素的初始值，所以內容將會是不確定的。"
   ]
  },
  {
   "cell_type": "code",
   "execution_count": null,
   "metadata": {},
   "outputs": [],
   "source": [
    "np.empty(100)"
   ]
  },
  {
   "cell_type": "markdown",
   "metadata": {},
   "source": [
    "## random.random 均勻分佈亂數\n",
    "\n",
    "\n",
    "<img align=\"center\" style=\"padding-right:10px;\" src=\"figures\\uniform_distribution.gif\">\n",
    "\n",
    "### 語法: np.random.random(陣列各維度大小用逗號區分)\n",
    "\n",
    "    產生指定數量介於0~1 均勻分佈的浮點數\n",
    "\n"
   ]
  },
  {
   "cell_type": "code",
   "execution_count": null,
   "metadata": {},
   "outputs": [],
   "source": [
    "np.random.random(100)"
   ]
  },
  {
   "cell_type": "markdown",
   "metadata": {},
   "source": [
    "## random.normal  標準(正態，高斯)分佈亂數\n",
    "\n",
    "### 語法: np.random.normal(loc=0.0, scale=1.0, size=None)\n",
    "\n",
    "$loc=\\mu 是平均值$\n",
    "\n",
    "$scale=\\sigma 為標準差$\n",
    "\n",
    "<img align=\"center\" style=\"padding-right:10px;\" src=\"figures\\normal_distribution.png\">\n",
    "<img align=\"center\" style=\"padding-right:10px;\" src=\"figures\\normal_distribution2.png\">\n"
   ]
  },
  {
   "cell_type": "code",
   "execution_count": null,
   "metadata": {},
   "outputs": [],
   "source": [
    "np.random.normal(0,1,100)"
   ]
  },
  {
   "cell_type": "markdown",
   "metadata": {},
   "source": [
    "## 數據資料的直線圖"
   ]
  },
  {
   "cell_type": "code",
   "execution_count": null,
   "metadata": {},
   "outputs": [],
   "source": [
    "import matplotlib.pyplot as plt\n",
    "w=np.random.random(500)\n",
    "z=np.random.normal(0.5,0.2,500)\n",
    "fig,ax=plt.subplots(ncols=2,figsize=(12,6))\n",
    "ax[0].plot(w)\n",
    "ax[1].plot(z)"
   ]
  },
  {
   "cell_type": "markdown",
   "metadata": {},
   "source": [
    "## 直方圖 histogram -- 數據出現頻率分佈圖\n",
    "\n",
    "    \n",
    "\n",
    "### 語法 hist(x, bin=10)\n",
    "\n",
    "    x: 串列資料\n",
    "    bin: 水平尺寸相等矩形個數"
   ]
  },
  {
   "cell_type": "code",
   "execution_count": null,
   "metadata": {
    "scrolled": false
   },
   "outputs": [],
   "source": [
    "import matplotlib.pyplot as plt\n",
    "w=np.random.random(5000)\n",
    "z=np.random.normal(0.5,0.2,5000)\n",
    "fig,ax=plt.subplots(ncols=2,figsize=(12,6))\n",
    "ax[0].hist(w,bins=50)\n",
    "ax[1].hist(z,bins=50)"
   ]
  },
  {
   "cell_type": "markdown",
   "metadata": {},
   "source": [
    "## 練習\n",
    "\n",
    "修改下例，產生\n",
    "\n",
    "1、介於10~100的均勻分佈\n",
    "\n",
    "2、平均值為60，標準差為10的標準分佈"
   ]
  },
  {
   "cell_type": "code",
   "execution_count": null,
   "metadata": {},
   "outputs": [],
   "source": [
    "import matplotlib.pyplot as plt\n",
    "w=np.random.random(5000)\n",
    "z=np.random.normal(0,1,5000)\n",
    "fig,ax=plt.subplots(ncols=2,figsize=(12,6))\n",
    "ax[0].hist(w,bins=50)\n",
    "ax[1].hist(z,bins=50)"
   ]
  },
  {
   "cell_type": "markdown",
   "metadata": {},
   "source": [
    "## np.full \n",
    "\n",
    "### 語法 np.full(shape, fill_value, dtype=None)\n",
    "\n",
    "    產生指定值陣列的函數\n"
   ]
  },
  {
   "cell_type": "code",
   "execution_count": 5,
   "metadata": {},
   "outputs": [
    {
     "data": {
      "text/plain": [
       "array([[1, 1, 1, 1, 1, 1],\n",
       "       [1, 1, 1, 1, 1, 1],\n",
       "       [1, 1, 1, 1, 1, 1],\n",
       "       [1, 1, 1, 1, 1, 1],\n",
       "       [1, 1, 1, 1, 1, 1]])"
      ]
     },
     "execution_count": 5,
     "metadata": {},
     "output_type": "execute_result"
    }
   ],
   "source": [
    "np.full((5,6),1)"
   ]
  },
  {
   "cell_type": "markdown",
   "metadata": {},
   "source": [
    "## np.eye\n",
    "\n",
    "### 語法 np.eye(N, M=None)\n",
    "\n",
    "### 產生單位矩陣\n"
   ]
  },
  {
   "cell_type": "code",
   "execution_count": 9,
   "metadata": {},
   "outputs": [
    {
     "name": "stdout",
     "output_type": "stream",
     "text": [
      "[[1. 0. 0. 0.]\n",
      " [0. 1. 0. 0.]\n",
      " [0. 0. 1. 0.]\n",
      " [0. 0. 0. 1.]]\n",
      "[[1. 0.]\n",
      " [0. 1.]\n",
      " [0. 0.]\n",
      " [0. 0.]]\n"
     ]
    }
   ],
   "source": [
    "print(np.eye(4))\n",
    "print(np.eye(4,2))"
   ]
  },
  {
   "cell_type": "markdown",
   "metadata": {},
   "source": [
    "# 變更陣列形狀的函數"
   ]
  },
  {
   "cell_type": "markdown",
   "metadata": {},
   "source": [
    "## ravel: 壓平陣列成為一維陣列\n",
    "## reshape: 產生不同形狀的陣列，但資料維持一致\n",
    "## resize: 改變陣列形狀，但資料維持一致"
   ]
  },
  {
   "cell_type": "code",
   "execution_count": 15,
   "metadata": {},
   "outputs": [
    {
     "name": "stdout",
     "output_type": "stream",
     "text": [
      "a: [0 1 2 3 4 5 6 7 8 9]\n",
      "b: [[0 1 2 3 4]\n",
      " [5 6 7 8 9]]\n",
      "a: [0 1 2 3 4 5 6 7 8 9]\n",
      "c: [0 1 2 3 4 5 6 7 8 9]\n"
     ]
    }
   ],
   "source": [
    "a = np.arange(0,10)\n",
    "print('a:',a)\n",
    "b=a.reshape(2,5)\n",
    "print('b:',b)\n",
    "print('a:',a)\n",
    "c=b.ravel()\n",
    "print('c:',c)"
   ]
  },
  {
   "cell_type": "code",
   "execution_count": 24,
   "metadata": {},
   "outputs": [
    {
     "name": "stdout",
     "output_type": "stream",
     "text": [
      "a [0 1 2 3 4 5 6 7 8 9]\n",
      "a [[0 1 2 3 4]\n",
      " [5 6 7 8 9]]\n"
     ]
    }
   ],
   "source": [
    "a = np.arange(0,10)\n",
    "print('a',a)\n",
    "a.resize(2,5)\n",
    "print('a',a)"
   ]
  },
  {
   "cell_type": "markdown",
   "metadata": {},
   "source": [
    "## 練習: 產生下列資料  \n",
    "    [[ 1  2  3  4  5  6  7  8  9 10 11 12]  \n",
    "     [13 14 15 16 17 18 19 20 21 22 23 24]  \n",
    "     [25 26 27 28 29 30 31 32 33 34 35 36]  \n",
    "     [37 38 39 40 41 42 43 44 45 46 47 48]  \n",
    "     [49 50 51 52 53 54 55 56 57 58 59 60]  \n",
    "     [61 62 63 64 65 66 67 68 69 70 71 72]  \n",
    "     [73 74 75 76 77 78 79 80 81 82 83 84]  \n",
    "     [85 86 87 88 89 90 91 92 93 94 95 96]]  "
   ]
  },
  {
   "cell_type": "code",
   "execution_count": null,
   "metadata": {},
   "outputs": [],
   "source": []
  }
 ],
 "metadata": {
  "kernelspec": {
   "display_name": "Python 3",
   "language": "python",
   "name": "python3"
  },
  "language_info": {
   "codemirror_mode": {
    "name": "ipython",
    "version": 3
   },
   "file_extension": ".py",
   "mimetype": "text/x-python",
   "name": "python",
   "nbconvert_exporter": "python",
   "pygments_lexer": "ipython3",
   "version": "3.7.1"
  }
 },
 "nbformat": 4,
 "nbformat_minor": 2
}
