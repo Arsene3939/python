{
 "cells": [
  {
   "cell_type": "code",
   "execution_count": null,
   "metadata": {},
   "outputs": [],
   "source": []
  },
  {
   "cell_type": "code",
   "execution_count": 39,
   "metadata": {},
   "outputs": [
    {
     "data": {
      "text/plain": [
       "<BarContainer object of 4 artists>"
      ]
     },
     "execution_count": 39,
     "metadata": {},
     "output_type": "execute_result"
    },
    {
     "data": {
      "image/png": "[encoded data removed]",
      "text/plain": [
       "<Figure size 432x288 with 1 Axes>"
      ]
     },
     "metadata": {
      "needs_background": "light"
     },
     "output_type": "display_data"
    }
   ],
   "source": [
    "import matplotlib.pyplot as plt\n",
    "import numpy as np\n",
    "\n",
    "fig,ax =plt.subplots()\n",
    "x = np.array([1,2,3,4])\n",
    "y = np.array([1,4,9,16])\n",
    "width=0.75\n",
    "ax.bar(x,y,width ,color='b')"
   ]
  },
  {
   "cell_type": "markdown",
   "metadata": {},
   "source": [
    "### 函數原型\n",
    "<pre>\n",
    "ax.bar(\n",
    "    ['x', 'height', 'width=0.8', 'bottom=None', '*', \"align='center'\", 'data=None', '**kwargs'],\n",
    ")\n",
    "</pre>"
   ]
  },
  {
   "cell_type": "markdown",
   "metadata": {},
   "source": [
    "### 個別顏色設定"
   ]
  },
  {
   "cell_type": "code",
   "execution_count": 38,
   "metadata": {},
   "outputs": [
    {
     "data": {
      "text/plain": [
       "<BarContainer object of 4 artists>"
      ]
     },
     "execution_count": 38,
     "metadata": {},
     "output_type": "execute_result"
    },
    {
     "data": {
      "image/png": "[encoded data removed]",
      "text/plain": [
       "<Figure size 432x288 with 1 Axes>"
      ]
     },
     "metadata": {
      "needs_background": "light"
     },
     "output_type": "display_data"
    }
   ],
   "source": [
    "import matplotlib.pyplot as plt\n",
    "import numpy as np\n",
    "\n",
    "fig,ax =plt.subplots()\n",
    "x = [1,2,3,4]\n",
    "y = [1,4,9,16]\n",
    "colors = ['red','blue','green','yellow']\n",
    "ax.bar(x,y ,color=colors)"
   ]
  },
  {
   "cell_type": "markdown",
   "metadata": {},
   "source": [
    "### 非數字橫軸"
   ]
  },
  {
   "cell_type": "code",
   "execution_count": 8,
   "metadata": {},
   "outputs": [
    {
     "data": {
      "text/plain": [
       "<BarContainer object of 4 artists>"
      ]
     },
     "execution_count": 8,
     "metadata": {},
     "output_type": "execute_result"
    },
    {
     "data": {
      "image/png": "[encoded data removed]",
      "text/plain": [
       "<Figure size 432x288 with 1 Axes>"
      ]
     },
     "metadata": {
      "needs_background": "light"
     },
     "output_type": "display_data"
    }
   ],
   "source": [
    "import matplotlib.pyplot as plt\n",
    "import numpy as np\n",
    "\n",
    "fig,ax =plt.subplots()\n",
    "x = ['A','B','C','D']\n",
    "y = [1,4,9,16]\n",
    "colors = ['red','blue','green','yellow']\n",
    "ax.bar(x,y ,color=colors)"
   ]
  },
  {
   "cell_type": "code",
   "execution_count": 10,
   "metadata": {},
   "outputs": [
    {
     "data": {
      "text/plain": [
       "Text(0.5, 1.0, 'Ice-cream preference')"
      ]
     },
     "execution_count": 10,
     "metadata": {},
     "output_type": "execute_result"
    },
    {
     "data": {
      "image/png": "[encoded data removed]",
      "text/plain": [
       "<Figure size 432x288 with 1 Axes>"
      ]
     },
     "metadata": {
      "needs_background": "light"
     },
     "output_type": "display_data"
    }
   ],
   "source": [
    "responses = [\n",
    " 'chocolate', 'chocolate', 'vanilla', 'chocolate', 'strawberry', 'strawberry','chocolate', 'vanilla', 'vanilla', 'chocolate', 'strawberry', 'chocolate', 'strawberry', 'chocolate', 'chocolate','chocolate', 'chocolate', 'strawberry', 'chocolate', 'strawberry', 'vanilla', 'vanilla', 'chocolate', 'chocolate', 'strawberry', 'chocolate', 'strawberry', 'vanilla', 'chocolate', 'chocolate', 'chocolate', 'strawberry'\n",
    "]\n",
    "flavors, counts = np.unique(responses, return_counts=True)\n",
    "\n",
    "colors = ['red','blue','green']\n",
    "fig, ax = plt.subplots()\n",
    "bars = ax.bar(flavors,counts,color=colors)\n",
    "\n",
    "ax.set_ylabel('counts')\n",
    "ax.set_title('Ice-cream preference')"
   ]
  },
  {
   "cell_type": "markdown",
   "metadata": {},
   "source": [
    "### 水平顯示"
   ]
  },
  {
   "cell_type": "code",
   "execution_count": 25,
   "metadata": {},
   "outputs": [
    {
     "data": {
      "text/plain": [
       "Text(0.5, 1.0, 'Coffee Consumption')"
      ]
     },
     "execution_count": 25,
     "metadata": {},
     "output_type": "execute_result"
    },
    {
     "data": {
      "image/png": "[encoded data removed]",
      "text/plain": [
       "<Figure size 432x288 with 1 Axes>"
      ]
     },
     "metadata": {
      "needs_background": "light"
     },
     "output_type": "display_data"
    }
   ],
   "source": [
    "fig, ax = plt.subplots()\n",
    "personen = ('Michael', 'Dorothea', 'Robert', 'Bea', 'Uli')\n",
    "y_pos = np.arange(len(personen))\n",
    "cups = (15, 22, 24, 39, 12)\n",
    "ax.barh(y_pos, cups, align='center',\n",
    "        color='green', ecolor='black')\n",
    "ax.set_yticks(y_pos)\n",
    "ax.set_yticklabels(personen)\n",
    "ax.invert_yaxis()  \n",
    "ax.set_xlabel('Cups')\n",
    "ax.set_title('Coffee Consumption')\n",
    "\n",
    "\n"
   ]
  },
  {
   "cell_type": "markdown",
   "metadata": {},
   "source": [
    "### 多資料併立"
   ]
  },
  {
   "cell_type": "code",
   "execution_count": 26,
   "metadata": {},
   "outputs": [
    {
     "data": {
      "text/plain": [
       "<matplotlib.legend.Legend at 0x1e84ccc4978>"
      ]
     },
     "execution_count": 26,
     "metadata": {},
     "output_type": "execute_result"
    },
    {
     "data": {
      "image/png": "[encoded data removed]",
      "text/plain": [
       "<Figure size 720x360 with 1 Axes>"
      ]
     },
     "metadata": {
      "needs_background": "light"
     },
     "output_type": "display_data"
    }
   ],
   "source": [
    "last_week_cups = (20, 35, 30, 35, 27)\n",
    "this_week_cups = (25, 32, 34, 20, 25)\n",
    "next_week_cups = (15, 22, 14, 20, 25)\n",
    "names = ['Mary', 'Paul', 'Billy', 'Franka', 'Stephan']\n",
    "\n",
    "\n",
    "fig, ax = plt.subplots(figsize=(10,5)) \n",
    "width = 0.25   \n",
    "ticks = np.arange(len(names))    \n",
    "ax.bar(ticks, last_week_cups, width, label='Last week')\n",
    "ax.bar(ticks + width, this_week_cups, width, label='This week')\n",
    "ax.bar(ticks + width*2, next_week_cups, width,label='Next week')\n",
    "\n",
    "ax.set_ylabel('Cups of Coffee')\n",
    "ax.set_title('Coffee Consummation')\n",
    "ax.set_xticks(ticks + width)\n",
    "ax.set_xticklabels(names)\n",
    "\n",
    "ax.legend(loc='best')\n"
   ]
  },
  {
   "cell_type": "markdown",
   "metadata": {},
   "source": [
    "### 多資料堆疊"
   ]
  },
  {
   "cell_type": "code",
   "execution_count": 35,
   "metadata": {},
   "outputs": [
    {
     "data": {
      "text/plain": [
       "<matplotlib.legend.Legend at 0x1e84d49acf8>"
      ]
     },
     "execution_count": 35,
     "metadata": {},
     "output_type": "execute_result"
    },
    {
     "data": {
      "image/png": "[encoded data removed]",
      "text/plain": [
       "<Figure size 720x576 with 1 Axes>"
      ]
     },
     "metadata": {
      "needs_background": "light"
     },
     "output_type": "display_data"
    }
   ],
   "source": [
    "coffee = np.array([5, 5, 7, 6, 7])\n",
    "tea = np.array([3, 2, 1, 4, 1])\n",
    "water = np.array([10, 12, 14, 12, 15])\n",
    "names = ['Mary', 'Paul', 'Billy', 'Franka', 'Stephan']\n",
    "\n",
    "fig, ax = plt.subplots(figsize=(10,8))  \n",
    "width = 0.65   \n",
    "ticks = np.arange(len(names))    \n",
    "ax.bar(ticks, water, width, label='Water')\n",
    "ax.bar(ticks, coffee, width, label='Tea', bottom=water)\n",
    "ax.bar(ticks, tea, width, label='Coffee', bottom=water+coffee)\n",
    "\n",
    "ax.set_xticks(ticks)\n",
    "ax.set_xticklabels(names)\n",
    "ax.legend(loc='best')"
   ]
  },
  {
   "cell_type": "code",
   "execution_count": null,
   "metadata": {},
   "outputs": [],
   "source": []
  }
 ],
 "metadata": {
  "kernelspec": {
   "display_name": "Python 3",
   "language": "python",
   "name": "python3"
  },
  "language_info": {
   "codemirror_mode": {
    "name": "ipython",
    "version": 3
   },
   "file_extension": ".py",
   "mimetype": "text/x-python",
   "name": "python",
   "nbconvert_exporter": "python",
   "pygments_lexer": "ipython3",
   "version": "3.7.1"
  }
 },
 "nbformat": 4,
 "nbformat_minor": 2
}
