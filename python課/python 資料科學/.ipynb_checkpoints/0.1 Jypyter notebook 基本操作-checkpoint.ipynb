{
 "cells": [
  {
   "cell_type": "markdown",
   "metadata": {},
   "source": [
    "# 模態編輯器\n",
    "\n",
    "    1. Notebook具有模式用戶界面。這意味著鍵盤會根據筆記本電腦所處的模式執行不同的操作。\n",
    "\n",
    "    2. 有兩種模式：編輯模式和命令模式。\n",
    "\n",
    "\n",
    "## 編輯模式 \n",
    "\n",
    "    1. 編輯模式由綠色單元格邊框和編輯器區域中顯示的提示指示：\n",
    "\n",
    "    2. 當單元格處於編輯模式時，您可以像普通的文本編輯器一樣鍵入該單元格。\n",
    "\n",
    "    3. 通過按“ Esc”鍵或使用鼠標單擊“在單元格的編輯器區域之外”來進入命令模式。\n",
    "\n",
    "\n",
    "## 命令模式\n",
    "\n",
    "    1. 命令模式由左邊藍色的灰色單元格邊框指示：\n",
    "\n",
    "    2. 在命令模式下，您可以整體編輯筆記本，但不能在單個單元格中鍵入內容。最重要的是，在命令模式下，鍵盤映射到一組快捷方式，這些快捷方式使您可以高效地執行筆記本和單元格操作。例如，如果您處於命令模式下並按c，則將復制當前單元格-不需要修飾符。\n",
    "\n",
    "    3. 不要嘗試在命令模式下鍵入單元格；意外的事情將會發生！\n",
    "\n",
    "    4. 通過按Enter鍵或使用鼠標單擊單元格的編輯器區域來進入編輯模式。"
   ]
  }
 ],
 "metadata": {
  "kernelspec": {
   "display_name": "Python 3",
   "language": "python",
   "name": "python3"
  },
  "language_info": {
   "codemirror_mode": {
    "name": "ipython",
    "version": 3
   },
   "file_extension": ".py",
   "mimetype": "text/x-python",
   "name": "python",
   "nbconvert_exporter": "python",
   "pygments_lexer": "ipython3",
   "version": "3.7.1"
  }
 },
 "nbformat": 4,
 "nbformat_minor": 2
}
