{
 "cells": [
  {
   "cell_type": "markdown",
   "metadata": {},
   "source": [
    "# 1.6 整流、截波電路"
   ]
  },
  {
   "cell_type": "markdown",
   "metadata": {},
   "source": [
    "# list expression  \n",
    "## 1. 單向  \n",
    "##    [f(x) for x in sequence if condition]  \n",
    "## 2. 雙向  \n",
    "##    [f(x) if condition else g(x) for x in sequence]\n"
   ]
  },
  {
   "cell_type": "code",
   "execution_count": 9,
   "metadata": {},
   "outputs": [
    {
     "name": "stdout",
     "output_type": "stream",
     "text": [
      "[2, 3, 4, 6]\n",
      "[2, 3, 2, 3, 4, 0, 6]\n"
     ]
    }
   ],
   "source": [
    "a = [2,3,-2,-3,4,0,6]\n",
    "b = [x for x in a if x>0]\n",
    "c = [x if x>0 else -x for x in a]\n",
    "print(b)\n",
    "print(c)"
   ]
  },
  {
   "cell_type": "markdown",
   "metadata": {},
   "source": [
    "### 練習: 將串列裏的負數轉換成正數，正數值加倍。"
   ]
  },
  {
   "cell_type": "code",
   "execution_count": 13,
   "metadata": {},
   "outputs": [
    {
     "name": "stdout",
     "output_type": "stream",
     "text": [
      "[2, 3, -2, -3, 4, 0, 6]\n",
      "[2, 3, -2, -3, 4, 0, 6]\n"
     ]
    }
   ],
   "source": [
    "a = [2,3,-2,-3,4,0,6]\n",
    "b = [x for x in a]\n",
    "print(a)\n",
    "print(b)"
   ]
  },
  {
   "cell_type": "markdown",
   "metadata": {},
   "source": [
    "# 半波整流電路\n",
    "\n",
    "## 電路圖與公式\n",
    "<img align=\"center\" style=\"padding-right:10px;\" src=\"figures\\halfWave_rectify.png\">\n",
    "\n",
    "### 電路特性  \n",
    "\n",
    "    提示:\n",
    "\\begin{equation}\n",
    "V_o = \\left\\{\n",
    "             \\begin{array}{lr}\n",
    "             V_i ,   & if \\; V_i > 0 \\\\\n",
    "             0, &  if \\; V_i  \\leq 0  \n",
    "             \\end{array}\n",
    "\\right.\n",
    "\\end{equation}\n"
   ]
  },
  {
   "cell_type": "markdown",
   "metadata": {},
   "source": [
    "### 整流電路的輸入輸出波形圖"
   ]
  },
  {
   "cell_type": "code",
   "execution_count": 5,
   "metadata": {
    "scrolled": false
   },
   "outputs": [
    {
     "data": {
      "image/png": "[encoded data removed]",
      "text/plain": [
       "<Figure size 432x288 with 1 Axes>"
      ]
     },
     "metadata": {
      "needs_background": "light"
     },
     "output_type": "display_data"
    }
   ],
   "source": [
    "import math\n",
    "import matplotlib.pyplot as plt\n",
    "N = 200\n",
    "dt = 4*math.pi/N\n",
    "T = [i*dt for i in range(N)]\n",
    "Vi = [10*math.sin(t) for t in T]\n",
    "#[f(x) if condition else g(x) for x in sequence]\n",
    "Vo=[x if x>0 else 0 for x in Vi]\n",
    "\n",
    "fig,ax = plt.subplots()\n",
    "ax.plot(T,Vi, label='Vi')\n",
    "ax.plot(T,Vo, label='Vo')\n",
    "ax.legend()\n",
    "\n",
    "ax.spines['left'].set_position('zero')   # makee x and y axes go through\n",
    "ax.spines['bottom'].set_position('zero') # the origin\n",
    "ax.spines['right'].set_color('none')     # hide the unnecessary\n",
    "ax.spines['top'].set_color('none')       # spines (\"the box\" around the plot)\n"
   ]
  },
  {
   "cell_type": "markdown",
   "metadata": {},
   "source": [
    "### 整流電路的輸出入轉移曲線"
   ]
  },
  {
   "cell_type": "code",
   "execution_count": 8,
   "metadata": {},
   "outputs": [
    {
     "data": {
      "image/png": "[encoded data removed]",
      "text/plain": [
       "<Figure size 432x288 with 1 Axes>"
      ]
     },
     "metadata": {
      "needs_background": "light"
     },
     "output_type": "display_data"
    }
   ],
   "source": [
    "fig,ax = plt.subplots()\n",
    "ax.plot(Vi,Vo)\n",
    "ax.set_ylim([-10,10])\n",
    "ax.spines['left'].set_position('zero')   # makee x and y axes go through\n",
    "ax.spines['bottom'].set_position('zero') # the origin\n",
    "ax.spines['right'].set_color('none')     # hide the unnecessary\n",
    "ax.spines['top'].set_color('none')       # spines (\"the box\" around the plot"
   ]
  },
  {
   "cell_type": "markdown",
   "metadata": {},
   "source": [
    "# 練習: 全波整流電路\n",
    "## 電路圖與公式\n",
    "\n",
    "\n"
   ]
  },
  {
   "cell_type": "markdown",
   "metadata": {},
   "source": [
    "### 輸入輸出波形圖"
   ]
  },
  {
   "cell_type": "code",
   "execution_count": null,
   "metadata": {},
   "outputs": [],
   "source": []
  },
  {
   "cell_type": "markdown",
   "metadata": {},
   "source": [
    "### 輸出入轉移曲線"
   ]
  },
  {
   "cell_type": "code",
   "execution_count": null,
   "metadata": {},
   "outputs": [],
   "source": []
  },
  {
   "cell_type": "markdown",
   "metadata": {},
   "source": [
    "## 截波電路\n",
    "\n",
    "<img align=\"center\" style=\"padding-right:10px;\" src=\"figures\\clap_circuit.png\">\n",
    "\n",
    "提示:\n",
    "\\begin{equation}\n",
    "V_o = \\left\\{\n",
    "             \\begin{array}{lr}\n",
    "             V_i ,   & if \\; V_i > V_R \\\\\n",
    "             V_R, &  if \\; V_i  \\leq V_R\n",
    "             \\end{array}\n",
    "\\right.\n",
    "\\end{equation}\n",
    "\n"
   ]
  },
  {
   "cell_type": "code",
   "execution_count": 15,
   "metadata": {},
   "outputs": [
    {
     "data": {
      "image/png": "[encoded data removed]",
      "text/plain": [
       "<Figure size 432x288 with 1 Axes>"
      ]
     },
     "metadata": {
      "needs_background": "light"
     },
     "output_type": "display_data"
    }
   ],
   "source": [
    "import math\n",
    "import matplotlib.pyplot as plt\n",
    "N = 200\n",
    "dt = 4*math.pi/N\n",
    "T = [i*dt for i in range(N)]\n",
    "Vi = [10*math.sin(t) for t in T]\n",
    "Vr = 3\n",
    "#[f(x) if condition else g(x) for x in sequence]\n",
    "Vo=[x if x>Vr else Vr for x in Vi]\n",
    "\n",
    "fig,ax = plt.subplots()\n",
    "ax.plot(T,Vi, label='Vi')\n",
    "ax.plot(T,Vo, label='Vo')\n",
    "ax.legend()\n",
    "\n",
    "ax.spines['left'].set_position('zero')   # makee x and y axes go through\n",
    "ax.spines['bottom'].set_position('zero') # the origin\n",
    "ax.spines['right'].set_color('none')     # hide the unnecessary\n",
    "ax.spines['top'].set_color('none')       # spines (\"the box\" around the plot)\n"
   ]
  },
  {
   "cell_type": "markdown",
   "metadata": {},
   "source": [
    "### 截波電路的輸出入轉移曲線"
   ]
  },
  {
   "cell_type": "code",
   "execution_count": 16,
   "metadata": {},
   "outputs": [
    {
     "data": {
      "image/png": "[encoded data removed]",
      "text/plain": [
       "<Figure size 432x288 with 1 Axes>"
      ]
     },
     "metadata": {
      "needs_background": "light"
     },
     "output_type": "display_data"
    }
   ],
   "source": [
    "fig,ax = plt.subplots()\n",
    "ax.plot(Vi,Vo)\n",
    "ax.set_ylim([-10,10])\n",
    "ax.spines['left'].set_position('zero')   # makee x and y axes go through\n",
    "ax.spines['bottom'].set_position('zero') # the origin\n",
    "ax.spines['right'].set_color('none')     # hide the unnecessary\n",
    "ax.spines['top'].set_color('none')       # spines (\"the box\" around the plot"
   ]
  },
  {
   "cell_type": "markdown",
   "metadata": {},
   "source": [
    "# 截波電路 2\n",
    "\n",
    "<img align=\"center\" style=\"padding-right:10px;\" src=\"figures\\clap_circuit3.png\">\n",
    "\n",
    "提示: (要修正)\n",
    "\\begin{equation}\n",
    "V_o = \\left\\{\n",
    "             \\begin{array}{lr}\n",
    "             V_i ,   & if \\; V_i > V_R \\\\\n",
    "             V_R, &  if \\; V_i  \\leq V_R\n",
    "             \\end{array}\n",
    "\\right.\n",
    "\\end{equation}\n"
   ]
  },
  {
   "cell_type": "markdown",
   "metadata": {},
   "source": [
    "## 輸入輸出波形圖"
   ]
  },
  {
   "cell_type": "code",
   "execution_count": null,
   "metadata": {},
   "outputs": [],
   "source": []
  },
  {
   "cell_type": "markdown",
   "metadata": {},
   "source": [
    "## 輸出入轉移曲線"
   ]
  },
  {
   "cell_type": "code",
   "execution_count": null,
   "metadata": {},
   "outputs": [],
   "source": []
  },
  {
   "cell_type": "markdown",
   "metadata": {},
   "source": [
    "# 練習: 截波電路\n",
    "\n",
    "<img align=\"center\" style=\"padding-right:10px;\" src=\"figures\\clap_circuit2.png\">\n",
    "\n",
    "提示:\n",
    "\\begin{equation}\n",
    "V_o = \\left\\{\n",
    "             \\begin{array}{lr}\n",
    "             V_i + V_R,   & if \\; V_i > -V_R \\\\\n",
    "             0, &  if \\; V_i  \\leq -V_R\n",
    "             \\end{array}\n",
    "\\right.\n",
    "\\end{equation}"
   ]
  },
  {
   "cell_type": "markdown",
   "metadata": {},
   "source": [
    "### 輸入輸出波形圖"
   ]
  },
  {
   "cell_type": "code",
   "execution_count": null,
   "metadata": {},
   "outputs": [],
   "source": []
  },
  {
   "cell_type": "markdown",
   "metadata": {},
   "source": [
    "### 輸出入轉移曲線"
   ]
  },
  {
   "cell_type": "code",
   "execution_count": null,
   "metadata": {},
   "outputs": [],
   "source": []
  }
 ],
 "metadata": {
  "kernelspec": {
   "display_name": "Python 3",
   "language": "python",
   "name": "python3"
  },
  "language_info": {
   "codemirror_mode": {
    "name": "ipython",
    "version": 3
   },
   "file_extension": ".py",
   "mimetype": "text/x-python",
   "name": "python",
   "nbconvert_exporter": "python",
   "pygments_lexer": "ipython3",
   "version": "3.7.6"
  }
 },
 "nbformat": 4,
 "nbformat_minor": 2
}
