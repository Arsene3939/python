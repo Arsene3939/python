{
 "cells": [
  {
   "cell_type": "markdown",
   "metadata": {},
   "source": [
    "# 5.6 二元分類器"
   ]
  },
  {
   "cell_type": "markdown",
   "metadata": {},
   "source": [
    "## A Simple Neural Network\n"
   ]
  },
  {
   "cell_type": "code",
   "execution_count": 57,
   "metadata": {},
   "outputs": [
    {
     "name": "stdout",
     "output_type": "stream",
     "text": [
      "(0, 0) --->  0.0\n",
      "(0, 1) --->  0.5\n",
      "(1, 0) --->  0.45\n",
      "(1, 1) --->  0.95\n"
     ]
    }
   ],
   "source": [
    "import numpy as np\n",
    "\n",
    "class Perceptron:\n",
    "    \n",
    "    def __init__(self, input_length, weights=None, \n",
    "                 learning_rate=0.1):\n",
    "        self.learning_rate = learning_rate\n",
    "        if weights is None:\n",
    "            self.weights = np.ones(input_length) / input_length\n",
    "        else:\n",
    "            self.weights = weights\n",
    "        \n",
    "    @staticmethod\n",
    "    def unit_step_function(x):\n",
    "        if x < 0:\n",
    "            return 0\n",
    "        \n",
    "        return x\n",
    "        \n",
    "    def __call__(self, in_data):\n",
    "        weighted_input = self.weights * in_data\n",
    "        weighted_sum = weighted_input.sum()\n",
    "        return Perceptron.unit_step_function(weighted_sum)\n",
    "    \n",
    "    def adjust(self, \n",
    "               target_result, \n",
    "               calculated_result,\n",
    "               in_data):\n",
    "        error = target_result - calculated_result\n",
    "        for i in range(len(in_data)):\n",
    "            correction = error * in_data[i] *self.learning_rate\n",
    "            self.weights[i] += correction \n",
    "p = Perceptron(2, np.array([0.45, 0.5]))\n",
    "\n",
    "data_in = np.empty((2,))\n",
    "for in1 in range(2):\n",
    "    for in2 in range(2):\n",
    "        data_in = (in1, in2)\n",
    "        data_out = p(data_in)\n",
    "        print(data_in, \"---> \", data_out)"
   ]
  },
  {
   "cell_type": "markdown",
   "metadata": {},
   "source": [
    "### Single Layer with Bias\n"
   ]
  },
  {
   "cell_type": "code",
   "execution_count": 58,
   "metadata": {},
   "outputs": [
    {
     "data": {
      "image/png": "[encoded data removed]",
      "text/plain": [
       "<Figure size 432x288 with 1 Axes>"
      ]
     },
     "metadata": {
      "needs_background": "light"
     },
     "output_type": "display_data"
    },
    {
     "data": {
      "text/plain": [
       "(1000, 2)"
      ]
     },
     "execution_count": 58,
     "metadata": {},
     "output_type": "execute_result"
    }
   ],
   "source": [
    "from sklearn.datasets import make_blobs\n",
    "import matplotlib.pyplot as plt\n",
    "import numpy as np\n",
    "\n",
    "fig, ax = plt.subplots()\n",
    "data, labels = make_blobs(n_samples=1000, \n",
    "                          #centers=n_classes, \n",
    "                          centers=np.array([[2, 2], [6, 6]]),\n",
    "                          random_state=1)\n",
    "\n",
    "for i in range(len(data)):\n",
    "    if labels[i] == 0:\n",
    "        ax.scatter(data[i][0], data[i][1], c=\"green\")\n",
    "    else:\n",
    "        ax.scatter(data[i][0], data[i][1], c=\"blue\") \n",
    "\n",
    "plt.show()\n",
    "data.shape"
   ]
  },
  {
   "cell_type": "code",
   "execution_count": 59,
   "metadata": {},
   "outputs": [
    {
     "data": {
      "image/png": "[encoded data removed]",
      "text/plain": [
       "<Figure size 432x288 with 1 Axes>"
      ]
     },
     "metadata": {
      "needs_background": "light"
     },
     "output_type": "display_data"
    }
   ],
   "source": [
    "from matplotlib import pyplot as plt\n",
    "\n",
    "class1 = [(3, 4), (4.2, 5.3), (4, 3), (6, 5), (4, 6), (3.7, 5.8),\n",
    "          (3.2, 4.6), (5.2, 5.9), (5, 4), (7, 4), (3, 7), (4.3, 4.3) ] \n",
    "class2 = [(-3, -4), (-2, -3.5), (-1, -6), (-3, -4.3), (-4, -5.6), \n",
    "          (-3.2, -4.8), (-2.3, -4.3), (-2.7, -2.6), (-1.5, -3.6), \n",
    "          (-3.6, -5.6), (-4.5, -4.6), (-3.7, -5.8) ]\n",
    "\n",
    "\n",
    "X, Y = zip(*class1)\n",
    "plt.scatter(X, Y, c=\"r\")\n",
    "\n",
    "X, Y = zip(*class2)\n",
    "plt.scatter(X, Y, c=\"b\")\n",
    "plt.show()"
   ]
  },
  {
   "cell_type": "code",
   "execution_count": 60,
   "metadata": {},
   "outputs": [
    {
     "name": "stdout",
     "output_type": "stream",
     "text": [
      "12.206691940825486\n",
      "0\n",
      "[('wrong', 24)]\n",
      "Counter({'wrong': 24})\n"
     ]
    }
   ],
   "source": [
    "from itertools import chain\n",
    "\n",
    "p = Perceptron(2)\n",
    "\n",
    "def lin1(x):\n",
    "    return  x + 4\n",
    "\n",
    "for point in class1:\n",
    "    p.adjust(1, \n",
    "             p(point), \n",
    "             point)\n",
    "\n",
    "for point in class2:\n",
    "    p.adjust(0, \n",
    "             p(point), \n",
    "             point)\n",
    "    \n",
    "evaluation = Counter()\n",
    "for point in chain(class1, class2):\n",
    "    #print(p(point))\n",
    "    if p(point) == 1:\n",
    "        evaluation[\"correct\"] += 1\n",
    "    else:\n",
    "        evaluation[\"wrong\"] += 1\n",
    "        \n",
    "testpoints = [(3.9, 6.9), (-2.9, -5.9)]\n",
    "for point in testpoints:\n",
    "    print(p(point))\n",
    "        \n",
    "print(evaluation.most_common())\n",
    "print(evaluation)"
   ]
  },
  {
   "cell_type": "code",
   "execution_count": 80,
   "metadata": {},
   "outputs": [
    {
     "data": {
      "image/png": "[encoded data removed]",
      "text/plain": [
       "<Figure size 432x288 with 1 Axes>"
      ]
     },
     "metadata": {
      "needs_background": "light"
     },
     "output_type": "display_data"
    }
   ],
   "source": [
    "from matplotlib import pyplot as plt\n",
    "\n",
    "X, Y = zip(*class1)\n",
    "plt.scatter(X, Y, c=\"r\")\n",
    "\n",
    "X, Y = zip(*class2)\n",
    "plt.scatter(X, Y, c=\"b\")\n",
    "\n",
    "x = np.arange(-7, 10)\n",
    "y = 5*x + 10 \n",
    "\n",
    "m = -p.weights[0] / p.weights[1]\n",
    "plt.plot(x, m*x)\n",
    "plt.show()"
   ]
  },
  {
   "cell_type": "code",
   "execution_count": 128,
   "metadata": {},
   "outputs": [
    {
     "data": {
      "image/png": "[encoded data removed]",
      "text/plain": [
       "<Figure size 432x288 with 1 Axes>"
      ]
     },
     "metadata": {
      "needs_background": "light"
     },
     "output_type": "display_data"
    },
    {
     "data": {
      "text/plain": [
       "(500, 2)"
      ]
     },
     "execution_count": 128,
     "metadata": {},
     "output_type": "execute_result"
    }
   ],
   "source": [
    "from sklearn.datasets import make_blobs\n",
    "import matplotlib.pyplot as plt\n",
    "import numpy as np\n",
    "\n",
    "fig, ax = plt.subplots()\n",
    "\n",
    "learnset=[]\n",
    "data, labels = make_blobs(n_samples=500, \n",
    "                          #centers=n_classes, \n",
    "                          centers=np.array([[8, -5],[3,-3]]),\n",
    "                          random_state=1)\n",
    "N = len(data)\n",
    "\n",
    "for i in range(N):\n",
    "    learnset.append([data[i], labels[i]])\n",
    "\n",
    "\n",
    "for i in range(len(data)):\n",
    "    #print(data[i],labels[i])\n",
    "    if labels[i] == 0:\n",
    "        ax.scatter(data[i][0], data[i][1], c=\"green\")\n",
    "    else:\n",
    "        ax.scatter(data[i][0], data[i][1], c=\"blue\") \n",
    "\n",
    "plt.show()\n",
    "data.shape"
   ]
  },
  {
   "cell_type": "code",
   "execution_count": 132,
   "metadata": {},
   "outputs": [
    {
     "name": "stdout",
     "output_type": "stream",
     "text": [
      "[('correct', 498), ('wrong', 2)]\n",
      "Counter({'correct': 498, 'wrong': 2})\n",
      "11.028905309147913\n"
     ]
    },
    {
     "data": {
      "text/plain": [
       "[<matplotlib.lines.Line2D at 0x2b4bbb91ef0>]"
      ]
     },
     "execution_count": 132,
     "metadata": {},
     "output_type": "execute_result"
    },
    {
     "data": {
      "image/png": "[encoded data removed]",
      "text/plain": [
       "<Figure size 432x288 with 1 Axes>"
      ]
     },
     "metadata": {
      "needs_background": "light"
     },
     "output_type": "display_data"
    }
   ],
   "source": [
    "import numpy as np\n",
    "from collections import Counter\n",
    "\n",
    "class Perceptron:\n",
    "    \n",
    "    def __init__(self, \n",
    "                 input_length, \n",
    "                 weights=None, \n",
    "                 learning_rate=0.1):\n",
    "        if weights==None:\n",
    "            # input_length + 1 because bias needs a weight as well\n",
    "            self.weights = np.random.random((input_length + 1)) * 2 - 1\n",
    "        self.learning_rate = learning_rate\n",
    "        self.bias = 1\n",
    "    \n",
    "    @staticmethod\n",
    "    def sigmoid_function(x):\n",
    "        res = 1 / (1 + np.power(np.e, -x))\n",
    "        return 0 if res < 0.5 else 1\n",
    "        \n",
    "    def __call__(self, in_data):\n",
    "        weighted_input = self.weights[:-1] * in_data\n",
    "        weighted_sum = weighted_input.sum() + self.bias *self.weights[-1]  # y=wx+b*w\n",
    "        return Perceptron.sigmoid_function(weighted_sum)\n",
    "    \n",
    "    def adjust(self, \n",
    "               target_result, \n",
    "               calculated_result,\n",
    "               in_data):\n",
    "        error = target_result - calculated_result\n",
    "        #print(len(in_data))\n",
    "        #for i in range(len(in_data)):\n",
    "        #print(error, in_data, self.learning_rate)\n",
    "        for i in range(len(in_data)):\n",
    "            correction = error * in_data[i]  *self.learning_rate\n",
    "            #print(\"weights: \", self.weights)\n",
    "            #print(target_result, calculated_result, in_data, error, correction)\n",
    "            self.weights[i] += correction \n",
    "        # correct the bias:\n",
    "        correction = error * self.bias * self.learning_rate\n",
    "        self.weights[-1] += correction \n",
    "   \n",
    "  \n",
    "p = Perceptron(2)\n",
    "\n",
    "fig,ax = plt.subplots()\n",
    "for i in range(len(data)):\n",
    "    if labels[i] == 0:\n",
    "        ax.scatter(data[i][0], data[i][1], c=\"green\")\n",
    "    else:\n",
    "        ax.scatter(data[i][0], data[i][1], c=\"blue\") \n",
    "        \n",
    " \n",
    "\n",
    "for _ in range(10):\n",
    "    for point, label in learnset:\n",
    "        p.adjust(label, \n",
    "             p(point), \n",
    "             point)\n",
    "\n",
    "evaluation = Counter()\n",
    "for point, label in learnset:\n",
    "\n",
    "    if p(point) == label:\n",
    "        evaluation[\"correct\"] += 1\n",
    "    else:\n",
    "        evaluation[\"wrong\"] += 1\n",
    "\n",
    "print(evaluation.most_common())\n",
    "print(evaluation)\n",
    "\n",
    "XR = np.arange(5, 6,0.1)  \n",
    "m = -p.weights[0] / p.weights[1]\n",
    "b = -p.weights[2] / p.weights[1]\n",
    "print(m)\n",
    "ax.plot(XR, m*XR+b)\n"
   ]
  },
  {
   "cell_type": "code",
   "execution_count": 49,
   "metadata": {},
   "outputs": [
    {
     "data": {
      "text/plain": [
       "2"
      ]
     },
     "execution_count": 49,
     "metadata": {},
     "output_type": "execute_result"
    }
   ],
   "source": [
    "a=np.array([0.1, 0.2])\n",
    "a.dtype\n",
    "len(a)"
   ]
  },
  {
   "cell_type": "markdown",
   "metadata": {},
   "source": [
    "## Perceptron class 1"
   ]
  },
  {
   "cell_type": "code",
   "execution_count": 204,
   "metadata": {},
   "outputs": [],
   "source": [
    "import numpy as np\n",
    "from collections import Counter\n",
    "\n",
    "class Perceptron:\n",
    "    \n",
    "    def __init__(self, \n",
    "                 input_length, \n",
    "                 weights=None, \n",
    "                 learning_rate=0.1):\n",
    "        if weights==None:\n",
    "            # input_length + 1 because bias needs a weight as well\n",
    "            self.weights = np.random.random((input_length + 1)) * 2 - 1\n",
    "        self.learning_rate = learning_rate\n",
    "        self.bias = 1\n",
    "    \n",
    "    @staticmethod\n",
    "    def sigmoid_function(x):\n",
    "        res = 1 / (1 + np.power(np.e, -x))\n",
    "        return 0 if res < 0.5 else 1\n",
    "        \n",
    "    def __call__(self, in_data):\n",
    "        weighted_input = self.weights[:-1] * in_data\n",
    "        weighted_sum = weighted_input.sum() + self.bias *self.weights[-1]  # y=wx+b*w\n",
    "        return Perceptron.sigmoid_function(weighted_sum)\n",
    "    \n",
    "    def adjust(self, \n",
    "               target_result, \n",
    "               calculated_result,\n",
    "               in_data):\n",
    "        error = target_result - calculated_result\n",
    "        #print(len(in_data))\n",
    "        #for i in range(len(in_data)):\n",
    "        #print(error, in_data, self.learning_rate)\n",
    "        for i in range(len(in_data)):\n",
    "            correction = error * in_data[i]  *self.learning_rate\n",
    "            #print(\"weights: \", self.weights)\n",
    "            #print(target_result, calculated_result, in_data, error, correction)\n",
    "            self.weights[i] += correction \n",
    "        # correct the bias:\n",
    "        correction = error * self.bias * self.learning_rate\n",
    "        self.weights[-1] += correction \n",
    "\n",
    "        "
   ]
  },
  {
   "cell_type": "markdown",
   "metadata": {},
   "source": [
    "## Perceptron class 2"
   ]
  },
  {
   "cell_type": "code",
   "execution_count": 207,
   "metadata": {},
   "outputs": [],
   "source": [
    "import numpy as np\n",
    "from collections import Counter\n",
    "\n",
    "class Perceptron:\n",
    "    \n",
    "    def __init__(self, \n",
    "                 input_length, \n",
    "                 weights=None, \n",
    "                 learning_rate=0.1):\n",
    "        if weights==None:\n",
    "            # input_length + 1 because bias needs a weight as well\n",
    "            self.weights = np.random.random((input_length + 1)) * 2 - 1\n",
    "        self.learning_rate = learning_rate\n",
    "        self.bias = 1\n",
    "    \n",
    "    @staticmethod\n",
    "    def sigmoid_function(x):\n",
    "        res = 1 / (1 + np.power(np.e, -x))\n",
    "        return res\n",
    "        #return 0 if res < 0.5 else 1\n",
    "        \n",
    "    def __call__(self, in_data):\n",
    "        #weighted_input = self.weights[:-1] * in_data\n",
    "        #weighted_sum = weighted_input.sum() + self.bias *self.weights[-1]  # y=wx+b*w\n",
    "        input_vector = np.hstack((in_data,self.bias))\n",
    "        weighted_sum = np.dot(input_vector, self.weights)\n",
    "        return Perceptron.sigmoid_function(weighted_sum)\n",
    "    \n",
    "    def adjust(self, \n",
    "               target_result, \n",
    "               calculated_result,\n",
    "               in_data):\n",
    "        error = target_result - calculated_result\n",
    "        input_vector = np.hstack((in_data,self.bias))\n",
    "        weighted_sum = np.dot(input_vector, self.weights)\n",
    "        t = Perceptron.sigmoid_function(weighted_sum)\n",
    "        correction = error * input_vector * self.learning_rate * t * (1-t)\n",
    "        #correction = error * input_vector * self.learning_rate \n",
    "        self.weights += correction \n",
    "        \n",
    "\n",
    "        "
   ]
  },
  {
   "cell_type": "markdown",
   "metadata": {},
   "source": [
    "## perceptron class 3 輸出必須加sigmoid, 否則輸出會溢位"
   ]
  },
  {
   "cell_type": "code",
   "execution_count": 193,
   "metadata": {},
   "outputs": [],
   "source": [
    "import numpy as np\n",
    "from collections import Counter\n",
    "\n",
    "class Perceptron:\n",
    "    \n",
    "    def __init__(self, \n",
    "                 input_length, \n",
    "                 weights=None, \n",
    "                 learning_rate=0.1):\n",
    "        if weights==None:\n",
    "            # input_length + 1 because bias needs a weight as well\n",
    "            self.weights = np.random.random((input_length + 1)) * 2 - 1\n",
    "        self.learning_rate = learning_rate\n",
    "        self.bias = 1\n",
    "    \n",
    "    @staticmethod\n",
    "    def sigmoid_function(x):\n",
    "        res = 1 / (1 + np.power(np.e, -x))\n",
    "        return res\n",
    "        #return 0 if res < 0.5 else 1\n",
    "        \n",
    "    def __call__(self, in_data):\n",
    "        #weighted_input = self.weights[:-1] * in_data\n",
    "        #weighted_sum = weighted_input.sum() + self.bias *self.weights[-1]  # y=wx+b*w\n",
    "        input_vector = np.hstack((in_data,self.bias))\n",
    "        weighted_sum = np.dot(input_vector, self.weights)\n",
    "        #return weighted_sum\n",
    "        return Perceptron.sigmoid_function(weighted_sum)\n",
    "    \n",
    "    def adjust(self, \n",
    "               target_result, \n",
    "               calculated_result,\n",
    "               in_data):\n",
    "        error = target_result - calculated_result\n",
    "        input_vector = np.hstack((in_data,self.bias))\n",
    "        weighted_sum = np.dot(input_vector, self.weights)\n",
    "        #t = Perceptron.sigmoid_function(weighted_sum)\n",
    "        #correction = error * input_vector * self.learning_rate * t * (1-t)\n",
    "        correction = error * input_vector * self.learning_rate \n",
    "        self.weights += correction \n",
    "        \n",
    "\n",
    "        "
   ]
  },
  {
   "cell_type": "markdown",
   "metadata": {},
   "source": [
    "### Prepare data"
   ]
  },
  {
   "cell_type": "code",
   "execution_count": 196,
   "metadata": {},
   "outputs": [
    {
     "data": {
      "image/png": "[encoded data removed]",
      "text/plain": [
       "<Figure size 432x288 with 1 Axes>"
      ]
     },
     "metadata": {
      "needs_background": "light"
     },
     "output_type": "display_data"
    },
    {
     "data": {
      "text/plain": [
       "(100, 2)"
      ]
     },
     "execution_count": 196,
     "metadata": {},
     "output_type": "execute_result"
    }
   ],
   "source": [
    "from sklearn.datasets import make_blobs\n",
    "import matplotlib.pyplot as plt\n",
    "import numpy as np\n",
    "\n",
    "fig, ax = plt.subplots()\n",
    "\n",
    "learnset=[]\n",
    "data, labels = make_blobs(n_samples=100, \n",
    "                          #centers=n_classes, \n",
    "                          centers=np.array([[8, -6],[3,-3]]),\n",
    "                          random_state=1)\n",
    "N = len(data)\n",
    "\n",
    "for i in range(N):\n",
    "    learnset.append([data[i], labels[i]])\n",
    "\n",
    "\n",
    "for i in range(len(data)):\n",
    "    #print(data[i],labels[i])\n",
    "    if labels[i] == 0:\n",
    "        ax.scatter(data[i][0], data[i][1], c=\"green\")\n",
    "    else:\n",
    "        ax.scatter(data[i][0], data[i][1], c=\"blue\") \n",
    "\n",
    "plt.show()\n",
    "data.shape"
   ]
  },
  {
   "cell_type": "markdown",
   "metadata": {},
   "source": [
    "### Run"
   ]
  },
  {
   "cell_type": "code",
   "execution_count": 211,
   "metadata": {},
   "outputs": [
    {
     "name": "stdout",
     "output_type": "stream",
     "text": [
      "[('correct', 100)]\n",
      "Counter({'correct': 100})\n"
     ]
    }
   ],
   "source": [
    "  \n",
    "p = Perceptron(2)\n",
    "for _ in range(50):\n",
    "    for point, label in learnset:\n",
    "        p.adjust(label, \n",
    "             p(point), \n",
    "             point)\n",
    "\n",
    "evaluation = Counter()\n",
    "for point, label in learnset:\n",
    "    #print(p(point),label)\n",
    "    #if p(point) == label:\n",
    "    if (p(point) - label)<0.5:\n",
    "        evaluation[\"correct\"] += 1\n",
    "    else:\n",
    "        evaluation[\"wrong\"] += 1\n",
    "print(evaluation.most_common())\n",
    "print(evaluation)"
   ]
  },
  {
   "cell_type": "markdown",
   "metadata": {},
   "source": [
    "### Ploting"
   ]
  },
  {
   "cell_type": "code",
   "execution_count": 212,
   "metadata": {},
   "outputs": [
    {
     "name": "stdout",
     "output_type": "stream",
     "text": [
      "7.058106946362303\n"
     ]
    },
    {
     "data": {
      "text/plain": [
       "[<matplotlib.lines.Line2D at 0x2b4c40ac8d0>]"
      ]
     },
     "execution_count": 212,
     "metadata": {},
     "output_type": "execute_result"
    },
    {
     "data": {
      "image/png": "[encoded data removed]",
      "text/plain": [
       "<Figure size 432x288 with 1 Axes>"
      ]
     },
     "metadata": {
      "needs_background": "light"
     },
     "output_type": "display_data"
    }
   ],
   "source": [
    "fig,ax = plt.subplots()\n",
    "for i in range(len(data)):\n",
    "    if labels[i] == 0:\n",
    "        ax.scatter(data[i][0], data[i][1], c=\"green\")\n",
    "    else:\n",
    "        ax.scatter(data[i][0], data[i][1], c=\"blue\") \n",
    "\n",
    "XR = np.arange(5, 7,0.1)  \n",
    "m = -p.weights[0] / p.weights[1]\n",
    "b = -p.weights[2] / p.weights[1]\n",
    "print(m)\n",
    "ax.plot(XR, m*XR+b)"
   ]
  }
 ],
 "metadata": {
  "kernelspec": {
   "display_name": "Python 3",
   "language": "python",
   "name": "python3"
  },
  "language_info": {
   "codemirror_mode": {
    "name": "ipython",
    "version": 3
   },
   "file_extension": ".py",
   "mimetype": "text/x-python",
   "name": "python",
   "nbconvert_exporter": "python",
   "pygments_lexer": "ipython3",
   "version": "3.7.1"
  }
 },
 "nbformat": 4,
 "nbformat_minor": 2
}
