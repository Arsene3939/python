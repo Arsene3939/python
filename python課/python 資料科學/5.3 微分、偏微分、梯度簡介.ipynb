{
 "cells": [
  {
   "cell_type": "markdown",
   "metadata": {},
   "source": [
    "# 5.3 微分、偏微分、梯度簡介"
   ]
  },
  {
   "cell_type": "markdown",
   "metadata": {},
   "source": [
    "https://hackmd.io/@allen108108/ryQypiDK4?type=view\n",
    "\n",
    "機器學習(Machine Learning)與深度學習Deep Learning最主要的基礎原理是梯度下降法(Gradient Decent)，\n",
    "要了解梯度下降法必須先了解斜率、微分與偏微分的觀念，此處由簡至難介紹這些觀念。 \n"
   ]
  },
  {
   "cell_type": "markdown",
   "metadata": {},
   "source": [
    "## 斜率\n",
    "\n",
    "斜率用來量度斜坡的斜度。數學上,直線的斜率在任一處皆相等，是直線傾斜程度的量度。曲線上某點的切線斜率反映此曲線的變數在此點的變化快慢程度，用微積分可計算出曲線中任一點的切線斜率。"
   ]
  },
  {
   "cell_type": "markdown",
   "metadata": {},
   "source": [
    "### 直線斜率\n",
    "對於直角坐標系，若橫軸為x軸，縱軸是y軸，斜率m通常寫成\n",
    "<img align=\"center\" style=\"padding-right:10px;\" src=\"figures\\line_slope.png\">\n",
    "$$m=\\cfrac{Δy}{Δx}$$\n",
    "若已知直角坐標系內兩點(x1,y1)與(x2,y2)\n",
    "，斜率的表達為\n",
    "$$m=\\cfrac{y2−y1}{x2−x1}$$\n"
   ]
  },
  {
   "cell_type": "markdown",
   "metadata": {},
   "source": [
    "如果我們站在這條直線上想要往上爬，應該要往哪個方向 ? \n",
    "從定義上來看，斜率的正負號，決定了這條直線該往哪裡傾斜。但其實也間接地告訴我們，想要往上爬應該往哪個方向走。\n",
    "簡單來說，若斜率為正，表示只要你在這條直線上，往x 軸的正向走，便會越走越高，\n",
    "反之，若斜率為負，那麼在直線上往x軸的負向走，便會越走越高。\n",
    "<img align=\"center\" style=\"padding-right:10px;\" src=\"figures\\line_slope2.jpg\">\n"
   ]
  },
  {
   "cell_type": "code",
   "execution_count": null,
   "metadata": {},
   "outputs": [],
   "source": []
  },
  {
   "cell_type": "markdown",
   "metadata": {},
   "source": [
    "## 切線斜率\n",
    "\n",
    "清楚了直線斜率的定義後，對於任一個曲線 (曲面)上任一點，\n",
    "我們如果能夠找到這一點的切線斜率，\n",
    "我們就可以知道在這一點上的傾斜程度及方向，\n",
    "也就可以知道如果我們要往上爬，在這一個方向上，我們該往哪裡走。\n",
    "<img align=\"center\" style=\"padding-right:10px;\" src=\"figures\\curve_slope.jpg\">\n"
   ]
  },
  {
   "cell_type": "code",
   "execution_count": null,
   "metadata": {},
   "outputs": [],
   "source": []
  },
  {
   "cell_type": "markdown",
   "metadata": {},
   "source": [
    "### 導數\n",
    "\n",
    "如果我們知道了一條曲線方程式，我們該怎麼找到某一點的切線斜率 ?\n",
    "這時候就要使用微積分中導數的概念\n",
    "<img align=\"center\" style=\"padding-right:10px;\" src=\"figures\\curve_slope2.jpg\">\n",
    "\n",
    "$上圖中紫色線為通過P與P_0 點的割線，咖啡線為通過P_0 的切線。$\n",
    "\n",
    "求切線斜率的概念便是將割線斜率中的Δx趨近於0。假設 f(x) 為平面上一曲線方程式，\n",
    "$$f′(a)=\\lim_{Δx→ 0} \\cfrac{f(a+Δx)−f(a)}{(a+Δx)-a} = \\lim_{Δx→ 0} \\cfrac{f(a+Δx)−f(a)}{Δx}$$\n",
    "上式為f(x)在a點導數，也是切線斜率，表示f(x)在a點的陡峭程度。\n",
    "\n",
    "我們可以將導數泛化出一個導函數 \n",
    "$$\\frac{d}{dx} f(x) = f′(x)=\\lim_{Δx→ 0} \\cfrac{f(x+Δx)−f(x)}{Δx} $$\n",
    "，只要帶入我們想要的點，就可以求出該點的切線斜率,承上所述，導數的正負號也表現出整個圖形上升的方向。\n",
    "\n"
   ]
  },
  {
   "cell_type": "markdown",
   "metadata": {},
   "source": [
    "## 常見的微分公式\n",
    "\n",
    "$\\frac{d}{dx} x^n = nx^{n-1}$\n",
    "\n",
    "$\\frac{d}{dx} e^x = e^{x}$\n",
    "\n",
    "$\\frac{d}{dx} \\sin(x) = \\cos(x) $\n",
    "\n",
    "$\\frac{d}{dx} \\cos(x) = -\\sin(x) $\n",
    "\n",
    "\n",
    "### 範例\n",
    "1. $f(x) = 2x^3 + 4x^2 + x + 1$  \n",
    "    $f'(x) = 6x^2 + 8x + 1$\n",
    "    \n",
    "    \n",
    "2. $f(x) = x^3 + \\sin(x) + \\cos(x) $  \n",
    "    $f'(x) = 2x^2 + \\cos(x) - \\sin(3x) $\n",
    "\n"
   ]
  },
  {
   "cell_type": "markdown",
   "metadata": {},
   "source": [
    "## 進階微分公式\n",
    "\n",
    "1. 兩個函數乘積的導函數，等於其中一個的導函數乘以另一者，加上另一者的導函數與其的乘積\n",
    "    $\\frac{d}{dx}(f(x)g(x)) = f'(x)g(x) + f(x)g'(x)$\n",
    "\n",
    "2. 兩個函數商的導函數也是一個分式。其中分子是分子函數的導函數乘以分母函數減去分母函數的導函數乘以分子函數後的差，而其分母是分母函數的平方。  \n",
    "    $\\frac{d}{dx} \\cfrac{f(x)}{g(x)} = \\cfrac{f'(x)g(x)-g'(x)f(x)}{g^2 (x)}$\n",
    "\n",
    "3. 複合函數的求導法則 (鍊結法則 chain-rule)，如果有複合函數 f(x) = g(h(x))  \n",
    "    $\\frac{d}{dx}f(x) = g'(h(x))h'(x)$\n",
    "    \n",
    "### 範例    \n",
    "\n",
    "1. $\\frac{d}{dx} x^3 e^{2x} =  3x^2 e^{2x} +  2x^2 e^{2x} $\n",
    "\n",
    "2. $\\frac{d}{dx} (2x^2 + 1)^3 = 3(2x^2 + 1)^2 \\cdot 4x = 12x(2x^2 + 1)^2$\n",
    "\n",
    "3. $\\frac{d}{dx} e^{ax} = ae^{ax}$\n",
    "\n",
    "4. $\\frac{d}{dx} \\sin(ax) = a\\cos(ax) $\n",
    "\n",
    "5. $\\frac{d}{dx} \\cos(ax) = -a\\sin(ax) $\n",
    "\n",
    "\n",
    "6. $f(x) = x^3 + \\sin(3x) + \\cos(2x) $  \n",
    "    $f'(x) = 3x^2 + 3\\cos(3x) - 2\\sin(2x) $\n",
    "\n"
   ]
  },
  {
   "cell_type": "markdown",
   "metadata": {},
   "source": [
    "### 偏導數\n",
    "\n",
    "在數學中，一個多變量的函數的偏導數（英語：partial derivative）是它關於其中一個變量的導數，而保持其他變量恆定（相對於全導數，在其中所有變量都允許變化）。\n",
    "\n",
    "$函數f關於變量x的偏導數寫為f_x^{\\prime}或\\frac{\\partial f}{\\partial x}。偏導數符號 \\partial是全導數符號d的變體。$\n",
    "\n",
    "### 範例\n",
    "\n",
    "$f(x,y) = x^2 + xy + y^2$\n",
    "\n",
    "$\\frac{\\partial f}{\\partial x} = 2x + y $\n",
    "\n",
    "$\\frac{\\partial f}{\\partial y} = x + 2y $\n",
    "\n"
   ]
  },
  {
   "cell_type": "markdown",
   "metadata": {},
   "source": [
    "### 梯度\n",
    "\n",
    "把每一個方向的偏導函數收集起來，便是梯度。它的作用與價值在向量分析和微分幾何以及機器學習領域中受到廣泛認可。\n",
    "\n",
    "$$∇f(x,y,z) = (\\frac{\\partial f}{\\partial x}, \\frac{\\partial f}{\\partial y},\\frac{\\partial f}{\\partial z})$$\n",
    "\n",
    "### 範例\n",
    "\n",
    "$f(x,y) = x^2 + xy + y^2$\n",
    "\n",
    "$∇f(x,y) = (2x+y, x+2y)$\n"
   ]
  }
 ],
 "metadata": {
  "kernelspec": {
   "display_name": "Python 3",
   "language": "python",
   "name": "python3"
  },
  "language_info": {
   "codemirror_mode": {
    "name": "ipython",
    "version": 3
   },
   "file_extension": ".py",
   "mimetype": "text/x-python",
   "name": "python",
   "nbconvert_exporter": "python",
   "pygments_lexer": "ipython3",
   "version": "3.7.1"
  }
 },
 "nbformat": 4,
 "nbformat_minor": 2
}
