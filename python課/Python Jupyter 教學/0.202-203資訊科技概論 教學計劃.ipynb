{
 "cells": [
  {
   "cell_type": "markdown",
   "metadata": {},
   "source": [
    "# 202/203資訊科技概論 教學計劃"
   ]
  },
  {
   "cell_type": "markdown",
   "metadata": {},
   "source": [
    "## 1. Python  (十二週)\n",
    "\n",
    "1. 資料類型、變數、基本運算、基本輸出入\n",
    "2. 字串與串列簡介\n",
    "3. 關係運算、邏輯運算、決策指令\n",
    "4. While 迴圈\n",
    "5. 串列\n",
    "6. For 迴圈\n",
    "7. 函數"
   ]
  },
  {
   "cell_type": "markdown",
   "metadata": {},
   "source": [
    "## 2. 機器學習基礎  (六週)\n",
    "\n",
    "1. 基礎 Matplotlib 繪圖\n",
    "2. Numpy 基礎\n",
    "3. 進階 Matplotlib 繪圖"
   ]
  },
  {
   "cell_type": "markdown",
   "metadata": {},
   "source": [
    "## 3. 辦公室軟體  (六週)\n",
    "1. 中文輸入\n",
    "2. 英文輸入\n",
    "3. MS Word 文書處理\n",
    "4. MS Excel 試算表\n",
    "5. MS Power Point 簡報軟體"
   ]
  },
  {
   "cell_type": "markdown",
   "metadata": {},
   "source": [
    "## 評分規則\n",
    "1. 作業成績 80%\n",
    "2. 課堂表現 20% (上課不做正事、睡覺、玩遊戲、玩手機者會被扣分)"
   ]
  },
  {
   "cell_type": "code",
   "execution_count": null,
   "metadata": {},
   "outputs": [],
   "source": []
  },
  {
   "cell_type": "markdown",
   "metadata": {},
   "source": [
    "# 為何要學習程式設計?\n",
    "\n",
    "### 1. 理工科學生基本工具\n",
    "### 2. 學習輔助利器\n",
    "### 3. 增強邏輯思考能力\n",
    "### 4. 學習分析與解決問題的能力\n",
    "### 5. 養生嗜好\n",
    "### 6. 謀生工具\n",
    "\n",
    "\n",
    "<img align=\"center\" style=\"padding-right:10px;\" src=\"figures\\why_learn_programming.png\">\n"
   ]
  },
  {
   "cell_type": "markdown",
   "metadata": {},
   "source": [
    "# 學好程式設計的方法:\n",
    "1. 用心\n",
    "2. 熟悉基本觀念\n",
    "3. 多做練習\n",
    "4. 多觀摩他人程式"
   ]
  }
 ],
 "metadata": {
  "kernelspec": {
   "display_name": "Python 3",
   "language": "python",
   "name": "python3"
  },
  "language_info": {
   "codemirror_mode": {
    "name": "ipython",
    "version": 3
   },
   "file_extension": ".py",
   "mimetype": "text/x-python",
   "name": "python",
   "nbconvert_exporter": "python",
   "pygments_lexer": "ipython3",
   "version": "3.7.4"
  }
 },
 "nbformat": 4,
 "nbformat_minor": 2
}
