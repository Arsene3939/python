{
 "cells": [
  {
   "cell_type": "markdown",
   "metadata": {},
   "source": [
    "# 7. 函數\t\n",
    "函數是一群指令所組成，用以完成特定功能。使用函數可使程式結構模組化，指令碼重複使用，程式精簡、清晰、易維護。"
   ]
  },
  {
   "cell_type": "markdown",
   "metadata": {},
   "source": [
    "## 函數定義\t\n",
    "<pre>\n",
    "def 函數名稱(參數1，參數2，….):  \n",
    "   \"\"\"函數註解\"\"\"  \n",
    "   程式碼群  \n",
    "   return 回傳值1，回傳值2，….  \n",
    "</pre>\n",
    "### 說明\n",
    "1. 函數註解為說明資料，可省略\n",
    "2. 參數為輸入資料\n",
    "3. 回傳值為輸出資料\n",
    "4. 參數與回傳值個數依需要設定\n"
   ]
  },
  {
   "cell_type": "markdown",
   "metadata": {},
   "source": [
    "### 範例: 設計質數判斷函數，並逐一檢測2~100的整數是否為質數"
   ]
  },
  {
   "cell_type": "code",
   "execution_count": 2,
   "metadata": {
    "collapsed": true
   },
   "outputs": [
    {
     "name": "stdout",
     "output_type": "stream",
     "text": [
      "2 True\n",
      "3 True\n",
      "4 False\n",
      "5 True\n",
      "6 False\n",
      "7 True\n",
      "8 False\n",
      "9 False\n",
      "10 False\n",
      "11 True\n",
      "12 False\n",
      "13 True\n",
      "14 False\n",
      "15 False\n",
      "16 False\n",
      "17 True\n",
      "18 False\n",
      "19 True\n",
      "20 False\n",
      "21 False\n",
      "22 False\n",
      "23 True\n",
      "24 False\n",
      "25 False\n",
      "26 False\n",
      "27 False\n",
      "28 False\n",
      "29 True\n",
      "30 False\n",
      "31 True\n",
      "32 False\n",
      "33 False\n",
      "34 False\n",
      "35 False\n",
      "36 False\n",
      "37 True\n",
      "38 False\n",
      "39 False\n",
      "40 False\n",
      "41 True\n",
      "42 False\n",
      "43 True\n",
      "44 False\n",
      "45 False\n",
      "46 False\n",
      "47 True\n",
      "48 False\n",
      "49 False\n",
      "50 False\n",
      "51 False\n",
      "52 False\n",
      "53 True\n",
      "54 False\n",
      "55 False\n",
      "56 False\n",
      "57 False\n",
      "58 False\n",
      "59 True\n",
      "60 False\n",
      "61 True\n",
      "62 False\n",
      "63 False\n",
      "64 False\n",
      "65 False\n",
      "66 False\n",
      "67 True\n",
      "68 False\n",
      "69 False\n",
      "70 False\n",
      "71 True\n",
      "72 False\n",
      "73 True\n",
      "74 False\n",
      "75 False\n",
      "76 False\n",
      "77 False\n",
      "78 False\n",
      "79 True\n",
      "80 False\n",
      "81 False\n",
      "82 False\n",
      "83 True\n",
      "84 False\n",
      "85 False\n",
      "86 False\n",
      "87 False\n",
      "88 False\n",
      "89 True\n",
      "90 False\n",
      "91 False\n",
      "92 False\n",
      "93 False\n",
      "94 False\n",
      "95 False\n",
      "96 False\n",
      "97 True\n",
      "98 False\n",
      "99 False\n",
      "100 False\n"
     ]
    }
   ],
   "source": [
    "def  isPrime(n):\n",
    "    for i in range(2,n):\n",
    "        if n%i==0: return False\n",
    "    return True\n",
    "\n",
    "for i in range(2, 101):\n",
    "    print(i, isPrime(i))\n"
   ]
  },
  {
   "cell_type": "code",
   "execution_count": 5,
   "metadata": {},
   "outputs": [
    {
     "name": "stdout",
     "output_type": "stream",
     "text": [
      "歡迎光臨\n",
      "旅遊愉快\n"
     ]
    }
   ],
   "source": [
    "#範例 無參數\t\n",
    "def printWelcom( ):\n",
    "    print(\"歡迎光臨\")\n",
    "    print(\"旅遊愉快\")\n",
    "\n",
    "printWelcom( )\n"
   ]
  },
  {
   "cell_type": "code",
   "execution_count": 7,
   "metadata": {
    "collapsed": true
   },
   "outputs": [
    {
     "name": "stdout",
     "output_type": "stream",
     "text": [
      "歡迎光臨、旅遊愉快!!!\n",
      "歡迎光臨、旅遊愉快!!!\n",
      "歡迎光臨、旅遊愉快!!!\n",
      "歡迎光臨、旅遊愉快!!!\n",
      "歡迎光臨、旅遊愉快!!!\n",
      "歡迎光臨、旅遊愉快!!!\n",
      "歡迎光臨、旅遊愉快!!!\n",
      "歡迎光臨、旅遊愉快!!!\n",
      "歡迎光臨、旅遊愉快!!!\n",
      "歡迎光臨、旅遊愉快!!!\n",
      "\n"
     ]
    }
   ],
   "source": [
    "#範例 無參數\t\n",
    "def printWelcom( ):\n",
    "    s=\"歡迎光臨、旅遊愉快!!!\\n\" * 10\n",
    "    return s\n",
    "\n",
    "msg = printWelcom( )\n",
    "print(msg)\n"
   ]
  },
  {
   "cell_type": "code",
   "execution_count": 8,
   "metadata": {},
   "outputs": [
    {
     "name": "stdout",
     "output_type": "stream",
     "text": [
      "2\n"
     ]
    }
   ],
   "source": [
    "#多參數\t\n",
    "def gcd(x, y):\n",
    "  r = x % y\n",
    "  while(x % y != 0):\n",
    "    r = x % y\n",
    "    x = y\n",
    "    y = r\n",
    "  return y\n",
    "\n",
    "n = gcd(2415202, 3823460)\n",
    "print(n)\n"
   ]
  },
  {
   "cell_type": "code",
   "execution_count": 9,
   "metadata": {},
   "outputs": [
    {
     "name": "stdout",
     "output_type": "stream",
     "text": [
      "8 -2 15 0.6\n",
      "(8, -2, 15, 0.6)\n"
     ]
    }
   ],
   "source": [
    "#多參數，多輸出\n",
    "def operation(x, y):\n",
    "    return x+y, x-y, x*y, x/y\n",
    "\n",
    "a,b,c,d = operation(3,5) #個別接收回傳值\n",
    "print(a,b,c,d)\n",
    "\n",
    "A = operation(3,5)  #以元組接收回傳值\n",
    "print(A)\n"
   ]
  },
  {
   "cell_type": "code",
   "execution_count": 10,
   "metadata": {},
   "outputs": [
    {
     "name": "stdout",
     "output_type": "stream",
     "text": [
      "(8, -2, 15, 0.6)\n",
      "(13, -7, 30, 0.3)\n"
     ]
    }
   ],
   "source": [
    "#預設參數\t\n",
    "def operation(x,  y=10):\n",
    "    return x+y, x-y, x*y, x/y\n",
    "\n",
    "A = operation(3,5) #以元組接收回傳值\n",
    "print(A)\n",
    "\n",
    "A = operation(3) #以元組接收回傳值\n",
    "print(A)\n"
   ]
  },
  {
   "cell_type": "code",
   "execution_count": 11,
   "metadata": {
    "collapsed": true
   },
   "outputs": [
    {
     "name": "stdout",
     "output_type": "stream",
     "text": [
      "Jack歡迎光臨、旅遊愉快!!!\n",
      "Jack歡迎光臨、旅遊愉快!!!\n",
      "Jack歡迎光臨、旅遊愉快!!!\n",
      "Jack歡迎光臨、旅遊愉快!!!\n",
      "Jack歡迎光臨、旅遊愉快!!!\n",
      "Jack歡迎光臨、旅遊愉快!!!\n",
      "Jack歡迎光臨、旅遊愉快!!!\n",
      "Jack歡迎光臨、旅遊愉快!!!\n",
      "Jack歡迎光臨、旅遊愉快!!!\n",
      "Jack歡迎光臨、旅遊愉快!!!\n",
      "\n",
      "Jack歡迎光臨、旅遊愉快!!!\n",
      "Jack歡迎光臨、旅遊愉快!!!\n",
      "Jack歡迎光臨、旅遊愉快!!!\n",
      "Jack歡迎光臨、旅遊愉快!!!\n",
      "Jack歡迎光臨、旅遊愉快!!!\n",
      "\n",
      "歡迎光臨、旅遊愉快!!!\n",
      "歡迎光臨、旅遊愉快!!!\n",
      "歡迎光臨、旅遊愉快!!!\n",
      "歡迎光臨、旅遊愉快!!!\n",
      "歡迎光臨、旅遊愉快!!!\n",
      "\n"
     ]
    }
   ],
   "source": [
    "#預設參數\n",
    "def printWelcom(name=\"\" , n=5):\n",
    "    s = name + \"歡迎光臨、旅遊愉快!!!\\n\"\n",
    "    return (s * n)\n",
    "\n",
    "msg = printWelcom(\"Jack\",10 )\n",
    "print(msg)\n",
    "msg = printWelcom(\"Jack\" )\n",
    "print(msg)\n",
    "msg = printWelcom( )\n",
    "print(msg)\n"
   ]
  },
  {
   "cell_type": "code",
   "execution_count": 12,
   "metadata": {},
   "outputs": [
    {
     "name": "stdout",
     "output_type": "stream",
     "text": [
      "79\n"
     ]
    }
   ],
   "source": [
    "# 任意數量參數\t\n",
    "def  squareSum1(*x):\n",
    "    sum=0\n",
    "    for i in x:\n",
    "        sum += i*i\n",
    "    return sum\n",
    "\n",
    "s1=squareSum1(1,3,7,2,4)#個別傳送\n",
    "print(s1)\n"
   ]
  },
  {
   "cell_type": "code",
   "execution_count": 13,
   "metadata": {},
   "outputs": [
    {
     "name": "stdout",
     "output_type": "stream",
     "text": [
      "79\n"
     ]
    }
   ],
   "source": [
    "def  squareSum2(x):\n",
    "    sum=0\n",
    "    for i in x:\n",
    "        sum += i*i\n",
    "    return sum\n",
    "\n",
    "s1=squareSum2([1,3,7,2,4])#以串列傳送\n",
    "print(s1)\n"
   ]
  },
  {
   "cell_type": "markdown",
   "metadata": {},
   "source": [
    "## 遞迴函數 -- 自我呼叫的函數。  \n",
    "\n",
    "### 製作要點:  \n",
    "1. 問題可被分解為較小範圍的同類問題\n",
    "2. 每次呼叫都會使數值範圍變小。\n",
    "3. 必須有終止條件\n"
   ]
  },
  {
   "cell_type": "code",
   "execution_count": 14,
   "metadata": {},
   "outputs": [
    {
     "name": "stdout",
     "output_type": "stream",
     "text": [
      "120\n"
     ]
    }
   ],
   "source": [
    "def fib(n):\n",
    "    if n<=1:  return 1\n",
    "    else:  return n*fib(n-1)\n",
    "\n",
    "print(fib(5))\n"
   ]
  },
  {
   "cell_type": "markdown",
   "metadata": {},
   "source": [
    "## 練習題"
   ]
  },
  {
   "cell_type": "markdown",
   "metadata": {},
   "source": [
    "### 1.\t製作一英文字元串產生副程式，輸入參數為整數n，返回值為從A開始的n個字元組成的字串。(範例:3\"ABC\")"
   ]
  },
  {
   "cell_type": "code",
   "execution_count": null,
   "metadata": {},
   "outputs": [],
   "source": []
  },
  {
   "cell_type": "markdown",
   "metadata": {},
   "source": [
    "### 2.\t製作互質判斷副程式，輸入參數為兩整數，返回值為True/False。輸入一整數A，統計A與2~1000內的整數互質的個數。"
   ]
  },
  {
   "cell_type": "code",
   "execution_count": null,
   "metadata": {},
   "outputs": [],
   "source": []
  },
  {
   "cell_type": "markdown",
   "metadata": {},
   "source": [
    "### 3.\t製作8x8二維字型串列輸出副程式，輸入參數為字型串列，無返回值，執行時直接輸出字型。\n",
    "\n",
    "fonts1=['*......*', '.*....*.', '..*..*..', '...**...', '...**...', '..*..*..', '.*....*.', '*......*']\n",
    "\n",
    "fonts2=['*.......', '**......', '***…..', '****....', '*****...', '******..', '*******.', '********']\n"
   ]
  },
  {
   "cell_type": "code",
   "execution_count": null,
   "metadata": {},
   "outputs": [],
   "source": []
  },
  {
   "cell_type": "markdown",
   "metadata": {},
   "source": [
    "### 4.\t製作乘法表列印副程式，輸入參數為整數n，無返回值，執行時印出nxn的乘法表。"
   ]
  },
  {
   "cell_type": "code",
   "execution_count": null,
   "metadata": {},
   "outputs": [],
   "source": []
  },
  {
   "cell_type": "markdown",
   "metadata": {},
   "source": [
    "## 遞迴副程式製作: \n",
    "    \n",
    "    下方練習題所用的副程式必須為遞迴副程式"
   ]
  },
  {
   "cell_type": "markdown",
   "metadata": {},
   "source": [
    "### 5.\t設計計算階乘的副程式。提示n! = n x (n-1)!"
   ]
  },
  {
   "cell_type": "code",
   "execution_count": null,
   "metadata": {},
   "outputs": [],
   "source": []
  },
  {
   "cell_type": "markdown",
   "metadata": {},
   "source": [
    "### 6.\t設計遞迴副程式求解最大公因數。\n",
    "    提示:\n",
    "\\begin{equation}\n",
    "gcd(x,y) = \\left\\{\n",
    "             \\begin{array}{lr}\n",
    "             x ,   & if y = 0 \\\\\n",
    "             gcd(y, x \\% y ), &  if y>0  \n",
    "             \\end{array}\n",
    "\\right.\n",
    "\\end{equation}\n"
   ]
  },
  {
   "cell_type": "code",
   "execution_count": null,
   "metadata": {},
   "outputs": [],
   "source": []
  },
  {
   "cell_type": "markdown",
   "metadata": {},
   "source": [
    "### 7.\t河內塔: 有三個柱子從左至右命名為A、B、C。A柱上已放置n個圓盤，欲將其全部移置於B柱需幾次搬移? \n",
    "\n",
    "<img align=\"center\" style=\"padding-right:10px;\" src=\"figures\\hanoi.png\">\n",
    "\n",
    "(搬移規則:a.一次移動一個圓盤，b.大圓盤不得置於小圓盤的上方，c.C柱可放置圓盤)\n",
    "\n",
    "提示:\n",
    "\n",
    "$$ h(n)=\\left\\{\n",
    "\\begin{array}{lr}\n",
    "1 ,   & n=1 \\\\\n",
    "2 h(n-1)+1,   & n>1\n",
    "\\end{array}\n",
    "\\right.\n",
    "$$"
   ]
  },
  {
   "cell_type": "code",
   "execution_count": null,
   "metadata": {},
   "outputs": [],
   "source": []
  },
  {
   "cell_type": "markdown",
   "metadata": {},
   "source": [
    "### 8. 設計一遞迴副程式，輸入圓盤數n，無返回值，但須列印所有搬移動作。\n",
    "(圓盤從小到大的編號為1、2、3….)\n",
    "\n",
    "### 範例: 輸入2，輸出為\n",
    "Move 1 from A to C  \n",
    "Move 2 from A to B  \n",
    "Move 1 from C to B  \n"
   ]
  },
  {
   "cell_type": "code",
   "execution_count": null,
   "metadata": {},
   "outputs": [],
   "source": [
    "def hone():\n",
    "    \n",
    "hone(3)"
   ]
  },
  {
   "cell_type": "markdown",
   "metadata": {},
   "source": [
    "### 9.\t組合: 輸入1字串S與1整數n，輸出從字串S取出n個字元的組合數，並印出所有的組合。\n",
    "\n",
    "範例:輸入ABCD 2   輸出為 有6種組合 AB AC AD BC BD CD\n"
   ]
  },
  {
   "cell_type": "code",
   "execution_count": null,
   "metadata": {},
   "outputs": [],
   "source": []
  },
  {
   "cell_type": "markdown",
   "metadata": {},
   "source": [
    "### 10.\t排列: 輸入1字串S與1整數n，輸出從字串S取出n個字元的排列數，並印出所有的排列。\n",
    "    \n",
    "範例:輸入ABC 2   輸出為: 有6種組合,   AB AC BA BC CA CB\n"
   ]
  },
  {
   "cell_type": "code",
   "execution_count": null,
   "metadata": {},
   "outputs": [],
   "source": []
  }
 ],
 "metadata": {
  "kernelspec": {
   "display_name": "Python 3",
   "language": "python",
   "name": "python3"
  },
  "language_info": {
   "codemirror_mode": {
    "name": "ipython",
    "version": 3
   },
   "file_extension": ".py",
   "mimetype": "text/x-python",
   "name": "python",
   "nbconvert_exporter": "python",
   "pygments_lexer": "ipython3",
   "version": "3.7.6"
  }
 },
 "nbformat": 4,
 "nbformat_minor": 2
}
