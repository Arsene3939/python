{
 "cells": [
  {
   "cell_type": "markdown",
   "metadata": {},
   "source": [
    "# 1. Python 資料類型、變數、基本運算、輸出入指令"
   ]
  },
  {
   "cell_type": "markdown",
   "metadata": {},
   "source": [
    "## 資料類型\n",
    "\n",
    "<img align=\"center\" style=\"padding-right:10px;\" src=\"figures\\datatype.png\">"
   ]
  },
  {
   "cell_type": "markdown",
   "metadata": {},
   "source": [
    "## 變數\n",
    "### 用途: 儲存運算資料\n",
    "\n",
    "### 命名規則\n",
    "1.\t必須為英文字母、底線\n",
    "2.\t大小寫有別\n",
    "3.\t開頭不能為數字\n",
    "4.\t禁用保留字\n",
    "5.\t儘量使用有意義的名稱\n",
    "6.\t多使用駱駝型(組合多英文單字時)\n"
   ]
  },
  {
   "cell_type": "code",
   "execution_count": null,
   "metadata": {},
   "outputs": [],
   "source": [
    "age = 18\n",
    "name = \"Mickey\"\n",
    "rate = 0.5\n",
    "classAverageSaving = 120\n",
    "classaveragesaving = 120"
   ]
  },
  {
   "cell_type": "markdown",
   "metadata": {},
   "source": [
    "## 輸出指令 print()\n"
   ]
  },
  {
   "cell_type": "code",
   "execution_count": null,
   "metadata": {},
   "outputs": [],
   "source": [
    "print(\"abc\")\n",
    "print(123)\n",
    "print(\"abc\", 123) "
   ]
  },
  {
   "cell_type": "markdown",
   "metadata": {},
   "source": [
    "## 註解\n",
    " \n",
    "1. 解說程式功能或其他相關事項\n",
    "2. 使部份指令暫時不執行\n",
    "\n",
    "    #計算華氏溫度  ------     單行註解  \n",
    "    “””        ------           多行註解  \n",
    "     A=3 ;  \n",
    "     B = A*A + 2*A + 1  \n",
    "    “””\n",
    "\n"
   ]
  },
  {
   "cell_type": "code",
   "execution_count": null,
   "metadata": {},
   "outputs": [],
   "source": [
    "#練習註解指令\n",
    "print(\"Happy New Year\")\n",
    "print(\"Hello world!\")\n",
    "print(1)\n",
    "print(2)\n",
    "print(3)\n",
    "print(4)\n",
    "print(5)"
   ]
  },
  {
   "cell_type": "markdown",
   "metadata": {},
   "source": [
    "## 指令結束符號\t;\n",
    "\n",
    "    指令 ;  (單行指令結束符號可省略)"
   ]
  },
  {
   "cell_type": "code",
   "execution_count": null,
   "metadata": {},
   "outputs": [],
   "source": [
    "a=3;b=4;c=5"
   ]
  },
  {
   "cell_type": "markdown",
   "metadata": {},
   "source": [
    "## 指令分行符號\t\\"
   ]
  },
  {
   "cell_type": "code",
   "execution_count": null,
   "metadata": {},
   "outputs": [],
   "source": [
    "a = 1 + 2 + 3 + 4 + \\\n",
    "5 + 6 + 7\n",
    "print(a)"
   ]
  },
  {
   "cell_type": "markdown",
   "metadata": {},
   "source": [
    "## 指定運算子 =\n"
   ]
  },
  {
   "cell_type": "code",
   "execution_count": null,
   "metadata": {},
   "outputs": [],
   "source": [
    "a = 3          #設定為整數變數\n",
    "b,c = 3.6, a     #多變數設定\n",
    "d = e = f = a    #多重設定\n",
    "a = “Happy”    #設定為字串變數\n"
   ]
  },
  {
   "cell_type": "markdown",
   "metadata": {},
   "source": [
    "## 算術運算子\t\n",
    "### +、-、*、/ 加減乘除\n",
    "### // 整除\n",
    "### % 整數除法取餘數\n",
    "## ** 次方\n"
   ]
  },
  {
   "cell_type": "code",
   "execution_count": 3,
   "metadata": {},
   "outputs": [
    {
     "name": "stdout",
     "output_type": "stream",
     "text": [
      "5 2.5 2 8 2\n"
     ]
    }
   ],
   "source": [
    "a = 2 + 3\n",
    "b = 5 / 2\n",
    "c = 5 // 2\n",
    "d = 2 ** 3\n",
    "e = 8 % 3\n",
    "print(a,b,c,d,e)"
   ]
  },
  {
   "cell_type": "markdown",
   "metadata": {},
   "source": [
    "## 練習 如何取出3位數整數 a= 135 的各位數"
   ]
  },
  {
   "cell_type": "code",
   "execution_count": null,
   "metadata": {},
   "outputs": [],
   "source": []
  },
  {
   "cell_type": "markdown",
   "metadata": {},
   "source": [
    "## 運算優先次序\t\n",
    "\n",
    "1.\t小括號\n",
    "2.\t次方\n",
    "3.\t負號\t\n",
    "4.\t乘、除、取餘數 (按出現順序執行)\n",
    "5.\t加法、減法 (按出現順序執行)\n"
   ]
  },
  {
   "cell_type": "code",
   "execution_count": null,
   "metadata": {},
   "outputs": [],
   "source": [
    "5 - 6*2**-1*4"
   ]
  },
  {
   "cell_type": "markdown",
   "metadata": {},
   "source": [
    "## 算術指定運算子\n",
    "\n",
    "1. A = A + N  <====> A += N \n",
    "2. A = A - N  <====> A -= N \n",
    "3. A = A * N  <====> A *= N \n",
    "4. A = A / N  <====> A /= N \t\n",
    "5. A = A // N  <====> A //= N \n",
    "6. A = A % N  <====> A %= N \n",
    "7. A = A ** N  <====> A **= N\n"
   ]
  },
  {
   "cell_type": "code",
   "execution_count": null,
   "metadata": {},
   "outputs": [],
   "source": [
    "a,b=3,3\n",
    "a = a + 5\n",
    "b += 5\n",
    "print(a,b)"
   ]
  },
  {
   "cell_type": "markdown",
   "metadata": {},
   "source": [
    "## 字串運算\t\n",
    "\n",
    "1. ”Happy”+ ” world!”   #字串連接\n",
    "2. ”Happy” * n         #字串複製 n 份\n"
   ]
  },
  {
   "cell_type": "code",
   "execution_count": null,
   "metadata": {},
   "outputs": [],
   "source": [
    "\"happy\"*3 + \"world\"*2"
   ]
  },
  {
   "cell_type": "markdown",
   "metadata": {},
   "source": [
    "## 型別檢查函數\ttype(x)\n",
    "\n",
    "type(x): 輸出x的資料類型"
   ]
  },
  {
   "cell_type": "code",
   "execution_count": null,
   "metadata": {},
   "outputs": [],
   "source": [
    "a=123\n",
    "b=0.3\n",
    "c=\"123\"\n",
    "print(a,b,c)\n",
    "print(type(a),type(b),type(c))"
   ]
  },
  {
   "cell_type": "markdown",
   "metadata": {},
   "source": [
    "## 資料型態變換函數\t\n",
    "\n",
    "1. int( ): 整數型字串或浮點數轉換為整數     #浮點數轉型時，小數值直接捨棄 \n",
    "2. float( ):數字字串或整數轉換為浮點數 \n",
    "3. str( ): 數值轉換為字串 \n"
   ]
  },
  {
   "cell_type": "code",
   "execution_count": 5,
   "metadata": {},
   "outputs": [
    {
     "name": "stdout",
     "output_type": "stream",
     "text": [
      "123 0.3 123\n",
      "<class 'int'> <class 'float'> <class 'str'>\n",
      "123 0 123\n",
      "<class 'str'> <class 'int'> <class 'int'>\n"
     ]
    }
   ],
   "source": [
    "a=123\n",
    "b=0.3\n",
    "c=\"123\"\n",
    "print(a,b,c)\n",
    "print(type(a),type(b),type(c))\n",
    "a = str(a)\n",
    "b = int(b)\n",
    "c = int(c)\n",
    "print(a,b,c)\n",
    "print(type(a),type(b),type(c))"
   ]
  },
  {
   "cell_type": "code",
   "execution_count": null,
   "metadata": {},
   "outputs": [],
   "source": [
    "x=12\n",
    "y=23\n",
    "print(x+y)\n",
    "x=str(x)\n",
    "y=str(y)\n",
    "print(x+y)"
   ]
  },
  {
   "cell_type": "code",
   "execution_count": null,
   "metadata": {},
   "outputs": [],
   "source": [
    "x=\"12\"\n",
    "y=\"23\"\n",
    "print(x+y)\n",
    "x=int(x)\n",
    "y=int(y)\n",
    "print(x+y)"
   ]
  },
  {
   "cell_type": "markdown",
   "metadata": {},
   "source": [
    "\n"
   ]
  },
  {
   "cell_type": "code",
   "execution_count": null,
   "metadata": {},
   "outputs": [],
   "source": [
    "print(\"test\\tabc\\nHappy\")"
   ]
  },
  {
   "cell_type": "code",
   "execution_count": null,
   "metadata": {},
   "outputs": [],
   "source": [
    "輸入指令 input()\t由鍵盤讀取字串資料\n",
    "\n",
    "使用方式:\n",
    "    \n",
    "1. 字串變數 = input(“說明”)\n",
    "2. 整數變數 = int(input(“說明”))\n",
    "3. 浮點數變數 = float(input(“說明”))\n"
   ]
  },
  {
   "cell_type": "markdown",
   "metadata": {},
   "source": [
    "## 範例 輸入一整數，輸出其5倍值"
   ]
  },
  {
   "cell_type": "code",
   "execution_count": null,
   "metadata": {},
   "outputs": [],
   "source": [
    "a = input('輸入一整數')\n",
    "print(a, type(a))\n",
    "print(5*a)"
   ]
  },
  {
   "cell_type": "code",
   "execution_count": null,
   "metadata": {},
   "outputs": [],
   "source": [
    "a = int(input('輸入一整數'))\n",
    "print(a, type(a))\n",
    "print(5*a)"
   ]
  },
  {
   "cell_type": "markdown",
   "metadata": {},
   "source": [
    "## 範例 分列輸入二整數，輸出其和"
   ]
  },
  {
   "cell_type": "code",
   "execution_count": null,
   "metadata": {},
   "outputs": [],
   "source": [
    "a = int(input('輸入整數a'))\n",
    "b = int(input('輸入整數b'))\n",
    "c = a + b\n",
    "print(a,b,c)"
   ]
  },
  {
   "cell_type": "markdown",
   "metadata": {},
   "source": [
    "## 練習題"
   ]
  },
  {
   "cell_type": "markdown",
   "metadata": {},
   "source": [
    "### 1、某人之手機吃到飽費用每月499元，輸入使用年，計算總費用。\n"
   ]
  },
  {
   "cell_type": "code",
   "execution_count": null,
   "metadata": {},
   "outputs": [],
   "source": []
  },
  {
   "cell_type": "markdown",
   "metadata": {},
   "source": [
    "### 2、 輸入國文、英文、數學等三科成績，計算總分與平均。"
   ]
  },
  {
   "cell_type": "code",
   "execution_count": null,
   "metadata": {},
   "outputs": [],
   "source": []
  },
  {
   "cell_type": "markdown",
   "metadata": {},
   "source": [
    "### $3、輸入身高(公分)、體重(公斤)，計算BMI值。(bmi= \\frac{W}{H^2})$  \n",
    "\n",
    "    (W:體重，單位為公斤，H:身高，單位為公尺)\n"
   ]
  },
  {
   "cell_type": "code",
   "execution_count": null,
   "metadata": {},
   "outputs": [],
   "source": []
  },
  {
   "cell_type": "markdown",
   "metadata": {},
   "source": [
    "### 4、物品N個需裝箱，若每箱裝8個，輸入N，計算可裝滿幾箱，餘幾個物品。\n"
   ]
  },
  {
   "cell_type": "code",
   "execution_count": null,
   "metadata": {},
   "outputs": [],
   "source": []
  },
  {
   "cell_type": "markdown",
   "metadata": {},
   "source": [
    "### 5、某電阻R連接於直流電壓源E，輸入E、R，計算電流值與消耗功率。\n",
    "\n",
    "提示  \n",
    "$$I = \\cfrac{E}{R}$$  \n",
    "$$P = \\cfrac{E^2}{R}$$\n"
   ]
  },
  {
   "cell_type": "code",
   "execution_count": null,
   "metadata": {},
   "outputs": [],
   "source": []
  },
  {
   "cell_type": "markdown",
   "metadata": {},
   "source": [
    "### $6、某人在銀行存款P元，年利率為r\\%，計息時間N(幾年)，輸入P、r、N，計算複利本利和(提示: 公式為 P(1+r/100)^N)$\n"
   ]
  },
  {
   "cell_type": "code",
   "execution_count": 4,
   "metadata": {},
   "outputs": [
    {
     "name": "stdout",
     "output_type": "stream",
     "text": [
      "P:1000\n",
      "r:10\n",
      "N:2\n",
      "1210.0000000000002\n"
     ]
    }
   ],
   "source": [
    "p = int(input('P:'))\n",
    "r = int(input('r:'))\n",
    "N = int(input('N:'))\n",
    "money = p * (1 + r / 100)**N\n",
    "print(money)"
   ]
  },
  {
   "cell_type": "markdown",
   "metadata": {},
   "source": [
    "### 7、字串運算: 輸入待顯示的字串 與 一整數n，將字串複制n份後顯示。"
   ]
  },
  {
   "cell_type": "code",
   "execution_count": null,
   "metadata": {},
   "outputs": [],
   "source": []
  },
  {
   "cell_type": "markdown",
   "metadata": {},
   "source": [
    "### 8、輸入四位數整數，分解各數字(例 1245 --> 1、2、4、5)，計算數字和。\n"
   ]
  },
  {
   "cell_type": "code",
   "execution_count": null,
   "metadata": {},
   "outputs": [],
   "source": []
  },
  {
   "cell_type": "markdown",
   "metadata": {},
   "source": [
    "### 9、公司付款時使用壹仟元、伍佰元、壹佰元紙幣，與伍拾元、拾元、伍元、壹元硬幣，請輸入付款金額，輸出各式非零貨幣數量，請確保貨幣數量為最小值。"
   ]
  },
  {
   "cell_type": "code",
   "execution_count": null,
   "metadata": {},
   "outputs": [],
   "source": []
  },
  {
   "cell_type": "markdown",
   "metadata": {},
   "source": [
    "### 10.  一質量2公斤的靜止物體受10牛頓的外力作用，印出受力5秒時此物體的速度與移動距離。\n",
    "提示  \n",
    "$$f=ma$$\n",
    "$$v=at$$\n",
    "$$s=0.5at^2$$"
   ]
  },
  {
   "cell_type": "code",
   "execution_count": null,
   "metadata": {},
   "outputs": [],
   "source": []
  },
  {
   "cell_type": "markdown",
   "metadata": {},
   "source": [
    "### 11. 一靜止物體自離地面1000公尺處掉落，求\n",
    "\n",
    "1. 物體於掉落後1秒時的速度與高度。\n",
    "\n",
    "2. 物體落地所花時間。\n",
    "\n",
    "3. 物體落地速度"
   ]
  },
  {
   "cell_type": "code",
   "execution_count": null,
   "metadata": {},
   "outputs": [],
   "source": []
  },
  {
   "cell_type": "markdown",
   "metadata": {},
   "source": [
    "### 12. 一物體以初速100m/s，與地面成30度的角度斜上拋射，求\n",
    "\n",
    "1. 飛行時間\n",
    "2. 飛行距離\n",
    "3. 最大飛行高度\n",
    "4. 落地速度\n",
    "\n",
    "<img align=\"center\" style=\"padding-right:10px;\" src=\"figures\\projection.jpg\">\n",
    "\n",
    "v: 拋射初速\n",
    "\n",
    "$\\theta: 拋射角度(與地面夾角)$\n",
    "\n",
    "$v_x (0) = v \\cos(\\theta)$\n",
    "\n",
    "$v_y (0) = v \\sin(\\theta)$\n",
    "\n",
    "$v_x (t) = v_x (0) $\n",
    "\n",
    "$v_y (t) = v_y (0) - gt$\n",
    "\n",
    "$x (t) = v_x (0) t$\n",
    "\n",
    "$y (t) = v_y (0) t - 0.5gt^2$\n",
    "\n",
    "$飛行時間 T_e = \\frac{2 v_y (0)}{g} $\n",
    "\n",
    "$角度 與  弳度 轉換$\n",
    "\n",
    "$ 180^o =  \\pi $\n",
    "\n",
    "$弳度 = \\frac{\\pi}{180} 角度 $"
   ]
  },
  {
   "cell_type": "code",
   "execution_count": null,
   "metadata": {},
   "outputs": [],
   "source": [
    "import math #載入數學模組\n",
    "g = 9.8\n",
    "\n",
    "V0 = 100\n",
    "angle = 30\n",
    "Vx0 = V0*math.cos(math.pi/180*angle)\n",
    "Vy0 = V0*math.sin(math.pi/180*angle)\n",
    "Te = 2*Vy0 / g #總飛行時間"
   ]
  },
  {
   "cell_type": "markdown",
   "metadata": {},
   "source": [
    "### 12. 距地面100公尺的高台上，一物體以初速80m/s，與地面成30度的角度斜上拋射，求\n",
    "\n",
    "1. 飛行時間\n",
    "2. 飛行距離\n",
    "3. 最大飛行高度\n",
    "4. 落地速度\n",
    "\n",
    "<img align=\"center\" style=\"padding-right:10px;\" src=\"figures\\projection2.png\">"
   ]
  },
  {
   "cell_type": "code",
   "execution_count": null,
   "metadata": {},
   "outputs": [],
   "source": []
  }
 ],
 "metadata": {
  "kernelspec": {
   "display_name": "Python 3",
   "language": "python",
   "name": "python3"
  },
  "language_info": {
   "codemirror_mode": {
    "name": "ipython",
    "version": 3
   },
   "file_extension": ".py",
   "mimetype": "text/x-python",
   "name": "python",
   "nbconvert_exporter": "python",
   "pygments_lexer": "ipython3",
   "version": "3.7.3"
  }
 },
 "nbformat": 4,
 "nbformat_minor": 2
}
