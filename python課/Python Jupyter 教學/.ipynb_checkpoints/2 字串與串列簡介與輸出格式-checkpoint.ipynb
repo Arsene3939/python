{
 "cells": [
  {
   "cell_type": "markdown",
   "metadata": {},
   "source": [
    "# 2 字串與串列簡介與輸出格式"
   ]
  },
  {
   "cell_type": "markdown",
   "metadata": {},
   "source": [
    "## 字串(string)為字元串，是處理文字資料的基本物件。\n",
    "\n",
    "### S=\"GEEKSFORGEEKS\"\n",
    "\n",
    "\n",
    "<img align=\"center\" style=\"padding-right:10px;\" src=\"figures\\string_structure.png\">\n"
   ]
  },
  {
   "cell_type": "markdown",
   "metadata": {},
   "source": [
    "## 讀取字串長度(元素個數) len(strName)"
   ]
  },
  {
   "cell_type": "code",
   "execution_count": null,
   "metadata": {
    "collapsed": true
   },
   "outputs": [],
   "source": [
    "s1=\"12345\"\n",
    "print(len(s1))"
   ]
  },
  {
   "cell_type": "markdown",
   "metadata": {},
   "source": [
    "## 讀取索引位置n的字串字元\n",
    "\n",
    "### X = strName [n] ,  0<=n <字串長度\n",
    "    "
   ]
  },
  {
   "cell_type": "code",
   "execution_count": null,
   "metadata": {
    "collapsed": true
   },
   "outputs": [],
   "source": [
    "s1=\"Happy birthday\"\n",
    "a = s1[0]\n",
    "b = s1[4]\n",
    "c = s1[-1]\n",
    "print(a,b,c)"
   ]
  },
  {
   "cell_type": "markdown",
   "metadata": {},
   "source": [
    "## 串列(list)\n",
    "\n",
    "### 串列是最重要的資料儲存物件，廣泛使用於進階程式設計中，其儲存資料容量可增加或減少，並具有多種資料處理功能。\n",
    "\n",
    "### a = ['foo', 'bar', 'baz', 'qux', 'quux', 'corge']\n",
    "\n",
    "<img align=\"center\" style=\"padding-right:10px;\" src=\"figures\\list_structure.png\">"
   ]
  },
  {
   "cell_type": "code",
   "execution_count": null,
   "metadata": {
    "collapsed": true
   },
   "outputs": [],
   "source": [
    "## 讀取串列長度(元素個數) len(listName)"
   ]
  },
  {
   "cell_type": "code",
   "execution_count": null,
   "metadata": {
    "collapsed": true
   },
   "outputs": [],
   "source": [
    "a=[1,2,3,'apple','banana','car']\n",
    "print(len(a))"
   ]
  },
  {
   "cell_type": "markdown",
   "metadata": {},
   "source": [
    "## 讀取索引位置n的串列元素\n",
    "\n",
    "### X = listName[n] ,  0<=n <串列長度\n"
   ]
  },
  {
   "cell_type": "code",
   "execution_count": null,
   "metadata": {
    "collapsed": true
   },
   "outputs": [],
   "source": [
    "a = ['foo', 'bar', 'baz', 'qux', 'quux', 'corge']\n",
    "print(a[0])"
   ]
  },
  {
   "cell_type": "markdown",
   "metadata": {},
   "source": [
    "## 字串轉換成字元串列\n",
    "\n",
    "### 字元串列 = list(字串)\n"
   ]
  },
  {
   "cell_type": "code",
   "execution_count": null,
   "metadata": {
    "collapsed": true
   },
   "outputs": [],
   "source": [
    "s='happy birthday'\n",
    "a = list(s)\n",
    "print(s)\n",
    "print(a)"
   ]
  },
  {
   "cell_type": "markdown",
   "metadata": {},
   "source": [
    "## 字串串列轉換成字串\n",
    "\n",
    "### 連接字串.join(串列)\n",
    "\n"
   ]
  },
  {
   "cell_type": "code",
   "execution_count": null,
   "metadata": {
    "collapsed": true
   },
   "outputs": [],
   "source": [
    "s=['This','is','an','apple']\n",
    "a = ''.join(s)\n",
    "b = ' '.join(s)\n",
    "c = '--'.join(s)\n",
    "print(a)\n",
    "print(b)\n",
    "print(c)"
   ]
  },
  {
   "cell_type": "markdown",
   "metadata": {},
   "source": [
    "## 字串分割成串列\n",
    "\n",
    "### 字串串列 = 字串.split(分格字串)\n"
   ]
  },
  {
   "cell_type": "code",
   "execution_count": null,
   "metadata": {
    "collapsed": true
   },
   "outputs": [],
   "source": [
    "s1 = \"12 345 2.3 xyz\"\n",
    "s2 = \"12:345:2.3:xyz\"\n",
    "\n",
    "a = s1.split()\n",
    "print(a)\n",
    "\n",
    "b = s2.split(':')\n",
    "print(b)"
   ]
  },
  {
   "cell_type": "markdown",
   "metadata": {},
   "source": [
    "## 練習 將下列字串中的3個數相加\n",
    "\n",
    "### 提示: \n",
    "1. 先將字串分解成字串串列\n",
    "2. 取出字串串列的每一元素並轉換成整數\n",
    "3. 再將各數相加"
   ]
  },
  {
   "cell_type": "code",
   "execution_count": null,
   "metadata": {
    "collapsed": true
   },
   "outputs": [],
   "source": [
    "s1 = '11 22 333'\n"
   ]
  },
  {
   "cell_type": "markdown",
   "metadata": {},
   "source": [
    "## 練習 將下列字串中的數值相加"
   ]
  },
  {
   "cell_type": "code",
   "execution_count": null,
   "metadata": {
    "collapsed": true
   },
   "outputs": [],
   "source": [
    "s2 = \"12$20.1$BOY$0.22\""
   ]
  },
  {
   "cell_type": "markdown",
   "metadata": {},
   "source": [
    "## 逸出字元\t\n",
    "\n",
    "1. \\n: 跳行\n",
    "2. \\t: TAB鍵效果\n",
    "3. \\’: 顯示單引號\t\n",
    "4. \\”: 顯示雙引號\n",
    "5. \\\\: 顯示反斜線\n"
   ]
  },
  {
   "cell_type": "code",
   "execution_count": null,
   "metadata": {
    "collapsed": true
   },
   "outputs": [],
   "source": [
    "print(\"\\'test\\'\\tabc\\n\\\\Happy\\\\\")"
   ]
  },
  {
   "cell_type": "markdown",
   "metadata": {},
   "source": [
    "## 挑戰: 使用一個print指令印出如下列的資料\n",
    "    \n",
    "    This animal is called 'ODSY' or \\GMAN\\.\n",
    "    All students in my \"Class\" love it."
   ]
  },
  {
   "cell_type": "code",
   "execution_count": 1,
   "metadata": {},
   "outputs": [
    {
     "ename": "SyntaxError",
     "evalue": "invalid syntax (<ipython-input-1-f7d38c0e5381>, line 1)",
     "output_type": "error",
     "traceback": [
      "\u001b[1;36m  File \u001b[1;32m\"<ipython-input-1-f7d38c0e5381>\"\u001b[1;36m, line \u001b[1;32m1\u001b[0m\n\u001b[1;33m    s='This animal is called 'ODSY' or \\GMAN\\.All students in my \"Class\" love it.'\u001b[0m\n\u001b[1;37m                                 ^\u001b[0m\n\u001b[1;31mSyntaxError\u001b[0m\u001b[1;31m:\u001b[0m invalid syntax\n"
     ]
    }
   ],
   "source": [
    "s='This animal is called 'ODSY' or \\GMAN\\.All students in my \"Class\" love it.'\n",
    "print(s)"
   ]
  },
  {
   "cell_type": "markdown",
   "metadata": {},
   "source": [
    "## 格式化輸出\n",
    "\n",
    "### print(“格式區” % (變數, …)) \n",
    "\n",
    "一般格式:%d:整數 %f:浮點數 %s:字串\n",
    "\n",
    "精確格式: %(+|-)nd  %(+|-)m.nf: %(-)ns\n",
    "\n"
   ]
  },
  {
   "cell_type": "code",
   "execution_count": null,
   "metadata": {
    "collapsed": true
   },
   "outputs": [],
   "source": [
    "a=18\n",
    "b=22.13556\n",
    "c='Tim'\n",
    "\n",
    "print(\"age:%d  BMI:%f  \\nName:%s\\n\" % (a,b,c))\n",
    "\n",
    "print(\"age:%4d  BMI:%5.2f  \\nName:%s\\n\" % (a,b,c))"
   ]
  },
  {
   "cell_type": "markdown",
   "metadata": {},
   "source": [
    "## 練習題\n",
    "\n",
    "### 下列題目，每題只能使用一個 input輸入指令，並且須使用格式化輸出。"
   ]
  },
  {
   "cell_type": "markdown",
   "metadata": {},
   "source": [
    "### 1. 從鍵盤輸入3個整數，計算其根號和。"
   ]
  },
  {
   "cell_type": "code",
   "execution_count": null,
   "metadata": {
    "collapsed": true
   },
   "outputs": [],
   "source": []
  },
  {
   "cell_type": "markdown",
   "metadata": {},
   "source": [
    "### 2. 一物體自離地面H公尺處自由掉落。輸入H與時間T，輸出掉落T秒後的離地距離與速度。\n",
    "\n",
    "提示: 設物體尚未觸地"
   ]
  },
  {
   "cell_type": "code",
   "execution_count": null,
   "metadata": {
    "collapsed": true
   },
   "outputs": [],
   "source": []
  },
  {
   "cell_type": "markdown",
   "metadata": {},
   "source": [
    "### 3.  一質量2公斤的靜止物體受10牛頓的外力作用，輸入3個受力時間，輸出此物體於各時間的速度與移動距離。\n",
    "提示  \n",
    "$$f=ma$$\n",
    "$$v=at$$\n",
    "$$s=0.5at^2$$"
   ]
  },
  {
   "cell_type": "code",
   "execution_count": null,
   "metadata": {
    "collapsed": true
   },
   "outputs": [],
   "source": []
  },
  {
   "cell_type": "markdown",
   "metadata": {},
   "source": [
    "### 4. 一質量為M的靜止物體受10牛頓外力作用。輸入M與時間T，求此物體受力作用T秒後的速度與移動距離。"
   ]
  },
  {
   "cell_type": "code",
   "execution_count": null,
   "metadata": {
    "collapsed": true
   },
   "outputs": [],
   "source": []
  },
  {
   "cell_type": "markdown",
   "metadata": {},
   "source": [
    "### 5. 一物體質量為2公斤，自離地面H公尺處自由掉落。輸入H與時間T，求  \n",
    "1.\t靜止時的位能與動能  \n",
    "2.\t掉落T秒後的位能與動能。  \n",
    "\n",
    "提示: \n",
    "1. 設物體尚未觸地  \n",
    "2. 位能公式: U = mgh  \n",
    "3. 動能公式: $K = \\cfrac{1}{2}mv^2 $ "
   ]
  },
  {
   "cell_type": "markdown",
   "metadata": {
    "collapsed": true
   },
   "source": []
  },
  {
   "cell_type": "code",
   "execution_count": null,
   "metadata": {
    "collapsed": true
   },
   "outputs": [],
   "source": []
  }
 ],
 "metadata": {
  "kernelspec": {
   "display_name": "Python 3",
   "language": "python",
   "name": "python3"
  },
  "language_info": {
   "codemirror_mode": {
    "name": "ipython",
    "version": 3
   },
   "file_extension": ".py",
   "mimetype": "text/x-python",
   "name": "python",
   "nbconvert_exporter": "python",
   "pygments_lexer": "ipython3",
   "version": "3.6.3"
  }
 },
 "nbformat": 4,
 "nbformat_minor": 2
}
