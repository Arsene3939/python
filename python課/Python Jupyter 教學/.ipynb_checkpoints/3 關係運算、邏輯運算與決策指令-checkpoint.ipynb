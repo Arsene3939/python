{
 "cells": [
  {
   "cell_type": "markdown",
   "metadata": {},
   "source": [
    "# 3 關係運算、邏輯運算與決策指令"
   ]
  },
  {
   "cell_type": "markdown",
   "metadata": {},
   "source": [
    "## 關係運算\t運算子:  >、>=、==、<=、<、!=\n",
    "\n",
    "### 用途: 計算兩資料間的關係是否成立\n",
    "\n",
    "### 運算結果: True(真)、 False(假)\n"
   ]
  },
  {
   "cell_type": "code",
   "execution_count": 1,
   "metadata": {},
   "outputs": [
    {
     "name": "stdout",
     "output_type": "stream",
     "text": [
      "True False\n"
     ]
    }
   ],
   "source": [
    "a = 3 > 2\n",
    "b = 1 > 4\n",
    "print(a,b)"
   ]
  },
  {
   "cell_type": "markdown",
   "metadata": {},
   "source": [
    "## 練習 寫出運算值\n",
    "1. 5>=-3\n",
    "2. 3<-6\n",
    "3. 2*4 != 2+6\n",
    "4. 'A' > 'B'\n",
    "5. 'apple' > 'apply'\n"
   ]
  },
  {
   "cell_type": "markdown",
   "metadata": {},
   "source": [
    "## 邏輯運算子\t運算子:  and(及、且)、or(或)、not(反相)\n",
    "\n",
    "用途: 結合簡單的關係運算，用於表達複雜的關係\n",
    "\n",
    "運算規則 \n",
    "\n",
    "1. and: 所有運算元都為True時，運算值為True，否則為False。\n",
    "\n",
    "2. or: 存有運算元為True時，運算值為True，否則為False。\n",
    "\n",
    "3. not: 運算值為運算元的相反值。\n",
    "\n"
   ]
  },
  {
   "cell_type": "code",
   "execution_count": 5,
   "metadata": {},
   "outputs": [
    {
     "name": "stdout",
     "output_type": "stream",
     "text": [
      "False True False\n"
     ]
    }
   ],
   "source": [
    "a = 3 > 2 and 5 < 4\n",
    "b = 3 > 2 or 5 < 4\n",
    "c = not (1 > 0)\n",
    "print(a,b,c)"
   ]
  },
  {
   "cell_type": "markdown",
   "metadata": {},
   "source": [
    "## 寫出運算值\n",
    "\n",
    "1. 5>3 and 6 !=2\n",
    "2. 3>2 or 1>6\n",
    "3. not ( 3 < -2 and 4 > 3)\n"
   ]
  },
  {
   "cell_type": "markdown",
   "metadata": {},
   "source": [
    "## 寫出條件式\n",
    "\n",
    "1. A<3 或 A>20\n",
    "2. 3< A <20\n",
    "3. A為5的倍數\n",
    "4. A不為5的倍數\n",
    "5. A為大於30的偶數\n",
    "6. A為5的倍數，但不為2的倍數"
   ]
  },
  {
   "cell_type": "markdown",
   "metadata": {},
   "source": [
    "## 簡單單向 if 指令\t\n",
    "\n",
    "    If 條件式 :\n",
    "        指令1\n",
    "        指令2\n",
    "        指令3\n",
    "\n"
   ]
  },
  {
   "cell_type": "code",
   "execution_count": 8,
   "metadata": {},
   "outputs": [],
   "source": [
    "a = 50\n",
    "if a>60:\n",
    "    print(a)\n",
    "    print('Good!!')"
   ]
  },
  {
   "cell_type": "markdown",
   "metadata": {},
   "source": [
    "## 重點提示\n",
    "\n",
    "1.\tIf條件式結尾加 ”:”\n",
    "2.\tIf內部指令必須有相同的縮排\n",
    "3.\tTab與空格不能混搭\n"
   ]
  },
  {
   "cell_type": "markdown",
   "metadata": {},
   "source": [
    "## 簡單雙向 if指令\t\n",
    "\n",
    "    if條件式 :\n",
    "        條件成立指令群\n",
    "    else:\n",
    "        條件不成立指令群\n"
   ]
  },
  {
   "cell_type": "code",
   "execution_count": 2,
   "metadata": {},
   "outputs": [
    {
     "name": "stdout",
     "output_type": "stream",
     "text": [
      "70 80\n"
     ]
    }
   ],
   "source": [
    "#印出較大的數值\n",
    "\n",
    "a,b = 80,70\n",
    "\n",
    "if a>b:\n",
    "    a,b=b,a\n",
    "print(a,b)"
   ]
  },
  {
   "cell_type": "markdown",
   "metadata": {},
   "source": [
    "## 多條件if指令\t\n",
    "\n",
    "    if 條件式1 :\n",
    "        條件1成立指令群\n",
    "    elif 條件式2:\n",
    "        條件2成立指令群\n",
    "    elif 條件式3:\n",
    "        條件3成立指令群\n",
    "    else:\n",
    "        以上條件皆不成立指令群\n"
   ]
  },
  {
   "cell_type": "code",
   "execution_count": 12,
   "metadata": {},
   "outputs": [
    {
     "name": "stdout",
     "output_type": "stream",
     "text": [
      "輸入一整數120\n",
      "你的輸入值為 120, 它的範圍是\n",
      "100 < 120 < 1000\n",
      "\n"
     ]
    }
   ],
   "source": [
    "n = int(input(\"輸入一整數\"))\n",
    "print(\"你的輸入值為 %d, 它的範圍是\" % n)\n",
    "if n<10:\n",
    "    print(\"%d < 10\\n\" % n)\n",
    "elif n<100 :\n",
    "    print(\"10 < %d < 100\\n\" % n)\n",
    "elif n<1000 :\n",
    "    print(\"100 < %d < 1000\\n\" % n)\n",
    "elif n<10000 :\n",
    "    print(\"1000 < %d < 10000\\n\" % n)\n",
    "else:\n",
    "    print(\" %d > 10000\\n\" % n)\n"
   ]
  },
  {
   "cell_type": "markdown",
   "metadata": {},
   "source": [
    "## 練習題"
   ]
  },
  {
   "cell_type": "markdown",
   "metadata": {},
   "source": [
    "### 1.\t小小兵玩偶定價每個P元，一次購買5個以上時(含5個)按定價7折出售，未達5個時無折扣。輸入定價P與購買數量N，計算並輸出總金額。"
   ]
  },
  {
   "cell_type": "code",
   "execution_count": 4,
   "metadata": {},
   "outputs": [
    {
     "name": "stdout",
     "output_type": "stream",
     "text": [
      "P N:100 5\n",
      "售價: 100, 數量: 5 總價:350.0\n"
     ]
    }
   ],
   "source": [
    "s = input(\"P N:\").split()\n",
    "p = int(s[0])\n",
    "n = int(s[1])\n",
    "discount = 1\n",
    "if n >=5 :\n",
    "    discount = 0.7 \n",
    "total = p * n * discount\n",
    "print('售價: %d, 數量: %d 總價:%3.1f' %(p,n, total))"
   ]
  },
  {
   "cell_type": "markdown",
   "metadata": {},
   "source": [
    "### 2.\t輸入三學科段考成績，輸出總分與平均，並判斷平均是否及格。(平均成績只能有1位小數)\n",
    "輸入格式如”100_60_80”。 (此處之底線，實際為空格)"
   ]
  },
  {
   "cell_type": "code",
   "execution_count": null,
   "metadata": {},
   "outputs": [],
   "source": []
  },
  {
   "cell_type": "markdown",
   "metadata": {},
   "source": [
    "### 3. 一電阻器的電氣規格為10Ω/0.5W，輸入端電壓，計算電阻功率，並判斷電阻器是否可能燒毀。"
   ]
  },
  {
   "cell_type": "code",
   "execution_count": null,
   "metadata": {},
   "outputs": [],
   "source": []
  },
  {
   "cell_type": "markdown",
   "metadata": {},
   "source": [
    "### 4. \t輸入字串含溫度與溫度轉換代號，資料間有一空格(此處以底線表示，實際為空格)，格式如 “35_F”。\n",
    "\n",
    "    代號為F時表示輸入溫度為攝氏溫度，需將溫度轉換為華氏溫度。\n",
    "    代號為C時表示輸入溫度為華氏溫度，需將溫度轉換為攝氏溫度\n"
   ]
  },
  {
   "cell_type": "code",
   "execution_count": null,
   "metadata": {},
   "outputs": [],
   "source": []
  },
  {
   "cell_type": "markdown",
   "metadata": {},
   "source": [
    "### 5.\t輸入一數，判斷是否為3的倍數，但不為5的倍數。"
   ]
  },
  {
   "cell_type": "code",
   "execution_count": null,
   "metadata": {},
   "outputs": [],
   "source": []
  },
  {
   "cell_type": "markdown",
   "metadata": {},
   "source": [
    "### 6. 遊樂園優待票購買資格為年齡大於等於65歲或小於14歲，輸入一年齡，判斷是否合乎條件。\n"
   ]
  },
  {
   "cell_type": "code",
   "execution_count": null,
   "metadata": {},
   "outputs": [],
   "source": []
  },
  {
   "cell_type": "markdown",
   "metadata": {},
   "source": [
    "### 7. 一物體自離地面H公尺處自由掉落。輸入H與時間T，輸出掉落T秒後的離地距離與速度，並判斷是否已觸地，若已觸地則輸出0,0。"
   ]
  },
  {
   "cell_type": "code",
   "execution_count": null,
   "metadata": {},
   "outputs": [],
   "source": []
  },
  {
   "cell_type": "markdown",
   "metadata": {},
   "source": [
    "### 8. 輸入三數，輸出最大值。"
   ]
  },
  {
   "cell_type": "code",
   "execution_count": null,
   "metadata": {},
   "outputs": [],
   "source": []
  },
  {
   "cell_type": "markdown",
   "metadata": {},
   "source": [
    "### 9. 輸入三數，判斷是否為三角形的邊長。"
   ]
  },
  {
   "cell_type": "code",
   "execution_count": null,
   "metadata": {},
   "outputs": [],
   "source": []
  },
  {
   "cell_type": "markdown",
   "metadata": {},
   "source": [
    "### 10.\t輸入三數，判斷是否為直角三角形的邊長。"
   ]
  },
  {
   "cell_type": "code",
   "execution_count": null,
   "metadata": {},
   "outputs": [],
   "source": []
  },
  {
   "cell_type": "markdown",
   "metadata": {},
   "source": [
    "### 11.\t某物的定價為100元。輸入購買件數，計算購買價格。\n",
    "\n",
    "購買折扣如下:\n",
    "1. 購買1件時，按定價出售。\n",
    "2. 購買2~9件時，按定價九折出售。\n",
    "3. 購買10~20件時，按定價八折出售。\n",
    "4. 購買21件(含)以上時，按定價七折出售。\n"
   ]
  },
  {
   "cell_type": "code",
   "execution_count": null,
   "metadata": {},
   "outputs": [],
   "source": []
  },
  {
   "cell_type": "markdown",
   "metadata": {},
   "source": [
    "### 12.\t輸入三科成績，計算總分、平均，並評定成績等第。\n",
    "\n",
    "(優 S>=90、甲90>S>=80、乙80>S>=70、丙70>S>=60、丁60>S>=50、戊S<50)"
   ]
  },
  {
   "cell_type": "code",
   "execution_count": null,
   "metadata": {},
   "outputs": [],
   "source": []
  },
  {
   "cell_type": "markdown",
   "metadata": {},
   "source": [
    "### 13.\t一元二次方程組的一般格式如下：(a, b, c為常數,x為未知數) ax**2 + bx + c = 0\n",
    "\n",
    "程式讀入a,b,c後，\n",
    "1. 如果有兩實數解，則輸出二解。\n",
    "2. 如果重根時，則輸出 ”重根” 及 一解。\n",
    "3. 如果無實解，則輸出 “無解” 。\n"
   ]
  }
 ],
 "metadata": {
  "kernelspec": {
   "display_name": "Python 3",
   "language": "python",
   "name": "python3"
  },
  "language_info": {
   "codemirror_mode": {
    "name": "ipython",
    "version": 3
   },
   "file_extension": ".py",
   "mimetype": "text/x-python",
   "name": "python",
   "nbconvert_exporter": "python",
   "pygments_lexer": "ipython3",
   "version": "3.7.3"
  }
 },
 "nbformat": 4,
 "nbformat_minor": 2
}
