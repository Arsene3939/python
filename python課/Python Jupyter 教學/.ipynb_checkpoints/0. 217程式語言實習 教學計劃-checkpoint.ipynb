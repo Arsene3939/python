{
 "cells": [
  {
   "cell_type": "markdown",
   "metadata": {},
   "source": [
    "# 217程式語言實習 教學計劃"
   ]
  },
  {
   "cell_type": "markdown",
   "metadata": {},
   "source": [
    "## 1. Python  (五週)\n",
    "\n",
    "1. 資料類型、變數、基本運算、基本輸出入\n",
    "2. 字串與串列簡介\n",
    "3. 關係運算、邏輯運算、決策指令\n",
    "4. While 迴圈\n",
    "5. 串列\n",
    "6. For 迴圈\n",
    "7. 函數"
   ]
  },
  {
   "cell_type": "markdown",
   "metadata": {},
   "source": [
    "## 2. Numpy 與 Matplotlib   (六週)\n",
    "\n",
    "1. 基礎繪圖\n",
    "2. Numpy 基礎\n",
    "3. 進階繪圖"
   ]
  },
  {
   "cell_type": "markdown",
   "metadata": {},
   "source": [
    "## 3. 機器學習 (Machine Learning  (六週)\n",
    "1. 數學基礎介紹 - 導數、導函數、偏導數、梯度\n",
    "2. 牛頓法\n",
    "3. 線性迴歸\n",
    "4. 二元分類\n",
    "5. 類神經網路\n",
    "6. 手寫數字辨認"
   ]
  }
 ],
 "metadata": {
  "kernelspec": {
   "display_name": "Python 3",
   "language": "python",
   "name": "python3"
  },
  "language_info": {
   "codemirror_mode": {
    "name": "ipython",
    "version": 3
   },
   "file_extension": ".py",
   "mimetype": "text/x-python",
   "name": "python",
   "nbconvert_exporter": "python",
   "pygments_lexer": "ipython3",
   "version": "3.7.4"
  }
 },
 "nbformat": 4,
 "nbformat_minor": 2
}
