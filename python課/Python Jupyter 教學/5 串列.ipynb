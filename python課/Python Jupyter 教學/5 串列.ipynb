{
 "cells": [
  {
   "cell_type": "markdown",
   "metadata": {},
   "source": [
    "# 5 串列 (list)"
   ]
  },
  {
   "cell_type": "markdown",
   "metadata": {},
   "source": [
    "## 概論\n",
    "\n",
    "### 串列(list)是最重要的資料儲存物件，廣泛使用於進階程式設計中，其儲存資料容量可增加或減少，並具有多種資料處理功能。"
   ]
  },
  {
   "cell_type": "markdown",
   "metadata": {},
   "source": [
    "## 建立串列\n",
    "\n",
    "### 語法:\n",
    "1. 建立空串列\n",
    "    串列名稱 = [ ] 或 串列名稱 = list( )\n",
    "2. 建立有預設內容的串列\n",
    "    串列名稱 =[ 元素1, …, 元素n] \n"
   ]
  },
  {
   "cell_type": "code",
   "execution_count": null,
   "metadata": {},
   "outputs": [],
   "source": [
    "List0 = []\n",
    "list1 = ['math', '英文', 1997, 2000] \n",
    "list2 = [1, 2, 3, 4, 5, list1 ] \n",
    "list3 = [\"a\", \"b\", \"c\", \"d\"]\n"
   ]
  },
  {
   "cell_type": "markdown",
   "metadata": {},
   "source": [
    "## 結構圖\n",
    "\n",
    "### a = ['foo', 'bar', 'baz', 'qux', 'quux', 'corge']\n",
    "\n",
    "<img align=\"center\" style=\"padding-right:10px;\" src=\"figures\\list_structure.png\">"
   ]
  },
  {
   "cell_type": "markdown",
   "metadata": {},
   "source": [
    "## 讀取串列長度(元素個數) len(listName)"
   ]
  },
  {
   "cell_type": "code",
   "execution_count": 1,
   "metadata": {},
   "outputs": [
    {
     "name": "stdout",
     "output_type": "stream",
     "text": [
      "6\n"
     ]
    }
   ],
   "source": [
    "a = ['foo', 'bar', 'baz', 'qux', 'quux', 'corge']\n",
    "print(len(a))"
   ]
  },
  {
   "cell_type": "markdown",
   "metadata": {},
   "source": [
    "## 讀取索引位置n的串列元素\n",
    "### X = listName[n] , 0<=n <串列長度"
   ]
  },
  {
   "cell_type": "code",
   "execution_count": 3,
   "metadata": {},
   "outputs": [
    {
     "name": "stdout",
     "output_type": "stream",
     "text": [
      "quux\n"
     ]
    }
   ],
   "source": [
    "a = ['foo', 'bar', 'baz', 'qux', 'quux', 'corge']\n",
    "print(a[-2])"
   ]
  },
  {
   "cell_type": "markdown",
   "metadata": {},
   "source": [
    "## 更改位置n的串列內容\n",
    "\n",
    "### listName[n] = x \n",
    "    0<=n <串列長度, x可為任意型態\n"
   ]
  },
  {
   "cell_type": "code",
   "execution_count": null,
   "metadata": {},
   "outputs": [],
   "source": [
    "list3 = [\"a\", \"b\", \"c\", \"d\"]\n",
    "list3[1]=12\n",
    "print(list3)"
   ]
  },
  {
   "cell_type": "markdown",
   "metadata": {},
   "source": [
    "## 增加和刪除元素\t\n",
    "\n",
    "### 在串列末端增加元素x\n",
    "    listName.append( x )\n",
    "### 在指定位置i插入元素x\n",
    "    listName.insert(i, x)\n",
    "### 刪除並取得串列末端的元素\n",
    "    x = listName.pop( )\n",
    "### 刪除並取得指定位置i的元素\n",
    "    x = listName.pop( i )\n",
    "### 刪除指定位置i的元素\n",
    "    del listName[i]\n",
    "### 刪除指定值的元素x\n",
    "    listName.remove(x)\n"
   ]
  },
  {
   "cell_type": "markdown",
   "metadata": {},
   "source": [
    "## list3 = [\"a\", \"b\"]\n",
    "1. list3.append(2) --> [\"a\", \"b\", 2]\n",
    "2. list3.insert(1,1) -->  [\"a\", 1, \"b\", 2]\n",
    "3. x = list3.pop( ) -->  [\"a\", 1, \"b\"] , x=2\n",
    "4. x = list3.pop(1) --> [\"a\", \"b\"]  , x=1\n",
    "5. del list3[0] --> [\"b\"]\n",
    "6. list3.remove(\"b\") --> [ ]\n"
   ]
  },
  {
   "cell_type": "code",
   "execution_count": null,
   "metadata": {},
   "outputs": [],
   "source": [
    "list3=['a','b']\n",
    "list3.append(2) ; print(list3)\n",
    "list3.insert(1,1); print(list3)\n",
    "x=list3.pop(); print(list3,x)\n",
    "x=list3.pop(1); print(list3,x)\n",
    "del list3[0]; print(list3)\n",
    "list3.remove(\"b\"); print(list3)"
   ]
  },
  {
   "cell_type": "code",
   "execution_count": 4,
   "metadata": {},
   "outputs": [
    {
     "name": "stdout",
     "output_type": "stream",
     "text": [
      "data:1\n",
      "['1']\n",
      "data:2\n",
      "['1', '2']\n",
      "data:3\n",
      "['1', '2', '3']\n",
      "data:4.\n",
      "['1', '2', '3', '4.']\n",
      "data:6\n",
      "['1', '2', '3', '4.', '6']\n"
     ]
    }
   ],
   "source": [
    "a=[]\n",
    "i=1\n",
    "while i<=5:\n",
    "    x = input('data:')\n",
    "    a.append(x)\n",
    "    print(a)\n",
    "    i+=1"
   ]
  },
  {
   "cell_type": "markdown",
   "metadata": {},
   "source": [
    "## 排序  按大小順序排列\n",
    "\n",
    "### 語法: listName.sort( reverse=False )\n",
    "1. reverse=False  \n",
    "    由小到大排序\n",
    "2. reverse=False  \n",
    "\t由大到小排序\n"
   ]
  },
  {
   "cell_type": "code",
   "execution_count": 6,
   "metadata": {},
   "outputs": [
    {
     "name": "stdout",
     "output_type": "stream",
     "text": [
      "[1, 3, 5, 6, 9]\n",
      "[9, 6, 5, 3, 1]\n"
     ]
    }
   ],
   "source": [
    "list2 = [1, 6, 3, 9, 5 ]\n",
    "list2.sort( ) \n",
    "print(list2)\n",
    "\n",
    "list2.sort(reverse=True ) \n",
    "print(list2)\n"
   ]
  },
  {
   "cell_type": "markdown",
   "metadata": {},
   "source": [
    "### 反轉 : 串列內容反轉(前後次序對調)\n",
    "語法: listName. reverse( )"
   ]
  },
  {
   "cell_type": "code",
   "execution_count": 7,
   "metadata": {},
   "outputs": [
    {
     "name": "stdout",
     "output_type": "stream",
     "text": [
      "[5, 9, 3, 6, 1]\n"
     ]
    }
   ],
   "source": [
    "list2 = [1, 6, 3, 9, 5 ]\n",
    "list2.reverse( ) \n",
    "print(list2)"
   ]
  },
  {
   "cell_type": "markdown",
   "metadata": {},
   "source": [
    "## 統計值\t\t\n",
    "\n",
    "1. 最大值 \n",
    "    max (listName)\n",
    "2. 最小值\n",
    "    min (listName)\t\n",
    "3. 總和\n",
    "    sum (listName)\n",
    "4. 讀取串列長度(元素個數)\n",
    "    len( listName)\n"
   ]
  },
  {
   "cell_type": "code",
   "execution_count": 8,
   "metadata": {},
   "outputs": [
    {
     "name": "stdout",
     "output_type": "stream",
     "text": [
      "7 -2 19 6\n"
     ]
    }
   ],
   "source": [
    "a = [1,4,7, -2,6,3]\n",
    "print(max(a),min(a),sum(a),len(a))"
   ]
  },
  {
   "cell_type": "markdown",
   "metadata": {},
   "source": [
    "## in 和 not in 運算式\n",
    "### 判斷資料是否存在於串列內\n"
   ]
  },
  {
   "cell_type": "code",
   "execution_count": 9,
   "metadata": {},
   "outputs": [
    {
     "name": "stdout",
     "output_type": "stream",
     "text": [
      "True\n",
      "False\n"
     ]
    }
   ],
   "source": [
    "a = [1,3,5,7,9]\n",
    "print(1 in a)\n",
    "print(2 in a)"
   ]
  },
  {
   "cell_type": "markdown",
   "metadata": {},
   "source": [
    "## listName.index(元素)\n",
    "\n",
    "### 傳回特定元素第一次出現的位置，不存在時會出現錯誤\n"
   ]
  },
  {
   "cell_type": "code",
   "execution_count": 10,
   "metadata": {},
   "outputs": [
    {
     "name": "stdout",
     "output_type": "stream",
     "text": [
      "1\n"
     ]
    }
   ],
   "source": [
    "list3 = [\"a\", \"b\", \"c\", \"d\", \"b\", \"c\"]\n",
    "n=list3.index(\"b\")\n",
    "print(n)"
   ]
  },
  {
   "cell_type": "markdown",
   "metadata": {},
   "source": [
    "## listName.count(元素) \n",
    "\n",
    "### 傳回特定元素出現的次數\n"
   ]
  },
  {
   "cell_type": "code",
   "execution_count": 11,
   "metadata": {},
   "outputs": [
    {
     "name": "stdout",
     "output_type": "stream",
     "text": [
      "2\n"
     ]
    }
   ],
   "source": [
    "list3 = [\"a\", \"b\", \"c\", \"d\", \"b\", \"c\"]\n",
    "n=list3.count(\"b\")\n",
    "print(n)\n"
   ]
  },
  {
   "cell_type": "markdown",
   "metadata": {},
   "source": [
    "## 字串與串列轉換\n",
    "\n",
    "1. 字串轉換成字元串列  \n",
    "    字元串列 = list(字串)\n",
    "2. 字串串列轉換成字串  \n",
    "    連接字串.join(串列)\n"
   ]
  },
  {
   "cell_type": "code",
   "execution_count": 13,
   "metadata": {},
   "outputs": [
    {
     "name": "stdout",
     "output_type": "stream",
     "text": [
      "['a', 'b', 'c', 'd', 'e']\n",
      "a-*-b-*-c-*-d-*-e\n",
      "a=b=c=d=e\n"
     ]
    }
   ],
   "source": [
    "s = \"abcde\"\n",
    "List1 = list( s )  #字串轉換串列\n",
    "print(List1)\n",
    "\n",
    "s1 = '-*-'.join(List1) #串列轉換成字串\n",
    "s2 = '='.join(List1) \n",
    "print(s1)\n",
    "print(s2)"
   ]
  },
  {
   "cell_type": "markdown",
   "metadata": {},
   "source": [
    "## 串列的加法與乘法\n",
    "\n",
    "### 1. 串列加法相當於串列串接\n",
    "\n",
    "### 2. 串列乘整數n相當於複製n份。\n"
   ]
  },
  {
   "cell_type": "code",
   "execution_count": 14,
   "metadata": {},
   "outputs": [
    {
     "name": "stdout",
     "output_type": "stream",
     "text": [
      "['a', 'b', 1, 2] ['a', 'b', 'a', 'b', 'a', 'b', 'a', 'b', 'a', 'b']\n"
     ]
    }
   ],
   "source": [
    "a = ['a', 'b']+[1, 2]\n",
    "b= ['a', 'b'] * 5\n",
    "print(a,b)"
   ]
  },
  {
   "cell_type": "markdown",
   "metadata": {},
   "source": [
    "## 串列切片\n",
    "\n",
    "1. 讀取位置start到end-1的元素  \n",
    "    listName[start:end]\n",
    "2. 讀取位置前n個元素  \n",
    "    listName[:n]\n",
    "3. 讀取位置n到最後的元素  \n",
    "    listName[n:]\n",
    "4. 讀取最後n個元素  \n",
    "    listName[-n:]\n",
    "5. 讀取全部元素  \n",
    "    listName[:]\n",
    "6. 每間隔step, 讀取位置start到end-1的元素  \n",
    "    listName[start:end:step]\n"
   ]
  },
  {
   "cell_type": "code",
   "execution_count": 15,
   "metadata": {},
   "outputs": [
    {
     "name": "stdout",
     "output_type": "stream",
     "text": [
      "[2, 3, 4]\n",
      "[0, 1, 2, 3, 4]\n",
      "[0, 1, 2, 3, 4, 5, 6, 7, 8, 9, 10]\n",
      "[8, 9, 10]\n",
      "[0, 1, 2, 3, 4, 5, 6, 7, 8, 9, 10]\n",
      "[1, 3, 5, 7]\n",
      "[8, 6, 4, 2]\n"
     ]
    }
   ],
   "source": [
    "a = [0,1,2,3,4,5,6,7,8,9,10]\n",
    "print(a[2:5])\n",
    "print(a[:5])\n",
    "print(a[:])\n",
    "print(a[-3:])\n",
    "print(a[:])\n",
    "print(a[1:8:2])\n",
    "print(a[8:1:-2])"
   ]
  },
  {
   "cell_type": "markdown",
   "metadata": {},
   "source": [
    "## 串列複製\n",
    "\n",
    "### 1. 深複製 (Deep Copy),      List2 = List1\n",
    "    兩串列為不同名稱的同一串列(位址相同)，改變一串列，另一串列跟著改變\n",
    "### 2. 淺複製 (Shallow Copy),  List2 = List1.copy( ) or List3 = List1[ : ]\n",
    "    兩串列為內容相同的不同串列，改變一串列，另一串列不受影響。\n"
   ]
  },
  {
   "cell_type": "code",
   "execution_count": 16,
   "metadata": {},
   "outputs": [
    {
     "name": "stdout",
     "output_type": "stream",
     "text": [
      "2346432413448 2346432413448 2346432435272\n",
      "[1, 3, 5, 7, 99] [1, 3, 5, 7, 99] [1, 3, 5, 7]\n"
     ]
    }
   ],
   "source": [
    "a= [1,3,5,7]\n",
    "b = a\n",
    "c = a.copy()\n",
    "print(id(a),id(b),id(c))\n",
    "a.append(99)\n",
    "print(a,b,c)"
   ]
  },
  {
   "cell_type": "markdown",
   "metadata": {},
   "source": [
    "## 基礎練習題"
   ]
  },
  {
   "cell_type": "markdown",
   "metadata": {},
   "source": [
    "### 1.\t從鍵盤輸入一整數串列，將其值平方後存於另一串列後輸出。"
   ]
  },
  {
   "cell_type": "code",
   "execution_count": 17,
   "metadata": {},
   "outputs": [
    {
     "name": "stdout",
     "output_type": "stream",
     "text": [
      "5 6 7 8 9\n",
      "[25, 36, 49, 64, 81]\n"
     ]
    }
   ],
   "source": [
    "a = input().split()\n",
    "b = []\n",
    "n = len(a)\n",
    "i=0\n",
    "while i<n:\n",
    "    x = int(a[i])**2\n",
    "    b.append(x)\n",
    "    i += 1\n",
    "print(b)"
   ]
  },
  {
   "cell_type": "markdown",
   "metadata": {},
   "source": [
    "### 2.\t【串列新增、統計】一串列a=[3,8,2,1,9,4,6]，從鍵盤連續輸入5筆數值資料加人此串列，輸入後印出所有元素，並輸出串列長度、總和、平均值、最大值、最小值。"
   ]
  },
  {
   "cell_type": "code",
   "execution_count": null,
   "metadata": {},
   "outputs": [],
   "source": []
  },
  {
   "cell_type": "markdown",
   "metadata": {},
   "source": [
    "### 3.\t【串列排序】一串列a=['book','car','man','door','zoo'] ，先以原順序印出串列內容，再以相反順序印出串列內容，最後再以升序、降序分別印出串列內容。"
   ]
  },
  {
   "cell_type": "code",
   "execution_count": null,
   "metadata": {},
   "outputs": [],
   "source": []
  },
  {
   "cell_type": "markdown",
   "metadata": {},
   "source": [
    "### 4.\t從鍵盤輸入任意項數的整數，如 12 3 12 44 5 6，計算其總和、平均值、最大值、最小值。"
   ]
  },
  {
   "cell_type": "code",
   "execution_count": null,
   "metadata": {},
   "outputs": [],
   "source": []
  },
  {
   "cell_type": "markdown",
   "metadata": {},
   "source": [
    "### 5.\t【串列新增、排序】連續輸入「數值資料」，並依存入串列中，當輸入-1時停止輸入(也不存入串列)，並按由小至大順序印出串列元素，並輸出總和與串列長度。\n",
    "\n",
    "提示:先準備一空串列"
   ]
  },
  {
   "cell_type": "code",
   "execution_count": null,
   "metadata": {},
   "outputs": [],
   "source": []
  },
  {
   "cell_type": "markdown",
   "metadata": {},
   "source": [
    "### 6.\t【串列比對】一串列存有10個VIP使用者名單，從鍵盤輸入任意欲查詢姓名，比對是否存在於VIP串列中，若是則輸出【YES】，否則輸出【NO】。\n",
    "\n",
    "提示: 先準備VIP名單"
   ]
  },
  {
   "cell_type": "code",
   "execution_count": null,
   "metadata": {},
   "outputs": [],
   "source": []
  },
  {
   "cell_type": "markdown",
   "metadata": {},
   "source": [
    "### 7.\t【串列比對、新增】有一串列用來儲存視聽中心使用者預約名單(中英文皆可)，從鍵盤輸入姓名後，比對是否存在於串列中，若不存在則加入預單名單並印出預約名單，否則輸出「已存在」。"
   ]
  },
  {
   "cell_type": "code",
   "execution_count": null,
   "metadata": {},
   "outputs": [
    {
     "name": "stdout",
     "output_type": "stream",
     "text": [
      "Tom\n",
      "existed\n",
      "Tim\n",
      "['Tom', 'John', 'Mary', 'Tim']\n",
      "Alex\n",
      "['Tom', 'John', 'Mary', 'Tim', 'Alex']\n",
      "Mary\n",
      "existed\n"
     ]
    }
   ],
   "source": [
    "nameList=['Tom','John','Mary']\n",
    "while True:\n",
    "    name = input()\n",
    "    if name not in nameList:\n",
    "        nameList.append(name)\n",
    "        print(nameList)\n",
    "    else:\n",
    "        print(\"existed\")\n"
   ]
  },
  {
   "cell_type": "markdown",
   "metadata": {},
   "source": [
    "### 8.\t【字串轉串列、計數】輸入英文長字串，輸出字串內含空白、句號、逗點等符號的個數。"
   ]
  },
  {
   "cell_type": "code",
   "execution_count": null,
   "metadata": {},
   "outputs": [],
   "source": []
  },
  {
   "cell_type": "markdown",
   "metadata": {},
   "source": [
    "### 9.\t【串列比對、刪除】有一串列用來儲存視聽中心使用者預約名單(中英文皆可)，從鍵盤輸入姓名後，比對是否存在於串列中，若是則從預單名單中移除並印出預約名單，否則輸出「不存在」。"
   ]
  },
  {
   "cell_type": "code",
   "execution_count": null,
   "metadata": {},
   "outputs": [],
   "source": []
  },
  {
   "cell_type": "markdown",
   "metadata": {},
   "source": [
    "## 10.\t有一串列，存有10個英文單字與其中文說明(如範例)，輸入一英文單字，比對是否存在於串列中，若存在則印出其中文說明，若不存在，印出「不存在」\n",
    "\n",
    "EngToChi = ['apple','蘋果','book','書本','car','車子','door','門','elephant','大象','fly','飛','girl','女孩','home','家','ink','墨水','jail','監嶽']\n"
   ]
  },
  {
   "cell_type": "code",
   "execution_count": null,
   "metadata": {},
   "outputs": [],
   "source": []
  },
  {
   "cell_type": "markdown",
   "metadata": {},
   "source": [
    "### 11.\t下方字串為國人身份證字號首碼的編碼表，將其轉成串列後使用。當由鍵盤輸入大寫英文代碼後，輸出其代表縣市名稱。"
   ]
  },
  {
   "cell_type": "code",
   "execution_count": null,
   "metadata": {},
   "outputs": [],
   "source": [
    "s='''\n",
    "台北市 A 彰化縣 N 台中市 B 新竹市 O 基隆市 C 雲林縣 P 台南市 D\n",
    "嘉義縣 Q 高雄市 E 台南縣 R 台北縣 F 高雄縣 S 宜蘭縣 G 屏東縣 T\n",
    "桃園縣 H 花蓮縣 U 嘉義市 I 台東縣 V 新竹縣 J 金門縣 W 苗栗縣 K\n",
    "澎湖縣 X 台中縣 L 陽明山 Y 南投縣 M 連江縣 Z\n",
    "'''\n"
   ]
  },
  {
   "cell_type": "code",
   "execution_count": null,
   "metadata": {},
   "outputs": [],
   "source": []
  },
  {
   "cell_type": "markdown",
   "metadata": {},
   "source": [
    "## 三角函數計算與繪圖練習題"
   ]
  },
  {
   "cell_type": "markdown",
   "metadata": {},
   "source": [
    "### 1. 製作一串列(命名為degrees)用做儲存角度資料，角度單位為度，範圍為0°~360°，角度間隔為30°，製作完成後輸出此串列。"
   ]
  },
  {
   "cell_type": "code",
   "execution_count": 10,
   "metadata": {},
   "outputs": [
    {
     "data": {
      "text/plain": [
       "[0,\n",
       " 5,\n",
       " 10,\n",
       " 15,\n",
       " 20,\n",
       " 25,\n",
       " 30,\n",
       " 35,\n",
       " 40,\n",
       " 45,\n",
       " 50,\n",
       " 55,\n",
       " 60,\n",
       " 65,\n",
       " 70,\n",
       " 75,\n",
       " 80,\n",
       " 85,\n",
       " 90,\n",
       " 95,\n",
       " 100,\n",
       " 105,\n",
       " 110,\n",
       " 115,\n",
       " 120,\n",
       " 125,\n",
       " 130,\n",
       " 135,\n",
       " 140,\n",
       " 145,\n",
       " 150,\n",
       " 155,\n",
       " 160,\n",
       " 165,\n",
       " 170,\n",
       " 175,\n",
       " 180,\n",
       " 185,\n",
       " 190,\n",
       " 195,\n",
       " 200,\n",
       " 205,\n",
       " 210,\n",
       " 215,\n",
       " 220,\n",
       " 225,\n",
       " 230,\n",
       " 235,\n",
       " 240,\n",
       " 245,\n",
       " 250,\n",
       " 255,\n",
       " 260,\n",
       " 265,\n",
       " 270,\n",
       " 275,\n",
       " 280,\n",
       " 285,\n",
       " 290,\n",
       " 295,\n",
       " 300,\n",
       " 305,\n",
       " 310,\n",
       " 315,\n",
       " 320,\n",
       " 325,\n",
       " 330,\n",
       " 335,\n",
       " 340,\n",
       " 345,\n",
       " 350,\n",
       " 355,\n",
       " 360]"
      ]
     },
     "execution_count": 10,
     "metadata": {},
     "output_type": "execute_result"
    }
   ],
   "source": [
    "degrees=[]\n"
   ]
  },
  {
   "cell_type": "markdown",
   "metadata": {},
   "source": [
    "### 2. 將上題的角度資料轉換成弳度，存於另一串列(命名為radians)後輸出。\n",
    "\n",
    "$角度 與  弳度 轉換$\n",
    "\n",
    "$ 180^o =  \\pi $\n",
    "\n",
    "$弳度 = \\cfrac{\\pi}{180} 角度 $"
   ]
  },
  {
   "cell_type": "code",
   "execution_count": 11,
   "metadata": {},
   "outputs": [
    {
     "data": {
      "text/plain": [
       "[0.0,\n",
       " 0.08726646259971647,\n",
       " 0.17453292519943295,\n",
       " 0.2617993877991494,\n",
       " 0.3490658503988659,\n",
       " 0.4363323129985824,\n",
       " 0.5235987755982988,\n",
       " 0.6108652381980153,\n",
       " 0.6981317007977318,\n",
       " 0.7853981633974483,\n",
       " 0.8726646259971648,\n",
       " 0.9599310885968813,\n",
       " 1.0471975511965976,\n",
       " 1.1344640137963142,\n",
       " 1.2217304763960306,\n",
       " 1.3089969389957472,\n",
       " 1.3962634015954636,\n",
       " 1.4835298641951802,\n",
       " 1.5707963267948966,\n",
       " 1.6580627893946132,\n",
       " 1.7453292519943295,\n",
       " 1.8325957145940461,\n",
       " 1.9198621771937625,\n",
       " 2.007128639793479,\n",
       " 2.0943951023931953,\n",
       " 2.1816615649929116,\n",
       " 2.2689280275926285,\n",
       " 2.356194490192345,\n",
       " 2.443460952792061,\n",
       " 2.5307274153917776,\n",
       " 2.6179938779914944,\n",
       " 2.705260340591211,\n",
       " 2.792526803190927,\n",
       " 2.8797932657906435,\n",
       " 2.9670597283903604,\n",
       " 3.0543261909900763,\n",
       " 3.141592653589793,\n",
       " 3.2288591161895095,\n",
       " 3.3161255787892263,\n",
       " 3.4033920413889422,\n",
       " 3.490658503988659,\n",
       " 3.5779249665883754,\n",
       " 3.6651914291880923,\n",
       " 3.752457891787808,\n",
       " 3.839724354387525,\n",
       " 3.9269908169872414,\n",
       " 4.014257279586958,\n",
       " 4.101523742186674,\n",
       " 4.1887902047863905,\n",
       " 4.276056667386107,\n",
       " 4.363323129985823,\n",
       " 4.4505895925855405,\n",
       " 4.537856055185257,\n",
       " 4.625122517784973,\n",
       " 4.71238898038469,\n",
       " 4.799655442984406,\n",
       " 4.886921905584122,\n",
       " 4.97418836818384,\n",
       " 5.061454830783555,\n",
       " 5.1487212933832724,\n",
       " 5.235987755982989,\n",
       " 5.323254218582705,\n",
       " 5.410520681182422,\n",
       " 5.497787143782138,\n",
       " 5.585053606381854,\n",
       " 5.672320068981571,\n",
       " 5.759586531581287,\n",
       " 5.8468529941810035,\n",
       " 5.934119456780721,\n",
       " 6.021385919380437,\n",
       " 6.108652381980153,\n",
       " 6.19591884457987,\n",
       " 6.283185307179586]"
      ]
     },
     "execution_count": 11,
     "metadata": {},
     "output_type": "execute_result"
    }
   ],
   "source": [
    "import math\n",
    "radians=[]\n",
    "n = len(degrees)\n",
    "i=0\n",
    "while i<n:\n",
    "    \n",
    "    i += 1\n",
    "radians"
   ]
  },
  {
   "cell_type": "markdown",
   "metadata": {},
   "source": [
    "### 3. 使用上題的角度(弳度)資料(radians)，計算正弦函數$\\sin(\\theta)$值，存於另一串列(命名為sin)後輸出。\n",
    "\n",
    "### 注意: Python系統中，正弦函數的角度單位為弳度\n",
    "\n",
    "### 範例:  \n",
    "math.sin(90*math.pi/180) #輸出 sin(90°) 的函數值"
   ]
  },
  {
   "cell_type": "code",
   "execution_count": null,
   "metadata": {},
   "outputs": [],
   "source": [
    "import math\n",
    "#輸出 sin(90°) 的函數值\n",
    "math.sin(90*math.pi/180)"
   ]
  },
  {
   "cell_type": "code",
   "execution_count": 12,
   "metadata": {},
   "outputs": [
    {
     "data": {
      "text/plain": [
       "[0.0,\n",
       " 0.08715574274765817,\n",
       " 0.17364817766693033,\n",
       " 0.25881904510252074,\n",
       " 0.3420201433256687,\n",
       " 0.42261826174069944,\n",
       " 0.49999999999999994,\n",
       " 0.573576436351046,\n",
       " 0.6427876096865393,\n",
       " 0.7071067811865476,\n",
       " 0.766044443118978,\n",
       " 0.8191520442889918,\n",
       " 0.8660254037844386,\n",
       " 0.9063077870366499,\n",
       " 0.9396926207859083,\n",
       " 0.9659258262890683,\n",
       " 0.984807753012208,\n",
       " 0.9961946980917455,\n",
       " 1.0,\n",
       " 0.9961946980917455,\n",
       " 0.984807753012208,\n",
       " 0.9659258262890683,\n",
       " 0.9396926207859084,\n",
       " 0.90630778703665,\n",
       " 0.8660254037844387,\n",
       " 0.819152044288992,\n",
       " 0.766044443118978,\n",
       " 0.7071067811865476,\n",
       " 0.6427876096865395,\n",
       " 0.5735764363510464,\n",
       " 0.49999999999999994,\n",
       " 0.4226182617406995,\n",
       " 0.3420201433256689,\n",
       " 0.258819045102521,\n",
       " 0.17364817766693028,\n",
       " 0.08715574274765864,\n",
       " 1.2246467991473532e-16,\n",
       " -0.08715574274765794,\n",
       " -0.17364817766693047,\n",
       " -0.25881904510252035,\n",
       " -0.34202014332566866,\n",
       " -0.4226182617406993,\n",
       " -0.5000000000000001,\n",
       " -0.5735764363510457,\n",
       " -0.6427876096865393,\n",
       " -0.7071067811865475,\n",
       " -0.7660444431189779,\n",
       " -0.8191520442889916,\n",
       " -0.8660254037844384,\n",
       " -0.9063077870366497,\n",
       " -0.9396926207859082,\n",
       " -0.9659258262890683,\n",
       " -0.984807753012208,\n",
       " -0.9961946980917455,\n",
       " -1.0,\n",
       " -0.9961946980917455,\n",
       " -0.9848077530122081,\n",
       " -0.9659258262890682,\n",
       " -0.9396926207859085,\n",
       " -0.9063077870366498,\n",
       " -0.8660254037844386,\n",
       " -0.8191520442889918,\n",
       " -0.7660444431189781,\n",
       " -0.7071067811865477,\n",
       " -0.6427876096865396,\n",
       " -0.5735764363510465,\n",
       " -0.5000000000000004,\n",
       " -0.4226182617407,\n",
       " -0.3420201433256686,\n",
       " -0.2588190451025207,\n",
       " -0.17364817766693127,\n",
       " -0.08715574274765832,\n",
       " -2.4492935982947064e-16]"
      ]
     },
     "execution_count": 12,
     "metadata": {},
     "output_type": "execute_result"
    }
   ],
   "source": [
    "import math\n",
    "sin=[]\n",
    "n = len(radians)\n",
    "i=0\n",
    "while i<n:\n",
    "    \n",
    "    i += 1\n",
    "sin"
   ]
  },
  {
   "cell_type": "markdown",
   "metadata": {},
   "source": [
    "### 4.1 續上題，將正弦函數資料(sin)以繪圖函數輸出，垂直軸為正弦值，水平軸為角度。"
   ]
  },
  {
   "cell_type": "code",
   "execution_count": 13,
   "metadata": {},
   "outputs": [
    {
     "data": {
      "text/plain": [
       "[<matplotlib.lines.Line2D at 0x1ba040e56a0>]"
      ]
     },
     "execution_count": 13,
     "metadata": {},
     "output_type": "execute_result"
    },
    {
     "data": {
      "image/png": "[encoded data removed]",
      "text/plain": [
       "<Figure size 432x288 with 1 Axes>"
      ]
     },
     "metadata": {
      "needs_background": "light"
     },
     "output_type": "display_data"
    }
   ],
   "source": [
    "import math\n",
    "import matplotlib.pyplot as plt\n",
    "plt.plot(degrees,sin)"
   ]
  },
  {
   "cell_type": "markdown",
   "metadata": {},
   "source": [
    "### 4.2 續上題，將正弦函數資料(sin)以繪圖函數輸出，垂直軸為正弦值，水平軸為弳度。"
   ]
  },
  {
   "cell_type": "code",
   "execution_count": 14,
   "metadata": {},
   "outputs": [
    {
     "data": {
      "text/plain": [
       "[<matplotlib.lines.Line2D at 0x1ba04153358>]"
      ]
     },
     "execution_count": 14,
     "metadata": {},
     "output_type": "execute_result"
    },
    {
     "data": {
      "image/png": "[encoded data removed]",
      "text/plain": [
       "<Figure size 432x288 with 1 Axes>"
      ]
     },
     "metadata": {
      "needs_background": "light"
     },
     "output_type": "display_data"
    }
   ],
   "source": [
    "import math\n",
    "import matplotlib.pyplot as plt\n",
    "plt.plot(radians,sin)"
   ]
  },
  {
   "cell_type": "markdown",
   "metadata": {},
   "source": [
    "### 5.1 整合1~4題，繪出正弦函數波形，角度範圍0°~720°，角度間隔5°。"
   ]
  },
  {
   "cell_type": "code",
   "execution_count": 15,
   "metadata": {},
   "outputs": [
    {
     "data": {
      "text/plain": [
       "[<matplotlib.lines.Line2D at 0x1ba041c4390>]"
      ]
     },
     "execution_count": 15,
     "metadata": {},
     "output_type": "execute_result"
    },
    {
     "data": {
      "image/png": "[encoded data removed]",
      "text/plain": [
       "<Figure size 432x288 with 1 Axes>"
      ]
     },
     "metadata": {
      "needs_background": "light"
     },
     "output_type": "display_data"
    }
   ],
   "source": [
    "import math\n",
    "import matplotlib.pyplot as plt\n",
    "degrees=[]\n",
    "radians=[]\n",
    "sin=[]\n",
    "i=0\n",
    "while i<=720:\n",
    "    \n",
    "    i += 5\n",
    "#plt.plot(degrees, sin)\n",
    "plt.plot(radians, sin)"
   ]
  },
  {
   "cell_type": "markdown",
   "metadata": {},
   "source": [
    "### 6 續上題，角度單位直接使用弳度，角度範圍0~4π，均分成200等份。"
   ]
  },
  {
   "cell_type": "code",
   "execution_count": 17,
   "metadata": {},
   "outputs": [
    {
     "data": {
      "text/plain": [
       "[<matplotlib.lines.Line2D at 0x1ba0444cf98>]"
      ]
     },
     "execution_count": 17,
     "metadata": {},
     "output_type": "execute_result"
    },
    {
     "data": {
      "image/png": "[encoded data removed]",
      "text/plain": [
       "<Figure size 432x288 with 1 Axes>"
      ]
     },
     "metadata": {
      "needs_background": "light"
     },
     "output_type": "display_data"
    }
   ],
   "source": [
    "import math\n",
    "import matplotlib.pyplot as plt\n",
    "radians=[]\n",
    "sin=[]\n",
    "d = 4*math.pi / 200\n",
    "i=0\n",
    "while i<=200: \n",
    "    \n",
    "    i += 1\n",
    "plt.plot(radians, sin)"
   ]
  },
  {
   "cell_type": "markdown",
   "metadata": {},
   "source": [
    "### 7. 續上題，輸出餘弦函數波形。"
   ]
  },
  {
   "cell_type": "code",
   "execution_count": null,
   "metadata": {},
   "outputs": [],
   "source": []
  },
  {
   "cell_type": "markdown",
   "metadata": {},
   "source": [
    "### 8. 續上題，同時輸出正弦與餘弦函數波形。"
   ]
  },
  {
   "cell_type": "code",
   "execution_count": 3,
   "metadata": {},
   "outputs": [
    {
     "data": {
      "text/plain": [
       "[<matplotlib.lines.Line2D at 0x1ba03f9b2b0>,\n",
       " <matplotlib.lines.Line2D at 0x1ba03f9b400>]"
      ]
     },
     "execution_count": 3,
     "metadata": {},
     "output_type": "execute_result"
    },
    {
     "data": {
      "image/png": "[encoded data removed]",
      "text/plain": [
       "<Figure size 432x288 with 1 Axes>"
      ]
     },
     "metadata": {
      "needs_background": "light"
     },
     "output_type": "display_data"
    }
   ],
   "source": [
    "import math\n",
    "import matplotlib.pyplot as plt\n",
    "radians=[]\n",
    "sin=[]\n",
    "cos=[]\n",
    "d = 4*math.pi / 200\n",
    "i=0\n",
    "while i<200:    \n",
    "    theta = i * d\n",
    "    s = 3*math.sin(2*theta)\n",
    "    c = math.cos(theta)\n",
    "    \n",
    "    radians.append(theta)\n",
    "    sin.append(s)\n",
    "    cos.append(c)\n",
    "    \n",
    "    i += 1\n",
    "plt.plot(radians, sin, radians, cos)"
   ]
  },
  {
   "cell_type": "markdown",
   "metadata": {},
   "source": [
    "### 9. 續上題，同時繪出$2\\sin(\\theta),2\\sin(\\theta+30°),3\\sin(2\\theta)$的函數波形。"
   ]
  },
  {
   "cell_type": "code",
   "execution_count": null,
   "metadata": {},
   "outputs": [],
   "source": []
  },
  {
   "cell_type": "markdown",
   "metadata": {},
   "source": [
    "## 指數函數繪圖練習"
   ]
  },
  {
   "cell_type": "markdown",
   "metadata": {},
   "source": [
    "### 1. 繪出$e^{-x}與1-e^{-x}$的函數波形，x範圍為0~10，等分為100等份。"
   ]
  },
  {
   "cell_type": "code",
   "execution_count": 25,
   "metadata": {},
   "outputs": [
    {
     "data": {
      "text/plain": [
       "0.36787944117144233"
      ]
     },
     "execution_count": 25,
     "metadata": {},
     "output_type": "execute_result"
    }
   ],
   "source": [
    "import math\n",
    "import matplotlib.pyplot as plt\n",
    "math.exp(-1)"
   ]
  },
  {
   "cell_type": "markdown",
   "metadata": {},
   "source": [
    "### 2. 計算下圖電路的時間常數$\\tau$，並繪出開關接通後時間範圍0~10$\\tau$內電容與電壓的曲線圖。\n",
    "\n",
    "<img align=\"center\" style=\"padding-right:10px;\" src=\"figures\\rc_charge.png\">\n",
    "\n",
    "### 時間常數 $\\tau = RC$\n",
    "\n",
    "### 電容電壓方程式 $V_c (t) = E (1 - e^{-\\frac{t}{\\tau}})$\n",
    "\n",
    "### 電阻電壓方程式 $V_r (t) = E  e^{-\\frac{t}{\\tau}}$\n",
    "\n"
   ]
  },
  {
   "cell_type": "code",
   "execution_count": 26,
   "metadata": {},
   "outputs": [
    {
     "data": {
      "text/plain": [
       "<matplotlib.legend.Legend at 0x1ba0461df28>"
      ]
     },
     "execution_count": 26,
     "metadata": {},
     "output_type": "execute_result"
    },
    {
     "data": {
      "image/png": "[encoded data removed]",
      "text/plain": [
       "<Figure size 432x288 with 1 Axes>"
      ]
     },
     "metadata": {
      "needs_background": "light"
     },
     "output_type": "display_data"
    }
   ],
   "source": []
  },
  {
   "cell_type": "markdown",
   "metadata": {},
   "source": [
    "## 物理繪圖練習"
   ]
  },
  {
   "cell_type": "markdown",
   "metadata": {},
   "source": [
    "### 1.  一質量2公斤的靜止物體受10牛頓的外力作用，繪出物體受力5秒內運動速度與移動距離的波形。\n",
    "提示  \n",
    "$$f=ma$$\n",
    "$$v=at$$\n",
    "$$s=0.5at^2$$"
   ]
  },
  {
   "cell_type": "code",
   "execution_count": null,
   "metadata": {},
   "outputs": [],
   "source": []
  },
  {
   "cell_type": "markdown",
   "metadata": {},
   "source": [
    "### 2. 從地面垂直上拋一物體，設初速為100米，求:\n",
    "\n",
    "1. 物體在空中停留時間。  \n",
    "2. 繪出物體落地前的速度與高度曲線。\n",
    "\n",
    "參考公式  \n",
    "\n",
    "$v_o$: 拋射初速\n",
    "\n",
    "$v(t) = v_o - gt$\n",
    "\n",
    "$h(t) = v_o t - 0.5gt^2$\n",
    "\n",
    "$飛行時間 T_e = \\cfrac{2 v_o}{g} $\n",
    "    "
   ]
  },
  {
   "cell_type": "code",
   "execution_count": null,
   "metadata": {},
   "outputs": [],
   "source": []
  },
  {
   "cell_type": "markdown",
   "metadata": {},
   "source": [
    "### 3. 一物體以初速100m/s，與地面成30度的角度斜上拋射，求\n",
    "\n",
    "1. 飛行時間\n",
    "2. 繪出物體飛行圖\n",
    "\n",
    "\n",
    "<img align=\"center\" style=\"padding-right:10px;\" src=\"figures\\projection.jpg\">\n",
    "\n",
    "v: 拋射初速\n",
    "\n",
    "$\\theta: 拋射角度(與地面夾角)$\n",
    "\n",
    "$v_x (0) = v \\cos(\\theta)$\n",
    "\n",
    "$v_y (0) = v \\sin(\\theta)$\n",
    "\n",
    "$v_x (t) = v_x (0) $\n",
    "\n",
    "$v_y (t) = v_y (0) - gt$\n",
    "\n",
    "$x (t) = v_x (0) t$\n",
    "\n",
    "$y (t) = v_y (0) t - 0.5gt^2$\n",
    "\n",
    "$飛行時間 T_e = \\frac{2 v_y (0)}{g} $\n",
    "\n",
    "$角度 與  弳度 轉換$\n",
    "\n",
    "$ 180^o =  \\pi $\n",
    "\n",
    "$弳度 = \\frac{\\pi}{180} 角度 $"
   ]
  },
  {
   "cell_type": "code",
   "execution_count": null,
   "metadata": {},
   "outputs": [],
   "source": []
  }
 ],
 "metadata": {
  "kernelspec": {
   "display_name": "Python 3",
   "language": "python",
   "name": "python3"
  },
  "language_info": {
   "codemirror_mode": {
    "name": "ipython",
    "version": 3
   },
   "file_extension": ".py",
   "mimetype": "text/x-python",
   "name": "python",
   "nbconvert_exporter": "python",
   "pygments_lexer": "ipython3",
   "version": "3.7.3"
  }
 },
 "nbformat": 4,
 "nbformat_minor": 2
}
