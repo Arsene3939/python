{
 "cells": [
  {
   "cell_type": "markdown",
   "metadata": {},
   "source": [
    "# 6. For 迴圈(或稱重複處理)\n",
    "\n",
    "    迴圈(或稱重複處理)是處理大量資料必須的功能，是程式設計不可或缺的基礎。Python提供for 與while兩種迴圈指令,for 使用於迭代物件的迴圈處理，while使用於條件式迴圈。\n"
   ]
  },
  {
   "cell_type": "markdown",
   "metadata": {},
   "source": [
    "## 可迭代物件\t\n",
    "\n",
    "    內含獨立元素，可依序獨立處理的物件，如串列、字串等物件。"
   ]
  },
  {
   "cell_type": "markdown",
   "metadata": {},
   "source": [
    "## 語法\t\n",
    "\n",
    "### for var in 可迭代物件 : \n",
    "    處理程式碼  \n",
    "    處理程式碼  \n",
    "    處理程式碼群  \n",
    "    \n",
    "### for var in 可迭代物件: 單行處理程式碼    \n",
    "\n",
    "### 說明  \n",
    "1.\tvar為一啞變數，任一合法變數名稱皆可使用。  \n",
    "2.\tfor迴圈執行時，var會遍歷(逐一代替)可迭代物件的每一元素。  \n",
    "3.\t迴圈的處理程式碼可對var代表的元素做必要的處理。  \n",
    "\n"
   ]
  },
  {
   "cell_type": "markdown",
   "metadata": {},
   "source": [
    "### 印出串列物件內的所有資料"
   ]
  },
  {
   "cell_type": "code",
   "execution_count": 1,
   "metadata": {},
   "outputs": [
    {
     "name": "stdout",
     "output_type": "stream",
     "text": [
      "1\n",
      "2\n",
      "3\n",
      "4\n",
      "5\n",
      "6\n",
      "7\n",
      "8\n",
      "9\n",
      "10\n"
     ]
    }
   ],
   "source": [
    "for x in [1, 2, 3, 4, 5, 6, 7, 8, 9, 10]:\n",
    "    print(x)"
   ]
  },
  {
   "cell_type": "markdown",
   "metadata": {},
   "source": [
    "### 累加串列物件內的所有資料的平方和"
   ]
  },
  {
   "cell_type": "code",
   "execution_count": 2,
   "metadata": {},
   "outputs": [
    {
     "name": "stdout",
     "output_type": "stream",
     "text": [
      "385\n"
     ]
    }
   ],
   "source": [
    "sum=0\n",
    "for x in [1, 2, 3, 4, 5, 6, 7, 8, 9, 10]:\n",
    "  sum += x**2\n",
    "print(sum) #印出串列元素平方和\n"
   ]
  },
  {
   "cell_type": "markdown",
   "metadata": {},
   "source": [
    "### range函數\t\n",
    "\n",
    "1.\trange(n):產生0 ~ n-1，公差為1的可迭代物件。  \n",
    "2.\t常用來產生具規則性的整數序列。  \n",
    "3.\t可獨立配合for迴圈使用，亦可結合list()函數轉換成串列使用。  \n",
    "4.\trange(m, n):產生m ~ n-1，公差為1的可迭代物件。  \n",
    "5.\trange(m, n, d): :產生m ~ k<=n，公差為d的可迭代物件。  \n",
    "\n",
    "### range物件 轉換成串列物件\n",
    "    串列物件 = list(range物件)\n",
    "    \n",
    "### 範例    \n",
    "\n",
    "1. list(range(8)) --> [0, 1, 2, 3, 4, 5, 6, 7]  \n",
    "2. list(range(2, 8))  --> [2, 3, 4, 5, 6, 7]  \n",
    "3. list(range(0, 8, 2))  --> [0, 2, 4, 6]  \n",
    "4. list(range(8, 0, -2))  --> [8, 6, 4, 2]  \n"
   ]
  },
  {
   "cell_type": "code",
   "execution_count": 6,
   "metadata": {},
   "outputs": [
    {
     "name": "stdout",
     "output_type": "stream",
     "text": [
      "[0, 2, 4, 6]\n"
     ]
    }
   ],
   "source": [
    "a = list(range(0,8,2))\n",
    "print(a)"
   ]
  },
  {
   "cell_type": "markdown",
   "metadata": {},
   "source": [
    "### range 應用範例\n"
   ]
  },
  {
   "cell_type": "code",
   "execution_count": 8,
   "metadata": {},
   "outputs": [
    {
     "name": "stdout",
     "output_type": "stream",
     "text": [
      "338350\n"
     ]
    }
   ],
   "source": [
    "# 改寫for迴圈範例\n",
    "sum=0\n",
    "for x in range(1, 11):\n",
    "  sum += x**2\n",
    "print(sum)\n"
   ]
  },
  {
   "cell_type": "markdown",
   "metadata": {},
   "source": [
    "### 串列間接取值  \n",
    "    使用range產生迭代物件，再利用range元素當索引位置，取出串列的元素"
   ]
  },
  {
   "cell_type": "code",
   "execution_count": 9,
   "metadata": {},
   "outputs": [
    {
     "name": "stdout",
     "output_type": "stream",
     "text": [
      "10\n",
      "3\n",
      "5\n",
      "7\n",
      "9\n",
      "20\n",
      "4\n",
      "5\n",
      "------------------------------\n",
      "0 10\n",
      "1 3\n",
      "2 5\n",
      "3 7\n",
      "4 9\n",
      "5 20\n",
      "6 4\n",
      "7 5\n"
     ]
    }
   ],
   "source": [
    "A=[10, 3, 5, 7, 9, 20, 4, 5]\n",
    "for i in A:\n",
    "    print(i)\n",
    "print('------------------------------')    \n",
    "for i in range( len(A) ): \n",
    "    print(i, A[i]) #印出位置 與 元素值\n"
   ]
  },
  {
   "cell_type": "markdown",
   "metadata": {},
   "source": [
    "### 巢狀for迴圈\t\n",
    "\n",
    "for a in 迭代物件1: #外迴圈  \n",
    "&emsp;迴圈1指令  \n",
    "&emsp;for b in 迭代物件2:#內迴圈  \n",
    "&emsp;&emsp;迴圈2指令  \n",
    "&emsp;迴圈1指令  \n"
   ]
  },
  {
   "cell_type": "code",
   "execution_count": 10,
   "metadata": {},
   "outputs": [
    {
     "name": "stdout",
     "output_type": "stream",
     "text": [
      "a=1,b=1\ta=1,b=2\ta=1,b=3\ta=1,b=4\ta=1,b=5\ta=1,b=6\ta=1,b=7\ta=1,b=8\ta=1,b=9\t\n",
      "a=2,b=1\ta=2,b=2\ta=2,b=3\ta=2,b=4\ta=2,b=5\ta=2,b=6\ta=2,b=7\ta=2,b=8\ta=2,b=9\t\n",
      "a=3,b=1\ta=3,b=2\ta=3,b=3\ta=3,b=4\ta=3,b=5\ta=3,b=6\ta=3,b=7\ta=3,b=8\ta=3,b=9\t\n",
      "a=4,b=1\ta=4,b=2\ta=4,b=3\ta=4,b=4\ta=4,b=5\ta=4,b=6\ta=4,b=7\ta=4,b=8\ta=4,b=9\t\n",
      "a=5,b=1\ta=5,b=2\ta=5,b=3\ta=5,b=4\ta=5,b=5\ta=5,b=6\ta=5,b=7\ta=5,b=8\ta=5,b=9\t\n",
      "a=6,b=1\ta=6,b=2\ta=6,b=3\ta=6,b=4\ta=6,b=5\ta=6,b=6\ta=6,b=7\ta=6,b=8\ta=6,b=9\t\n",
      "a=7,b=1\ta=7,b=2\ta=7,b=3\ta=7,b=4\ta=7,b=5\ta=7,b=6\ta=7,b=7\ta=7,b=8\ta=7,b=9\t\n",
      "a=8,b=1\ta=8,b=2\ta=8,b=3\ta=8,b=4\ta=8,b=5\ta=8,b=6\ta=8,b=7\ta=8,b=8\ta=8,b=9\t\n",
      "a=9,b=1\ta=9,b=2\ta=9,b=3\ta=9,b=4\ta=9,b=5\ta=9,b=6\ta=9,b=7\ta=9,b=8\ta=9,b=9\t\n"
     ]
    }
   ],
   "source": [
    "for a in range(1,10):\n",
    "  for b in range(1,10):\n",
    "    print(\"a=%d,b=%d\" %(a, b), end='\\t')\n",
    "  print()\n"
   ]
  },
  {
   "cell_type": "markdown",
   "metadata": {},
   "source": [
    "### 練習: 列印九九乘法表"
   ]
  },
  {
   "cell_type": "markdown",
   "metadata": {},
   "source": [
    "### 串列表示式  ---  快速串列生成\n",
    "1. list(range(10))         -->  [0, 1, 2, 3, 4, 5, 6, 7, 8, 9]  \n",
    "2. [ x for x in range(10)]    -->  [0, 1, 2, 3, 4, 5, 6, 7, 8, 9]  \n",
    "3. [ 0*x for x in range(10)]  -->  [0, 0, 0, 0, 0, 0, 0, 0, 0, 0]    #可對啞變數做運算  \n",
    "4. [[x*y for x in range(10)] for y in range(10)]  #二維串列  \n",
    "5. [[0 for x in range(10)] for y in range(10)]  #二維零值串列  \n"
   ]
  },
  {
   "cell_type": "code",
   "execution_count": 19,
   "metadata": {},
   "outputs": [
    {
     "name": "stdout",
     "output_type": "stream",
     "text": [
      "[0, 1, 2, 3, 4, 5, 6, 7, 8, 9]\n",
      "[0, 1, 2, 3, 4, 5, 6, 7, 8, 9]\n",
      "[0, 0, 0, 0, 0, 0, 0, 0, 0, 0]\n",
      "[[0, 0, 0, 0, 0, 0, 0, 0, 0, 0], [0, 1, 2, 3, 4, 5, 6, 7, 8, 9], [0, 2, 4, 6, 8, 10, 12, 14, 16, 18], [0, 3, 6, 9, 12, 15, 18, 21, 24, 27], [0, 4, 8, 12, 16, 20, 24, 28, 32, 36], [0, 5, 10, 15, 20, 25, 30, 35, 40, 45], [0, 6, 12, 18, 24, 30, 36, 42, 48, 54], [0, 7, 14, 21, 28, 35, 42, 49, 56, 63], [0, 8, 16, 24, 32, 40, 48, 56, 64, 72], [0, 9, 18, 27, 36, 45, 54, 63, 72, 81]]\n"
     ]
    }
   ],
   "source": [
    "a = list(range(10))\n",
    "b = [ x for x in range(10)]\n",
    "c = [ 0*x for x in range(10)]\n",
    "d = [[x*y for x in range(10)] for y in range(10)]\n",
    "print(a)\n",
    "print(b)\n",
    "print(c)\n",
    "print(d)"
   ]
  },
  {
   "cell_type": "markdown",
   "metadata": {},
   "source": [
    "### break中斷指令\t\n",
    "for x in 可迭代物件:  \n",
    "  &emsp;程式碼區塊1  \n",
    "  &emsp;if 條件運算式:  \n",
    "    &emsp;&emsp;程式區塊2  \n",
    "    &emsp;&emsp;break  \n",
    "  &emsp;程式區塊3  \t\t\n",
    "\n",
    "### 說明:\n",
    "1. 當x使條件運算式不成立時，   \n",
    "    迴圈依序執行程式碼區塊1、程式碼區塊3，繼續迴圈的下一個元素  \n",
    "2. 當x使條件運算式成立時，  \n",
    "    迴圈依序執行程式碼區塊1、程式碼區塊2，中斷迴圈\n"
   ]
  },
  {
   "cell_type": "code",
   "execution_count": 21,
   "metadata": {},
   "outputs": [
    {
     "name": "stdout",
     "output_type": "stream",
     "text": [
      "14 105\n"
     ]
    }
   ],
   "source": [
    "#尋找滿足 1+2+3+…+N >100 的最小N值\n",
    "sum=0\n",
    "for i in range(100):\n",
    "    sum += i\n",
    "    if sum>100:\n",
    "        print(i, sum)\n",
    "        break\n"
   ]
  },
  {
   "cell_type": "markdown",
   "metadata": {},
   "source": [
    "### continue繼續指令\t\n",
    "<pre>\n",
    "for x in 可迭代物件:  \n",
    "  程式碼區塊1  \n",
    "  if 條件運算式:  \n",
    "    程式區塊2  \n",
    "    continue  \n",
    "  程式區塊3\t  \n",
    "</pre>\n",
    "### 說明\n",
    "1. 當x使條件運算式不成立時，  \n",
    "    迴圈依序執行程式碼區塊1、程式碼區塊3，繼續迴圈的下一個元素  \n",
    "2. 當x使條件運算式成立時，  \n",
    "    迴圈依序執行程式碼區塊1、程式碼區塊2，繼續迴圈的下一個元素  \n"
   ]
  },
  {
   "cell_type": "code",
   "execution_count": 23,
   "metadata": {},
   "outputs": [
    {
     "name": "stdout",
     "output_type": "stream",
     "text": [
      "Alex\n",
      "Bob\n",
      "Crag\n"
     ]
    }
   ],
   "source": [
    "#姓名字元長度超過5者不輸出\n",
    "name=['Alex', 'Bob', 'Crag', 'Dallas', 'Elephant']\n",
    "for x in name:\n",
    "  if len(x)>5:\n",
    "    continue\n",
    "  print(x)\n"
   ]
  },
  {
   "cell_type": "markdown",
   "metadata": {},
   "source": [
    "### 練習題:"
   ]
  },
  {
   "cell_type": "markdown",
   "metadata": {},
   "source": [
    "### 1.\t一次輸入若干個空白間隔的整數，輸出各整數的平方值。"
   ]
  },
  {
   "cell_type": "code",
   "execution_count": null,
   "metadata": {},
   "outputs": [],
   "source": []
  },
  {
   "cell_type": "markdown",
   "metadata": {},
   "source": [
    "### 2.\t輸入若干個整數，列印正值、零、負值的個數。"
   ]
  },
  {
   "cell_type": "code",
   "execution_count": null,
   "metadata": {},
   "outputs": [],
   "source": []
  },
  {
   "cell_type": "markdown",
   "metadata": {},
   "source": [
    "### 3.\t1、1、2、3、5、8、13、21、34…..為費氏數列，其前兩為1、1，其餘各項皆為其前兩項之和，輸出費氏數列的前31項。 (本題使用串列物件儲存產生的數列)(費氏數列第31項為1346269)"
   ]
  },
  {
   "cell_type": "code",
   "execution_count": null,
   "metadata": {},
   "outputs": [],
   "source": []
  },
  {
   "cell_type": "markdown",
   "metadata": {},
   "source": [
    "### 4. 輸入10個整數，計算奇數次(第1、3、5…. 次)輸入資料的總和、最大值、最小值並輸出。"
   ]
  },
  {
   "cell_type": "code",
   "execution_count": null,
   "metadata": {},
   "outputs": [],
   "source": []
  },
  {
   "cell_type": "markdown",
   "metadata": {},
   "source": [
    "### 5.\t”X”字型可用下方的8x8二維串列表示，試將其輸出如下圖。  \n",
    "Fonts=[  \n",
    "    [1,0,0,0,0,0,0,1],  \n",
    "    [0,1,0,0,0,0,1,0],  \n",
    "    [0,0,1,0,0,1,0,0],  \n",
    "    [0,0,0,1,1,0,0,0],  \n",
    "    [0,0,0,1,1,0,0,0],  \n",
    "    [0,0,1,0,0,1,0,0],  \n",
    "    [0,1,0,0,0,0,1,0],  \n",
    "    [1,0,0,0,0,0,0,1]]\n",
    "\n",
    "<img align=\"center\" style=\"padding-right:10px;\" src=\"figures\\font_figure.png\">\n"
   ]
  },
  {
   "cell_type": "markdown",
   "metadata": {},
   "source": [
    "### 6. 讀入3x3 矩陣的9個元素(分三行輸入，每行3筆資料)，以二維串列表示並印出.\n",
    "\n",
    "$$\\begin{bmatrix}\n",
    "    1       & 2 & 3 \\\\\n",
    "    4       & 5 & 6 \\\\\n",
    "    7       & 8 & 9\n",
    "\\end{bmatrix}$$"
   ]
  },
  {
   "cell_type": "code",
   "execution_count": null,
   "metadata": {},
   "outputs": [],
   "source": []
  },
  {
   "cell_type": "markdown",
   "metadata": {},
   "source": [
    "### 7.\t準備一3x3 矩陣，輸出原矩陣、轉置矩陣。\n",
    "\n",
    "    轉置矩陣的行等於原矩陣的列，轉置矩陣的列等於原矩陣的行。T為轉置運算符號。\n",
    "\n",
    "$$\\begin{equation}\n",
    "\\begin{bmatrix}\n",
    "    1       & 2 & 3 \\\\\n",
    "    4       & 5 & 6 \\\\\n",
    "    7       & 8 & 9\n",
    "\\end{bmatrix}^T\n",
    "=\n",
    "\\begin{bmatrix}\n",
    "    1       & 4 & 7 \\\\\n",
    "    2       & 5 & 8 \\\\\n",
    "    3       & 6 & 9\n",
    "\\end{bmatrix}\n",
    "\\end{equation}$$"
   ]
  },
  {
   "cell_type": "code",
   "execution_count": null,
   "metadata": {},
   "outputs": [],
   "source": []
  },
  {
   "cell_type": "markdown",
   "metadata": {},
   "source": [
    "### 8.\t準備2個3x3矩陣，輸出此二矩陣與矩陣加法的結果。\n",
    "    矩陣加法為兩矩陣對應元素相加。\n",
    "\n",
    "\n",
    "$$\\begin{equation}\n",
    "\\begin{bmatrix}\n",
    "    1 & 2 & 3 \\\\\n",
    "    4 & 5 & 6 \\\\\n",
    "    7 & 8 & 9\n",
    "\\end{bmatrix}\n",
    "+\n",
    "\\begin{bmatrix}\n",
    "    1 & 4 & 7 \\\\\n",
    "    2 & 5 & 8 \\\\\n",
    "    3 & 6 & 9\n",
    "\\end{bmatrix}\n",
    "=\n",
    "\\begin{bmatrix}\n",
    "    2 & 6 & 10 \\\\\n",
    "    6 & 10 & 14 \\\\\n",
    "    10 & 14 & 18\n",
    "\\end{bmatrix}\n",
    "\\end{equation}$$"
   ]
  },
  {
   "cell_type": "code",
   "execution_count": null,
   "metadata": {},
   "outputs": [],
   "source": []
  },
  {
   "cell_type": "markdown",
   "metadata": {},
   "source": [
    "### 9.\t印出如右下圖的帕斯卡三角形。(使用二維串列)\n",
    "\n",
    "<img align=\"center\" style=\"padding-right:10px;\" src=\"figures\\pascal_triangle.png\">\n"
   ]
  },
  {
   "cell_type": "code",
   "execution_count": null,
   "metadata": {},
   "outputs": [],
   "source": []
  },
  {
   "cell_type": "markdown",
   "metadata": {},
   "source": [
    "### 10. 印出如上圖的帕斯卡三角形。(使用一維串列)"
   ]
  },
  {
   "cell_type": "code",
   "execution_count": null,
   "metadata": {},
   "outputs": [],
   "source": []
  },
  {
   "cell_type": "markdown",
   "metadata": {},
   "source": [
    "### 11.\t印出如下圖的帕斯卡三角形。\n",
    "\n",
    "<img align=\"center\" style=\"padding-right:10px;\" src=\"figures\\pascal_triangle2.png\">\n"
   ]
  },
  {
   "cell_type": "code",
   "execution_count": null,
   "metadata": {},
   "outputs": [],
   "source": []
  },
  {
   "cell_type": "markdown",
   "metadata": {},
   "source": [
    "# 使用for迴圈方法重新處理下列問題"
   ]
  },
  {
   "cell_type": "markdown",
   "metadata": {},
   "source": [
    "## 三角函數計算與繪圖練習題"
   ]
  },
  {
   "cell_type": "markdown",
   "metadata": {},
   "source": [
    "### 1. 製作一串列(命名為degrees)用做儲存角度資料，角度單位為度，範圍為0°~360°，角度間隔為30°，製作完成後輸出此串列。"
   ]
  },
  {
   "cell_type": "code",
   "execution_count": null,
   "metadata": {},
   "outputs": [],
   "source": []
  },
  {
   "cell_type": "markdown",
   "metadata": {},
   "source": [
    "### 2. 將上題的角度資料轉換成弳度，存於另一串列(命名為radians)後輸出。"
   ]
  },
  {
   "cell_type": "code",
   "execution_count": null,
   "metadata": {},
   "outputs": [],
   "source": []
  },
  {
   "cell_type": "markdown",
   "metadata": {},
   "source": [
    "### 3. 使用上題的角度(弳度)資料(radians)，計算正弦函數$\\sin(\\theta)$值，存於另一串列(命名為sin)後輸出。"
   ]
  },
  {
   "cell_type": "code",
   "execution_count": null,
   "metadata": {},
   "outputs": [],
   "source": []
  },
  {
   "cell_type": "markdown",
   "metadata": {},
   "source": [
    "### 4.1 續上題，將正弦函數資料(sin)以繪圖函數輸出，垂直軸為正弦值，水平軸為角度。"
   ]
  },
  {
   "cell_type": "code",
   "execution_count": null,
   "metadata": {},
   "outputs": [],
   "source": []
  },
  {
   "cell_type": "markdown",
   "metadata": {},
   "source": [
    "### 4.2 續上題，將正弦函數資料(sin)以繪圖函數輸出，垂直軸為正弦值，水平軸為弳度。"
   ]
  },
  {
   "cell_type": "code",
   "execution_count": null,
   "metadata": {},
   "outputs": [],
   "source": []
  },
  {
   "cell_type": "markdown",
   "metadata": {},
   "source": [
    "### 5.1 整合1~4題，繪出正弦函數波形，角度範圍0°~720°，角度間隔5°。"
   ]
  },
  {
   "cell_type": "code",
   "execution_count": null,
   "metadata": {},
   "outputs": [],
   "source": []
  },
  {
   "cell_type": "markdown",
   "metadata": {},
   "source": [
    "### 6 續上題，角度單位直接使用弳度，角度範圍0~4π，均分成200等份。"
   ]
  },
  {
   "cell_type": "code",
   "execution_count": null,
   "metadata": {},
   "outputs": [],
   "source": []
  },
  {
   "cell_type": "markdown",
   "metadata": {},
   "source": [
    "### 7. 續上題，輸出餘弦函數波形。"
   ]
  },
  {
   "cell_type": "code",
   "execution_count": null,
   "metadata": {},
   "outputs": [],
   "source": []
  },
  {
   "cell_type": "markdown",
   "metadata": {},
   "source": [
    "### 8. 續上題，同時輸出正弦與餘弦函數波形。"
   ]
  },
  {
   "cell_type": "code",
   "execution_count": null,
   "metadata": {},
   "outputs": [],
   "source": []
  },
  {
   "cell_type": "markdown",
   "metadata": {},
   "source": [
    "### 9. 續上題，同時繪出$2\\sin(\\theta),2\\sin(\\theta+30°),3\\sin(2\\theta)$的函數波形。"
   ]
  },
  {
   "cell_type": "code",
   "execution_count": null,
   "metadata": {},
   "outputs": [],
   "source": []
  },
  {
   "cell_type": "markdown",
   "metadata": {},
   "source": [
    "## 指數函數繪圖練習"
   ]
  },
  {
   "cell_type": "markdown",
   "metadata": {},
   "source": [
    "### 1. 繪出$e^{-x}與1-e^{-x}$的函數波形，x範圍為0~10，等分為100等份。"
   ]
  },
  {
   "cell_type": "code",
   "execution_count": null,
   "metadata": {},
   "outputs": [],
   "source": []
  },
  {
   "cell_type": "markdown",
   "metadata": {},
   "source": [
    "### 2. 計算下圖電路的時間常數$\\tau$，並繪出開關接通後時間範圍0~10$\\tau$內電容與電壓的波形。\n",
    "\n",
    "<img align=\"center\" style=\"padding-right:10px;\" src=\"figures\\rc_charge.png\">\n",
    "\n",
    "### 時間常數 $\\tau = RC$\n",
    "\n",
    "### 電容電壓方程式 $V_c (t) = E (1 - e^{-\\frac{t}{\\tau}})$\n",
    "\n",
    "### 電阻電壓方程式 $V_r (t) = E  e^{-\\frac{t}{\\tau}}$\n",
    "\n"
   ]
  },
  {
   "cell_type": "code",
   "execution_count": null,
   "metadata": {},
   "outputs": [],
   "source": []
  },
  {
   "cell_type": "markdown",
   "metadata": {},
   "source": [
    "## 物理繪圖練習"
   ]
  },
  {
   "cell_type": "markdown",
   "metadata": {},
   "source": [
    "### 1.  一質量2公斤的靜止物體受10牛頓的外力作用，繪出物體受力5秒內運動速度與移動距離的波形。\n",
    "提示  \n",
    "$$f=ma$$\n",
    "$$v=at$$\n",
    "$$s=0.5at^2$$"
   ]
  },
  {
   "cell_type": "code",
   "execution_count": null,
   "metadata": {},
   "outputs": [],
   "source": []
  },
  {
   "cell_type": "markdown",
   "metadata": {},
   "source": [
    "### 2. 從地面垂直上拋一物體，設初速為100米，求:\n",
    "\n",
    "1. 物體在空中停留時間。  \n",
    "2. 繪出物體落地前的速度與高度曲線。\n",
    "\n",
    "參考公式  \n",
    "\n",
    "$v_o$: 拋射初速\n",
    "\n",
    "$v(t) = v_o - gt$\n",
    "\n",
    "$h(t) = v_o t - 0.5gt^2$\n",
    "\n",
    "$飛行時間 T_e = \\cfrac{2 v_o}{g} $\n",
    "    "
   ]
  },
  {
   "cell_type": "code",
   "execution_count": null,
   "metadata": {},
   "outputs": [],
   "source": []
  },
  {
   "cell_type": "markdown",
   "metadata": {},
   "source": [
    "### 3. 一物體以初速100m/s，與地面成30度的角度斜上拋射，求\n",
    "\n",
    "1. 飛行時間\n",
    "2. 繪出物體飛行圖\n",
    "\n",
    "\n",
    "<img align=\"center\" style=\"padding-right:10px;\" src=\"figures\\projection.jpg\">\n",
    "\n",
    "v: 拋射初速\n",
    "\n",
    "$\\theta: 拋射角度(與地面夾角)$\n",
    "\n",
    "$v_x (0) = v \\cos(\\theta)$\n",
    "\n",
    "$v_y (0) = v \\sin(\\theta)$\n",
    "\n",
    "$v_x (t) = v_x (0) $\n",
    "\n",
    "$v_y (t) = v_y (0) - gt$\n",
    "\n",
    "$x (t) = v_x (0) t$\n",
    "\n",
    "$y (t) = v_y (0) t - 0.5gt^2$\n",
    "\n",
    "$飛行時間 T_e = \\frac{2 v_y (0)}{g} $\n",
    "\n",
    "$角度 與  弳度 轉換$\n",
    "\n",
    "$ 180^o =  \\pi $\n",
    "\n",
    "$弳度 = \\frac{\\pi}{180} 角度 $"
   ]
  },
  {
   "cell_type": "code",
   "execution_count": null,
   "metadata": {},
   "outputs": [],
   "source": []
  }
 ],
 "metadata": {
  "kernelspec": {
   "display_name": "Python 3",
   "language": "python",
   "name": "python3"
  },
  "language_info": {
   "codemirror_mode": {
    "name": "ipython",
    "version": 3
   },
   "file_extension": ".py",
   "mimetype": "text/x-python",
   "name": "python",
   "nbconvert_exporter": "python",
   "pygments_lexer": "ipython3",
   "version": "3.7.3"
  }
 },
 "nbformat": 4,
 "nbformat_minor": 2
}
